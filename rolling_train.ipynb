{
 "cells": [
  {
   "cell_type": "code",
   "execution_count": 10,
   "metadata": {},
   "outputs": [
    {
     "data": {
      "text/plain": [
       "(==========================================================================================\n",
       " Layer (type:depth-idx)                   Output Shape              Param #\n",
       " ==========================================================================================\n",
       " MLP                                      [32, 1]                   --\n",
       " ├─Linear: 1-1                            [32, 64]                  1,664\n",
       " ├─Linear: 1-2                            [32, 32]                  2,080\n",
       " ├─Linear: 1-3                            [32, 1]                   33\n",
       " ==========================================================================================\n",
       " Total params: 3,777\n",
       " Trainable params: 3,777\n",
       " Non-trainable params: 0\n",
       " Total mult-adds (M): 0.12\n",
       " ==========================================================================================\n",
       " Input size (MB): 0.00\n",
       " Forward/backward pass size (MB): 0.02\n",
       " Params size (MB): 0.02\n",
       " Estimated Total Size (MB): 0.04\n",
       " ==========================================================================================,\n",
       " ==========================================================================================\n",
       " Layer (type:depth-idx)                   Output Shape              Param #\n",
       " ==========================================================================================\n",
       " BiLSTM                                   [32, 1]                   --\n",
       " ├─LSTM: 1-1                              [32, 1, 128]              145,920\n",
       " ├─Linear: 1-2                            [32, 1]                   129\n",
       " ==========================================================================================\n",
       " Total params: 146,049\n",
       " Trainable params: 146,049\n",
       " Non-trainable params: 0\n",
       " Total mult-adds (M): 4.67\n",
       " ==========================================================================================\n",
       " Input size (MB): 0.00\n",
       " Forward/backward pass size (MB): 0.03\n",
       " Params size (MB): 0.58\n",
       " Estimated Total Size (MB): 0.62\n",
       " ==========================================================================================,\n",
       " ==========================================================================================\n",
       " Layer (type:depth-idx)                   Output Shape              Param #\n",
       " ==========================================================================================\n",
       " KAN                                      [32, 1]                   --\n",
       " ├─ModuleList: 1-1                        --                        --\n",
       " │    └─KANLinear: 2-1                    [32, 64]                  16,000\n",
       " │    │    └─ReLU: 3-1                    [32, 25]                  --\n",
       " │    └─KANLinear: 2-2                    [32, 128]                 81,920\n",
       " │    │    └─ReLU: 3-2                    [32, 64]                  --\n",
       " │    └─KANLinear: 2-3                    [32, 64]                  81,920\n",
       " │    │    └─ReLU: 3-3                    [32, 128]                 --\n",
       " │    └─KANLinear: 2-4                    [32, 1]                   640\n",
       " │    │    └─ReLU: 3-4                    [32, 64]                  --\n",
       " ==========================================================================================\n",
       " Total params: 180,480\n",
       " Trainable params: 180,480\n",
       " Non-trainable params: 0\n",
       " Total mult-adds (M): 0\n",
       " ==========================================================================================\n",
       " Input size (MB): 0.00\n",
       " Forward/backward pass size (MB): 0.00\n",
       " Params size (MB): 0.00\n",
       " Estimated Total Size (MB): 0.00\n",
       " ==========================================================================================)"
      ]
     },
     "execution_count": 10,
     "metadata": {},
     "output_type": "execute_result"
    }
   ],
   "source": [
    "import torch\n",
    "from torch import nn\n",
    "from torchinfo import summary\n",
    "\n",
    "# 定义MLP模型\n",
    "class MLP(nn.Module):\n",
    "    def __init__(self, input_size):\n",
    "        super(MLP, self).__init__()\n",
    "        self.fc1 = nn.Linear(input_size, 64)\n",
    "        self.fc2 = nn.Linear(64, 32)\n",
    "        self.fc3 = nn.Linear(32, 1)\n",
    "\n",
    "    def forward(self, x):\n",
    "        x = torch.relu(self.fc1(x))\n",
    "        x = torch.relu(self.fc2(x))\n",
    "        x = self.fc3(x)\n",
    "        return x\n",
    "\n",
    "# 定义BiLSTM模型\n",
    "class BiLSTM(nn.Module):\n",
    "    def __init__(self, input_size, hidden_size, num_layers):\n",
    "        super(BiLSTM, self).__init__()\n",
    "        self.hidden_size = hidden_size\n",
    "        self.num_layers = num_layers\n",
    "        self.lstm = nn.LSTM(input_size, hidden_size, num_layers, batch_first=True, bidirectional=True)\n",
    "        self.fc = nn.Linear(hidden_size * 2, 1)  # 双向LSTM的输出是2倍隐藏层大小\n",
    "\n",
    "    def forward(self, x):\n",
    "        h0 = torch.zeros(self.num_layers * 2, x.size(0), self.hidden_size).to(x.device)  # 双向LSTM需要2倍层数的初始化\n",
    "        c0 = torch.zeros(self.num_layers * 2, x.size(0), self.hidden_size).to(x.device)\n",
    "        out, _ = self.lstm(x, (h0, c0))\n",
    "        out = self.fc(out[:, -1, :])\n",
    "        return out\n",
    "\n",
    "# MLP 模型参数量\n",
    "device = torch.device(\"cuda\" if torch.cuda.is_available() else \"cpu\")\n",
    "features = ['Open', 'High', 'Low', 'Close', 'Volume', 'Return', 'MA5', 'MA10', 'MA50', 'MA200', \n",
    "            'BBL_20_2.0', 'BBM_20_2.0', 'BBU_20_2.0', 'BBB_20_2.0', 'BBP_20_2.0', 'STOCHk_14_3_3', \n",
    "            'STOCHd_14_3_3', 'ATR', 'VWAP', 'CMO', 'RSI', 'MACD_12_26_9', 'MACDh_12_26_9', \n",
    "            'MACDs_12_26_9', 'Volatility']\n",
    "mlp_model = MLP(input_size=len(features)).to(device)\n",
    "\n",
    "\n",
    "# BiLSTM 模型参数量\n",
    "bilstm_model = BiLSTM(input_size=len(features), hidden_size=64, num_layers=2).to(device)\n",
    "\n",
    "# KAN 模型参数量\n",
    "kan_model = KAN(\n",
    "    layers_hidden=[len(features), 64, 128, 64, 1],\n",
    "    grid_size=5,\n",
    "    spline_order=3,\n",
    "    scale_noise=0.1,\n",
    "    scale_base=1.0,\n",
    "    scale_spline=1.0,\n",
    "    base_activation=torch.nn.ReLU,\n",
    "    grid_eps=0.02,\n",
    "    grid_range=[-1, 1],\n",
    ").to(device)\n",
    "\n",
    "summary(mlp_model, input_size=(32, len(features))),summary(bilstm_model, input_size=(32, 1, len(features))),summary(kan_model, input_size=(32, len(features)))\n"
   ]
  },
  {
   "cell_type": "markdown",
   "metadata": {},
   "source": [
    "---\n",
    "# Baseline: MLP"
   ]
  },
  {
   "cell_type": "code",
   "execution_count": 1,
   "metadata": {},
   "outputs": [],
   "source": [
    "import os\n",
    "import pandas as pd\n",
    "import numpy as np\n",
    "import torch\n",
    "from torch.utils.data import Dataset, DataLoader\n",
    "from torch import nn, optim\n",
    "from sklearn.metrics import r2_score, mean_absolute_percentage_error\n",
    "import plotly.graph_objs as go\n",
    "import plotly.offline as py\n",
    "from tqdm import tqdm\n",
    "\n",
    "# 读取数据\n",
    "file_path = '/teamspace/studios/this_studio/ping_an_data_with_pandas_ta_features.csv'\n",
    "data = pd.read_csv(file_path)\n",
    "\n",
    "# 填充缺失值\n",
    "data = data.bfill().ffill()\n",
    "\n",
    "# 列名示例\n",
    "features = ['Open', 'High', 'Low', 'Close', 'Volume', 'Return', 'MA5', 'MA10', 'MA50', 'MA200', \n",
    "            'BBL_20_2.0', 'BBM_20_2.0', 'BBU_20_2.0', 'BBB_20_2.0', 'BBP_20_2.0', 'STOCHk_14_3_3', \n",
    "            'STOCHd_14_3_3', 'ATR', 'VWAP', 'CMO', 'RSI', 'MACD_12_26_9', 'MACDh_12_26_9', \n",
    "            'MACDs_12_26_9', 'Volatility']\n",
    "\n",
    "# 数据集划分\n",
    "train_size = int(len(data) * 0.7)\n",
    "val_size = int(len(data) * 0.2)\n",
    "test_size = len(data) - train_size - val_size\n",
    "\n",
    "train_data = data[:train_size]\n",
    "val_data = data[train_size:train_size + val_size]\n",
    "test_data = data[train_size + val_size:]\n",
    "\n",
    "class StockDataset(Dataset):\n",
    "    def __init__(self, data, mean=None, std=None):\n",
    "        self.data = data\n",
    "        self.features = data[features].values.astype(np.float32)\n",
    "        self.targets = data['Close'].values.astype(np.float32)\n",
    "\n",
    "        if mean is None or std is None:\n",
    "            self.mean = self.features.mean(axis=0)\n",
    "            self.std = self.features.std(axis=0)\n",
    "        else:\n",
    "            self.mean = mean\n",
    "            self.std = std\n",
    "\n",
    "        self.features = (self.features - self.mean) / self.std\n",
    "\n",
    "    def __len__(self):\n",
    "        return len(self.data)\n",
    "\n",
    "    def __getitem__(self, idx):\n",
    "        feature = self.features[idx]\n",
    "        target = self.targets[idx]\n",
    "        return torch.tensor(feature), torch.tensor(target)\n",
    "\n",
    "# 定义MLP模型\n",
    "class MLP(nn.Module):\n",
    "    def __init__(self, input_size):\n",
    "        super(MLP, self).__init__()\n",
    "        self.fc1 = nn.Linear(input_size, 64)\n",
    "        self.fc2 = nn.Linear(64, 32)\n",
    "        self.fc3 = nn.Linear(32, 1)\n",
    "\n",
    "    def forward(self, x):\n",
    "        x = torch.relu(self.fc1(x))\n",
    "        x = torch.relu(self.fc2(x))\n",
    "        x = self.fc3(x)\n",
    "        return x\n",
    "\n",
    "# 创建日志文件夹\n",
    "logs_dir = \"MLP_logs\"\n",
    "if not os.path.exists(logs_dir):\n",
    "    os.makedirs(logs_dir)\n",
    "\n",
    "# 获取下一个训练编号\n",
    "def get_next_log_index(logs_dir):\n",
    "    existing_logs = [int(name.split('_')[1]) for name in os.listdir(logs_dir) if os.path.isdir(os.path.join(logs_dir, name))]\n",
    "    if not existing_logs:\n",
    "        return 0\n",
    "    return max(existing_logs) + 1\n",
    "\n",
    "# 训练函数\n",
    "def train(model, loader, criterion, optimizer, device):\n",
    "    model.train()\n",
    "    running_loss = 0.0\n",
    "    for features, targets in loader:\n",
    "        features, targets = features.to(device), targets.to(device)\n",
    "        optimizer.zero_grad()\n",
    "        outputs = model(features)\n",
    "        loss = criterion(outputs, targets.unsqueeze(1))\n",
    "        loss.backward()\n",
    "        optimizer.step()\n",
    "        running_loss += loss.item() * features.size(0)\n",
    "    epoch_loss = running_loss / len(loader.dataset)\n",
    "    return epoch_loss\n",
    "\n",
    "# 验证函数\n",
    "def validate(model, loader, criterion, device):\n",
    "    model.eval()\n",
    "    running_loss = 0.0\n",
    "    all_targets = []\n",
    "    all_predictions = []\n",
    "    with torch.no_grad():\n",
    "        for features, targets in loader:\n",
    "            features, targets = features.to(device), targets.to(device)\n",
    "            outputs = model(features)\n",
    "            loss = criterion(outputs, targets.unsqueeze(1))\n",
    "            running_loss += loss.item() * features.size(0)\n",
    "            all_targets.extend(targets.cpu().numpy())\n",
    "            all_predictions.extend(outputs.cpu().numpy())\n",
    "    epoch_loss = running_loss / len(loader.dataset)\n",
    "    return epoch_loss, r2_score(all_targets, all_predictions), mean_absolute_percentage_error(all_targets, all_predictions)\n",
    "\n",
    "# 训练和验证过程\n",
    "def train_and_validate(model, train_loader, val_loader, num_epochs, device):\n",
    "    criterion = nn.MSELoss()\n",
    "    optimizer = optim.Adam(model.parameters(), lr=0.001)\n",
    "    train_losses = []\n",
    "    val_losses = []\n",
    "    val_r2s = []\n",
    "    val_mapes = []\n",
    "    best_val_r2 = float('-inf')\n",
    "    best_model_path = None\n",
    "\n",
    "    # 创建新的子文件夹\n",
    "    log_index = get_next_log_index(logs_dir)\n",
    "    logs_dir = os.path.join(logs_dir, f'logs_{log_index}')\n",
    "    os.makedirs(logs_dir)\n",
    "\n",
    "    for epoch in tqdm(range(num_epochs)):\n",
    "        train_loss = train(model, train_loader, criterion, optimizer, device)\n",
    "        val_loss, val_r2, val_mape = validate(model, val_loader, criterion, device)\n",
    "        train_losses.append(train_loss)\n",
    "        val_losses.append(val_loss)\n",
    "        val_r2s.append(val_r2)\n",
    "        val_mapes.append(val_mape)\n",
    "\n",
    "        # Save the model if validation R2 is the best we've seen so far\n",
    "        if val_r2 > best_val_r2:\n",
    "            best_val_r2 = val_r2\n",
    "            best_model_path = os.path.join(logs_dir, f'best_model_epoch_{epoch+1}_r2_{val_r2:.4f}.pth')\n",
    "            torch.save(model.state_dict(), best_model_path)\n",
    "\n",
    "        print(f'Epoch {epoch+1}/{num_epochs}, Train Loss: {train_loss:.4f}, Val Loss: {val_loss:.4f}, Val R2: {val_r2:.4f}, Val MAPE: {val_mape:.4f}')\n",
    "\n",
    "    # Load the best model before returning\n",
    "    if best_model_path:\n",
    "        model.load_state_dict(torch.load(best_model_path))\n",
    "        print(f'Loaded best model from {best_model_path}')\n",
    "    return train_losses, val_losses, val_r2s, val_mapes, best_model_path\n",
    "\n",
    "# 滚动预测函数（带再训练）\n",
    "def rolling_predict_with_retraining(model, train_data, val_data, test_data, window_size, device, num_epochs=5):\n",
    "    model.eval()\n",
    "    predictions = []\n",
    "    criterion = nn.MSELoss()\n",
    "    optimizer = optim.Adam(model.parameters(), lr=0.001)\n",
    "    updated_train_data = pd.concat([train_data, val_data])\n",
    "\n",
    "    for i in tqdm(range(len(test_data)), desc=\"Rolling Prediction\"):\n",
    "        # 获取滚动窗口数据\n",
    "        window_data = pd.concat([updated_train_data, test_data[:i]], axis=0).tail(window_size)\n",
    "        window_dataset = StockDataset(window_data, mean=train_dataset.mean, std=train_dataset.std)\n",
    "        window_loader = DataLoader(window_dataset, batch_size=len(window_dataset), shuffle=False)\n",
    "\n",
    "        # 进行预测\n",
    "        with torch.no_grad():\n",
    "            for features, _ in window_loader:\n",
    "                features = features.to(device)\n",
    "                prediction = model(features)\n",
    "                predictions.append(prediction[-1].item())\n",
    "\n",
    "        # 将预测值加入训练数据（模拟实际情况）\n",
    "        new_row = test_data.iloc[i].copy()\n",
    "        new_row['Close'] = predictions[-1]\n",
    "        updated_train_data = pd.concat([updated_train_data, new_row.to_frame().T])\n",
    "\n",
    "        # 重新训练模型\n",
    "        train_loader = DataLoader(window_dataset, batch_size=batch_size, shuffle=False)\n",
    "        for epoch in range(num_epochs):\n",
    "            train_loss = train(model, train_loader, criterion, optimizer, device)\n",
    "\n",
    "    return predictions"
   ]
  },
  {
   "cell_type": "code",
   "execution_count": 2,
   "metadata": {},
   "outputs": [
    {
     "name": "stderr",
     "output_type": "stream",
     "text": [
      "  1%|          | 1/100 [00:00<00:27,  3.62it/s]"
     ]
    },
    {
     "name": "stdout",
     "output_type": "stream",
     "text": [
      "Epoch 1/100, Train Loss: 1255.0331, Val Loss: 4214.2652, Val R2: -14.2543, Val MAPE: 0.9203\n"
     ]
    },
    {
     "name": "stderr",
     "output_type": "stream",
     "text": [
      "  2%|▏         | 2/100 [00:00<00:24,  4.03it/s]"
     ]
    },
    {
     "name": "stdout",
     "output_type": "stream",
     "text": [
      "Epoch 2/100, Train Loss: 623.2124, Val Loss: 608.9630, Val R2: -1.2043, Val MAPE: 0.3833\n"
     ]
    },
    {
     "name": "stderr",
     "output_type": "stream",
     "text": [
      "  3%|▎         | 3/100 [00:00<00:22,  4.31it/s]"
     ]
    },
    {
     "name": "stdout",
     "output_type": "stream",
     "text": [
      "Epoch 3/100, Train Loss: 126.0715, Val Loss: 121.3278, Val R2: 0.5608, Val MAPE: 0.1576\n"
     ]
    },
    {
     "name": "stderr",
     "output_type": "stream",
     "text": [
      "  4%|▍         | 4/100 [00:00<00:21,  4.48it/s]"
     ]
    },
    {
     "name": "stdout",
     "output_type": "stream",
     "text": [
      "Epoch 4/100, Train Loss: 92.5350, Val Loss: 122.5131, Val R2: 0.5565, Val MAPE: 0.1530\n"
     ]
    },
    {
     "name": "stderr",
     "output_type": "stream",
     "text": [
      "  5%|▌         | 5/100 [00:01<00:20,  4.56it/s]"
     ]
    },
    {
     "name": "stdout",
     "output_type": "stream",
     "text": [
      "Epoch 5/100, Train Loss: 68.8127, Val Loss: 86.9854, Val R2: 0.6851, Val MAPE: 0.1317\n"
     ]
    },
    {
     "name": "stderr",
     "output_type": "stream",
     "text": [
      "  6%|▌         | 6/100 [00:01<00:20,  4.61it/s]"
     ]
    },
    {
     "name": "stdout",
     "output_type": "stream",
     "text": [
      "Epoch 6/100, Train Loss: 58.4171, Val Loss: 79.5171, Val R2: 0.7122, Val MAPE: 0.1229\n"
     ]
    },
    {
     "name": "stderr",
     "output_type": "stream",
     "text": [
      "  7%|▋         | 7/100 [00:01<00:20,  4.56it/s]"
     ]
    },
    {
     "name": "stdout",
     "output_type": "stream",
     "text": [
      "Epoch 7/100, Train Loss: 47.3669, Val Loss: 58.5730, Val R2: 0.7880, Val MAPE: 0.1061\n"
     ]
    },
    {
     "name": "stderr",
     "output_type": "stream",
     "text": [
      "  8%|▊         | 8/100 [00:01<00:20,  4.57it/s]"
     ]
    },
    {
     "name": "stdout",
     "output_type": "stream",
     "text": [
      "Epoch 8/100, Train Loss: 39.5541, Val Loss: 47.6239, Val R2: 0.8276, Val MAPE: 0.0949\n"
     ]
    },
    {
     "name": "stderr",
     "output_type": "stream",
     "text": [
      "  9%|▉         | 9/100 [00:02<00:19,  4.62it/s]"
     ]
    },
    {
     "name": "stdout",
     "output_type": "stream",
     "text": [
      "Epoch 9/100, Train Loss: 32.7804, Val Loss: 38.2884, Val R2: 0.8614, Val MAPE: 0.0844\n"
     ]
    },
    {
     "name": "stderr",
     "output_type": "stream",
     "text": [
      " 10%|█         | 10/100 [00:02<00:19,  4.63it/s]"
     ]
    },
    {
     "name": "stdout",
     "output_type": "stream",
     "text": [
      "Epoch 10/100, Train Loss: 27.4611, Val Loss: 31.0928, Val R2: 0.8875, Val MAPE: 0.0758\n"
     ]
    },
    {
     "name": "stderr",
     "output_type": "stream",
     "text": [
      " 11%|█         | 11/100 [00:02<00:19,  4.62it/s]"
     ]
    },
    {
     "name": "stdout",
     "output_type": "stream",
     "text": [
      "Epoch 11/100, Train Loss: 23.3309, Val Loss: 25.2215, Val R2: 0.9087, Val MAPE: 0.0682\n"
     ]
    },
    {
     "name": "stderr",
     "output_type": "stream",
     "text": [
      " 12%|█▏        | 12/100 [00:02<00:19,  4.54it/s]"
     ]
    },
    {
     "name": "stdout",
     "output_type": "stream",
     "text": [
      "Epoch 12/100, Train Loss: 20.1472, Val Loss: 20.8644, Val R2: 0.9245, Val MAPE: 0.0621\n"
     ]
    },
    {
     "name": "stderr",
     "output_type": "stream",
     "text": [
      " 13%|█▎        | 13/100 [00:02<00:18,  4.60it/s]"
     ]
    },
    {
     "name": "stdout",
     "output_type": "stream",
     "text": [
      "Epoch 13/100, Train Loss: 17.6201, Val Loss: 17.9138, Val R2: 0.9352, Val MAPE: 0.0573\n"
     ]
    },
    {
     "name": "stderr",
     "output_type": "stream",
     "text": [
      " 14%|█▍        | 14/100 [00:03<00:19,  4.43it/s]"
     ]
    },
    {
     "name": "stdout",
     "output_type": "stream",
     "text": [
      "Epoch 14/100, Train Loss: 15.5698, Val Loss: 15.7919, Val R2: 0.9428, Val MAPE: 0.0536\n"
     ]
    },
    {
     "name": "stderr",
     "output_type": "stream",
     "text": [
      " 15%|█▌        | 15/100 [00:03<00:18,  4.51it/s]"
     ]
    },
    {
     "name": "stdout",
     "output_type": "stream",
     "text": [
      "Epoch 15/100, Train Loss: 13.8908, Val Loss: 14.3309, Val R2: 0.9481, Val MAPE: 0.0506\n"
     ]
    },
    {
     "name": "stderr",
     "output_type": "stream",
     "text": [
      " 16%|█▌        | 16/100 [00:03<00:18,  4.60it/s]"
     ]
    },
    {
     "name": "stdout",
     "output_type": "stream",
     "text": [
      "Epoch 16/100, Train Loss: 12.4953, Val Loss: 13.2334, Val R2: 0.9521, Val MAPE: 0.0481\n"
     ]
    },
    {
     "name": "stderr",
     "output_type": "stream",
     "text": [
      " 17%|█▋        | 17/100 [00:03<00:18,  4.56it/s]"
     ]
    },
    {
     "name": "stdout",
     "output_type": "stream",
     "text": [
      "Epoch 17/100, Train Loss: 11.2864, Val Loss: 12.2573, Val R2: 0.9556, Val MAPE: 0.0458\n"
     ]
    },
    {
     "name": "stderr",
     "output_type": "stream",
     "text": [
      " 18%|█▊        | 18/100 [00:03<00:17,  4.60it/s]"
     ]
    },
    {
     "name": "stdout",
     "output_type": "stream",
     "text": [
      "Epoch 18/100, Train Loss: 10.2030, Val Loss: 11.4438, Val R2: 0.9586, Val MAPE: 0.0438\n"
     ]
    },
    {
     "name": "stderr",
     "output_type": "stream",
     "text": [
      " 19%|█▉        | 19/100 [00:04<00:18,  4.45it/s]"
     ]
    },
    {
     "name": "stdout",
     "output_type": "stream",
     "text": [
      "Epoch 19/100, Train Loss: 9.2281, Val Loss: 10.9041, Val R2: 0.9605, Val MAPE: 0.0422\n"
     ]
    },
    {
     "name": "stderr",
     "output_type": "stream",
     "text": [
      " 20%|██        | 20/100 [00:04<00:20,  3.97it/s]"
     ]
    },
    {
     "name": "stdout",
     "output_type": "stream",
     "text": [
      "Epoch 20/100, Train Loss: 8.3508, Val Loss: 10.4702, Val R2: 0.9621, Val MAPE: 0.0409\n"
     ]
    },
    {
     "name": "stderr",
     "output_type": "stream",
     "text": [
      " 21%|██        | 21/100 [00:04<00:21,  3.61it/s]"
     ]
    },
    {
     "name": "stdout",
     "output_type": "stream",
     "text": [
      "Epoch 21/100, Train Loss: 7.5628, Val Loss: 10.1766, Val R2: 0.9632, Val MAPE: 0.0398\n"
     ]
    },
    {
     "name": "stderr",
     "output_type": "stream",
     "text": [
      " 22%|██▏       | 22/100 [00:05<00:22,  3.47it/s]"
     ]
    },
    {
     "name": "stdout",
     "output_type": "stream",
     "text": [
      "Epoch 22/100, Train Loss: 6.8827, Val Loss: 9.9852, Val R2: 0.9639, Val MAPE: 0.0389\n"
     ]
    },
    {
     "name": "stderr",
     "output_type": "stream",
     "text": [
      " 23%|██▎       | 23/100 [00:05<00:28,  2.70it/s]"
     ]
    },
    {
     "name": "stdout",
     "output_type": "stream",
     "text": [
      "Epoch 23/100, Train Loss: 6.3422, Val Loss: 10.0272, Val R2: 0.9637, Val MAPE: 0.0384\n"
     ]
    },
    {
     "name": "stderr",
     "output_type": "stream",
     "text": [
      " 24%|██▍       | 24/100 [00:06<00:31,  2.38it/s]"
     ]
    },
    {
     "name": "stdout",
     "output_type": "stream",
     "text": [
      "Epoch 24/100, Train Loss: 5.9737, Val Loss: 10.1782, Val R2: 0.9632, Val MAPE: 0.0384\n"
     ]
    },
    {
     "name": "stderr",
     "output_type": "stream",
     "text": [
      " 25%|██▌       | 25/100 [00:06<00:32,  2.29it/s]"
     ]
    },
    {
     "name": "stdout",
     "output_type": "stream",
     "text": [
      "Epoch 25/100, Train Loss: 5.8286, Val Loss: 10.8861, Val R2: 0.9606, Val MAPE: 0.0392\n"
     ]
    },
    {
     "name": "stderr",
     "output_type": "stream",
     "text": [
      " 26%|██▌       | 26/100 [00:07<00:34,  2.14it/s]"
     ]
    },
    {
     "name": "stdout",
     "output_type": "stream",
     "text": [
      "Epoch 26/100, Train Loss: 6.1721, Val Loss: 13.2589, Val R2: 0.9520, Val MAPE: 0.0423\n"
     ]
    },
    {
     "name": "stderr",
     "output_type": "stream",
     "text": [
      " 27%|██▋       | 27/100 [00:07<00:32,  2.22it/s]"
     ]
    },
    {
     "name": "stdout",
     "output_type": "stream",
     "text": [
      "Epoch 27/100, Train Loss: 7.2080, Val Loss: 20.1877, Val R2: 0.9269, Val MAPE: 0.0503\n"
     ]
    },
    {
     "name": "stderr",
     "output_type": "stream",
     "text": [
      " 28%|██▊       | 28/100 [00:08<00:31,  2.27it/s]"
     ]
    },
    {
     "name": "stdout",
     "output_type": "stream",
     "text": [
      "Epoch 28/100, Train Loss: 9.2730, Val Loss: 35.1705, Val R2: 0.8727, Val MAPE: 0.0649\n"
     ]
    },
    {
     "name": "stderr",
     "output_type": "stream",
     "text": [
      " 29%|██▉       | 29/100 [00:08<00:28,  2.52it/s]"
     ]
    },
    {
     "name": "stdout",
     "output_type": "stream",
     "text": [
      "Epoch 29/100, Train Loss: 12.1679, Val Loss: 69.6720, Val R2: 0.7478, Val MAPE: 0.0917\n"
     ]
    },
    {
     "name": "stderr",
     "output_type": "stream",
     "text": [
      " 30%|███       | 30/100 [00:08<00:25,  2.79it/s]"
     ]
    },
    {
     "name": "stdout",
     "output_type": "stream",
     "text": [
      "Epoch 30/100, Train Loss: 14.6592, Val Loss: 103.3369, Val R2: 0.6260, Val MAPE: 0.1148\n"
     ]
    },
    {
     "name": "stderr",
     "output_type": "stream",
     "text": [
      " 31%|███       | 31/100 [00:08<00:22,  3.01it/s]"
     ]
    },
    {
     "name": "stdout",
     "output_type": "stream",
     "text": [
      "Epoch 31/100, Train Loss: 13.1488, Val Loss: 103.7098, Val R2: 0.6246, Val MAPE: 0.1155\n"
     ]
    },
    {
     "name": "stderr",
     "output_type": "stream",
     "text": [
      " 32%|███▏      | 32/100 [00:09<00:22,  3.07it/s]"
     ]
    },
    {
     "name": "stdout",
     "output_type": "stream",
     "text": [
      "Epoch 32/100, Train Loss: 9.0863, Val Loss: 72.3389, Val R2: 0.7382, Val MAPE: 0.0957\n"
     ]
    },
    {
     "name": "stderr",
     "output_type": "stream",
     "text": [
      " 33%|███▎      | 33/100 [00:09<00:21,  3.14it/s]"
     ]
    },
    {
     "name": "stdout",
     "output_type": "stream",
     "text": [
      "Epoch 33/100, Train Loss: 5.4593, Val Loss: 42.3661, Val R2: 0.8466, Val MAPE: 0.0723\n"
     ]
    },
    {
     "name": "stderr",
     "output_type": "stream",
     "text": [
      " 34%|███▍      | 34/100 [00:09<00:19,  3.32it/s]"
     ]
    },
    {
     "name": "stdout",
     "output_type": "stream",
     "text": [
      "Epoch 34/100, Train Loss: 3.9023, Val Loss: 25.8563, Val R2: 0.9064, Val MAPE: 0.0567\n"
     ]
    },
    {
     "name": "stderr",
     "output_type": "stream",
     "text": [
      " 35%|███▌      | 35/100 [00:10<00:19,  3.41it/s]"
     ]
    },
    {
     "name": "stdout",
     "output_type": "stream",
     "text": [
      "Epoch 35/100, Train Loss: 3.0576, Val Loss: 16.2361, Val R2: 0.9412, Val MAPE: 0.0445\n"
     ]
    },
    {
     "name": "stderr",
     "output_type": "stream",
     "text": [
      " 36%|███▌      | 36/100 [00:10<00:18,  3.51it/s]"
     ]
    },
    {
     "name": "stdout",
     "output_type": "stream",
     "text": [
      "Epoch 36/100, Train Loss: 2.9717, Val Loss: 15.8913, Val R2: 0.9425, Val MAPE: 0.0444\n"
     ]
    },
    {
     "name": "stderr",
     "output_type": "stream",
     "text": [
      " 37%|███▋      | 37/100 [00:10<00:17,  3.62it/s]"
     ]
    },
    {
     "name": "stdout",
     "output_type": "stream",
     "text": [
      "Epoch 37/100, Train Loss: 3.2860, Val Loss: 9.5822, Val R2: 0.9653, Val MAPE: 0.0365\n"
     ]
    },
    {
     "name": "stderr",
     "output_type": "stream",
     "text": [
      " 38%|███▊      | 38/100 [00:10<00:16,  3.76it/s]"
     ]
    },
    {
     "name": "stdout",
     "output_type": "stream",
     "text": [
      "Epoch 38/100, Train Loss: 3.7190, Val Loss: 7.7704, Val R2: 0.9719, Val MAPE: 0.0355\n"
     ]
    },
    {
     "name": "stderr",
     "output_type": "stream",
     "text": [
      " 39%|███▉      | 39/100 [00:11<00:15,  3.92it/s]"
     ]
    },
    {
     "name": "stdout",
     "output_type": "stream",
     "text": [
      "Epoch 39/100, Train Loss: 4.3948, Val Loss: 5.5011, Val R2: 0.9801, Val MAPE: 0.0316\n"
     ]
    },
    {
     "name": "stderr",
     "output_type": "stream",
     "text": [
      " 40%|████      | 40/100 [00:11<00:14,  4.04it/s]"
     ]
    },
    {
     "name": "stdout",
     "output_type": "stream",
     "text": [
      "Epoch 40/100, Train Loss: 5.8833, Val Loss: 6.1164, Val R2: 0.9779, Val MAPE: 0.0329\n"
     ]
    },
    {
     "name": "stderr",
     "output_type": "stream",
     "text": [
      " 41%|████      | 41/100 [00:11<00:14,  4.13it/s]"
     ]
    },
    {
     "name": "stdout",
     "output_type": "stream",
     "text": [
      "Epoch 41/100, Train Loss: 6.8012, Val Loss: 8.4328, Val R2: 0.9695, Val MAPE: 0.0385\n"
     ]
    },
    {
     "name": "stderr",
     "output_type": "stream",
     "text": [
      " 42%|████▏     | 42/100 [00:11<00:14,  4.13it/s]"
     ]
    },
    {
     "name": "stdout",
     "output_type": "stream",
     "text": [
      "Epoch 42/100, Train Loss: 8.5441, Val Loss: 14.4499, Val R2: 0.9477, Val MAPE: 0.0531\n"
     ]
    },
    {
     "name": "stderr",
     "output_type": "stream",
     "text": [
      " 43%|████▎     | 43/100 [00:12<00:13,  4.25it/s]"
     ]
    },
    {
     "name": "stdout",
     "output_type": "stream",
     "text": [
      "Epoch 43/100, Train Loss: 8.3872, Val Loss: 16.7356, Val R2: 0.9394, Val MAPE: 0.0576\n"
     ]
    },
    {
     "name": "stderr",
     "output_type": "stream",
     "text": [
      " 44%|████▍     | 44/100 [00:12<00:12,  4.31it/s]"
     ]
    },
    {
     "name": "stdout",
     "output_type": "stream",
     "text": [
      "Epoch 44/100, Train Loss: 8.3953, Val Loss: 18.5235, Val R2: 0.9330, Val MAPE: 0.0621\n"
     ]
    },
    {
     "name": "stderr",
     "output_type": "stream",
     "text": [
      " 45%|████▌     | 45/100 [00:12<00:12,  4.37it/s]"
     ]
    },
    {
     "name": "stdout",
     "output_type": "stream",
     "text": [
      "Epoch 45/100, Train Loss: 5.6895, Val Loss: 9.8899, Val R2: 0.9642, Val MAPE: 0.0434\n"
     ]
    },
    {
     "name": "stderr",
     "output_type": "stream",
     "text": [
      " 46%|████▌     | 46/100 [00:12<00:12,  4.40it/s]"
     ]
    },
    {
     "name": "stdout",
     "output_type": "stream",
     "text": [
      "Epoch 46/100, Train Loss: 4.1497, Val Loss: 7.6314, Val R2: 0.9724, Val MAPE: 0.0381\n"
     ]
    },
    {
     "name": "stderr",
     "output_type": "stream",
     "text": [
      " 47%|████▋     | 47/100 [00:12<00:11,  4.44it/s]"
     ]
    },
    {
     "name": "stdout",
     "output_type": "stream",
     "text": [
      "Epoch 47/100, Train Loss: 3.5016, Val Loss: 5.9793, Val R2: 0.9784, Val MAPE: 0.0337\n"
     ]
    },
    {
     "name": "stderr",
     "output_type": "stream",
     "text": [
      " 48%|████▊     | 48/100 [00:13<00:11,  4.40it/s]"
     ]
    },
    {
     "name": "stdout",
     "output_type": "stream",
     "text": [
      "Epoch 48/100, Train Loss: 2.3560, Val Loss: 3.6797, Val R2: 0.9867, Val MAPE: 0.0258\n"
     ]
    },
    {
     "name": "stderr",
     "output_type": "stream",
     "text": [
      " 49%|████▉     | 49/100 [00:13<00:11,  4.48it/s]"
     ]
    },
    {
     "name": "stdout",
     "output_type": "stream",
     "text": [
      "Epoch 49/100, Train Loss: 1.5528, Val Loss: 2.3731, Val R2: 0.9914, Val MAPE: 0.0201\n"
     ]
    },
    {
     "name": "stderr",
     "output_type": "stream",
     "text": [
      " 50%|█████     | 50/100 [00:13<00:11,  4.52it/s]"
     ]
    },
    {
     "name": "stdout",
     "output_type": "stream",
     "text": [
      "Epoch 50/100, Train Loss: 1.1478, Val Loss: 2.3136, Val R2: 0.9916, Val MAPE: 0.0193\n"
     ]
    },
    {
     "name": "stderr",
     "output_type": "stream",
     "text": [
      " 51%|█████     | 51/100 [00:13<00:10,  4.57it/s]"
     ]
    },
    {
     "name": "stdout",
     "output_type": "stream",
     "text": [
      "Epoch 51/100, Train Loss: 1.0213, Val Loss: 2.8682, Val R2: 0.9896, Val MAPE: 0.0215\n"
     ]
    },
    {
     "name": "stderr",
     "output_type": "stream",
     "text": [
      " 52%|█████▏    | 52/100 [00:14<00:10,  4.59it/s]"
     ]
    },
    {
     "name": "stdout",
     "output_type": "stream",
     "text": [
      "Epoch 52/100, Train Loss: 1.1831, Val Loss: 4.4259, Val R2: 0.9840, Val MAPE: 0.0267\n"
     ]
    },
    {
     "name": "stderr",
     "output_type": "stream",
     "text": [
      " 53%|█████▎    | 53/100 [00:14<00:10,  4.61it/s]"
     ]
    },
    {
     "name": "stdout",
     "output_type": "stream",
     "text": [
      "Epoch 53/100, Train Loss: 1.5468, Val Loss: 7.5193, Val R2: 0.9728, Val MAPE: 0.0344\n"
     ]
    },
    {
     "name": "stderr",
     "output_type": "stream",
     "text": [
      " 54%|█████▍    | 54/100 [00:14<00:10,  4.53it/s]"
     ]
    },
    {
     "name": "stdout",
     "output_type": "stream",
     "text": [
      "Epoch 54/100, Train Loss: 2.2997, Val Loss: 11.5890, Val R2: 0.9581, Val MAPE: 0.0423\n"
     ]
    },
    {
     "name": "stderr",
     "output_type": "stream",
     "text": [
      " 55%|█████▌    | 55/100 [00:14<00:10,  4.22it/s]"
     ]
    },
    {
     "name": "stdout",
     "output_type": "stream",
     "text": [
      "Epoch 55/100, Train Loss: 3.2555, Val Loss: 15.8332, Val R2: 0.9427, Val MAPE: 0.0489\n"
     ]
    },
    {
     "name": "stderr",
     "output_type": "stream",
     "text": [
      " 56%|█████▌    | 56/100 [00:15<00:11,  3.97it/s]"
     ]
    },
    {
     "name": "stdout",
     "output_type": "stream",
     "text": [
      "Epoch 56/100, Train Loss: 4.3873, Val Loss: 23.2593, Val R2: 0.9158, Val MAPE: 0.0585\n"
     ]
    },
    {
     "name": "stderr",
     "output_type": "stream",
     "text": [
      " 57%|█████▋    | 57/100 [00:15<00:11,  3.81it/s]"
     ]
    },
    {
     "name": "stdout",
     "output_type": "stream",
     "text": [
      "Epoch 57/100, Train Loss: 5.8855, Val Loss: 32.7387, Val R2: 0.8815, Val MAPE: 0.0690\n"
     ]
    },
    {
     "name": "stderr",
     "output_type": "stream",
     "text": [
      " 58%|█████▊    | 58/100 [00:15<00:11,  3.54it/s]"
     ]
    },
    {
     "name": "stdout",
     "output_type": "stream",
     "text": [
      "Epoch 58/100, Train Loss: 7.2614, Val Loss: 49.6646, Val R2: 0.8202, Val MAPE: 0.0863\n"
     ]
    },
    {
     "name": "stderr",
     "output_type": "stream",
     "text": [
      " 59%|█████▉    | 59/100 [00:15<00:12,  3.29it/s]"
     ]
    },
    {
     "name": "stdout",
     "output_type": "stream",
     "text": [
      "Epoch 59/100, Train Loss: 8.1505, Val Loss: 64.3667, Val R2: 0.7670, Val MAPE: 0.0987\n"
     ]
    },
    {
     "name": "stderr",
     "output_type": "stream",
     "text": [
      " 60%|██████    | 60/100 [00:16<00:12,  3.33it/s]"
     ]
    },
    {
     "name": "stdout",
     "output_type": "stream",
     "text": [
      "Epoch 60/100, Train Loss: 7.1635, Val Loss: 70.0719, Val R2: 0.7464, Val MAPE: 0.1031\n"
     ]
    },
    {
     "name": "stderr",
     "output_type": "stream",
     "text": [
      " 61%|██████    | 61/100 [00:16<00:11,  3.40it/s]"
     ]
    },
    {
     "name": "stdout",
     "output_type": "stream",
     "text": [
      "Epoch 61/100, Train Loss: 5.3378, Val Loss: 56.8474, Val R2: 0.7942, Val MAPE: 0.0930\n"
     ]
    },
    {
     "name": "stderr",
     "output_type": "stream",
     "text": [
      " 62%|██████▏   | 62/100 [00:16<00:11,  3.44it/s]"
     ]
    },
    {
     "name": "stdout",
     "output_type": "stream",
     "text": [
      "Epoch 62/100, Train Loss: 3.2449, Val Loss: 42.5636, Val R2: 0.8459, Val MAPE: 0.0791\n"
     ]
    },
    {
     "name": "stderr",
     "output_type": "stream",
     "text": [
      " 63%|██████▎   | 63/100 [00:17<00:10,  3.45it/s]"
     ]
    },
    {
     "name": "stdout",
     "output_type": "stream",
     "text": [
      "Epoch 63/100, Train Loss: 1.8549, Val Loss: 26.1854, Val R2: 0.9052, Val MAPE: 0.0601\n"
     ]
    },
    {
     "name": "stderr",
     "output_type": "stream",
     "text": [
      " 64%|██████▍   | 64/100 [00:17<00:10,  3.41it/s]"
     ]
    },
    {
     "name": "stdout",
     "output_type": "stream",
     "text": [
      "Epoch 64/100, Train Loss: 1.3305, Val Loss: 15.0713, Val R2: 0.9454, Val MAPE: 0.0426\n"
     ]
    },
    {
     "name": "stderr",
     "output_type": "stream",
     "text": [
      " 65%|██████▌   | 65/100 [00:17<00:09,  3.51it/s]"
     ]
    },
    {
     "name": "stdout",
     "output_type": "stream",
     "text": [
      "Epoch 65/100, Train Loss: 1.4403, Val Loss: 12.5150, Val R2: 0.9547, Val MAPE: 0.0399\n"
     ]
    },
    {
     "name": "stderr",
     "output_type": "stream",
     "text": [
      " 66%|██████▌   | 66/100 [00:17<00:09,  3.47it/s]"
     ]
    },
    {
     "name": "stdout",
     "output_type": "stream",
     "text": [
      "Epoch 66/100, Train Loss: 2.0574, Val Loss: 6.1564, Val R2: 0.9777, Val MAPE: 0.0324\n"
     ]
    },
    {
     "name": "stderr",
     "output_type": "stream",
     "text": [
      " 67%|██████▋   | 67/100 [00:18<00:09,  3.54it/s]"
     ]
    },
    {
     "name": "stdout",
     "output_type": "stream",
     "text": [
      "Epoch 67/100, Train Loss: 2.8133, Val Loss: 4.8588, Val R2: 0.9824, Val MAPE: 0.0312\n"
     ]
    },
    {
     "name": "stderr",
     "output_type": "stream",
     "text": [
      " 68%|██████▊   | 68/100 [00:18<00:08,  3.58it/s]"
     ]
    },
    {
     "name": "stdout",
     "output_type": "stream",
     "text": [
      "Epoch 68/100, Train Loss: 4.1064, Val Loss: 4.6347, Val R2: 0.9832, Val MAPE: 0.0304\n"
     ]
    },
    {
     "name": "stderr",
     "output_type": "stream",
     "text": [
      " 69%|██████▉   | 69/100 [00:18<00:08,  3.52it/s]"
     ]
    },
    {
     "name": "stdout",
     "output_type": "stream",
     "text": [
      "Epoch 69/100, Train Loss: 6.3175, Val Loss: 7.6099, Val R2: 0.9725, Val MAPE: 0.0375\n"
     ]
    },
    {
     "name": "stderr",
     "output_type": "stream",
     "text": [
      " 70%|███████   | 70/100 [00:19<00:08,  3.45it/s]"
     ]
    },
    {
     "name": "stdout",
     "output_type": "stream",
     "text": [
      "Epoch 70/100, Train Loss: 7.7149, Val Loss: 15.2398, Val R2: 0.9448, Val MAPE: 0.0556\n"
     ]
    },
    {
     "name": "stderr",
     "output_type": "stream",
     "text": [
      " 71%|███████   | 71/100 [00:19<00:08,  3.50it/s]"
     ]
    },
    {
     "name": "stdout",
     "output_type": "stream",
     "text": [
      "Epoch 71/100, Train Loss: 13.2341, Val Loss: 35.2230, Val R2: 0.8725, Val MAPE: 0.0865\n"
     ]
    },
    {
     "name": "stderr",
     "output_type": "stream",
     "text": [
      " 72%|███████▏  | 72/100 [00:19<00:08,  3.39it/s]"
     ]
    },
    {
     "name": "stdout",
     "output_type": "stream",
     "text": [
      "Epoch 72/100, Train Loss: 11.4648, Val Loss: 29.6828, Val R2: 0.8926, Val MAPE: 0.0779\n"
     ]
    },
    {
     "name": "stderr",
     "output_type": "stream",
     "text": [
      " 73%|███████▎  | 73/100 [00:20<00:08,  3.34it/s]"
     ]
    },
    {
     "name": "stdout",
     "output_type": "stream",
     "text": [
      "Epoch 73/100, Train Loss: 10.0270, Val Loss: 31.0720, Val R2: 0.8875, Val MAPE: 0.0810\n"
     ]
    },
    {
     "name": "stderr",
     "output_type": "stream",
     "text": [
      " 74%|███████▍  | 74/100 [00:20<00:07,  3.31it/s]"
     ]
    },
    {
     "name": "stdout",
     "output_type": "stream",
     "text": [
      "Epoch 74/100, Train Loss: 6.8502, Val Loss: 14.6548, Val R2: 0.9470, Val MAPE: 0.0557\n"
     ]
    },
    {
     "name": "stderr",
     "output_type": "stream",
     "text": [
      " 75%|███████▌  | 75/100 [00:20<00:07,  3.34it/s]"
     ]
    },
    {
     "name": "stdout",
     "output_type": "stream",
     "text": [
      "Epoch 75/100, Train Loss: 3.3073, Val Loss: 4.7223, Val R2: 0.9829, Val MAPE: 0.0301\n"
     ]
    },
    {
     "name": "stderr",
     "output_type": "stream",
     "text": [
      " 76%|███████▌  | 76/100 [00:20<00:07,  3.37it/s]"
     ]
    },
    {
     "name": "stdout",
     "output_type": "stream",
     "text": [
      "Epoch 76/100, Train Loss: 1.7429, Val Loss: 1.7689, Val R2: 0.9936, Val MAPE: 0.0174\n"
     ]
    },
    {
     "name": "stderr",
     "output_type": "stream",
     "text": [
      " 77%|███████▋  | 77/100 [00:21<00:06,  3.29it/s]"
     ]
    },
    {
     "name": "stdout",
     "output_type": "stream",
     "text": [
      "Epoch 77/100, Train Loss: 1.2479, Val Loss: 3.4867, Val R2: 0.9874, Val MAPE: 0.0236\n"
     ]
    },
    {
     "name": "stderr",
     "output_type": "stream",
     "text": [
      " 78%|███████▊  | 78/100 [00:21<00:06,  3.16it/s]"
     ]
    },
    {
     "name": "stdout",
     "output_type": "stream",
     "text": [
      "Epoch 78/100, Train Loss: 1.3195, Val Loss: 7.0631, Val R2: 0.9744, Val MAPE: 0.0338\n"
     ]
    },
    {
     "name": "stderr",
     "output_type": "stream",
     "text": [
      " 79%|███████▉  | 79/100 [00:21<00:06,  3.13it/s]"
     ]
    },
    {
     "name": "stdout",
     "output_type": "stream",
     "text": [
      "Epoch 79/100, Train Loss: 1.5581, Val Loss: 13.0425, Val R2: 0.9528, Val MAPE: 0.0458\n"
     ]
    },
    {
     "name": "stderr",
     "output_type": "stream",
     "text": [
      " 80%|████████  | 80/100 [00:22<00:06,  3.26it/s]"
     ]
    },
    {
     "name": "stdout",
     "output_type": "stream",
     "text": [
      "Epoch 80/100, Train Loss: 1.9624, Val Loss: 18.0053, Val R2: 0.9348, Val MAPE: 0.0544\n"
     ]
    },
    {
     "name": "stderr",
     "output_type": "stream",
     "text": [
      " 81%|████████  | 81/100 [00:22<00:05,  3.38it/s]"
     ]
    },
    {
     "name": "stdout",
     "output_type": "stream",
     "text": [
      "Epoch 81/100, Train Loss: 2.0517, Val Loss: 21.4584, Val R2: 0.9223, Val MAPE: 0.0592\n"
     ]
    },
    {
     "name": "stderr",
     "output_type": "stream",
     "text": [
      " 82%|████████▏ | 82/100 [00:22<00:05,  3.34it/s]"
     ]
    },
    {
     "name": "stdout",
     "output_type": "stream",
     "text": [
      "Epoch 82/100, Train Loss: 2.0108, Val Loss: 22.2542, Val R2: 0.9194, Val MAPE: 0.0601\n"
     ]
    },
    {
     "name": "stderr",
     "output_type": "stream",
     "text": [
      " 83%|████████▎ | 83/100 [00:23<00:04,  3.40it/s]"
     ]
    },
    {
     "name": "stdout",
     "output_type": "stream",
     "text": [
      "Epoch 83/100, Train Loss: 1.7903, Val Loss: 23.1935, Val R2: 0.9160, Val MAPE: 0.0606\n"
     ]
    },
    {
     "name": "stderr",
     "output_type": "stream",
     "text": [
      " 84%|████████▍ | 84/100 [00:23<00:04,  3.28it/s]"
     ]
    },
    {
     "name": "stdout",
     "output_type": "stream",
     "text": [
      "Epoch 84/100, Train Loss: 1.8607, Val Loss: 24.8267, Val R2: 0.9101, Val MAPE: 0.0626\n"
     ]
    },
    {
     "name": "stderr",
     "output_type": "stream",
     "text": [
      " 85%|████████▌ | 85/100 [00:23<00:04,  3.40it/s]"
     ]
    },
    {
     "name": "stdout",
     "output_type": "stream",
     "text": [
      "Epoch 85/100, Train Loss: 1.7132, Val Loss: 25.1004, Val R2: 0.9091, Val MAPE: 0.0623\n"
     ]
    },
    {
     "name": "stderr",
     "output_type": "stream",
     "text": [
      " 86%|████████▌ | 86/100 [00:23<00:04,  3.39it/s]"
     ]
    },
    {
     "name": "stdout",
     "output_type": "stream",
     "text": [
      "Epoch 86/100, Train Loss: 1.5250, Val Loss: 24.9581, Val R2: 0.9097, Val MAPE: 0.0619\n"
     ]
    },
    {
     "name": "stderr",
     "output_type": "stream",
     "text": [
      " 87%|████████▋ | 87/100 [00:24<00:03,  3.43it/s]"
     ]
    },
    {
     "name": "stdout",
     "output_type": "stream",
     "text": [
      "Epoch 87/100, Train Loss: 1.4007, Val Loss: 24.9369, Val R2: 0.9097, Val MAPE: 0.0615\n"
     ]
    },
    {
     "name": "stderr",
     "output_type": "stream",
     "text": [
      " 88%|████████▊ | 88/100 [00:24<00:03,  3.40it/s]"
     ]
    },
    {
     "name": "stdout",
     "output_type": "stream",
     "text": [
      "Epoch 88/100, Train Loss: 1.2040, Val Loss: 24.1792, Val R2: 0.9125, Val MAPE: 0.0602\n"
     ]
    },
    {
     "name": "stderr",
     "output_type": "stream",
     "text": [
      " 89%|████████▉ | 89/100 [00:24<00:03,  3.54it/s]"
     ]
    },
    {
     "name": "stdout",
     "output_type": "stream",
     "text": [
      "Epoch 89/100, Train Loss: 0.9854, Val Loss: 22.8504, Val R2: 0.9173, Val MAPE: 0.0582\n"
     ]
    },
    {
     "name": "stderr",
     "output_type": "stream",
     "text": [
      " 90%|█████████ | 90/100 [00:25<00:02,  3.68it/s]"
     ]
    },
    {
     "name": "stdout",
     "output_type": "stream",
     "text": [
      "Epoch 90/100, Train Loss: 0.7837, Val Loss: 21.2978, Val R2: 0.9229, Val MAPE: 0.0556\n"
     ]
    },
    {
     "name": "stderr",
     "output_type": "stream",
     "text": [
      " 91%|█████████ | 91/100 [00:25<00:02,  3.73it/s]"
     ]
    },
    {
     "name": "stdout",
     "output_type": "stream",
     "text": [
      "Epoch 91/100, Train Loss: 0.5963, Val Loss: 19.0706, Val R2: 0.9310, Val MAPE: 0.0519\n"
     ]
    },
    {
     "name": "stderr",
     "output_type": "stream",
     "text": [
      " 92%|█████████▏| 92/100 [00:25<00:02,  3.74it/s]"
     ]
    },
    {
     "name": "stdout",
     "output_type": "stream",
     "text": [
      "Epoch 92/100, Train Loss: 0.4783, Val Loss: 16.1916, Val R2: 0.9414, Val MAPE: 0.0465\n"
     ]
    },
    {
     "name": "stderr",
     "output_type": "stream",
     "text": [
      " 93%|█████████▎| 93/100 [00:25<00:01,  3.82it/s]"
     ]
    },
    {
     "name": "stdout",
     "output_type": "stream",
     "text": [
      "Epoch 93/100, Train Loss: 0.5546, Val Loss: 13.0713, Val R2: 0.9527, Val MAPE: 0.0396\n"
     ]
    },
    {
     "name": "stderr",
     "output_type": "stream",
     "text": [
      " 94%|█████████▍| 94/100 [00:26<00:01,  3.81it/s]"
     ]
    },
    {
     "name": "stdout",
     "output_type": "stream",
     "text": [
      "Epoch 94/100, Train Loss: 1.2269, Val Loss: 8.9486, Val R2: 0.9676, Val MAPE: 0.0356\n"
     ]
    },
    {
     "name": "stderr",
     "output_type": "stream",
     "text": [
      " 95%|█████████▌| 95/100 [00:26<00:01,  3.74it/s]"
     ]
    },
    {
     "name": "stdout",
     "output_type": "stream",
     "text": [
      "Epoch 95/100, Train Loss: 2.2591, Val Loss: 14.5195, Val R2: 0.9474, Val MAPE: 0.0457\n"
     ]
    },
    {
     "name": "stderr",
     "output_type": "stream",
     "text": [
      " 96%|█████████▌| 96/100 [00:26<00:01,  3.80it/s]"
     ]
    },
    {
     "name": "stdout",
     "output_type": "stream",
     "text": [
      "Epoch 96/100, Train Loss: 2.4524, Val Loss: 4.5727, Val R2: 0.9834, Val MAPE: 0.0295\n"
     ]
    },
    {
     "name": "stderr",
     "output_type": "stream",
     "text": [
      " 97%|█████████▋| 97/100 [00:26<00:00,  3.66it/s]"
     ]
    },
    {
     "name": "stdout",
     "output_type": "stream",
     "text": [
      "Epoch 97/100, Train Loss: 9.1370, Val Loss: 11.2178, Val R2: 0.9594, Val MAPE: 0.0469\n"
     ]
    },
    {
     "name": "stderr",
     "output_type": "stream",
     "text": [
      " 98%|█████████▊| 98/100 [00:27<00:00,  3.67it/s]"
     ]
    },
    {
     "name": "stdout",
     "output_type": "stream",
     "text": [
      "Epoch 98/100, Train Loss: 6.2809, Val Loss: 9.5662, Val R2: 0.9654, Val MAPE: 0.0413\n"
     ]
    },
    {
     "name": "stderr",
     "output_type": "stream",
     "text": [
      " 99%|█████████▉| 99/100 [00:27<00:00,  3.74it/s]"
     ]
    },
    {
     "name": "stdout",
     "output_type": "stream",
     "text": [
      "Epoch 99/100, Train Loss: 11.1523, Val Loss: 28.0995, Val R2: 0.8983, Val MAPE: 0.0764\n"
     ]
    },
    {
     "name": "stderr",
     "output_type": "stream",
     "text": [
      "100%|██████████| 100/100 [00:27<00:00,  3.61it/s]\n"
     ]
    },
    {
     "name": "stdout",
     "output_type": "stream",
     "text": [
      "Epoch 100/100, Train Loss: 14.8531, Val Loss: 53.2378, Val R2: 0.8073, Val MAPE: 0.1054\n",
      "Loaded best model from MLP_logs/logs_2/best_model_epoch_76_r2_0.9936.pth\n",
      "Using model from MLP_logs/logs_2/best_model_epoch_76_r2_0.9936.pth for rolling prediction.\n"
     ]
    },
    {
     "name": "stderr",
     "output_type": "stream",
     "text": [
      "Rolling Prediction: 100%|██████████| 423/423 [09:01<00:00,  1.28s/it]\n"
     ]
    }
   ],
   "source": [
    "device = torch.device(\"cuda\" if torch.cuda.is_available() else \"cpu\")\n",
    "batch_size = 32\n",
    "\n",
    "# 加载最佳模型并进行训练和验证\n",
    "model = MLP(input_size=len(features)).to(device)\n",
    "num_epochs = 100\n",
    "\n",
    "train_dataset = StockDataset(train_data)\n",
    "val_dataset = StockDataset(val_data, train_dataset.mean, train_dataset.std)\n",
    "train_loader = DataLoader(train_dataset, batch_size=batch_size, shuffle=False)\n",
    "val_loader = DataLoader(val_dataset, batch_size=batch_size, shuffle=False)\n",
    "\n",
    "train_losses, val_losses, val_r2s, val_mapes, best_model_path = train_and_validate(model, train_loader, val_loader, num_epochs, device)\n",
    "\n",
    "# 在测试集上进行滚动预测\n",
    "window_size = len(pd.concat([train_data, val_data]))  # 使用训练和验证数据作为初始窗口\n",
    "model.load_state_dict(torch.load(best_model_path))  # 确保使用验证集上表现最好的模型\n",
    "print(f'Using model from {best_model_path} for rolling prediction.')\n",
    "test_predictions = rolling_predict_with_retraining(model, train_data, val_data, test_data, window_size, device)\n"
   ]
  },
  {
   "cell_type": "code",
   "execution_count": 10,
   "metadata": {},
   "outputs": [
    {
     "name": "stdout",
     "output_type": "stream",
     "text": [
      "Test R2: 0.9611\n",
      "Test MAPE: 0.0131\n",
      "Saved predictions to MLP_logs/predictions.csv\n"
     ]
    },
    {
     "data": {
      "application/vnd.plotly.v1+json": {
       "config": {
        "plotlyServerURL": "https://plot.ly"
       },
       "data": [
        {
         "mode": "lines",
         "name": "Train Loss",
         "type": "scatter",
         "x": [
          1,
          2,
          3,
          4,
          5,
          6,
          7,
          8,
          9,
          10,
          11,
          12,
          13,
          14,
          15,
          16,
          17,
          18,
          19,
          20,
          21,
          22,
          23,
          24,
          25,
          26,
          27,
          28,
          29,
          30,
          31,
          32,
          33,
          34,
          35,
          36,
          37,
          38,
          39,
          40,
          41,
          42,
          43,
          44,
          45,
          46,
          47,
          48,
          49,
          50,
          51,
          52,
          53,
          54,
          55,
          56,
          57,
          58,
          59,
          60,
          61,
          62,
          63,
          64,
          65,
          66,
          67,
          68,
          69,
          70,
          71,
          72,
          73,
          74,
          75,
          76,
          77,
          78,
          79,
          80,
          81,
          82,
          83,
          84,
          85,
          86,
          87,
          88,
          89,
          90,
          91,
          92,
          93,
          94,
          95,
          96,
          97,
          98,
          99,
          100
         ],
         "y": [
          1255.0330808070803,
          623.2124176592823,
          126.07145649650114,
          92.53503211371556,
          68.8126596833823,
          58.4171283894733,
          47.36690826880279,
          39.55407960645406,
          32.78041420988814,
          27.461075851125763,
          23.33094206462445,
          20.147153893058732,
          17.6200939772337,
          15.569793687469657,
          13.890788064605887,
          12.495279269656915,
          11.28642761207578,
          10.203039624305735,
          9.2280639036835,
          8.350840134101594,
          7.562793532926703,
          6.882665148935582,
          6.342185647202312,
          5.973663248187227,
          5.828596231822955,
          6.172114256832389,
          7.207990029278924,
          9.27301421336341,
          12.16786445742769,
          14.659171722804153,
          13.148807684580484,
          9.086274236984718,
          5.459295207701316,
          3.9022725789912895,
          3.057558229035667,
          2.9716772295237392,
          3.286007420326746,
          3.719026177134201,
          4.394790647399031,
          5.883260227885901,
          6.80124461820111,
          8.544072103951734,
          8.387223065584555,
          8.395257111616115,
          5.689517973725097,
          4.1496522210996805,
          3.5015516002650515,
          2.356011272202157,
          1.5528405228122173,
          1.1478216886278583,
          1.0212933762884366,
          1.1830801001023892,
          1.5467861590351584,
          2.2996702014271513,
          3.2555050182132965,
          4.387298883377821,
          5.885529204185465,
          7.261425818358828,
          8.150466440858834,
          7.16351679606241,
          5.337775547251337,
          3.2448616189639097,
          1.8548785201031426,
          1.3304975231085538,
          1.4402864317864965,
          2.057358305264035,
          2.813264306773198,
          4.106446320418976,
          6.317458304059594,
          7.714928048135785,
          13.23411267604918,
          11.464776903330433,
          10.02704446472132,
          6.850209024002457,
          3.307260371346664,
          1.742898467870239,
          1.2479144479069377,
          1.3195085477554935,
          1.5581179872165265,
          1.962390323842676,
          2.051726222783831,
          2.0108311346368746,
          1.7903158548839033,
          1.86070883882618,
          1.713184896718013,
          1.5250137629714102,
          1.400673724307935,
          1.2040112056971564,
          0.9854239108112715,
          0.7837379085928947,
          0.596346479712748,
          0.4783062103171055,
          0.554624593156145,
          1.226856138312873,
          2.2591481492417014,
          2.452426416052605,
          9.137040746703674,
          6.28092887161389,
          11.152251486845964,
          14.853079601265918
         ]
        },
        {
         "mode": "lines",
         "name": "Validation Loss",
         "type": "scatter",
         "x": [
          1,
          2,
          3,
          4,
          5,
          6,
          7,
          8,
          9,
          10,
          11,
          12,
          13,
          14,
          15,
          16,
          17,
          18,
          19,
          20,
          21,
          22,
          23,
          24,
          25,
          26,
          27,
          28,
          29,
          30,
          31,
          32,
          33,
          34,
          35,
          36,
          37,
          38,
          39,
          40,
          41,
          42,
          43,
          44,
          45,
          46,
          47,
          48,
          49,
          50,
          51,
          52,
          53,
          54,
          55,
          56,
          57,
          58,
          59,
          60,
          61,
          62,
          63,
          64,
          65,
          66,
          67,
          68,
          69,
          70,
          71,
          72,
          73,
          74,
          75,
          76,
          77,
          78,
          79,
          80,
          81,
          82,
          83,
          84,
          85,
          86,
          87,
          88,
          89,
          90,
          91,
          92,
          93,
          94,
          95,
          96,
          97,
          98,
          99,
          100
         ],
         "y": [
          4214.26521776188,
          608.9630186182508,
          121.32776054066314,
          122.51310495229868,
          86.98538027430428,
          79.51709888164814,
          58.57297917653823,
          47.62389995868389,
          38.288411349234494,
          31.09283109811636,
          25.221483061299523,
          20.86442078471889,
          17.91376134658001,
          15.791940233129017,
          14.330915935222919,
          13.23338217650645,
          12.257346197275014,
          11.443814784394213,
          10.904081916809082,
          10.47015931451109,
          10.176553586248815,
          9.985228472489577,
          10.0271620327199,
          10.178176830224032,
          10.886098288925442,
          13.258865756819235,
          20.187686702344543,
          35.170502924778056,
          69.67204273720465,
          103.33687017542371,
          103.70980712958341,
          72.3389248526308,
          42.366139547923616,
          25.856314758436213,
          16.236053188171613,
          15.891251430638443,
          9.582215950051708,
          7.7703937502302365,
          5.501081633426734,
          6.1164033596332255,
          8.43282787052132,
          14.44989170492048,
          16.735637697524574,
          18.523458560966176,
          9.889867422566612,
          7.631433696859687,
          5.979288101196289,
          3.6796790334599963,
          2.3730772396516517,
          2.313578728458585,
          2.868215155319349,
          4.42587650259571,
          7.519288324040069,
          11.589023481177154,
          15.83321492008909,
          23.25930895664283,
          32.738722346379205,
          49.66461829913438,
          64.36665955267009,
          70.07194953783024,
          56.847423250999675,
          42.56357865418203,
          26.18535729131755,
          15.071341553101172,
          12.514971609792767,
          6.156444083163019,
          4.858773821204371,
          4.6346958634416024,
          7.609884930221287,
          15.239840314515243,
          35.22300318655883,
          29.682783539901823,
          31.072039577100405,
          14.654787261669453,
          4.722261366336303,
          1.7688850347459668,
          3.4866621347574087,
          7.063094242366813,
          13.042461734974879,
          18.00533598612046,
          21.458376238896296,
          22.25423698425293,
          23.193526693490835,
          24.826692609391973,
          25.1004013659686,
          24.95814732094488,
          24.93691043740899,
          24.179195733606463,
          22.850436858453694,
          21.297779621598284,
          19.070576582011388,
          16.19155558707446,
          13.071284805696743,
          8.948602287303766,
          14.519543026749199,
          4.572692753154145,
          11.217824042055028,
          9.566166396959293,
          28.09947093534752,
          53.23781334465072
         ]
        }
       ],
       "layout": {
        "template": {
         "data": {
          "bar": [
           {
            "error_x": {
             "color": "#2a3f5f"
            },
            "error_y": {
             "color": "#2a3f5f"
            },
            "marker": {
             "line": {
              "color": "#E5ECF6",
              "width": 0.5
             },
             "pattern": {
              "fillmode": "overlay",
              "size": 10,
              "solidity": 0.2
             }
            },
            "type": "bar"
           }
          ],
          "barpolar": [
           {
            "marker": {
             "line": {
              "color": "#E5ECF6",
              "width": 0.5
             },
             "pattern": {
              "fillmode": "overlay",
              "size": 10,
              "solidity": 0.2
             }
            },
            "type": "barpolar"
           }
          ],
          "carpet": [
           {
            "aaxis": {
             "endlinecolor": "#2a3f5f",
             "gridcolor": "white",
             "linecolor": "white",
             "minorgridcolor": "white",
             "startlinecolor": "#2a3f5f"
            },
            "baxis": {
             "endlinecolor": "#2a3f5f",
             "gridcolor": "white",
             "linecolor": "white",
             "minorgridcolor": "white",
             "startlinecolor": "#2a3f5f"
            },
            "type": "carpet"
           }
          ],
          "choropleth": [
           {
            "colorbar": {
             "outlinewidth": 0,
             "ticks": ""
            },
            "type": "choropleth"
           }
          ],
          "contour": [
           {
            "colorbar": {
             "outlinewidth": 0,
             "ticks": ""
            },
            "colorscale": [
             [
              0,
              "#0d0887"
             ],
             [
              0.1111111111111111,
              "#46039f"
             ],
             [
              0.2222222222222222,
              "#7201a8"
             ],
             [
              0.3333333333333333,
              "#9c179e"
             ],
             [
              0.4444444444444444,
              "#bd3786"
             ],
             [
              0.5555555555555556,
              "#d8576b"
             ],
             [
              0.6666666666666666,
              "#ed7953"
             ],
             [
              0.7777777777777778,
              "#fb9f3a"
             ],
             [
              0.8888888888888888,
              "#fdca26"
             ],
             [
              1,
              "#f0f921"
             ]
            ],
            "type": "contour"
           }
          ],
          "contourcarpet": [
           {
            "colorbar": {
             "outlinewidth": 0,
             "ticks": ""
            },
            "type": "contourcarpet"
           }
          ],
          "heatmap": [
           {
            "colorbar": {
             "outlinewidth": 0,
             "ticks": ""
            },
            "colorscale": [
             [
              0,
              "#0d0887"
             ],
             [
              0.1111111111111111,
              "#46039f"
             ],
             [
              0.2222222222222222,
              "#7201a8"
             ],
             [
              0.3333333333333333,
              "#9c179e"
             ],
             [
              0.4444444444444444,
              "#bd3786"
             ],
             [
              0.5555555555555556,
              "#d8576b"
             ],
             [
              0.6666666666666666,
              "#ed7953"
             ],
             [
              0.7777777777777778,
              "#fb9f3a"
             ],
             [
              0.8888888888888888,
              "#fdca26"
             ],
             [
              1,
              "#f0f921"
             ]
            ],
            "type": "heatmap"
           }
          ],
          "heatmapgl": [
           {
            "colorbar": {
             "outlinewidth": 0,
             "ticks": ""
            },
            "colorscale": [
             [
              0,
              "#0d0887"
             ],
             [
              0.1111111111111111,
              "#46039f"
             ],
             [
              0.2222222222222222,
              "#7201a8"
             ],
             [
              0.3333333333333333,
              "#9c179e"
             ],
             [
              0.4444444444444444,
              "#bd3786"
             ],
             [
              0.5555555555555556,
              "#d8576b"
             ],
             [
              0.6666666666666666,
              "#ed7953"
             ],
             [
              0.7777777777777778,
              "#fb9f3a"
             ],
             [
              0.8888888888888888,
              "#fdca26"
             ],
             [
              1,
              "#f0f921"
             ]
            ],
            "type": "heatmapgl"
           }
          ],
          "histogram": [
           {
            "marker": {
             "pattern": {
              "fillmode": "overlay",
              "size": 10,
              "solidity": 0.2
             }
            },
            "type": "histogram"
           }
          ],
          "histogram2d": [
           {
            "colorbar": {
             "outlinewidth": 0,
             "ticks": ""
            },
            "colorscale": [
             [
              0,
              "#0d0887"
             ],
             [
              0.1111111111111111,
              "#46039f"
             ],
             [
              0.2222222222222222,
              "#7201a8"
             ],
             [
              0.3333333333333333,
              "#9c179e"
             ],
             [
              0.4444444444444444,
              "#bd3786"
             ],
             [
              0.5555555555555556,
              "#d8576b"
             ],
             [
              0.6666666666666666,
              "#ed7953"
             ],
             [
              0.7777777777777778,
              "#fb9f3a"
             ],
             [
              0.8888888888888888,
              "#fdca26"
             ],
             [
              1,
              "#f0f921"
             ]
            ],
            "type": "histogram2d"
           }
          ],
          "histogram2dcontour": [
           {
            "colorbar": {
             "outlinewidth": 0,
             "ticks": ""
            },
            "colorscale": [
             [
              0,
              "#0d0887"
             ],
             [
              0.1111111111111111,
              "#46039f"
             ],
             [
              0.2222222222222222,
              "#7201a8"
             ],
             [
              0.3333333333333333,
              "#9c179e"
             ],
             [
              0.4444444444444444,
              "#bd3786"
             ],
             [
              0.5555555555555556,
              "#d8576b"
             ],
             [
              0.6666666666666666,
              "#ed7953"
             ],
             [
              0.7777777777777778,
              "#fb9f3a"
             ],
             [
              0.8888888888888888,
              "#fdca26"
             ],
             [
              1,
              "#f0f921"
             ]
            ],
            "type": "histogram2dcontour"
           }
          ],
          "mesh3d": [
           {
            "colorbar": {
             "outlinewidth": 0,
             "ticks": ""
            },
            "type": "mesh3d"
           }
          ],
          "parcoords": [
           {
            "line": {
             "colorbar": {
              "outlinewidth": 0,
              "ticks": ""
             }
            },
            "type": "parcoords"
           }
          ],
          "pie": [
           {
            "automargin": true,
            "type": "pie"
           }
          ],
          "scatter": [
           {
            "fillpattern": {
             "fillmode": "overlay",
             "size": 10,
             "solidity": 0.2
            },
            "type": "scatter"
           }
          ],
          "scatter3d": [
           {
            "line": {
             "colorbar": {
              "outlinewidth": 0,
              "ticks": ""
             }
            },
            "marker": {
             "colorbar": {
              "outlinewidth": 0,
              "ticks": ""
             }
            },
            "type": "scatter3d"
           }
          ],
          "scattercarpet": [
           {
            "marker": {
             "colorbar": {
              "outlinewidth": 0,
              "ticks": ""
             }
            },
            "type": "scattercarpet"
           }
          ],
          "scattergeo": [
           {
            "marker": {
             "colorbar": {
              "outlinewidth": 0,
              "ticks": ""
             }
            },
            "type": "scattergeo"
           }
          ],
          "scattergl": [
           {
            "marker": {
             "colorbar": {
              "outlinewidth": 0,
              "ticks": ""
             }
            },
            "type": "scattergl"
           }
          ],
          "scattermapbox": [
           {
            "marker": {
             "colorbar": {
              "outlinewidth": 0,
              "ticks": ""
             }
            },
            "type": "scattermapbox"
           }
          ],
          "scatterpolar": [
           {
            "marker": {
             "colorbar": {
              "outlinewidth": 0,
              "ticks": ""
             }
            },
            "type": "scatterpolar"
           }
          ],
          "scatterpolargl": [
           {
            "marker": {
             "colorbar": {
              "outlinewidth": 0,
              "ticks": ""
             }
            },
            "type": "scatterpolargl"
           }
          ],
          "scatterternary": [
           {
            "marker": {
             "colorbar": {
              "outlinewidth": 0,
              "ticks": ""
             }
            },
            "type": "scatterternary"
           }
          ],
          "surface": [
           {
            "colorbar": {
             "outlinewidth": 0,
             "ticks": ""
            },
            "colorscale": [
             [
              0,
              "#0d0887"
             ],
             [
              0.1111111111111111,
              "#46039f"
             ],
             [
              0.2222222222222222,
              "#7201a8"
             ],
             [
              0.3333333333333333,
              "#9c179e"
             ],
             [
              0.4444444444444444,
              "#bd3786"
             ],
             [
              0.5555555555555556,
              "#d8576b"
             ],
             [
              0.6666666666666666,
              "#ed7953"
             ],
             [
              0.7777777777777778,
              "#fb9f3a"
             ],
             [
              0.8888888888888888,
              "#fdca26"
             ],
             [
              1,
              "#f0f921"
             ]
            ],
            "type": "surface"
           }
          ],
          "table": [
           {
            "cells": {
             "fill": {
              "color": "#EBF0F8"
             },
             "line": {
              "color": "white"
             }
            },
            "header": {
             "fill": {
              "color": "#C8D4E3"
             },
             "line": {
              "color": "white"
             }
            },
            "type": "table"
           }
          ]
         },
         "layout": {
          "annotationdefaults": {
           "arrowcolor": "#2a3f5f",
           "arrowhead": 0,
           "arrowwidth": 1
          },
          "autotypenumbers": "strict",
          "coloraxis": {
           "colorbar": {
            "outlinewidth": 0,
            "ticks": ""
           }
          },
          "colorscale": {
           "diverging": [
            [
             0,
             "#8e0152"
            ],
            [
             0.1,
             "#c51b7d"
            ],
            [
             0.2,
             "#de77ae"
            ],
            [
             0.3,
             "#f1b6da"
            ],
            [
             0.4,
             "#fde0ef"
            ],
            [
             0.5,
             "#f7f7f7"
            ],
            [
             0.6,
             "#e6f5d0"
            ],
            [
             0.7,
             "#b8e186"
            ],
            [
             0.8,
             "#7fbc41"
            ],
            [
             0.9,
             "#4d9221"
            ],
            [
             1,
             "#276419"
            ]
           ],
           "sequential": [
            [
             0,
             "#0d0887"
            ],
            [
             0.1111111111111111,
             "#46039f"
            ],
            [
             0.2222222222222222,
             "#7201a8"
            ],
            [
             0.3333333333333333,
             "#9c179e"
            ],
            [
             0.4444444444444444,
             "#bd3786"
            ],
            [
             0.5555555555555556,
             "#d8576b"
            ],
            [
             0.6666666666666666,
             "#ed7953"
            ],
            [
             0.7777777777777778,
             "#fb9f3a"
            ],
            [
             0.8888888888888888,
             "#fdca26"
            ],
            [
             1,
             "#f0f921"
            ]
           ],
           "sequentialminus": [
            [
             0,
             "#0d0887"
            ],
            [
             0.1111111111111111,
             "#46039f"
            ],
            [
             0.2222222222222222,
             "#7201a8"
            ],
            [
             0.3333333333333333,
             "#9c179e"
            ],
            [
             0.4444444444444444,
             "#bd3786"
            ],
            [
             0.5555555555555556,
             "#d8576b"
            ],
            [
             0.6666666666666666,
             "#ed7953"
            ],
            [
             0.7777777777777778,
             "#fb9f3a"
            ],
            [
             0.8888888888888888,
             "#fdca26"
            ],
            [
             1,
             "#f0f921"
            ]
           ]
          },
          "colorway": [
           "#636efa",
           "#EF553B",
           "#00cc96",
           "#ab63fa",
           "#FFA15A",
           "#19d3f3",
           "#FF6692",
           "#B6E880",
           "#FF97FF",
           "#FECB52"
          ],
          "font": {
           "color": "#2a3f5f"
          },
          "geo": {
           "bgcolor": "white",
           "lakecolor": "white",
           "landcolor": "#E5ECF6",
           "showlakes": true,
           "showland": true,
           "subunitcolor": "white"
          },
          "hoverlabel": {
           "align": "left"
          },
          "hovermode": "closest",
          "mapbox": {
           "style": "light"
          },
          "paper_bgcolor": "white",
          "plot_bgcolor": "#E5ECF6",
          "polar": {
           "angularaxis": {
            "gridcolor": "white",
            "linecolor": "white",
            "ticks": ""
           },
           "bgcolor": "#E5ECF6",
           "radialaxis": {
            "gridcolor": "white",
            "linecolor": "white",
            "ticks": ""
           }
          },
          "scene": {
           "xaxis": {
            "backgroundcolor": "#E5ECF6",
            "gridcolor": "white",
            "gridwidth": 2,
            "linecolor": "white",
            "showbackground": true,
            "ticks": "",
            "zerolinecolor": "white"
           },
           "yaxis": {
            "backgroundcolor": "#E5ECF6",
            "gridcolor": "white",
            "gridwidth": 2,
            "linecolor": "white",
            "showbackground": true,
            "ticks": "",
            "zerolinecolor": "white"
           },
           "zaxis": {
            "backgroundcolor": "#E5ECF6",
            "gridcolor": "white",
            "gridwidth": 2,
            "linecolor": "white",
            "showbackground": true,
            "ticks": "",
            "zerolinecolor": "white"
           }
          },
          "shapedefaults": {
           "line": {
            "color": "#2a3f5f"
           }
          },
          "ternary": {
           "aaxis": {
            "gridcolor": "white",
            "linecolor": "white",
            "ticks": ""
           },
           "baxis": {
            "gridcolor": "white",
            "linecolor": "white",
            "ticks": ""
           },
           "bgcolor": "#E5ECF6",
           "caxis": {
            "gridcolor": "white",
            "linecolor": "white",
            "ticks": ""
           }
          },
          "title": {
           "x": 0.05
          },
          "xaxis": {
           "automargin": true,
           "gridcolor": "white",
           "linecolor": "white",
           "ticks": "",
           "title": {
            "standoff": 15
           },
           "zerolinecolor": "white",
           "zerolinewidth": 2
          },
          "yaxis": {
           "automargin": true,
           "gridcolor": "white",
           "linecolor": "white",
           "ticks": "",
           "title": {
            "standoff": 15
           },
           "zerolinecolor": "white",
           "zerolinewidth": 2
          }
         }
        },
        "title": {
         "text": "Train and Validation Loss"
        },
        "xaxis": {
         "title": {
          "text": "Epoch"
         }
        },
        "yaxis": {
         "title": {
          "text": "Loss"
         }
        }
       }
      },
      "text/html": [
       "<div>                            <div id=\"56a237b6-e1a8-4c73-b449-93eafb73f1be\" class=\"plotly-graph-div\" style=\"height:525px; width:100%;\"></div>            <script type=\"text/javascript\">                require([\"plotly\"], function(Plotly) {                    window.PLOTLYENV=window.PLOTLYENV || {};                                    if (document.getElementById(\"56a237b6-e1a8-4c73-b449-93eafb73f1be\")) {                    Plotly.newPlot(                        \"56a237b6-e1a8-4c73-b449-93eafb73f1be\",                        [{\"mode\":\"lines\",\"name\":\"Train Loss\",\"x\":[1,2,3,4,5,6,7,8,9,10,11,12,13,14,15,16,17,18,19,20,21,22,23,24,25,26,27,28,29,30,31,32,33,34,35,36,37,38,39,40,41,42,43,44,45,46,47,48,49,50,51,52,53,54,55,56,57,58,59,60,61,62,63,64,65,66,67,68,69,70,71,72,73,74,75,76,77,78,79,80,81,82,83,84,85,86,87,88,89,90,91,92,93,94,95,96,97,98,99,100],\"y\":[1255.0330808070803,623.2124176592823,126.07145649650114,92.53503211371556,68.8126596833823,58.4171283894733,47.36690826880279,39.55407960645406,32.78041420988814,27.461075851125763,23.33094206462445,20.147153893058732,17.6200939772337,15.569793687469657,13.890788064605887,12.495279269656915,11.28642761207578,10.203039624305735,9.2280639036835,8.350840134101594,7.562793532926703,6.882665148935582,6.342185647202312,5.973663248187227,5.828596231822955,6.172114256832389,7.207990029278924,9.27301421336341,12.16786445742769,14.659171722804153,13.148807684580484,9.086274236984718,5.459295207701316,3.9022725789912895,3.057558229035667,2.9716772295237392,3.286007420326746,3.719026177134201,4.394790647399031,5.883260227885901,6.80124461820111,8.544072103951734,8.387223065584555,8.395257111616115,5.689517973725097,4.1496522210996805,3.5015516002650515,2.356011272202157,1.5528405228122173,1.1478216886278583,1.0212933762884366,1.1830801001023892,1.5467861590351584,2.2996702014271513,3.2555050182132965,4.387298883377821,5.885529204185465,7.261425818358828,8.150466440858834,7.16351679606241,5.337775547251337,3.2448616189639097,1.8548785201031426,1.3304975231085538,1.4402864317864965,2.057358305264035,2.813264306773198,4.106446320418976,6.317458304059594,7.714928048135785,13.23411267604918,11.464776903330433,10.02704446472132,6.850209024002457,3.307260371346664,1.742898467870239,1.2479144479069377,1.3195085477554935,1.5581179872165265,1.962390323842676,2.051726222783831,2.0108311346368746,1.7903158548839033,1.86070883882618,1.713184896718013,1.5250137629714102,1.400673724307935,1.2040112056971564,0.9854239108112715,0.7837379085928947,0.596346479712748,0.4783062103171055,0.554624593156145,1.226856138312873,2.2591481492417014,2.452426416052605,9.137040746703674,6.28092887161389,11.152251486845964,14.853079601265918],\"type\":\"scatter\"},{\"mode\":\"lines\",\"name\":\"Validation Loss\",\"x\":[1,2,3,4,5,6,7,8,9,10,11,12,13,14,15,16,17,18,19,20,21,22,23,24,25,26,27,28,29,30,31,32,33,34,35,36,37,38,39,40,41,42,43,44,45,46,47,48,49,50,51,52,53,54,55,56,57,58,59,60,61,62,63,64,65,66,67,68,69,70,71,72,73,74,75,76,77,78,79,80,81,82,83,84,85,86,87,88,89,90,91,92,93,94,95,96,97,98,99,100],\"y\":[4214.26521776188,608.9630186182508,121.32776054066314,122.51310495229868,86.98538027430428,79.51709888164814,58.57297917653823,47.62389995868389,38.288411349234494,31.09283109811636,25.221483061299523,20.86442078471889,17.91376134658001,15.791940233129017,14.330915935222919,13.23338217650645,12.257346197275014,11.443814784394213,10.904081916809082,10.47015931451109,10.176553586248815,9.985228472489577,10.0271620327199,10.178176830224032,10.886098288925442,13.258865756819235,20.187686702344543,35.170502924778056,69.67204273720465,103.33687017542371,103.70980712958341,72.3389248526308,42.366139547923616,25.856314758436213,16.236053188171613,15.891251430638443,9.582215950051708,7.7703937502302365,5.501081633426734,6.1164033596332255,8.43282787052132,14.44989170492048,16.735637697524574,18.523458560966176,9.889867422566612,7.631433696859687,5.979288101196289,3.6796790334599963,2.3730772396516517,2.313578728458585,2.868215155319349,4.42587650259571,7.519288324040069,11.589023481177154,15.83321492008909,23.25930895664283,32.738722346379205,49.66461829913438,64.36665955267009,70.07194953783024,56.847423250999675,42.56357865418203,26.18535729131755,15.071341553101172,12.514971609792767,6.156444083163019,4.858773821204371,4.6346958634416024,7.609884930221287,15.239840314515243,35.22300318655883,29.682783539901823,31.072039577100405,14.654787261669453,4.722261366336303,1.7688850347459668,3.4866621347574087,7.063094242366813,13.042461734974879,18.00533598612046,21.458376238896296,22.25423698425293,23.193526693490835,24.826692609391973,25.1004013659686,24.95814732094488,24.93691043740899,24.179195733606463,22.850436858453694,21.297779621598284,19.070576582011388,16.19155558707446,13.071284805696743,8.948602287303766,14.519543026749199,4.572692753154145,11.217824042055028,9.566166396959293,28.09947093534752,53.23781334465072],\"type\":\"scatter\"}],                        {\"template\":{\"data\":{\"histogram2dcontour\":[{\"type\":\"histogram2dcontour\",\"colorbar\":{\"outlinewidth\":0,\"ticks\":\"\"},\"colorscale\":[[0.0,\"#0d0887\"],[0.1111111111111111,\"#46039f\"],[0.2222222222222222,\"#7201a8\"],[0.3333333333333333,\"#9c179e\"],[0.4444444444444444,\"#bd3786\"],[0.5555555555555556,\"#d8576b\"],[0.6666666666666666,\"#ed7953\"],[0.7777777777777778,\"#fb9f3a\"],[0.8888888888888888,\"#fdca26\"],[1.0,\"#f0f921\"]]}],\"choropleth\":[{\"type\":\"choropleth\",\"colorbar\":{\"outlinewidth\":0,\"ticks\":\"\"}}],\"histogram2d\":[{\"type\":\"histogram2d\",\"colorbar\":{\"outlinewidth\":0,\"ticks\":\"\"},\"colorscale\":[[0.0,\"#0d0887\"],[0.1111111111111111,\"#46039f\"],[0.2222222222222222,\"#7201a8\"],[0.3333333333333333,\"#9c179e\"],[0.4444444444444444,\"#bd3786\"],[0.5555555555555556,\"#d8576b\"],[0.6666666666666666,\"#ed7953\"],[0.7777777777777778,\"#fb9f3a\"],[0.8888888888888888,\"#fdca26\"],[1.0,\"#f0f921\"]]}],\"heatmap\":[{\"type\":\"heatmap\",\"colorbar\":{\"outlinewidth\":0,\"ticks\":\"\"},\"colorscale\":[[0.0,\"#0d0887\"],[0.1111111111111111,\"#46039f\"],[0.2222222222222222,\"#7201a8\"],[0.3333333333333333,\"#9c179e\"],[0.4444444444444444,\"#bd3786\"],[0.5555555555555556,\"#d8576b\"],[0.6666666666666666,\"#ed7953\"],[0.7777777777777778,\"#fb9f3a\"],[0.8888888888888888,\"#fdca26\"],[1.0,\"#f0f921\"]]}],\"heatmapgl\":[{\"type\":\"heatmapgl\",\"colorbar\":{\"outlinewidth\":0,\"ticks\":\"\"},\"colorscale\":[[0.0,\"#0d0887\"],[0.1111111111111111,\"#46039f\"],[0.2222222222222222,\"#7201a8\"],[0.3333333333333333,\"#9c179e\"],[0.4444444444444444,\"#bd3786\"],[0.5555555555555556,\"#d8576b\"],[0.6666666666666666,\"#ed7953\"],[0.7777777777777778,\"#fb9f3a\"],[0.8888888888888888,\"#fdca26\"],[1.0,\"#f0f921\"]]}],\"contourcarpet\":[{\"type\":\"contourcarpet\",\"colorbar\":{\"outlinewidth\":0,\"ticks\":\"\"}}],\"contour\":[{\"type\":\"contour\",\"colorbar\":{\"outlinewidth\":0,\"ticks\":\"\"},\"colorscale\":[[0.0,\"#0d0887\"],[0.1111111111111111,\"#46039f\"],[0.2222222222222222,\"#7201a8\"],[0.3333333333333333,\"#9c179e\"],[0.4444444444444444,\"#bd3786\"],[0.5555555555555556,\"#d8576b\"],[0.6666666666666666,\"#ed7953\"],[0.7777777777777778,\"#fb9f3a\"],[0.8888888888888888,\"#fdca26\"],[1.0,\"#f0f921\"]]}],\"surface\":[{\"type\":\"surface\",\"colorbar\":{\"outlinewidth\":0,\"ticks\":\"\"},\"colorscale\":[[0.0,\"#0d0887\"],[0.1111111111111111,\"#46039f\"],[0.2222222222222222,\"#7201a8\"],[0.3333333333333333,\"#9c179e\"],[0.4444444444444444,\"#bd3786\"],[0.5555555555555556,\"#d8576b\"],[0.6666666666666666,\"#ed7953\"],[0.7777777777777778,\"#fb9f3a\"],[0.8888888888888888,\"#fdca26\"],[1.0,\"#f0f921\"]]}],\"mesh3d\":[{\"type\":\"mesh3d\",\"colorbar\":{\"outlinewidth\":0,\"ticks\":\"\"}}],\"scatter\":[{\"fillpattern\":{\"fillmode\":\"overlay\",\"size\":10,\"solidity\":0.2},\"type\":\"scatter\"}],\"parcoords\":[{\"type\":\"parcoords\",\"line\":{\"colorbar\":{\"outlinewidth\":0,\"ticks\":\"\"}}}],\"scatterpolargl\":[{\"type\":\"scatterpolargl\",\"marker\":{\"colorbar\":{\"outlinewidth\":0,\"ticks\":\"\"}}}],\"bar\":[{\"error_x\":{\"color\":\"#2a3f5f\"},\"error_y\":{\"color\":\"#2a3f5f\"},\"marker\":{\"line\":{\"color\":\"#E5ECF6\",\"width\":0.5},\"pattern\":{\"fillmode\":\"overlay\",\"size\":10,\"solidity\":0.2}},\"type\":\"bar\"}],\"scattergeo\":[{\"type\":\"scattergeo\",\"marker\":{\"colorbar\":{\"outlinewidth\":0,\"ticks\":\"\"}}}],\"scatterpolar\":[{\"type\":\"scatterpolar\",\"marker\":{\"colorbar\":{\"outlinewidth\":0,\"ticks\":\"\"}}}],\"histogram\":[{\"marker\":{\"pattern\":{\"fillmode\":\"overlay\",\"size\":10,\"solidity\":0.2}},\"type\":\"histogram\"}],\"scattergl\":[{\"type\":\"scattergl\",\"marker\":{\"colorbar\":{\"outlinewidth\":0,\"ticks\":\"\"}}}],\"scatter3d\":[{\"type\":\"scatter3d\",\"line\":{\"colorbar\":{\"outlinewidth\":0,\"ticks\":\"\"}},\"marker\":{\"colorbar\":{\"outlinewidth\":0,\"ticks\":\"\"}}}],\"scattermapbox\":[{\"type\":\"scattermapbox\",\"marker\":{\"colorbar\":{\"outlinewidth\":0,\"ticks\":\"\"}}}],\"scatterternary\":[{\"type\":\"scatterternary\",\"marker\":{\"colorbar\":{\"outlinewidth\":0,\"ticks\":\"\"}}}],\"scattercarpet\":[{\"type\":\"scattercarpet\",\"marker\":{\"colorbar\":{\"outlinewidth\":0,\"ticks\":\"\"}}}],\"carpet\":[{\"aaxis\":{\"endlinecolor\":\"#2a3f5f\",\"gridcolor\":\"white\",\"linecolor\":\"white\",\"minorgridcolor\":\"white\",\"startlinecolor\":\"#2a3f5f\"},\"baxis\":{\"endlinecolor\":\"#2a3f5f\",\"gridcolor\":\"white\",\"linecolor\":\"white\",\"minorgridcolor\":\"white\",\"startlinecolor\":\"#2a3f5f\"},\"type\":\"carpet\"}],\"table\":[{\"cells\":{\"fill\":{\"color\":\"#EBF0F8\"},\"line\":{\"color\":\"white\"}},\"header\":{\"fill\":{\"color\":\"#C8D4E3\"},\"line\":{\"color\":\"white\"}},\"type\":\"table\"}],\"barpolar\":[{\"marker\":{\"line\":{\"color\":\"#E5ECF6\",\"width\":0.5},\"pattern\":{\"fillmode\":\"overlay\",\"size\":10,\"solidity\":0.2}},\"type\":\"barpolar\"}],\"pie\":[{\"automargin\":true,\"type\":\"pie\"}]},\"layout\":{\"autotypenumbers\":\"strict\",\"colorway\":[\"#636efa\",\"#EF553B\",\"#00cc96\",\"#ab63fa\",\"#FFA15A\",\"#19d3f3\",\"#FF6692\",\"#B6E880\",\"#FF97FF\",\"#FECB52\"],\"font\":{\"color\":\"#2a3f5f\"},\"hovermode\":\"closest\",\"hoverlabel\":{\"align\":\"left\"},\"paper_bgcolor\":\"white\",\"plot_bgcolor\":\"#E5ECF6\",\"polar\":{\"bgcolor\":\"#E5ECF6\",\"angularaxis\":{\"gridcolor\":\"white\",\"linecolor\":\"white\",\"ticks\":\"\"},\"radialaxis\":{\"gridcolor\":\"white\",\"linecolor\":\"white\",\"ticks\":\"\"}},\"ternary\":{\"bgcolor\":\"#E5ECF6\",\"aaxis\":{\"gridcolor\":\"white\",\"linecolor\":\"white\",\"ticks\":\"\"},\"baxis\":{\"gridcolor\":\"white\",\"linecolor\":\"white\",\"ticks\":\"\"},\"caxis\":{\"gridcolor\":\"white\",\"linecolor\":\"white\",\"ticks\":\"\"}},\"coloraxis\":{\"colorbar\":{\"outlinewidth\":0,\"ticks\":\"\"}},\"colorscale\":{\"sequential\":[[0.0,\"#0d0887\"],[0.1111111111111111,\"#46039f\"],[0.2222222222222222,\"#7201a8\"],[0.3333333333333333,\"#9c179e\"],[0.4444444444444444,\"#bd3786\"],[0.5555555555555556,\"#d8576b\"],[0.6666666666666666,\"#ed7953\"],[0.7777777777777778,\"#fb9f3a\"],[0.8888888888888888,\"#fdca26\"],[1.0,\"#f0f921\"]],\"sequentialminus\":[[0.0,\"#0d0887\"],[0.1111111111111111,\"#46039f\"],[0.2222222222222222,\"#7201a8\"],[0.3333333333333333,\"#9c179e\"],[0.4444444444444444,\"#bd3786\"],[0.5555555555555556,\"#d8576b\"],[0.6666666666666666,\"#ed7953\"],[0.7777777777777778,\"#fb9f3a\"],[0.8888888888888888,\"#fdca26\"],[1.0,\"#f0f921\"]],\"diverging\":[[0,\"#8e0152\"],[0.1,\"#c51b7d\"],[0.2,\"#de77ae\"],[0.3,\"#f1b6da\"],[0.4,\"#fde0ef\"],[0.5,\"#f7f7f7\"],[0.6,\"#e6f5d0\"],[0.7,\"#b8e186\"],[0.8,\"#7fbc41\"],[0.9,\"#4d9221\"],[1,\"#276419\"]]},\"xaxis\":{\"gridcolor\":\"white\",\"linecolor\":\"white\",\"ticks\":\"\",\"title\":{\"standoff\":15},\"zerolinecolor\":\"white\",\"automargin\":true,\"zerolinewidth\":2},\"yaxis\":{\"gridcolor\":\"white\",\"linecolor\":\"white\",\"ticks\":\"\",\"title\":{\"standoff\":15},\"zerolinecolor\":\"white\",\"automargin\":true,\"zerolinewidth\":2},\"scene\":{\"xaxis\":{\"backgroundcolor\":\"#E5ECF6\",\"gridcolor\":\"white\",\"linecolor\":\"white\",\"showbackground\":true,\"ticks\":\"\",\"zerolinecolor\":\"white\",\"gridwidth\":2},\"yaxis\":{\"backgroundcolor\":\"#E5ECF6\",\"gridcolor\":\"white\",\"linecolor\":\"white\",\"showbackground\":true,\"ticks\":\"\",\"zerolinecolor\":\"white\",\"gridwidth\":2},\"zaxis\":{\"backgroundcolor\":\"#E5ECF6\",\"gridcolor\":\"white\",\"linecolor\":\"white\",\"showbackground\":true,\"ticks\":\"\",\"zerolinecolor\":\"white\",\"gridwidth\":2}},\"shapedefaults\":{\"line\":{\"color\":\"#2a3f5f\"}},\"annotationdefaults\":{\"arrowcolor\":\"#2a3f5f\",\"arrowhead\":0,\"arrowwidth\":1},\"geo\":{\"bgcolor\":\"white\",\"landcolor\":\"#E5ECF6\",\"subunitcolor\":\"white\",\"showland\":true,\"showlakes\":true,\"lakecolor\":\"white\"},\"title\":{\"x\":0.05},\"mapbox\":{\"style\":\"light\"}}},\"title\":{\"text\":\"Train and Validation Loss\"},\"xaxis\":{\"title\":{\"text\":\"Epoch\"}},\"yaxis\":{\"title\":{\"text\":\"Loss\"}}},                        {\"responsive\": true}                    ).then(function(){\n",
       "                            \n",
       "var gd = document.getElementById('56a237b6-e1a8-4c73-b449-93eafb73f1be');\n",
       "var x = new MutationObserver(function (mutations, observer) {{\n",
       "        var display = window.getComputedStyle(gd).display;\n",
       "        if (!display || display === 'none') {{\n",
       "            console.log([gd, 'removed!']);\n",
       "            Plotly.purge(gd);\n",
       "            observer.disconnect();\n",
       "        }}\n",
       "}});\n",
       "\n",
       "// Listen for the removal of the full notebook cells\n",
       "var notebookContainer = gd.closest('#notebook-container');\n",
       "if (notebookContainer) {{\n",
       "    x.observe(notebookContainer, {childList: true});\n",
       "}}\n",
       "\n",
       "// Listen for the clearing of the current output cell\n",
       "var outputEl = gd.closest('.output');\n",
       "if (outputEl) {{\n",
       "    x.observe(outputEl, {childList: true});\n",
       "}}\n",
       "\n",
       "                        })                };                });            </script>        </div>"
      ]
     },
     "metadata": {},
     "output_type": "display_data"
    },
    {
     "data": {
      "application/vnd.plotly.v1+json": {
       "config": {
        "plotlyServerURL": "https://plot.ly"
       },
       "data": [
        {
         "mode": "lines",
         "name": "Validation R2",
         "type": "scatter",
         "x": [
          1,
          2,
          3,
          4,
          5,
          6,
          7,
          8,
          9,
          10,
          11,
          12,
          13,
          14,
          15,
          16,
          17,
          18,
          19,
          20,
          21,
          22,
          23,
          24,
          25,
          26,
          27,
          28,
          29,
          30,
          31,
          32,
          33,
          34,
          35,
          36,
          37,
          38,
          39,
          40,
          41,
          42,
          43,
          44,
          45,
          46,
          47,
          48,
          49,
          50,
          51,
          52,
          53,
          54,
          55,
          56,
          57,
          58,
          59,
          60,
          61,
          62,
          63,
          64,
          65,
          66,
          67,
          68,
          69,
          70,
          71,
          72,
          73,
          74,
          75,
          76,
          77,
          78,
          79,
          80,
          81,
          82,
          83,
          84,
          85,
          86,
          87,
          88,
          89,
          90,
          91,
          92,
          93,
          94,
          95,
          96,
          97,
          98,
          99,
          100
         ],
         "y": [
          -14.254299441544779,
          -1.2042524296988018,
          0.5608321003113124,
          0.5565415325962471,
          0.6851405914198038,
          0.7121733971749922,
          0.7879844464445471,
          0.8276166304971194,
          0.8614081295875589,
          0.8874538413721201,
          0.9087062528502707,
          0.9244774332126772,
          0.9351578822624813,
          0.9428381990544645,
          0.94812664203198,
          0.9520993663645108,
          0.9556323055313964,
          0.9585770305277297,
          0.9605306921202024,
          0.9621013535413689,
          0.963164113640552,
          0.9638566490304277,
          0.9637048632662708,
          0.963158237862903,
          0.9605957871302536,
          0.9520071234957068,
          0.9269269956605026,
          0.8726939654044341,
          0.7478093659881073,
          0.6259534023891964,
          0.6246034896107353,
          0.7381561028001264,
          0.8466480472888502,
          0.9064083655736132,
          0.9412306535882253,
          0.9424787252164022,
          0.9653154271177153,
          0.9718736459767601,
          0.9800878342521773,
          0.9778605653496731,
          0.9694758456054523,
          0.9476959881948925,
          0.939422315900133,
          0.9329509709992143,
          0.9642018250188595,
          0.9723766379707663,
          0.978356879803623,
          0.9866807326642183,
          0.9914102153883054,
          0.9916255809584062,
          0.9896179735495596,
          0.9839797350918895,
          0.9727825679228741,
          0.9580514204998919,
          0.9426887977774081,
          0.9158086991857862,
          0.8814962384413098,
          0.8202298820265346,
          0.7670131689136768,
          0.746361833037078,
          0.7942304064173553,
          0.8459333869071461,
          0.9052173336027478,
          0.9454465371642764,
          0.9546997838004475,
          0.9777156305418754,
          0.9824127841723137,
          0.9832238752703588,
          0.9724546372275936,
          0.944836626265499,
          0.8725039328211529,
          0.8925577654539181,
          0.8875291002986405,
          0.9469543317588367,
          0.9829069158122504,
          0.9935971987918586,
          0.9873793921262922,
          0.9744338454172439,
          0.952790437473773,
          0.9348264125920402,
          0.9223275035902502,
          0.9194467420375683,
          0.9160468121270359,
          0.9101352721304801,
          0.9091445318406981,
          0.9096594456488803,
          0.9097363172946227,
          0.912479003604906,
          0.9172886884629599,
          0.9229088126018273,
          0.930970578010221,
          0.9413917188249278,
          0.9526861072844833,
          0.9676089062551021,
          0.9474438720830013,
          0.9834483066022532,
          0.9593950453258429,
          0.9653735204724182,
          0.8982888544456367,
          0.8072960517221588
         ]
        }
       ],
       "layout": {
        "template": {
         "data": {
          "bar": [
           {
            "error_x": {
             "color": "#2a3f5f"
            },
            "error_y": {
             "color": "#2a3f5f"
            },
            "marker": {
             "line": {
              "color": "#E5ECF6",
              "width": 0.5
             },
             "pattern": {
              "fillmode": "overlay",
              "size": 10,
              "solidity": 0.2
             }
            },
            "type": "bar"
           }
          ],
          "barpolar": [
           {
            "marker": {
             "line": {
              "color": "#E5ECF6",
              "width": 0.5
             },
             "pattern": {
              "fillmode": "overlay",
              "size": 10,
              "solidity": 0.2
             }
            },
            "type": "barpolar"
           }
          ],
          "carpet": [
           {
            "aaxis": {
             "endlinecolor": "#2a3f5f",
             "gridcolor": "white",
             "linecolor": "white",
             "minorgridcolor": "white",
             "startlinecolor": "#2a3f5f"
            },
            "baxis": {
             "endlinecolor": "#2a3f5f",
             "gridcolor": "white",
             "linecolor": "white",
             "minorgridcolor": "white",
             "startlinecolor": "#2a3f5f"
            },
            "type": "carpet"
           }
          ],
          "choropleth": [
           {
            "colorbar": {
             "outlinewidth": 0,
             "ticks": ""
            },
            "type": "choropleth"
           }
          ],
          "contour": [
           {
            "colorbar": {
             "outlinewidth": 0,
             "ticks": ""
            },
            "colorscale": [
             [
              0,
              "#0d0887"
             ],
             [
              0.1111111111111111,
              "#46039f"
             ],
             [
              0.2222222222222222,
              "#7201a8"
             ],
             [
              0.3333333333333333,
              "#9c179e"
             ],
             [
              0.4444444444444444,
              "#bd3786"
             ],
             [
              0.5555555555555556,
              "#d8576b"
             ],
             [
              0.6666666666666666,
              "#ed7953"
             ],
             [
              0.7777777777777778,
              "#fb9f3a"
             ],
             [
              0.8888888888888888,
              "#fdca26"
             ],
             [
              1,
              "#f0f921"
             ]
            ],
            "type": "contour"
           }
          ],
          "contourcarpet": [
           {
            "colorbar": {
             "outlinewidth": 0,
             "ticks": ""
            },
            "type": "contourcarpet"
           }
          ],
          "heatmap": [
           {
            "colorbar": {
             "outlinewidth": 0,
             "ticks": ""
            },
            "colorscale": [
             [
              0,
              "#0d0887"
             ],
             [
              0.1111111111111111,
              "#46039f"
             ],
             [
              0.2222222222222222,
              "#7201a8"
             ],
             [
              0.3333333333333333,
              "#9c179e"
             ],
             [
              0.4444444444444444,
              "#bd3786"
             ],
             [
              0.5555555555555556,
              "#d8576b"
             ],
             [
              0.6666666666666666,
              "#ed7953"
             ],
             [
              0.7777777777777778,
              "#fb9f3a"
             ],
             [
              0.8888888888888888,
              "#fdca26"
             ],
             [
              1,
              "#f0f921"
             ]
            ],
            "type": "heatmap"
           }
          ],
          "heatmapgl": [
           {
            "colorbar": {
             "outlinewidth": 0,
             "ticks": ""
            },
            "colorscale": [
             [
              0,
              "#0d0887"
             ],
             [
              0.1111111111111111,
              "#46039f"
             ],
             [
              0.2222222222222222,
              "#7201a8"
             ],
             [
              0.3333333333333333,
              "#9c179e"
             ],
             [
              0.4444444444444444,
              "#bd3786"
             ],
             [
              0.5555555555555556,
              "#d8576b"
             ],
             [
              0.6666666666666666,
              "#ed7953"
             ],
             [
              0.7777777777777778,
              "#fb9f3a"
             ],
             [
              0.8888888888888888,
              "#fdca26"
             ],
             [
              1,
              "#f0f921"
             ]
            ],
            "type": "heatmapgl"
           }
          ],
          "histogram": [
           {
            "marker": {
             "pattern": {
              "fillmode": "overlay",
              "size": 10,
              "solidity": 0.2
             }
            },
            "type": "histogram"
           }
          ],
          "histogram2d": [
           {
            "colorbar": {
             "outlinewidth": 0,
             "ticks": ""
            },
            "colorscale": [
             [
              0,
              "#0d0887"
             ],
             [
              0.1111111111111111,
              "#46039f"
             ],
             [
              0.2222222222222222,
              "#7201a8"
             ],
             [
              0.3333333333333333,
              "#9c179e"
             ],
             [
              0.4444444444444444,
              "#bd3786"
             ],
             [
              0.5555555555555556,
              "#d8576b"
             ],
             [
              0.6666666666666666,
              "#ed7953"
             ],
             [
              0.7777777777777778,
              "#fb9f3a"
             ],
             [
              0.8888888888888888,
              "#fdca26"
             ],
             [
              1,
              "#f0f921"
             ]
            ],
            "type": "histogram2d"
           }
          ],
          "histogram2dcontour": [
           {
            "colorbar": {
             "outlinewidth": 0,
             "ticks": ""
            },
            "colorscale": [
             [
              0,
              "#0d0887"
             ],
             [
              0.1111111111111111,
              "#46039f"
             ],
             [
              0.2222222222222222,
              "#7201a8"
             ],
             [
              0.3333333333333333,
              "#9c179e"
             ],
             [
              0.4444444444444444,
              "#bd3786"
             ],
             [
              0.5555555555555556,
              "#d8576b"
             ],
             [
              0.6666666666666666,
              "#ed7953"
             ],
             [
              0.7777777777777778,
              "#fb9f3a"
             ],
             [
              0.8888888888888888,
              "#fdca26"
             ],
             [
              1,
              "#f0f921"
             ]
            ],
            "type": "histogram2dcontour"
           }
          ],
          "mesh3d": [
           {
            "colorbar": {
             "outlinewidth": 0,
             "ticks": ""
            },
            "type": "mesh3d"
           }
          ],
          "parcoords": [
           {
            "line": {
             "colorbar": {
              "outlinewidth": 0,
              "ticks": ""
             }
            },
            "type": "parcoords"
           }
          ],
          "pie": [
           {
            "automargin": true,
            "type": "pie"
           }
          ],
          "scatter": [
           {
            "fillpattern": {
             "fillmode": "overlay",
             "size": 10,
             "solidity": 0.2
            },
            "type": "scatter"
           }
          ],
          "scatter3d": [
           {
            "line": {
             "colorbar": {
              "outlinewidth": 0,
              "ticks": ""
             }
            },
            "marker": {
             "colorbar": {
              "outlinewidth": 0,
              "ticks": ""
             }
            },
            "type": "scatter3d"
           }
          ],
          "scattercarpet": [
           {
            "marker": {
             "colorbar": {
              "outlinewidth": 0,
              "ticks": ""
             }
            },
            "type": "scattercarpet"
           }
          ],
          "scattergeo": [
           {
            "marker": {
             "colorbar": {
              "outlinewidth": 0,
              "ticks": ""
             }
            },
            "type": "scattergeo"
           }
          ],
          "scattergl": [
           {
            "marker": {
             "colorbar": {
              "outlinewidth": 0,
              "ticks": ""
             }
            },
            "type": "scattergl"
           }
          ],
          "scattermapbox": [
           {
            "marker": {
             "colorbar": {
              "outlinewidth": 0,
              "ticks": ""
             }
            },
            "type": "scattermapbox"
           }
          ],
          "scatterpolar": [
           {
            "marker": {
             "colorbar": {
              "outlinewidth": 0,
              "ticks": ""
             }
            },
            "type": "scatterpolar"
           }
          ],
          "scatterpolargl": [
           {
            "marker": {
             "colorbar": {
              "outlinewidth": 0,
              "ticks": ""
             }
            },
            "type": "scatterpolargl"
           }
          ],
          "scatterternary": [
           {
            "marker": {
             "colorbar": {
              "outlinewidth": 0,
              "ticks": ""
             }
            },
            "type": "scatterternary"
           }
          ],
          "surface": [
           {
            "colorbar": {
             "outlinewidth": 0,
             "ticks": ""
            },
            "colorscale": [
             [
              0,
              "#0d0887"
             ],
             [
              0.1111111111111111,
              "#46039f"
             ],
             [
              0.2222222222222222,
              "#7201a8"
             ],
             [
              0.3333333333333333,
              "#9c179e"
             ],
             [
              0.4444444444444444,
              "#bd3786"
             ],
             [
              0.5555555555555556,
              "#d8576b"
             ],
             [
              0.6666666666666666,
              "#ed7953"
             ],
             [
              0.7777777777777778,
              "#fb9f3a"
             ],
             [
              0.8888888888888888,
              "#fdca26"
             ],
             [
              1,
              "#f0f921"
             ]
            ],
            "type": "surface"
           }
          ],
          "table": [
           {
            "cells": {
             "fill": {
              "color": "#EBF0F8"
             },
             "line": {
              "color": "white"
             }
            },
            "header": {
             "fill": {
              "color": "#C8D4E3"
             },
             "line": {
              "color": "white"
             }
            },
            "type": "table"
           }
          ]
         },
         "layout": {
          "annotationdefaults": {
           "arrowcolor": "#2a3f5f",
           "arrowhead": 0,
           "arrowwidth": 1
          },
          "autotypenumbers": "strict",
          "coloraxis": {
           "colorbar": {
            "outlinewidth": 0,
            "ticks": ""
           }
          },
          "colorscale": {
           "diverging": [
            [
             0,
             "#8e0152"
            ],
            [
             0.1,
             "#c51b7d"
            ],
            [
             0.2,
             "#de77ae"
            ],
            [
             0.3,
             "#f1b6da"
            ],
            [
             0.4,
             "#fde0ef"
            ],
            [
             0.5,
             "#f7f7f7"
            ],
            [
             0.6,
             "#e6f5d0"
            ],
            [
             0.7,
             "#b8e186"
            ],
            [
             0.8,
             "#7fbc41"
            ],
            [
             0.9,
             "#4d9221"
            ],
            [
             1,
             "#276419"
            ]
           ],
           "sequential": [
            [
             0,
             "#0d0887"
            ],
            [
             0.1111111111111111,
             "#46039f"
            ],
            [
             0.2222222222222222,
             "#7201a8"
            ],
            [
             0.3333333333333333,
             "#9c179e"
            ],
            [
             0.4444444444444444,
             "#bd3786"
            ],
            [
             0.5555555555555556,
             "#d8576b"
            ],
            [
             0.6666666666666666,
             "#ed7953"
            ],
            [
             0.7777777777777778,
             "#fb9f3a"
            ],
            [
             0.8888888888888888,
             "#fdca26"
            ],
            [
             1,
             "#f0f921"
            ]
           ],
           "sequentialminus": [
            [
             0,
             "#0d0887"
            ],
            [
             0.1111111111111111,
             "#46039f"
            ],
            [
             0.2222222222222222,
             "#7201a8"
            ],
            [
             0.3333333333333333,
             "#9c179e"
            ],
            [
             0.4444444444444444,
             "#bd3786"
            ],
            [
             0.5555555555555556,
             "#d8576b"
            ],
            [
             0.6666666666666666,
             "#ed7953"
            ],
            [
             0.7777777777777778,
             "#fb9f3a"
            ],
            [
             0.8888888888888888,
             "#fdca26"
            ],
            [
             1,
             "#f0f921"
            ]
           ]
          },
          "colorway": [
           "#636efa",
           "#EF553B",
           "#00cc96",
           "#ab63fa",
           "#FFA15A",
           "#19d3f3",
           "#FF6692",
           "#B6E880",
           "#FF97FF",
           "#FECB52"
          ],
          "font": {
           "color": "#2a3f5f"
          },
          "geo": {
           "bgcolor": "white",
           "lakecolor": "white",
           "landcolor": "#E5ECF6",
           "showlakes": true,
           "showland": true,
           "subunitcolor": "white"
          },
          "hoverlabel": {
           "align": "left"
          },
          "hovermode": "closest",
          "mapbox": {
           "style": "light"
          },
          "paper_bgcolor": "white",
          "plot_bgcolor": "#E5ECF6",
          "polar": {
           "angularaxis": {
            "gridcolor": "white",
            "linecolor": "white",
            "ticks": ""
           },
           "bgcolor": "#E5ECF6",
           "radialaxis": {
            "gridcolor": "white",
            "linecolor": "white",
            "ticks": ""
           }
          },
          "scene": {
           "xaxis": {
            "backgroundcolor": "#E5ECF6",
            "gridcolor": "white",
            "gridwidth": 2,
            "linecolor": "white",
            "showbackground": true,
            "ticks": "",
            "zerolinecolor": "white"
           },
           "yaxis": {
            "backgroundcolor": "#E5ECF6",
            "gridcolor": "white",
            "gridwidth": 2,
            "linecolor": "white",
            "showbackground": true,
            "ticks": "",
            "zerolinecolor": "white"
           },
           "zaxis": {
            "backgroundcolor": "#E5ECF6",
            "gridcolor": "white",
            "gridwidth": 2,
            "linecolor": "white",
            "showbackground": true,
            "ticks": "",
            "zerolinecolor": "white"
           }
          },
          "shapedefaults": {
           "line": {
            "color": "#2a3f5f"
           }
          },
          "ternary": {
           "aaxis": {
            "gridcolor": "white",
            "linecolor": "white",
            "ticks": ""
           },
           "baxis": {
            "gridcolor": "white",
            "linecolor": "white",
            "ticks": ""
           },
           "bgcolor": "#E5ECF6",
           "caxis": {
            "gridcolor": "white",
            "linecolor": "white",
            "ticks": ""
           }
          },
          "title": {
           "x": 0.05
          },
          "xaxis": {
           "automargin": true,
           "gridcolor": "white",
           "linecolor": "white",
           "ticks": "",
           "title": {
            "standoff": 15
           },
           "zerolinecolor": "white",
           "zerolinewidth": 2
          },
          "yaxis": {
           "automargin": true,
           "gridcolor": "white",
           "linecolor": "white",
           "ticks": "",
           "title": {
            "standoff": 15
           },
           "zerolinecolor": "white",
           "zerolinewidth": 2
          }
         }
        },
        "title": {
         "text": "Validation R2 Over Epochs"
        },
        "xaxis": {
         "title": {
          "text": "Epoch"
         }
        },
        "yaxis": {
         "title": {
          "text": "R2"
         }
        }
       }
      },
      "text/html": [
       "<div>                            <div id=\"647f9895-adb5-4b04-a6b6-8635d3cdc088\" class=\"plotly-graph-div\" style=\"height:525px; width:100%;\"></div>            <script type=\"text/javascript\">                require([\"plotly\"], function(Plotly) {                    window.PLOTLYENV=window.PLOTLYENV || {};                                    if (document.getElementById(\"647f9895-adb5-4b04-a6b6-8635d3cdc088\")) {                    Plotly.newPlot(                        \"647f9895-adb5-4b04-a6b6-8635d3cdc088\",                        [{\"mode\":\"lines\",\"name\":\"Validation R2\",\"x\":[1,2,3,4,5,6,7,8,9,10,11,12,13,14,15,16,17,18,19,20,21,22,23,24,25,26,27,28,29,30,31,32,33,34,35,36,37,38,39,40,41,42,43,44,45,46,47,48,49,50,51,52,53,54,55,56,57,58,59,60,61,62,63,64,65,66,67,68,69,70,71,72,73,74,75,76,77,78,79,80,81,82,83,84,85,86,87,88,89,90,91,92,93,94,95,96,97,98,99,100],\"y\":[-14.254299441544779,-1.2042524296988018,0.5608321003113124,0.5565415325962471,0.6851405914198038,0.7121733971749922,0.7879844464445471,0.8276166304971194,0.8614081295875589,0.8874538413721201,0.9087062528502707,0.9244774332126772,0.9351578822624813,0.9428381990544645,0.94812664203198,0.9520993663645108,0.9556323055313964,0.9585770305277297,0.9605306921202024,0.9621013535413689,0.963164113640552,0.9638566490304277,0.9637048632662708,0.963158237862903,0.9605957871302536,0.9520071234957068,0.9269269956605026,0.8726939654044341,0.7478093659881073,0.6259534023891964,0.6246034896107353,0.7381561028001264,0.8466480472888502,0.9064083655736132,0.9412306535882253,0.9424787252164022,0.9653154271177153,0.9718736459767601,0.9800878342521773,0.9778605653496731,0.9694758456054523,0.9476959881948925,0.939422315900133,0.9329509709992143,0.9642018250188595,0.9723766379707663,0.978356879803623,0.9866807326642183,0.9914102153883054,0.9916255809584062,0.9896179735495596,0.9839797350918895,0.9727825679228741,0.9580514204998919,0.9426887977774081,0.9158086991857862,0.8814962384413098,0.8202298820265346,0.7670131689136768,0.746361833037078,0.7942304064173553,0.8459333869071461,0.9052173336027478,0.9454465371642764,0.9546997838004475,0.9777156305418754,0.9824127841723137,0.9832238752703588,0.9724546372275936,0.944836626265499,0.8725039328211529,0.8925577654539181,0.8875291002986405,0.9469543317588367,0.9829069158122504,0.9935971987918586,0.9873793921262922,0.9744338454172439,0.952790437473773,0.9348264125920402,0.9223275035902502,0.9194467420375683,0.9160468121270359,0.9101352721304801,0.9091445318406981,0.9096594456488803,0.9097363172946227,0.912479003604906,0.9172886884629599,0.9229088126018273,0.930970578010221,0.9413917188249278,0.9526861072844833,0.9676089062551021,0.9474438720830013,0.9834483066022532,0.9593950453258429,0.9653735204724182,0.8982888544456367,0.8072960517221588],\"type\":\"scatter\"}],                        {\"template\":{\"data\":{\"histogram2dcontour\":[{\"type\":\"histogram2dcontour\",\"colorbar\":{\"outlinewidth\":0,\"ticks\":\"\"},\"colorscale\":[[0.0,\"#0d0887\"],[0.1111111111111111,\"#46039f\"],[0.2222222222222222,\"#7201a8\"],[0.3333333333333333,\"#9c179e\"],[0.4444444444444444,\"#bd3786\"],[0.5555555555555556,\"#d8576b\"],[0.6666666666666666,\"#ed7953\"],[0.7777777777777778,\"#fb9f3a\"],[0.8888888888888888,\"#fdca26\"],[1.0,\"#f0f921\"]]}],\"choropleth\":[{\"type\":\"choropleth\",\"colorbar\":{\"outlinewidth\":0,\"ticks\":\"\"}}],\"histogram2d\":[{\"type\":\"histogram2d\",\"colorbar\":{\"outlinewidth\":0,\"ticks\":\"\"},\"colorscale\":[[0.0,\"#0d0887\"],[0.1111111111111111,\"#46039f\"],[0.2222222222222222,\"#7201a8\"],[0.3333333333333333,\"#9c179e\"],[0.4444444444444444,\"#bd3786\"],[0.5555555555555556,\"#d8576b\"],[0.6666666666666666,\"#ed7953\"],[0.7777777777777778,\"#fb9f3a\"],[0.8888888888888888,\"#fdca26\"],[1.0,\"#f0f921\"]]}],\"heatmap\":[{\"type\":\"heatmap\",\"colorbar\":{\"outlinewidth\":0,\"ticks\":\"\"},\"colorscale\":[[0.0,\"#0d0887\"],[0.1111111111111111,\"#46039f\"],[0.2222222222222222,\"#7201a8\"],[0.3333333333333333,\"#9c179e\"],[0.4444444444444444,\"#bd3786\"],[0.5555555555555556,\"#d8576b\"],[0.6666666666666666,\"#ed7953\"],[0.7777777777777778,\"#fb9f3a\"],[0.8888888888888888,\"#fdca26\"],[1.0,\"#f0f921\"]]}],\"heatmapgl\":[{\"type\":\"heatmapgl\",\"colorbar\":{\"outlinewidth\":0,\"ticks\":\"\"},\"colorscale\":[[0.0,\"#0d0887\"],[0.1111111111111111,\"#46039f\"],[0.2222222222222222,\"#7201a8\"],[0.3333333333333333,\"#9c179e\"],[0.4444444444444444,\"#bd3786\"],[0.5555555555555556,\"#d8576b\"],[0.6666666666666666,\"#ed7953\"],[0.7777777777777778,\"#fb9f3a\"],[0.8888888888888888,\"#fdca26\"],[1.0,\"#f0f921\"]]}],\"contourcarpet\":[{\"type\":\"contourcarpet\",\"colorbar\":{\"outlinewidth\":0,\"ticks\":\"\"}}],\"contour\":[{\"type\":\"contour\",\"colorbar\":{\"outlinewidth\":0,\"ticks\":\"\"},\"colorscale\":[[0.0,\"#0d0887\"],[0.1111111111111111,\"#46039f\"],[0.2222222222222222,\"#7201a8\"],[0.3333333333333333,\"#9c179e\"],[0.4444444444444444,\"#bd3786\"],[0.5555555555555556,\"#d8576b\"],[0.6666666666666666,\"#ed7953\"],[0.7777777777777778,\"#fb9f3a\"],[0.8888888888888888,\"#fdca26\"],[1.0,\"#f0f921\"]]}],\"surface\":[{\"type\":\"surface\",\"colorbar\":{\"outlinewidth\":0,\"ticks\":\"\"},\"colorscale\":[[0.0,\"#0d0887\"],[0.1111111111111111,\"#46039f\"],[0.2222222222222222,\"#7201a8\"],[0.3333333333333333,\"#9c179e\"],[0.4444444444444444,\"#bd3786\"],[0.5555555555555556,\"#d8576b\"],[0.6666666666666666,\"#ed7953\"],[0.7777777777777778,\"#fb9f3a\"],[0.8888888888888888,\"#fdca26\"],[1.0,\"#f0f921\"]]}],\"mesh3d\":[{\"type\":\"mesh3d\",\"colorbar\":{\"outlinewidth\":0,\"ticks\":\"\"}}],\"scatter\":[{\"fillpattern\":{\"fillmode\":\"overlay\",\"size\":10,\"solidity\":0.2},\"type\":\"scatter\"}],\"parcoords\":[{\"type\":\"parcoords\",\"line\":{\"colorbar\":{\"outlinewidth\":0,\"ticks\":\"\"}}}],\"scatterpolargl\":[{\"type\":\"scatterpolargl\",\"marker\":{\"colorbar\":{\"outlinewidth\":0,\"ticks\":\"\"}}}],\"bar\":[{\"error_x\":{\"color\":\"#2a3f5f\"},\"error_y\":{\"color\":\"#2a3f5f\"},\"marker\":{\"line\":{\"color\":\"#E5ECF6\",\"width\":0.5},\"pattern\":{\"fillmode\":\"overlay\",\"size\":10,\"solidity\":0.2}},\"type\":\"bar\"}],\"scattergeo\":[{\"type\":\"scattergeo\",\"marker\":{\"colorbar\":{\"outlinewidth\":0,\"ticks\":\"\"}}}],\"scatterpolar\":[{\"type\":\"scatterpolar\",\"marker\":{\"colorbar\":{\"outlinewidth\":0,\"ticks\":\"\"}}}],\"histogram\":[{\"marker\":{\"pattern\":{\"fillmode\":\"overlay\",\"size\":10,\"solidity\":0.2}},\"type\":\"histogram\"}],\"scattergl\":[{\"type\":\"scattergl\",\"marker\":{\"colorbar\":{\"outlinewidth\":0,\"ticks\":\"\"}}}],\"scatter3d\":[{\"type\":\"scatter3d\",\"line\":{\"colorbar\":{\"outlinewidth\":0,\"ticks\":\"\"}},\"marker\":{\"colorbar\":{\"outlinewidth\":0,\"ticks\":\"\"}}}],\"scattermapbox\":[{\"type\":\"scattermapbox\",\"marker\":{\"colorbar\":{\"outlinewidth\":0,\"ticks\":\"\"}}}],\"scatterternary\":[{\"type\":\"scatterternary\",\"marker\":{\"colorbar\":{\"outlinewidth\":0,\"ticks\":\"\"}}}],\"scattercarpet\":[{\"type\":\"scattercarpet\",\"marker\":{\"colorbar\":{\"outlinewidth\":0,\"ticks\":\"\"}}}],\"carpet\":[{\"aaxis\":{\"endlinecolor\":\"#2a3f5f\",\"gridcolor\":\"white\",\"linecolor\":\"white\",\"minorgridcolor\":\"white\",\"startlinecolor\":\"#2a3f5f\"},\"baxis\":{\"endlinecolor\":\"#2a3f5f\",\"gridcolor\":\"white\",\"linecolor\":\"white\",\"minorgridcolor\":\"white\",\"startlinecolor\":\"#2a3f5f\"},\"type\":\"carpet\"}],\"table\":[{\"cells\":{\"fill\":{\"color\":\"#EBF0F8\"},\"line\":{\"color\":\"white\"}},\"header\":{\"fill\":{\"color\":\"#C8D4E3\"},\"line\":{\"color\":\"white\"}},\"type\":\"table\"}],\"barpolar\":[{\"marker\":{\"line\":{\"color\":\"#E5ECF6\",\"width\":0.5},\"pattern\":{\"fillmode\":\"overlay\",\"size\":10,\"solidity\":0.2}},\"type\":\"barpolar\"}],\"pie\":[{\"automargin\":true,\"type\":\"pie\"}]},\"layout\":{\"autotypenumbers\":\"strict\",\"colorway\":[\"#636efa\",\"#EF553B\",\"#00cc96\",\"#ab63fa\",\"#FFA15A\",\"#19d3f3\",\"#FF6692\",\"#B6E880\",\"#FF97FF\",\"#FECB52\"],\"font\":{\"color\":\"#2a3f5f\"},\"hovermode\":\"closest\",\"hoverlabel\":{\"align\":\"left\"},\"paper_bgcolor\":\"white\",\"plot_bgcolor\":\"#E5ECF6\",\"polar\":{\"bgcolor\":\"#E5ECF6\",\"angularaxis\":{\"gridcolor\":\"white\",\"linecolor\":\"white\",\"ticks\":\"\"},\"radialaxis\":{\"gridcolor\":\"white\",\"linecolor\":\"white\",\"ticks\":\"\"}},\"ternary\":{\"bgcolor\":\"#E5ECF6\",\"aaxis\":{\"gridcolor\":\"white\",\"linecolor\":\"white\",\"ticks\":\"\"},\"baxis\":{\"gridcolor\":\"white\",\"linecolor\":\"white\",\"ticks\":\"\"},\"caxis\":{\"gridcolor\":\"white\",\"linecolor\":\"white\",\"ticks\":\"\"}},\"coloraxis\":{\"colorbar\":{\"outlinewidth\":0,\"ticks\":\"\"}},\"colorscale\":{\"sequential\":[[0.0,\"#0d0887\"],[0.1111111111111111,\"#46039f\"],[0.2222222222222222,\"#7201a8\"],[0.3333333333333333,\"#9c179e\"],[0.4444444444444444,\"#bd3786\"],[0.5555555555555556,\"#d8576b\"],[0.6666666666666666,\"#ed7953\"],[0.7777777777777778,\"#fb9f3a\"],[0.8888888888888888,\"#fdca26\"],[1.0,\"#f0f921\"]],\"sequentialminus\":[[0.0,\"#0d0887\"],[0.1111111111111111,\"#46039f\"],[0.2222222222222222,\"#7201a8\"],[0.3333333333333333,\"#9c179e\"],[0.4444444444444444,\"#bd3786\"],[0.5555555555555556,\"#d8576b\"],[0.6666666666666666,\"#ed7953\"],[0.7777777777777778,\"#fb9f3a\"],[0.8888888888888888,\"#fdca26\"],[1.0,\"#f0f921\"]],\"diverging\":[[0,\"#8e0152\"],[0.1,\"#c51b7d\"],[0.2,\"#de77ae\"],[0.3,\"#f1b6da\"],[0.4,\"#fde0ef\"],[0.5,\"#f7f7f7\"],[0.6,\"#e6f5d0\"],[0.7,\"#b8e186\"],[0.8,\"#7fbc41\"],[0.9,\"#4d9221\"],[1,\"#276419\"]]},\"xaxis\":{\"gridcolor\":\"white\",\"linecolor\":\"white\",\"ticks\":\"\",\"title\":{\"standoff\":15},\"zerolinecolor\":\"white\",\"automargin\":true,\"zerolinewidth\":2},\"yaxis\":{\"gridcolor\":\"white\",\"linecolor\":\"white\",\"ticks\":\"\",\"title\":{\"standoff\":15},\"zerolinecolor\":\"white\",\"automargin\":true,\"zerolinewidth\":2},\"scene\":{\"xaxis\":{\"backgroundcolor\":\"#E5ECF6\",\"gridcolor\":\"white\",\"linecolor\":\"white\",\"showbackground\":true,\"ticks\":\"\",\"zerolinecolor\":\"white\",\"gridwidth\":2},\"yaxis\":{\"backgroundcolor\":\"#E5ECF6\",\"gridcolor\":\"white\",\"linecolor\":\"white\",\"showbackground\":true,\"ticks\":\"\",\"zerolinecolor\":\"white\",\"gridwidth\":2},\"zaxis\":{\"backgroundcolor\":\"#E5ECF6\",\"gridcolor\":\"white\",\"linecolor\":\"white\",\"showbackground\":true,\"ticks\":\"\",\"zerolinecolor\":\"white\",\"gridwidth\":2}},\"shapedefaults\":{\"line\":{\"color\":\"#2a3f5f\"}},\"annotationdefaults\":{\"arrowcolor\":\"#2a3f5f\",\"arrowhead\":0,\"arrowwidth\":1},\"geo\":{\"bgcolor\":\"white\",\"landcolor\":\"#E5ECF6\",\"subunitcolor\":\"white\",\"showland\":true,\"showlakes\":true,\"lakecolor\":\"white\"},\"title\":{\"x\":0.05},\"mapbox\":{\"style\":\"light\"}}},\"title\":{\"text\":\"Validation R2 Over Epochs\"},\"xaxis\":{\"title\":{\"text\":\"Epoch\"}},\"yaxis\":{\"title\":{\"text\":\"R2\"}}},                        {\"responsive\": true}                    ).then(function(){\n",
       "                            \n",
       "var gd = document.getElementById('647f9895-adb5-4b04-a6b6-8635d3cdc088');\n",
       "var x = new MutationObserver(function (mutations, observer) {{\n",
       "        var display = window.getComputedStyle(gd).display;\n",
       "        if (!display || display === 'none') {{\n",
       "            console.log([gd, 'removed!']);\n",
       "            Plotly.purge(gd);\n",
       "            observer.disconnect();\n",
       "        }}\n",
       "}});\n",
       "\n",
       "// Listen for the removal of the full notebook cells\n",
       "var notebookContainer = gd.closest('#notebook-container');\n",
       "if (notebookContainer) {{\n",
       "    x.observe(notebookContainer, {childList: true});\n",
       "}}\n",
       "\n",
       "// Listen for the clearing of the current output cell\n",
       "var outputEl = gd.closest('.output');\n",
       "if (outputEl) {{\n",
       "    x.observe(outputEl, {childList: true});\n",
       "}}\n",
       "\n",
       "                        })                };                });            </script>        </div>"
      ]
     },
     "metadata": {},
     "output_type": "display_data"
    },
    {
     "data": {
      "application/vnd.plotly.v1+json": {
       "config": {
        "plotlyServerURL": "https://plot.ly"
       },
       "data": [
        {
         "mode": "lines",
         "name": "Validation MAPE",
         "type": "scatter",
         "x": [
          1,
          2,
          3,
          4,
          5,
          6,
          7,
          8,
          9,
          10,
          11,
          12,
          13,
          14,
          15,
          16,
          17,
          18,
          19,
          20,
          21,
          22,
          23,
          24,
          25,
          26,
          27,
          28,
          29,
          30,
          31,
          32,
          33,
          34,
          35,
          36,
          37,
          38,
          39,
          40,
          41,
          42,
          43,
          44,
          45,
          46,
          47,
          48,
          49,
          50,
          51,
          52,
          53,
          54,
          55,
          56,
          57,
          58,
          59,
          60,
          61,
          62,
          63,
          64,
          65,
          66,
          67,
          68,
          69,
          70,
          71,
          72,
          73,
          74,
          75,
          76,
          77,
          78,
          79,
          80,
          81,
          82,
          83,
          84,
          85,
          86,
          87,
          88,
          89,
          90,
          91,
          92,
          93,
          94,
          95,
          96,
          97,
          98,
          99,
          100
         ],
         "y": [
          0.9203434586524963,
          0.3832721412181854,
          0.15757770836353302,
          0.15295009315013885,
          0.13170799612998962,
          0.12289154529571533,
          0.1060970351099968,
          0.09486287832260132,
          0.08442717790603638,
          0.07576344162225723,
          0.06822863966226578,
          0.062054723501205444,
          0.057343240827322006,
          0.053569287061691284,
          0.050595723092556,
          0.04809246584773064,
          0.04580911621451378,
          0.04376190900802612,
          0.042217567563056946,
          0.0408918671309948,
          0.03979475796222687,
          0.03886415436863899,
          0.03841046988964081,
          0.03837144002318382,
          0.03921470418572426,
          0.042273491621017456,
          0.05033627152442932,
          0.0649053081870079,
          0.09168615937232971,
          0.11477440595626831,
          0.11545930802822113,
          0.09569793939590454,
          0.0722854807972908,
          0.056740518659353256,
          0.04448167607188225,
          0.044354815036058426,
          0.03648395836353302,
          0.03550632670521736,
          0.03164615109562874,
          0.03285650536417961,
          0.03853532299399376,
          0.053147271275520325,
          0.0576167106628418,
          0.06212978810071945,
          0.04338029399514198,
          0.038064684718847275,
          0.033744052052497864,
          0.025759713724255562,
          0.02013752982020378,
          0.019323427230119705,
          0.02148555777966976,
          0.026738621294498444,
          0.03437351435422897,
          0.042266540229320526,
          0.04889807105064392,
          0.05845678225159645,
          0.06896978616714478,
          0.08633475005626678,
          0.09872695803642273,
          0.10309003293514252,
          0.09295351058244705,
          0.07914013415575027,
          0.06008481979370117,
          0.042639147490262985,
          0.03985016793012619,
          0.032362278550863266,
          0.031183917075395584,
          0.03040909767150879,
          0.0374763198196888,
          0.0556357316672802,
          0.08651158213615417,
          0.07792062312364578,
          0.08102878928184509,
          0.05569718778133392,
          0.030147148296236992,
          0.017419718205928802,
          0.023590993136167526,
          0.03377082943916321,
          0.04575836658477783,
          0.05442831665277481,
          0.05916985496878624,
          0.06009037047624588,
          0.06064876541495323,
          0.0626424103975296,
          0.06232716143131256,
          0.061908211559057236,
          0.06153029203414917,
          0.06023551896214485,
          0.05817349627614021,
          0.05562440678477287,
          0.051901090890169144,
          0.046454355120658875,
          0.03960484638810158,
          0.03560049459338188,
          0.04567043110728264,
          0.029502475634217262,
          0.04694453626871109,
          0.041286587715148926,
          0.07635436952114105,
          0.10543662309646606
         ]
        }
       ],
       "layout": {
        "template": {
         "data": {
          "bar": [
           {
            "error_x": {
             "color": "#2a3f5f"
            },
            "error_y": {
             "color": "#2a3f5f"
            },
            "marker": {
             "line": {
              "color": "#E5ECF6",
              "width": 0.5
             },
             "pattern": {
              "fillmode": "overlay",
              "size": 10,
              "solidity": 0.2
             }
            },
            "type": "bar"
           }
          ],
          "barpolar": [
           {
            "marker": {
             "line": {
              "color": "#E5ECF6",
              "width": 0.5
             },
             "pattern": {
              "fillmode": "overlay",
              "size": 10,
              "solidity": 0.2
             }
            },
            "type": "barpolar"
           }
          ],
          "carpet": [
           {
            "aaxis": {
             "endlinecolor": "#2a3f5f",
             "gridcolor": "white",
             "linecolor": "white",
             "minorgridcolor": "white",
             "startlinecolor": "#2a3f5f"
            },
            "baxis": {
             "endlinecolor": "#2a3f5f",
             "gridcolor": "white",
             "linecolor": "white",
             "minorgridcolor": "white",
             "startlinecolor": "#2a3f5f"
            },
            "type": "carpet"
           }
          ],
          "choropleth": [
           {
            "colorbar": {
             "outlinewidth": 0,
             "ticks": ""
            },
            "type": "choropleth"
           }
          ],
          "contour": [
           {
            "colorbar": {
             "outlinewidth": 0,
             "ticks": ""
            },
            "colorscale": [
             [
              0,
              "#0d0887"
             ],
             [
              0.1111111111111111,
              "#46039f"
             ],
             [
              0.2222222222222222,
              "#7201a8"
             ],
             [
              0.3333333333333333,
              "#9c179e"
             ],
             [
              0.4444444444444444,
              "#bd3786"
             ],
             [
              0.5555555555555556,
              "#d8576b"
             ],
             [
              0.6666666666666666,
              "#ed7953"
             ],
             [
              0.7777777777777778,
              "#fb9f3a"
             ],
             [
              0.8888888888888888,
              "#fdca26"
             ],
             [
              1,
              "#f0f921"
             ]
            ],
            "type": "contour"
           }
          ],
          "contourcarpet": [
           {
            "colorbar": {
             "outlinewidth": 0,
             "ticks": ""
            },
            "type": "contourcarpet"
           }
          ],
          "heatmap": [
           {
            "colorbar": {
             "outlinewidth": 0,
             "ticks": ""
            },
            "colorscale": [
             [
              0,
              "#0d0887"
             ],
             [
              0.1111111111111111,
              "#46039f"
             ],
             [
              0.2222222222222222,
              "#7201a8"
             ],
             [
              0.3333333333333333,
              "#9c179e"
             ],
             [
              0.4444444444444444,
              "#bd3786"
             ],
             [
              0.5555555555555556,
              "#d8576b"
             ],
             [
              0.6666666666666666,
              "#ed7953"
             ],
             [
              0.7777777777777778,
              "#fb9f3a"
             ],
             [
              0.8888888888888888,
              "#fdca26"
             ],
             [
              1,
              "#f0f921"
             ]
            ],
            "type": "heatmap"
           }
          ],
          "heatmapgl": [
           {
            "colorbar": {
             "outlinewidth": 0,
             "ticks": ""
            },
            "colorscale": [
             [
              0,
              "#0d0887"
             ],
             [
              0.1111111111111111,
              "#46039f"
             ],
             [
              0.2222222222222222,
              "#7201a8"
             ],
             [
              0.3333333333333333,
              "#9c179e"
             ],
             [
              0.4444444444444444,
              "#bd3786"
             ],
             [
              0.5555555555555556,
              "#d8576b"
             ],
             [
              0.6666666666666666,
              "#ed7953"
             ],
             [
              0.7777777777777778,
              "#fb9f3a"
             ],
             [
              0.8888888888888888,
              "#fdca26"
             ],
             [
              1,
              "#f0f921"
             ]
            ],
            "type": "heatmapgl"
           }
          ],
          "histogram": [
           {
            "marker": {
             "pattern": {
              "fillmode": "overlay",
              "size": 10,
              "solidity": 0.2
             }
            },
            "type": "histogram"
           }
          ],
          "histogram2d": [
           {
            "colorbar": {
             "outlinewidth": 0,
             "ticks": ""
            },
            "colorscale": [
             [
              0,
              "#0d0887"
             ],
             [
              0.1111111111111111,
              "#46039f"
             ],
             [
              0.2222222222222222,
              "#7201a8"
             ],
             [
              0.3333333333333333,
              "#9c179e"
             ],
             [
              0.4444444444444444,
              "#bd3786"
             ],
             [
              0.5555555555555556,
              "#d8576b"
             ],
             [
              0.6666666666666666,
              "#ed7953"
             ],
             [
              0.7777777777777778,
              "#fb9f3a"
             ],
             [
              0.8888888888888888,
              "#fdca26"
             ],
             [
              1,
              "#f0f921"
             ]
            ],
            "type": "histogram2d"
           }
          ],
          "histogram2dcontour": [
           {
            "colorbar": {
             "outlinewidth": 0,
             "ticks": ""
            },
            "colorscale": [
             [
              0,
              "#0d0887"
             ],
             [
              0.1111111111111111,
              "#46039f"
             ],
             [
              0.2222222222222222,
              "#7201a8"
             ],
             [
              0.3333333333333333,
              "#9c179e"
             ],
             [
              0.4444444444444444,
              "#bd3786"
             ],
             [
              0.5555555555555556,
              "#d8576b"
             ],
             [
              0.6666666666666666,
              "#ed7953"
             ],
             [
              0.7777777777777778,
              "#fb9f3a"
             ],
             [
              0.8888888888888888,
              "#fdca26"
             ],
             [
              1,
              "#f0f921"
             ]
            ],
            "type": "histogram2dcontour"
           }
          ],
          "mesh3d": [
           {
            "colorbar": {
             "outlinewidth": 0,
             "ticks": ""
            },
            "type": "mesh3d"
           }
          ],
          "parcoords": [
           {
            "line": {
             "colorbar": {
              "outlinewidth": 0,
              "ticks": ""
             }
            },
            "type": "parcoords"
           }
          ],
          "pie": [
           {
            "automargin": true,
            "type": "pie"
           }
          ],
          "scatter": [
           {
            "fillpattern": {
             "fillmode": "overlay",
             "size": 10,
             "solidity": 0.2
            },
            "type": "scatter"
           }
          ],
          "scatter3d": [
           {
            "line": {
             "colorbar": {
              "outlinewidth": 0,
              "ticks": ""
             }
            },
            "marker": {
             "colorbar": {
              "outlinewidth": 0,
              "ticks": ""
             }
            },
            "type": "scatter3d"
           }
          ],
          "scattercarpet": [
           {
            "marker": {
             "colorbar": {
              "outlinewidth": 0,
              "ticks": ""
             }
            },
            "type": "scattercarpet"
           }
          ],
          "scattergeo": [
           {
            "marker": {
             "colorbar": {
              "outlinewidth": 0,
              "ticks": ""
             }
            },
            "type": "scattergeo"
           }
          ],
          "scattergl": [
           {
            "marker": {
             "colorbar": {
              "outlinewidth": 0,
              "ticks": ""
             }
            },
            "type": "scattergl"
           }
          ],
          "scattermapbox": [
           {
            "marker": {
             "colorbar": {
              "outlinewidth": 0,
              "ticks": ""
             }
            },
            "type": "scattermapbox"
           }
          ],
          "scatterpolar": [
           {
            "marker": {
             "colorbar": {
              "outlinewidth": 0,
              "ticks": ""
             }
            },
            "type": "scatterpolar"
           }
          ],
          "scatterpolargl": [
           {
            "marker": {
             "colorbar": {
              "outlinewidth": 0,
              "ticks": ""
             }
            },
            "type": "scatterpolargl"
           }
          ],
          "scatterternary": [
           {
            "marker": {
             "colorbar": {
              "outlinewidth": 0,
              "ticks": ""
             }
            },
            "type": "scatterternary"
           }
          ],
          "surface": [
           {
            "colorbar": {
             "outlinewidth": 0,
             "ticks": ""
            },
            "colorscale": [
             [
              0,
              "#0d0887"
             ],
             [
              0.1111111111111111,
              "#46039f"
             ],
             [
              0.2222222222222222,
              "#7201a8"
             ],
             [
              0.3333333333333333,
              "#9c179e"
             ],
             [
              0.4444444444444444,
              "#bd3786"
             ],
             [
              0.5555555555555556,
              "#d8576b"
             ],
             [
              0.6666666666666666,
              "#ed7953"
             ],
             [
              0.7777777777777778,
              "#fb9f3a"
             ],
             [
              0.8888888888888888,
              "#fdca26"
             ],
             [
              1,
              "#f0f921"
             ]
            ],
            "type": "surface"
           }
          ],
          "table": [
           {
            "cells": {
             "fill": {
              "color": "#EBF0F8"
             },
             "line": {
              "color": "white"
             }
            },
            "header": {
             "fill": {
              "color": "#C8D4E3"
             },
             "line": {
              "color": "white"
             }
            },
            "type": "table"
           }
          ]
         },
         "layout": {
          "annotationdefaults": {
           "arrowcolor": "#2a3f5f",
           "arrowhead": 0,
           "arrowwidth": 1
          },
          "autotypenumbers": "strict",
          "coloraxis": {
           "colorbar": {
            "outlinewidth": 0,
            "ticks": ""
           }
          },
          "colorscale": {
           "diverging": [
            [
             0,
             "#8e0152"
            ],
            [
             0.1,
             "#c51b7d"
            ],
            [
             0.2,
             "#de77ae"
            ],
            [
             0.3,
             "#f1b6da"
            ],
            [
             0.4,
             "#fde0ef"
            ],
            [
             0.5,
             "#f7f7f7"
            ],
            [
             0.6,
             "#e6f5d0"
            ],
            [
             0.7,
             "#b8e186"
            ],
            [
             0.8,
             "#7fbc41"
            ],
            [
             0.9,
             "#4d9221"
            ],
            [
             1,
             "#276419"
            ]
           ],
           "sequential": [
            [
             0,
             "#0d0887"
            ],
            [
             0.1111111111111111,
             "#46039f"
            ],
            [
             0.2222222222222222,
             "#7201a8"
            ],
            [
             0.3333333333333333,
             "#9c179e"
            ],
            [
             0.4444444444444444,
             "#bd3786"
            ],
            [
             0.5555555555555556,
             "#d8576b"
            ],
            [
             0.6666666666666666,
             "#ed7953"
            ],
            [
             0.7777777777777778,
             "#fb9f3a"
            ],
            [
             0.8888888888888888,
             "#fdca26"
            ],
            [
             1,
             "#f0f921"
            ]
           ],
           "sequentialminus": [
            [
             0,
             "#0d0887"
            ],
            [
             0.1111111111111111,
             "#46039f"
            ],
            [
             0.2222222222222222,
             "#7201a8"
            ],
            [
             0.3333333333333333,
             "#9c179e"
            ],
            [
             0.4444444444444444,
             "#bd3786"
            ],
            [
             0.5555555555555556,
             "#d8576b"
            ],
            [
             0.6666666666666666,
             "#ed7953"
            ],
            [
             0.7777777777777778,
             "#fb9f3a"
            ],
            [
             0.8888888888888888,
             "#fdca26"
            ],
            [
             1,
             "#f0f921"
            ]
           ]
          },
          "colorway": [
           "#636efa",
           "#EF553B",
           "#00cc96",
           "#ab63fa",
           "#FFA15A",
           "#19d3f3",
           "#FF6692",
           "#B6E880",
           "#FF97FF",
           "#FECB52"
          ],
          "font": {
           "color": "#2a3f5f"
          },
          "geo": {
           "bgcolor": "white",
           "lakecolor": "white",
           "landcolor": "#E5ECF6",
           "showlakes": true,
           "showland": true,
           "subunitcolor": "white"
          },
          "hoverlabel": {
           "align": "left"
          },
          "hovermode": "closest",
          "mapbox": {
           "style": "light"
          },
          "paper_bgcolor": "white",
          "plot_bgcolor": "#E5ECF6",
          "polar": {
           "angularaxis": {
            "gridcolor": "white",
            "linecolor": "white",
            "ticks": ""
           },
           "bgcolor": "#E5ECF6",
           "radialaxis": {
            "gridcolor": "white",
            "linecolor": "white",
            "ticks": ""
           }
          },
          "scene": {
           "xaxis": {
            "backgroundcolor": "#E5ECF6",
            "gridcolor": "white",
            "gridwidth": 2,
            "linecolor": "white",
            "showbackground": true,
            "ticks": "",
            "zerolinecolor": "white"
           },
           "yaxis": {
            "backgroundcolor": "#E5ECF6",
            "gridcolor": "white",
            "gridwidth": 2,
            "linecolor": "white",
            "showbackground": true,
            "ticks": "",
            "zerolinecolor": "white"
           },
           "zaxis": {
            "backgroundcolor": "#E5ECF6",
            "gridcolor": "white",
            "gridwidth": 2,
            "linecolor": "white",
            "showbackground": true,
            "ticks": "",
            "zerolinecolor": "white"
           }
          },
          "shapedefaults": {
           "line": {
            "color": "#2a3f5f"
           }
          },
          "ternary": {
           "aaxis": {
            "gridcolor": "white",
            "linecolor": "white",
            "ticks": ""
           },
           "baxis": {
            "gridcolor": "white",
            "linecolor": "white",
            "ticks": ""
           },
           "bgcolor": "#E5ECF6",
           "caxis": {
            "gridcolor": "white",
            "linecolor": "white",
            "ticks": ""
           }
          },
          "title": {
           "x": 0.05
          },
          "xaxis": {
           "automargin": true,
           "gridcolor": "white",
           "linecolor": "white",
           "ticks": "",
           "title": {
            "standoff": 15
           },
           "zerolinecolor": "white",
           "zerolinewidth": 2
          },
          "yaxis": {
           "automargin": true,
           "gridcolor": "white",
           "linecolor": "white",
           "ticks": "",
           "title": {
            "standoff": 15
           },
           "zerolinecolor": "white",
           "zerolinewidth": 2
          }
         }
        },
        "title": {
         "text": "Validation MAPE Over Epochs"
        },
        "xaxis": {
         "title": {
          "text": "Epoch"
         }
        },
        "yaxis": {
         "title": {
          "text": "MAPE"
         }
        }
       }
      },
      "text/html": [
       "<div>                            <div id=\"3d7b2e54-d3db-4265-af49-976c435714db\" class=\"plotly-graph-div\" style=\"height:525px; width:100%;\"></div>            <script type=\"text/javascript\">                require([\"plotly\"], function(Plotly) {                    window.PLOTLYENV=window.PLOTLYENV || {};                                    if (document.getElementById(\"3d7b2e54-d3db-4265-af49-976c435714db\")) {                    Plotly.newPlot(                        \"3d7b2e54-d3db-4265-af49-976c435714db\",                        [{\"mode\":\"lines\",\"name\":\"Validation MAPE\",\"x\":[1,2,3,4,5,6,7,8,9,10,11,12,13,14,15,16,17,18,19,20,21,22,23,24,25,26,27,28,29,30,31,32,33,34,35,36,37,38,39,40,41,42,43,44,45,46,47,48,49,50,51,52,53,54,55,56,57,58,59,60,61,62,63,64,65,66,67,68,69,70,71,72,73,74,75,76,77,78,79,80,81,82,83,84,85,86,87,88,89,90,91,92,93,94,95,96,97,98,99,100],\"y\":[0.9203434586524963,0.3832721412181854,0.15757770836353302,0.15295009315013885,0.13170799612998962,0.12289154529571533,0.1060970351099968,0.09486287832260132,0.08442717790603638,0.07576344162225723,0.06822863966226578,0.062054723501205444,0.057343240827322006,0.053569287061691284,0.050595723092556,0.04809246584773064,0.04580911621451378,0.04376190900802612,0.042217567563056946,0.0408918671309948,0.03979475796222687,0.03886415436863899,0.03841046988964081,0.03837144002318382,0.03921470418572426,0.042273491621017456,0.05033627152442932,0.0649053081870079,0.09168615937232971,0.11477440595626831,0.11545930802822113,0.09569793939590454,0.0722854807972908,0.056740518659353256,0.04448167607188225,0.044354815036058426,0.03648395836353302,0.03550632670521736,0.03164615109562874,0.03285650536417961,0.03853532299399376,0.053147271275520325,0.0576167106628418,0.06212978810071945,0.04338029399514198,0.038064684718847275,0.033744052052497864,0.025759713724255562,0.02013752982020378,0.019323427230119705,0.02148555777966976,0.026738621294498444,0.03437351435422897,0.042266540229320526,0.04889807105064392,0.05845678225159645,0.06896978616714478,0.08633475005626678,0.09872695803642273,0.10309003293514252,0.09295351058244705,0.07914013415575027,0.06008481979370117,0.042639147490262985,0.03985016793012619,0.032362278550863266,0.031183917075395584,0.03040909767150879,0.0374763198196888,0.0556357316672802,0.08651158213615417,0.07792062312364578,0.08102878928184509,0.05569718778133392,0.030147148296236992,0.017419718205928802,0.023590993136167526,0.03377082943916321,0.04575836658477783,0.05442831665277481,0.05916985496878624,0.06009037047624588,0.06064876541495323,0.0626424103975296,0.06232716143131256,0.061908211559057236,0.06153029203414917,0.06023551896214485,0.05817349627614021,0.05562440678477287,0.051901090890169144,0.046454355120658875,0.03960484638810158,0.03560049459338188,0.04567043110728264,0.029502475634217262,0.04694453626871109,0.041286587715148926,0.07635436952114105,0.10543662309646606],\"type\":\"scatter\"}],                        {\"template\":{\"data\":{\"histogram2dcontour\":[{\"type\":\"histogram2dcontour\",\"colorbar\":{\"outlinewidth\":0,\"ticks\":\"\"},\"colorscale\":[[0.0,\"#0d0887\"],[0.1111111111111111,\"#46039f\"],[0.2222222222222222,\"#7201a8\"],[0.3333333333333333,\"#9c179e\"],[0.4444444444444444,\"#bd3786\"],[0.5555555555555556,\"#d8576b\"],[0.6666666666666666,\"#ed7953\"],[0.7777777777777778,\"#fb9f3a\"],[0.8888888888888888,\"#fdca26\"],[1.0,\"#f0f921\"]]}],\"choropleth\":[{\"type\":\"choropleth\",\"colorbar\":{\"outlinewidth\":0,\"ticks\":\"\"}}],\"histogram2d\":[{\"type\":\"histogram2d\",\"colorbar\":{\"outlinewidth\":0,\"ticks\":\"\"},\"colorscale\":[[0.0,\"#0d0887\"],[0.1111111111111111,\"#46039f\"],[0.2222222222222222,\"#7201a8\"],[0.3333333333333333,\"#9c179e\"],[0.4444444444444444,\"#bd3786\"],[0.5555555555555556,\"#d8576b\"],[0.6666666666666666,\"#ed7953\"],[0.7777777777777778,\"#fb9f3a\"],[0.8888888888888888,\"#fdca26\"],[1.0,\"#f0f921\"]]}],\"heatmap\":[{\"type\":\"heatmap\",\"colorbar\":{\"outlinewidth\":0,\"ticks\":\"\"},\"colorscale\":[[0.0,\"#0d0887\"],[0.1111111111111111,\"#46039f\"],[0.2222222222222222,\"#7201a8\"],[0.3333333333333333,\"#9c179e\"],[0.4444444444444444,\"#bd3786\"],[0.5555555555555556,\"#d8576b\"],[0.6666666666666666,\"#ed7953\"],[0.7777777777777778,\"#fb9f3a\"],[0.8888888888888888,\"#fdca26\"],[1.0,\"#f0f921\"]]}],\"heatmapgl\":[{\"type\":\"heatmapgl\",\"colorbar\":{\"outlinewidth\":0,\"ticks\":\"\"},\"colorscale\":[[0.0,\"#0d0887\"],[0.1111111111111111,\"#46039f\"],[0.2222222222222222,\"#7201a8\"],[0.3333333333333333,\"#9c179e\"],[0.4444444444444444,\"#bd3786\"],[0.5555555555555556,\"#d8576b\"],[0.6666666666666666,\"#ed7953\"],[0.7777777777777778,\"#fb9f3a\"],[0.8888888888888888,\"#fdca26\"],[1.0,\"#f0f921\"]]}],\"contourcarpet\":[{\"type\":\"contourcarpet\",\"colorbar\":{\"outlinewidth\":0,\"ticks\":\"\"}}],\"contour\":[{\"type\":\"contour\",\"colorbar\":{\"outlinewidth\":0,\"ticks\":\"\"},\"colorscale\":[[0.0,\"#0d0887\"],[0.1111111111111111,\"#46039f\"],[0.2222222222222222,\"#7201a8\"],[0.3333333333333333,\"#9c179e\"],[0.4444444444444444,\"#bd3786\"],[0.5555555555555556,\"#d8576b\"],[0.6666666666666666,\"#ed7953\"],[0.7777777777777778,\"#fb9f3a\"],[0.8888888888888888,\"#fdca26\"],[1.0,\"#f0f921\"]]}],\"surface\":[{\"type\":\"surface\",\"colorbar\":{\"outlinewidth\":0,\"ticks\":\"\"},\"colorscale\":[[0.0,\"#0d0887\"],[0.1111111111111111,\"#46039f\"],[0.2222222222222222,\"#7201a8\"],[0.3333333333333333,\"#9c179e\"],[0.4444444444444444,\"#bd3786\"],[0.5555555555555556,\"#d8576b\"],[0.6666666666666666,\"#ed7953\"],[0.7777777777777778,\"#fb9f3a\"],[0.8888888888888888,\"#fdca26\"],[1.0,\"#f0f921\"]]}],\"mesh3d\":[{\"type\":\"mesh3d\",\"colorbar\":{\"outlinewidth\":0,\"ticks\":\"\"}}],\"scatter\":[{\"fillpattern\":{\"fillmode\":\"overlay\",\"size\":10,\"solidity\":0.2},\"type\":\"scatter\"}],\"parcoords\":[{\"type\":\"parcoords\",\"line\":{\"colorbar\":{\"outlinewidth\":0,\"ticks\":\"\"}}}],\"scatterpolargl\":[{\"type\":\"scatterpolargl\",\"marker\":{\"colorbar\":{\"outlinewidth\":0,\"ticks\":\"\"}}}],\"bar\":[{\"error_x\":{\"color\":\"#2a3f5f\"},\"error_y\":{\"color\":\"#2a3f5f\"},\"marker\":{\"line\":{\"color\":\"#E5ECF6\",\"width\":0.5},\"pattern\":{\"fillmode\":\"overlay\",\"size\":10,\"solidity\":0.2}},\"type\":\"bar\"}],\"scattergeo\":[{\"type\":\"scattergeo\",\"marker\":{\"colorbar\":{\"outlinewidth\":0,\"ticks\":\"\"}}}],\"scatterpolar\":[{\"type\":\"scatterpolar\",\"marker\":{\"colorbar\":{\"outlinewidth\":0,\"ticks\":\"\"}}}],\"histogram\":[{\"marker\":{\"pattern\":{\"fillmode\":\"overlay\",\"size\":10,\"solidity\":0.2}},\"type\":\"histogram\"}],\"scattergl\":[{\"type\":\"scattergl\",\"marker\":{\"colorbar\":{\"outlinewidth\":0,\"ticks\":\"\"}}}],\"scatter3d\":[{\"type\":\"scatter3d\",\"line\":{\"colorbar\":{\"outlinewidth\":0,\"ticks\":\"\"}},\"marker\":{\"colorbar\":{\"outlinewidth\":0,\"ticks\":\"\"}}}],\"scattermapbox\":[{\"type\":\"scattermapbox\",\"marker\":{\"colorbar\":{\"outlinewidth\":0,\"ticks\":\"\"}}}],\"scatterternary\":[{\"type\":\"scatterternary\",\"marker\":{\"colorbar\":{\"outlinewidth\":0,\"ticks\":\"\"}}}],\"scattercarpet\":[{\"type\":\"scattercarpet\",\"marker\":{\"colorbar\":{\"outlinewidth\":0,\"ticks\":\"\"}}}],\"carpet\":[{\"aaxis\":{\"endlinecolor\":\"#2a3f5f\",\"gridcolor\":\"white\",\"linecolor\":\"white\",\"minorgridcolor\":\"white\",\"startlinecolor\":\"#2a3f5f\"},\"baxis\":{\"endlinecolor\":\"#2a3f5f\",\"gridcolor\":\"white\",\"linecolor\":\"white\",\"minorgridcolor\":\"white\",\"startlinecolor\":\"#2a3f5f\"},\"type\":\"carpet\"}],\"table\":[{\"cells\":{\"fill\":{\"color\":\"#EBF0F8\"},\"line\":{\"color\":\"white\"}},\"header\":{\"fill\":{\"color\":\"#C8D4E3\"},\"line\":{\"color\":\"white\"}},\"type\":\"table\"}],\"barpolar\":[{\"marker\":{\"line\":{\"color\":\"#E5ECF6\",\"width\":0.5},\"pattern\":{\"fillmode\":\"overlay\",\"size\":10,\"solidity\":0.2}},\"type\":\"barpolar\"}],\"pie\":[{\"automargin\":true,\"type\":\"pie\"}]},\"layout\":{\"autotypenumbers\":\"strict\",\"colorway\":[\"#636efa\",\"#EF553B\",\"#00cc96\",\"#ab63fa\",\"#FFA15A\",\"#19d3f3\",\"#FF6692\",\"#B6E880\",\"#FF97FF\",\"#FECB52\"],\"font\":{\"color\":\"#2a3f5f\"},\"hovermode\":\"closest\",\"hoverlabel\":{\"align\":\"left\"},\"paper_bgcolor\":\"white\",\"plot_bgcolor\":\"#E5ECF6\",\"polar\":{\"bgcolor\":\"#E5ECF6\",\"angularaxis\":{\"gridcolor\":\"white\",\"linecolor\":\"white\",\"ticks\":\"\"},\"radialaxis\":{\"gridcolor\":\"white\",\"linecolor\":\"white\",\"ticks\":\"\"}},\"ternary\":{\"bgcolor\":\"#E5ECF6\",\"aaxis\":{\"gridcolor\":\"white\",\"linecolor\":\"white\",\"ticks\":\"\"},\"baxis\":{\"gridcolor\":\"white\",\"linecolor\":\"white\",\"ticks\":\"\"},\"caxis\":{\"gridcolor\":\"white\",\"linecolor\":\"white\",\"ticks\":\"\"}},\"coloraxis\":{\"colorbar\":{\"outlinewidth\":0,\"ticks\":\"\"}},\"colorscale\":{\"sequential\":[[0.0,\"#0d0887\"],[0.1111111111111111,\"#46039f\"],[0.2222222222222222,\"#7201a8\"],[0.3333333333333333,\"#9c179e\"],[0.4444444444444444,\"#bd3786\"],[0.5555555555555556,\"#d8576b\"],[0.6666666666666666,\"#ed7953\"],[0.7777777777777778,\"#fb9f3a\"],[0.8888888888888888,\"#fdca26\"],[1.0,\"#f0f921\"]],\"sequentialminus\":[[0.0,\"#0d0887\"],[0.1111111111111111,\"#46039f\"],[0.2222222222222222,\"#7201a8\"],[0.3333333333333333,\"#9c179e\"],[0.4444444444444444,\"#bd3786\"],[0.5555555555555556,\"#d8576b\"],[0.6666666666666666,\"#ed7953\"],[0.7777777777777778,\"#fb9f3a\"],[0.8888888888888888,\"#fdca26\"],[1.0,\"#f0f921\"]],\"diverging\":[[0,\"#8e0152\"],[0.1,\"#c51b7d\"],[0.2,\"#de77ae\"],[0.3,\"#f1b6da\"],[0.4,\"#fde0ef\"],[0.5,\"#f7f7f7\"],[0.6,\"#e6f5d0\"],[0.7,\"#b8e186\"],[0.8,\"#7fbc41\"],[0.9,\"#4d9221\"],[1,\"#276419\"]]},\"xaxis\":{\"gridcolor\":\"white\",\"linecolor\":\"white\",\"ticks\":\"\",\"title\":{\"standoff\":15},\"zerolinecolor\":\"white\",\"automargin\":true,\"zerolinewidth\":2},\"yaxis\":{\"gridcolor\":\"white\",\"linecolor\":\"white\",\"ticks\":\"\",\"title\":{\"standoff\":15},\"zerolinecolor\":\"white\",\"automargin\":true,\"zerolinewidth\":2},\"scene\":{\"xaxis\":{\"backgroundcolor\":\"#E5ECF6\",\"gridcolor\":\"white\",\"linecolor\":\"white\",\"showbackground\":true,\"ticks\":\"\",\"zerolinecolor\":\"white\",\"gridwidth\":2},\"yaxis\":{\"backgroundcolor\":\"#E5ECF6\",\"gridcolor\":\"white\",\"linecolor\":\"white\",\"showbackground\":true,\"ticks\":\"\",\"zerolinecolor\":\"white\",\"gridwidth\":2},\"zaxis\":{\"backgroundcolor\":\"#E5ECF6\",\"gridcolor\":\"white\",\"linecolor\":\"white\",\"showbackground\":true,\"ticks\":\"\",\"zerolinecolor\":\"white\",\"gridwidth\":2}},\"shapedefaults\":{\"line\":{\"color\":\"#2a3f5f\"}},\"annotationdefaults\":{\"arrowcolor\":\"#2a3f5f\",\"arrowhead\":0,\"arrowwidth\":1},\"geo\":{\"bgcolor\":\"white\",\"landcolor\":\"#E5ECF6\",\"subunitcolor\":\"white\",\"showland\":true,\"showlakes\":true,\"lakecolor\":\"white\"},\"title\":{\"x\":0.05},\"mapbox\":{\"style\":\"light\"}}},\"title\":{\"text\":\"Validation MAPE Over Epochs\"},\"xaxis\":{\"title\":{\"text\":\"Epoch\"}},\"yaxis\":{\"title\":{\"text\":\"MAPE\"}}},                        {\"responsive\": true}                    ).then(function(){\n",
       "                            \n",
       "var gd = document.getElementById('3d7b2e54-d3db-4265-af49-976c435714db');\n",
       "var x = new MutationObserver(function (mutations, observer) {{\n",
       "        var display = window.getComputedStyle(gd).display;\n",
       "        if (!display || display === 'none') {{\n",
       "            console.log([gd, 'removed!']);\n",
       "            Plotly.purge(gd);\n",
       "            observer.disconnect();\n",
       "        }}\n",
       "}});\n",
       "\n",
       "// Listen for the removal of the full notebook cells\n",
       "var notebookContainer = gd.closest('#notebook-container');\n",
       "if (notebookContainer) {{\n",
       "    x.observe(notebookContainer, {childList: true});\n",
       "}}\n",
       "\n",
       "// Listen for the clearing of the current output cell\n",
       "var outputEl = gd.closest('.output');\n",
       "if (outputEl) {{\n",
       "    x.observe(outputEl, {childList: true});\n",
       "}}\n",
       "\n",
       "                        })                };                });            </script>        </div>"
      ]
     },
     "metadata": {},
     "output_type": "display_data"
    },
    {
     "data": {
      "application/vnd.plotly.v1+json": {
       "config": {
        "plotlyServerURL": "https://plot.ly"
       },
       "data": [
        {
         "mode": "lines",
         "name": "Test Actual Close Price",
         "type": "scatter",
         "x": [
          3803,
          3804,
          3805,
          3806,
          3807,
          3808,
          3809,
          3810,
          3811,
          3812,
          3813,
          3814,
          3815,
          3816,
          3817,
          3818,
          3819,
          3820,
          3821,
          3822,
          3823,
          3824,
          3825,
          3826,
          3827,
          3828,
          3829,
          3830,
          3831,
          3832,
          3833,
          3834,
          3835,
          3836,
          3837,
          3838,
          3839,
          3840,
          3841,
          3842,
          3843,
          3844,
          3845,
          3846,
          3847,
          3848,
          3849,
          3850,
          3851,
          3852,
          3853,
          3854,
          3855,
          3856,
          3857,
          3858,
          3859,
          3860,
          3861,
          3862,
          3863,
          3864,
          3865,
          3866,
          3867,
          3868,
          3869,
          3870,
          3871,
          3872,
          3873,
          3874,
          3875,
          3876,
          3877,
          3878,
          3879,
          3880,
          3881,
          3882,
          3883,
          3884,
          3885,
          3886,
          3887,
          3888,
          3889,
          3890,
          3891,
          3892,
          3893,
          3894,
          3895,
          3896,
          3897,
          3898,
          3899,
          3900,
          3901,
          3902,
          3903,
          3904,
          3905,
          3906,
          3907,
          3908,
          3909,
          3910,
          3911,
          3912,
          3913,
          3914,
          3915,
          3916,
          3917,
          3918,
          3919,
          3920,
          3921,
          3922,
          3923,
          3924,
          3925,
          3926,
          3927,
          3928,
          3929,
          3930,
          3931,
          3932,
          3933,
          3934,
          3935,
          3936,
          3937,
          3938,
          3939,
          3940,
          3941,
          3942,
          3943,
          3944,
          3945,
          3946,
          3947,
          3948,
          3949,
          3950,
          3951,
          3952,
          3953,
          3954,
          3955,
          3956,
          3957,
          3958,
          3959,
          3960,
          3961,
          3962,
          3963,
          3964,
          3965,
          3966,
          3967,
          3968,
          3969,
          3970,
          3971,
          3972,
          3973,
          3974,
          3975,
          3976,
          3977,
          3978,
          3979,
          3980,
          3981,
          3982,
          3983,
          3984,
          3985,
          3986,
          3987,
          3988,
          3989,
          3990,
          3991,
          3992,
          3993,
          3994,
          3995,
          3996,
          3997,
          3998,
          3999,
          4000,
          4001,
          4002,
          4003,
          4004,
          4005,
          4006,
          4007,
          4008,
          4009,
          4010,
          4011,
          4012,
          4013,
          4014,
          4015,
          4016,
          4017,
          4018,
          4019,
          4020,
          4021,
          4022,
          4023,
          4024,
          4025,
          4026,
          4027,
          4028,
          4029,
          4030,
          4031,
          4032,
          4033,
          4034,
          4035,
          4036,
          4037,
          4038,
          4039,
          4040,
          4041,
          4042,
          4043,
          4044,
          4045,
          4046,
          4047,
          4048,
          4049,
          4050,
          4051,
          4052,
          4053,
          4054,
          4055,
          4056,
          4057,
          4058,
          4059,
          4060,
          4061,
          4062,
          4063,
          4064,
          4065,
          4066,
          4067,
          4068,
          4069,
          4070,
          4071,
          4072,
          4073,
          4074,
          4075,
          4076,
          4077,
          4078,
          4079,
          4080,
          4081,
          4082,
          4083,
          4084,
          4085,
          4086,
          4087,
          4088,
          4089,
          4090,
          4091,
          4092,
          4093,
          4094,
          4095,
          4096,
          4097,
          4098,
          4099,
          4100,
          4101,
          4102,
          4103,
          4104,
          4105,
          4106,
          4107,
          4108,
          4109,
          4110,
          4111,
          4112,
          4113,
          4114,
          4115,
          4116,
          4117,
          4118,
          4119,
          4120,
          4121,
          4122,
          4123,
          4124,
          4125,
          4126,
          4127,
          4128,
          4129,
          4130,
          4131,
          4132,
          4133,
          4134,
          4135,
          4136,
          4137,
          4138,
          4139,
          4140,
          4141,
          4142,
          4143,
          4144,
          4145,
          4146,
          4147,
          4148,
          4149,
          4150,
          4151,
          4152,
          4153,
          4154,
          4155,
          4156,
          4157,
          4158,
          4159,
          4160,
          4161,
          4162,
          4163,
          4164,
          4165,
          4166,
          4167,
          4168,
          4169,
          4170,
          4171,
          4172,
          4173,
          4174,
          4175,
          4176,
          4177,
          4178,
          4179,
          4180,
          4181,
          4182,
          4183,
          4184,
          4185,
          4186,
          4187,
          4188,
          4189,
          4190,
          4191,
          4192,
          4193,
          4194,
          4195,
          4196,
          4197,
          4198,
          4199,
          4200,
          4201,
          4202,
          4203,
          4204,
          4205,
          4206,
          4207,
          4208,
          4209,
          4210,
          4211,
          4212,
          4213,
          4214,
          4215,
          4216,
          4217,
          4218,
          4219,
          4220,
          4221,
          4222,
          4223,
          4224,
          4225
         ],
         "y": [
          41.75,
          41.27000045776367,
          40.0099983215332,
          39.650001525878906,
          37.70000076293945,
          37.720001220703125,
          37.66999816894531,
          37.65999984741211,
          36.72999954223633,
          36.150001525878906,
          37.459999084472656,
          37.400001525878906,
          36.93000030517578,
          38.310001373291016,
          38.790000915527344,
          38.68999862670898,
          38.369998931884766,
          38.459999084472656,
          40.33000183105469,
          41.59999847412109,
          42.4900016784668,
          42.29999923706055,
          42.560001373291016,
          42.15999984741211,
          41.209999084472656,
          41.970001220703125,
          41.77000045776367,
          41.79999923706055,
          42.75,
          41.40999984741211,
          44.77999877929688,
          44.95000076293945,
          44.83000183105469,
          44.619998931884766,
          47.27999877929688,
          47.43999862670898,
          46.70000076293945,
          47.150001525878906,
          47.59999847412109,
          46.16999816894531,
          46.70000076293945,
          46.88999938964844,
          46.43000030517578,
          46.900001525878906,
          45.77000045776367,
          44.93000030517578,
          45.2599983215332,
          45.880001068115234,
          45.63999938964844,
          44.65999984741211,
          45.58000183105469,
          46.27999877929688,
          45.81999969482422,
          47,
          47.150001525878906,
          48.52999877929688,
          48.93000030517578,
          49.7400016784668,
          50.90999984741211,
          49.209999084472656,
          50.70000076293945,
          50.90999984741211,
          52.34999847412109,
          52.09000015258789,
          51.5,
          51.54999923706055,
          51.810001373291016,
          52.09999847412109,
          51.47999954223633,
          50.97999954223633,
          51.34999847412109,
          50.83000183105469,
          49.59999847412109,
          48.15999984741211,
          48.70000076293945,
          48.5,
          49.31999969482422,
          49.29999923706055,
          49.25,
          49.900001525878906,
          48.880001068115234,
          49.20000076293945,
          48.79999923706055,
          49.95000076293945,
          50.0099983215332,
          49.18000030517578,
          48.97999954223633,
          48.20000076293945,
          47.79999923706055,
          48.20000076293945,
          49.9900016784668,
          50.20000076293945,
          50.27999877929688,
          48.58000183105469,
          47.90999984741211,
          47.22999954223633,
          46.63999938964844,
          46,
          46.5,
          45.459999084472656,
          45.95000076293945,
          45.22999954223633,
          46.20000076293945,
          45.58000183105469,
          46.0099983215332,
          46.5,
          46.880001068115234,
          46.20000076293945,
          45.9900016784668,
          45.880001068115234,
          45.41999816894531,
          45.47999954223633,
          45.59999847412109,
          45.68000030517578,
          45.56999969482422,
          45.08000183105469,
          45.630001068115234,
          46.060001373291016,
          45.65999984741211,
          45.59999847412109,
          45.119998931884766,
          45.4900016784668,
          47.47999954223633,
          48.619998931884766,
          48.400001525878906,
          48.790000915527344,
          46.7400016784668,
          46.400001525878906,
          46.09000015258789,
          45.790000915527344,
          50.369998931884766,
          51.79999923706055,
          53.70000076293945,
          53.83000183105469,
          54.91999816894531,
          53.47999954223633,
          52.310001373291016,
          52.34999847412109,
          51.27000045776367,
          53.709999084472656,
          53.20000076293945,
          51.90999984741211,
          51.81999969482422,
          51.040000915527344,
          51.41999816894531,
          49.900001525878906,
          48.470001220703125,
          48.400001525878906,
          48.43999862670898,
          48.040000915527344,
          47.9900016784668,
          47,
          47.45000076293945,
          49.09999847412109,
          48.5099983215332,
          48.7599983215332,
          49.0099983215332,
          49.66999816894531,
          49.47999954223633,
          49.56999969482422,
          49.630001068115234,
          48.04999923706055,
          48.41999816894531,
          48.59999847412109,
          47.5,
          46.88999938964844,
          46.63999938964844,
          45.93000030517578,
          46.29999923706055,
          46.540000915527344,
          46.29999923706055,
          46.400001525878906,
          48.18000030517578,
          47.95000076293945,
          47.34999847412109,
          47.29999923706055,
          47.209999084472656,
          46.61000061035156,
          47.20000076293945,
          47.290000915527344,
          48.619998931884766,
          48.63999938964844,
          48.04999923706055,
          47.59999847412109,
          47.77000045776367,
          47.41999816894531,
          46.970001220703125,
          46.619998931884766,
          49.54999923706055,
          49.459999084472656,
          49.880001068115234,
          51.93000030517578,
          52.59999847412109,
          51.7400016784668,
          51.40999984741211,
          52.40999984741211,
          51.900001525878906,
          51.70000076293945,
          51.2599983215332,
          51.2599983215332,
          51.36000061035156,
          49.369998931884766,
          48.52999877929688,
          48.68000030517578,
          48.34999847412109,
          47.90999984741211,
          47.52000045776367,
          46.66999816894531,
          47,
          46.459999084472656,
          46.5,
          47.0099983215332,
          48.11000061035156,
          48.560001373291016,
          48.25,
          48.790000915527344,
          50.09999847412109,
          51.45000076293945,
          50.20000076293945,
          51.02999877929688,
          50.220001220703125,
          50.119998931884766,
          50.36000061035156,
          49.95000076293945,
          49.5,
          49.18999862670898,
          49.20000076293945,
          49.29999923706055,
          49.27999877929688,
          48.88999938964844,
          48.4900016784668,
          50.33000183105469,
          49.060001373291016,
          48.560001373291016,
          48.65999984741211,
          48.29999923706055,
          48.06999969482422,
          47.59999847412109,
          47.68999862670898,
          48.43000030517578,
          47.970001220703125,
          47.540000915527344,
          47.68000030517578,
          47.38999938964844,
          46.04999923706055,
          45.84000015258789,
          45.93999862670898,
          46.09999847412109,
          45.5099983215332,
          45.70000076293945,
          45.18000030517578,
          45.310001373291016,
          45.459999084472656,
          45.11000061035156,
          45.060001373291016,
          45.2400016784668,
          46.060001373291016,
          45.29999923706055,
          44.630001068115234,
          43.27999877929688,
          42.34999847412109,
          42.38999938964844,
          42.61000061035156,
          43.36000061035156,
          42.869998931884766,
          42.65999984741211,
          42.90999984741211,
          43.06999969482422,
          42.72999954223633,
          43.04999923706055,
          42.68999862670898,
          41.84999847412109,
          41.66999816894531,
          40.75,
          40.79999923706055,
          41.02000045776367,
          40.380001068115234,
          39.52999877929688,
          39.52999877929688,
          39.34000015258789,
          39.18999862670898,
          39.59999847412109,
          39.790000915527344,
          38.88999938964844,
          38.70000076293945,
          38.790000915527344,
          38.61000061035156,
          38.709999084472656,
          38.45000076293945,
          38.79999923706055,
          39.09999847412109,
          39.18000030517578,
          39.09999847412109,
          39,
          40.2599983215332,
          40.29999923706055,
          39.470001220703125,
          39.400001525878906,
          38.900001525878906,
          38.970001220703125,
          38.45000076293945,
          38.380001068115234,
          37.81999969482422,
          38.43000030517578,
          38.02999877929688,
          38.16999816894531,
          38.70000076293945,
          38.0099983215332,
          38.9900016784668,
          39.20000076293945,
          39.47999954223633,
          39.36000061035156,
          40.16999816894531,
          41.150001525878906,
          41.25,
          40.97999954223633,
          40.18999862670898,
          40.5099983215332,
          40.29999923706055,
          40.09999847412109,
          40.68000030517578,
          41.560001373291016,
          42.380001068115234,
          42.77999877929688,
          42.72999954223633,
          42.34999847412109,
          43.59000015258789,
          43.70000076293945,
          44.06999969482422,
          42.95000076293945,
          43.119998931884766,
          42.650001525878906,
          42.900001525878906,
          42.9900016784668,
          42.34000015258789,
          42.810001373291016,
          42.5,
          43.060001373291016,
          42.880001068115234,
          43.15999984741211,
          43.810001373291016,
          42.630001068115234,
          42.45000076293945,
          42.47999954223633,
          42.560001373291016,
          41.83000183105469,
          41.91999816894531,
          42.02999877929688,
          40.560001373291016,
          40.43999862670898,
          40.900001525878906,
          40.650001525878906,
          40.68999862670898,
          40.810001373291016,
          41.25,
          41,
          40.5,
          40.220001220703125,
          40.11000061035156,
          39.20000076293945,
          38.95000076293945,
          37.77999877929688,
          38.36000061035156,
          38.27999877929688,
          38.95000076293945,
          39.70000076293945,
          39.41999816894531,
          39.83000183105469,
          39.88999938964844,
          40.59999847412109,
          41.060001373291016,
          41.52999877929688,
          42.08000183105469,
          41.36000061035156,
          42.4900016784668,
          42.59000015258789,
          41.95000076293945,
          42.34000015258789,
          42.93000030517578,
          42.650001525878906,
          42.310001373291016,
          41.84000015258789,
          43.04999923706055,
          45.20000076293945,
          45.459999084472656,
          45.400001525878906,
          45.400001525878906,
          44.77999877929688,
          43.88999938964844,
          44.09999847412109,
          43.7599983215332,
          43.470001220703125,
          43.150001525878906,
          43.06999969482422,
          43.130001068115234,
          43.27000045776367,
          43.08000183105469,
          42.45000076293945,
          42.119998931884766,
          41.83000183105469,
          41.400001525878906,
          41.29999923706055,
          41.869998931884766,
          41.58000183105469,
          41.72999954223633,
          42,
          41.5099983215332,
          41.66999816894531,
          41.79999923706055,
          41.54999923706055,
          41.650001525878906,
          41.41999816894531,
          41.36000061035156,
          41.619998931884766,
          42.16999816894531,
          42.27000045776367,
          41.97999954223633,
          41.97999954223633,
          40.84000015258789,
          41.52000045776367,
          41.86000061035156,
          41.93999862670898,
          42.68000030517578
         ]
        },
        {
         "mode": "lines",
         "name": "Test Predicted Close Price",
         "type": "scatter",
         "x": [
          3803,
          3804,
          3805,
          3806,
          3807,
          3808,
          3809,
          3810,
          3811,
          3812,
          3813,
          3814,
          3815,
          3816,
          3817,
          3818,
          3819,
          3820,
          3821,
          3822,
          3823,
          3824,
          3825,
          3826,
          3827,
          3828,
          3829,
          3830,
          3831,
          3832,
          3833,
          3834,
          3835,
          3836,
          3837,
          3838,
          3839,
          3840,
          3841,
          3842,
          3843,
          3844,
          3845,
          3846,
          3847,
          3848,
          3849,
          3850,
          3851,
          3852,
          3853,
          3854,
          3855,
          3856,
          3857,
          3858,
          3859,
          3860,
          3861,
          3862,
          3863,
          3864,
          3865,
          3866,
          3867,
          3868,
          3869,
          3870,
          3871,
          3872,
          3873,
          3874,
          3875,
          3876,
          3877,
          3878,
          3879,
          3880,
          3881,
          3882,
          3883,
          3884,
          3885,
          3886,
          3887,
          3888,
          3889,
          3890,
          3891,
          3892,
          3893,
          3894,
          3895,
          3896,
          3897,
          3898,
          3899,
          3900,
          3901,
          3902,
          3903,
          3904,
          3905,
          3906,
          3907,
          3908,
          3909,
          3910,
          3911,
          3912,
          3913,
          3914,
          3915,
          3916,
          3917,
          3918,
          3919,
          3920,
          3921,
          3922,
          3923,
          3924,
          3925,
          3926,
          3927,
          3928,
          3929,
          3930,
          3931,
          3932,
          3933,
          3934,
          3935,
          3936,
          3937,
          3938,
          3939,
          3940,
          3941,
          3942,
          3943,
          3944,
          3945,
          3946,
          3947,
          3948,
          3949,
          3950,
          3951,
          3952,
          3953,
          3954,
          3955,
          3956,
          3957,
          3958,
          3959,
          3960,
          3961,
          3962,
          3963,
          3964,
          3965,
          3966,
          3967,
          3968,
          3969,
          3970,
          3971,
          3972,
          3973,
          3974,
          3975,
          3976,
          3977,
          3978,
          3979,
          3980,
          3981,
          3982,
          3983,
          3984,
          3985,
          3986,
          3987,
          3988,
          3989,
          3990,
          3991,
          3992,
          3993,
          3994,
          3995,
          3996,
          3997,
          3998,
          3999,
          4000,
          4001,
          4002,
          4003,
          4004,
          4005,
          4006,
          4007,
          4008,
          4009,
          4010,
          4011,
          4012,
          4013,
          4014,
          4015,
          4016,
          4017,
          4018,
          4019,
          4020,
          4021,
          4022,
          4023,
          4024,
          4025,
          4026,
          4027,
          4028,
          4029,
          4030,
          4031,
          4032,
          4033,
          4034,
          4035,
          4036,
          4037,
          4038,
          4039,
          4040,
          4041,
          4042,
          4043,
          4044,
          4045,
          4046,
          4047,
          4048,
          4049,
          4050,
          4051,
          4052,
          4053,
          4054,
          4055,
          4056,
          4057,
          4058,
          4059,
          4060,
          4061,
          4062,
          4063,
          4064,
          4065,
          4066,
          4067,
          4068,
          4069,
          4070,
          4071,
          4072,
          4073,
          4074,
          4075,
          4076,
          4077,
          4078,
          4079,
          4080,
          4081,
          4082,
          4083,
          4084,
          4085,
          4086,
          4087,
          4088,
          4089,
          4090,
          4091,
          4092,
          4093,
          4094,
          4095,
          4096,
          4097,
          4098,
          4099,
          4100,
          4101,
          4102,
          4103,
          4104,
          4105,
          4106,
          4107,
          4108,
          4109,
          4110,
          4111,
          4112,
          4113,
          4114,
          4115,
          4116,
          4117,
          4118,
          4119,
          4120,
          4121,
          4122,
          4123,
          4124,
          4125,
          4126,
          4127,
          4128,
          4129,
          4130,
          4131,
          4132,
          4133,
          4134,
          4135,
          4136,
          4137,
          4138,
          4139,
          4140,
          4141,
          4142,
          4143,
          4144,
          4145,
          4146,
          4147,
          4148,
          4149,
          4150,
          4151,
          4152,
          4153,
          4154,
          4155,
          4156,
          4157,
          4158,
          4159,
          4160,
          4161,
          4162,
          4163,
          4164,
          4165,
          4166,
          4167,
          4168,
          4169,
          4170,
          4171,
          4172,
          4173,
          4174,
          4175,
          4176,
          4177,
          4178,
          4179,
          4180,
          4181,
          4182,
          4183,
          4184,
          4185,
          4186,
          4187,
          4188,
          4189,
          4190,
          4191,
          4192,
          4193,
          4194,
          4195,
          4196,
          4197,
          4198,
          4199,
          4200,
          4201,
          4202,
          4203,
          4204,
          4205,
          4206,
          4207,
          4208,
          4209,
          4210,
          4211,
          4212,
          4213,
          4214,
          4215,
          4216,
          4217,
          4218,
          4219,
          4220,
          4221,
          4222,
          4223,
          4224,
          4225
         ],
         "y": [
          40.586029052734375,
          41.850303649902344,
          41.13581085205078,
          39.603736877441406,
          39.324798583984375,
          36.91684341430664,
          37.815513610839844,
          37.19426727294922,
          37.25218963623047,
          36.65397262573242,
          35.747249603271484,
          37.37882995605469,
          38.564510345458984,
          38.42373275756836,
          36.70228576660156,
          38.56653594970703,
          39.054412841796875,
          38.83277893066406,
          39.21198654174805,
          40.55483627319336,
          43.207435607910156,
          42.3204460144043,
          42.60177993774414,
          42.06745910644531,
          42.18890380859375,
          40.51556396484375,
          43.18340301513672,
          41.341983795166016,
          41.78620529174805,
          42.35707473754883,
          40.70803451538086,
          44.606178283691406,
          44.09178924560547,
          44.52333450317383,
          44.31105041503906,
          47.24279022216797,
          47.418819427490234,
          46.708946228027344,
          46.3962287902832,
          47.064510345458984,
          46.07969665527344,
          46.92024612426758,
          46.818382263183594,
          46.361759185791016,
          46.88410568237305,
          45.66968536376953,
          43.746028900146484,
          45.4547119140625,
          45.723602294921875,
          45.82748794555664,
          45.1337890625,
          45.91570281982422,
          46.47722244262695,
          45.814823150634766,
          47.68220901489258,
          46.72054672241211,
          48.75590515136719,
          49.070960998535156,
          49.63169479370117,
          50.78864288330078,
          49.113460540771484,
          50.72315216064453,
          50.5715446472168,
          52.28251266479492,
          52.03179931640625,
          51.416324615478516,
          51.260475158691406,
          51.633174896240234,
          52.07526779174805,
          51.667667388916016,
          50.89586639404297,
          50.895484924316406,
          50.32036209106445,
          48.447086334228516,
          48.679229736328125,
          48.98830032348633,
          48.889373779296875,
          49.856021881103516,
          49.064186096191406,
          48.894775390625,
          49.9321174621582,
          49.148616790771484,
          49.64323425292969,
          48.89106750488281,
          49.92250442504883,
          49.92060470581055,
          49.37921142578125,
          49.2241096496582,
          48.219764709472656,
          47.80120849609375,
          48.23044204711914,
          50.208152770996094,
          50.320465087890625,
          50.413734436035156,
          48.602073669433594,
          47.989173889160156,
          47.41337585449219,
          46.55036163330078,
          46.23613357543945,
          47.172096252441406,
          45.30408477783203,
          46.20220184326172,
          45.37239456176758,
          46.71484375,
          45.581241607666016,
          47.015384674072266,
          47.150421142578125,
          46.92949676513672,
          46.30878448486328,
          46.103187561035156,
          46.074039459228516,
          45.743324279785156,
          46.204933166503906,
          46.0788688659668,
          45.88722229003906,
          45.81074905395508,
          45.250919342041016,
          46.22213363647461,
          46.16202163696289,
          46.30834197998047,
          45.74104690551758,
          45.318607330322266,
          45.750282287597656,
          47.144142150878906,
          50.02378845214844,
          49.325382232666016,
          49.006736755371094,
          46.96868133544922,
          46.83980941772461,
          46.37302780151367,
          46.00014877319336,
          50.463523864746094,
          51.68526840209961,
          53.48310852050781,
          53.115821838378906,
          54.80559539794922,
          53.254371643066406,
          52.552978515625,
          52.29535675048828,
          51.376434326171875,
          53.252742767333984,
          52.9088020324707,
          52.148826599121094,
          51.83528518676758,
          51.05790710449219,
          51.30980682373047,
          50.08182907104492,
          48.704750061035156,
          48.51972961425781,
          48.69697952270508,
          47.95578384399414,
          48.347694396972656,
          47.24226379394531,
          47.555755615234375,
          49.037532806396484,
          48.38327407836914,
          49.09194564819336,
          49.1367301940918,
          49.488040924072266,
          49.993099212646484,
          49.403263092041016,
          49.87553024291992,
          47.9898796081543,
          48.77246856689453,
          48.338600158691406,
          47.72708511352539,
          47.09173583984375,
          46.74575424194336,
          46.16166305541992,
          46.352203369140625,
          46.79143524169922,
          46.54792404174805,
          46.494117736816406,
          47.8526496887207,
          47.83985900878906,
          47.57546615600586,
          47.508731842041016,
          47.386959075927734,
          47.02165222167969,
          47.35514450073242,
          47.54946517944336,
          48.43037414550781,
          48.472042083740234,
          48.13336181640625,
          47.70933532714844,
          47.62336730957031,
          47.47602844238281,
          47.124942779541016,
          46.74830627441406,
          48.881561279296875,
          49.55491256713867,
          50.12432098388672,
          51.17288589477539,
          52.26877975463867,
          52.3339958190918,
          51.31695556640625,
          52.0313835144043,
          52.13313674926758,
          51.87210464477539,
          51.03031539916992,
          51.2724494934082,
          51.36404800415039,
          49.50305938720703,
          48.740943908691406,
          48.899269104003906,
          48.13957977294922,
          47.991432189941406,
          48.050071716308594,
          46.583377838134766,
          47.12984848022461,
          46.52322769165039,
          46.47906494140625,
          47.066978454589844,
          48.37515640258789,
          48.459075927734375,
          48.377159118652344,
          48.630210876464844,
          49.91283416748047,
          51.22406005859375,
          50.514373779296875,
          50.68238067626953,
          50.14495086669922,
          50.02737808227539,
          50.38401412963867,
          49.899009704589844,
          49.52357482910156,
          49.265201568603516,
          49.21187973022461,
          49.139076232910156,
          49.22457504272461,
          48.71931457519531,
          48.41307067871094,
          49.67165756225586,
          49.3155632019043,
          48.722434997558594,
          48.7335319519043,
          48.37843704223633,
          48.03345489501953,
          47.698143005371094,
          47.78399658203125,
          48.383975982666016,
          47.84331512451172,
          47.63926315307617,
          47.68312454223633,
          47.439064025878906,
          45.94682312011719,
          45.95804214477539,
          45.90834045410156,
          45.977359771728516,
          45.520599365234375,
          45.71516036987305,
          45.092254638671875,
          45.13069152832031,
          45.31959533691406,
          45.1514892578125,
          45.03837585449219,
          45.097373962402344,
          46.07529067993164,
          45.294620513916016,
          44.52415466308594,
          43.276588439941406,
          42.55903244018555,
          42.23411178588867,
          42.43061447143555,
          43.12932205200195,
          42.97648239135742,
          42.53932571411133,
          42.55775833129883,
          43.2551383972168,
          42.76559066772461,
          42.81355667114258,
          42.37422180175781,
          42.042423248291016,
          41.64225769042969,
          40.825199127197266,
          40.96595764160156,
          40.88579559326172,
          40.24319076538086,
          39.66758346557617,
          39.4736328125,
          39.05954360961914,
          39.0271110534668,
          39.47005844116211,
          39.62709045410156,
          38.85213851928711,
          38.792232513427734,
          38.806602478027344,
          38.56964874267578,
          38.56771469116211,
          38.44141387939453,
          38.527015686035156,
          39.14461898803711,
          39.016353607177734,
          39.120269775390625,
          39.15298843383789,
          40.58673095703125,
          40.03915023803711,
          39.47458267211914,
          39.77836608886719,
          39.19943618774414,
          38.890403747558594,
          38.28720474243164,
          38.28727340698242,
          38.036251068115234,
          38.10515594482422,
          37.67436218261719,
          38.24601364135742,
          38.56262969970703,
          38.116634368896484,
          38.88008117675781,
          39.07278060913086,
          39.68362045288086,
          39.753326416015625,
          40.09236526489258,
          40.63420104980469,
          41.421390533447266,
          41.845848083496094,
          40.77143478393555,
          40.615169525146484,
          39.933223724365234,
          39.97114944458008,
          40.7868537902832,
          41.72988510131836,
          42.68090057373047,
          43.39995574951172,
          43.43482208251953,
          43.1723747253418,
          44.21150207519531,
          44.0362548828125,
          44.17353820800781,
          43.076148986816406,
          43.04682159423828,
          43.01518630981445,
          43.147483825683594,
          43.320858001708984,
          42.10357666015625,
          42.83759689331055,
          42.91920471191406,
          43.344696044921875,
          42.75874328613281,
          42.76136016845703,
          43.756568908691406,
          43.36559295654297,
          42.51626205444336,
          42.60589599609375,
          42.69157028198242,
          41.91177749633789,
          41.89293670654297,
          42.05021667480469,
          40.649658203125,
          40.33901596069336,
          40.786067962646484,
          40.75040817260742,
          40.8955192565918,
          40.75056457519531,
          41.1634407043457,
          40.959388732910156,
          40.57122039794922,
          40.2147216796875,
          39.9708366394043,
          39.19234085083008,
          38.88536071777344,
          37.844512939453125,
          38.378089904785156,
          38.367000579833984,
          38.96369934082031,
          39.346622467041016,
          39.350772857666016,
          39.863651275634766,
          39.948760986328125,
          40.601593017578125,
          41.05446243286133,
          41.578086853027344,
          42.22842788696289,
          41.615562438964844,
          42.64556884765625,
          42.71580505371094,
          42.07022476196289,
          42.37211608886719,
          42.920562744140625,
          42.61808776855469,
          42.391231536865234,
          41.807281494140625,
          43.02617263793945,
          44.984371185302734,
          45.53276062011719,
          45.52759552001953,
          45.62886428833008,
          45.00157165527344,
          44.070404052734375,
          44.224639892578125,
          43.69480895996094,
          44.1354866027832,
          43.2044792175293,
          43.13587188720703,
          43.225887298583984,
          43.3267707824707,
          43.19023895263672,
          42.796775817871094,
          42.2213249206543,
          41.85585021972656,
          41.763954162597656,
          41.03606414794922,
          41.843135833740234,
          41.846290588378906,
          41.597442626953125,
          41.84934997558594,
          41.510929107666016,
          41.66474533081055,
          41.851505279541016,
          41.51583480834961,
          41.66447830200195,
          41.53069305419922,
          41.337890625,
          41.44987106323242,
          42.21035385131836,
          42.31925582885742,
          41.932735443115234,
          42.05311965942383,
          41.105499267578125,
          41.380584716796875,
          41.771846771240234,
          42.10698318481445
         ]
        }
       ],
       "layout": {
        "template": {
         "data": {
          "bar": [
           {
            "error_x": {
             "color": "#2a3f5f"
            },
            "error_y": {
             "color": "#2a3f5f"
            },
            "marker": {
             "line": {
              "color": "#E5ECF6",
              "width": 0.5
             },
             "pattern": {
              "fillmode": "overlay",
              "size": 10,
              "solidity": 0.2
             }
            },
            "type": "bar"
           }
          ],
          "barpolar": [
           {
            "marker": {
             "line": {
              "color": "#E5ECF6",
              "width": 0.5
             },
             "pattern": {
              "fillmode": "overlay",
              "size": 10,
              "solidity": 0.2
             }
            },
            "type": "barpolar"
           }
          ],
          "carpet": [
           {
            "aaxis": {
             "endlinecolor": "#2a3f5f",
             "gridcolor": "white",
             "linecolor": "white",
             "minorgridcolor": "white",
             "startlinecolor": "#2a3f5f"
            },
            "baxis": {
             "endlinecolor": "#2a3f5f",
             "gridcolor": "white",
             "linecolor": "white",
             "minorgridcolor": "white",
             "startlinecolor": "#2a3f5f"
            },
            "type": "carpet"
           }
          ],
          "choropleth": [
           {
            "colorbar": {
             "outlinewidth": 0,
             "ticks": ""
            },
            "type": "choropleth"
           }
          ],
          "contour": [
           {
            "colorbar": {
             "outlinewidth": 0,
             "ticks": ""
            },
            "colorscale": [
             [
              0,
              "#0d0887"
             ],
             [
              0.1111111111111111,
              "#46039f"
             ],
             [
              0.2222222222222222,
              "#7201a8"
             ],
             [
              0.3333333333333333,
              "#9c179e"
             ],
             [
              0.4444444444444444,
              "#bd3786"
             ],
             [
              0.5555555555555556,
              "#d8576b"
             ],
             [
              0.6666666666666666,
              "#ed7953"
             ],
             [
              0.7777777777777778,
              "#fb9f3a"
             ],
             [
              0.8888888888888888,
              "#fdca26"
             ],
             [
              1,
              "#f0f921"
             ]
            ],
            "type": "contour"
           }
          ],
          "contourcarpet": [
           {
            "colorbar": {
             "outlinewidth": 0,
             "ticks": ""
            },
            "type": "contourcarpet"
           }
          ],
          "heatmap": [
           {
            "colorbar": {
             "outlinewidth": 0,
             "ticks": ""
            },
            "colorscale": [
             [
              0,
              "#0d0887"
             ],
             [
              0.1111111111111111,
              "#46039f"
             ],
             [
              0.2222222222222222,
              "#7201a8"
             ],
             [
              0.3333333333333333,
              "#9c179e"
             ],
             [
              0.4444444444444444,
              "#bd3786"
             ],
             [
              0.5555555555555556,
              "#d8576b"
             ],
             [
              0.6666666666666666,
              "#ed7953"
             ],
             [
              0.7777777777777778,
              "#fb9f3a"
             ],
             [
              0.8888888888888888,
              "#fdca26"
             ],
             [
              1,
              "#f0f921"
             ]
            ],
            "type": "heatmap"
           }
          ],
          "heatmapgl": [
           {
            "colorbar": {
             "outlinewidth": 0,
             "ticks": ""
            },
            "colorscale": [
             [
              0,
              "#0d0887"
             ],
             [
              0.1111111111111111,
              "#46039f"
             ],
             [
              0.2222222222222222,
              "#7201a8"
             ],
             [
              0.3333333333333333,
              "#9c179e"
             ],
             [
              0.4444444444444444,
              "#bd3786"
             ],
             [
              0.5555555555555556,
              "#d8576b"
             ],
             [
              0.6666666666666666,
              "#ed7953"
             ],
             [
              0.7777777777777778,
              "#fb9f3a"
             ],
             [
              0.8888888888888888,
              "#fdca26"
             ],
             [
              1,
              "#f0f921"
             ]
            ],
            "type": "heatmapgl"
           }
          ],
          "histogram": [
           {
            "marker": {
             "pattern": {
              "fillmode": "overlay",
              "size": 10,
              "solidity": 0.2
             }
            },
            "type": "histogram"
           }
          ],
          "histogram2d": [
           {
            "colorbar": {
             "outlinewidth": 0,
             "ticks": ""
            },
            "colorscale": [
             [
              0,
              "#0d0887"
             ],
             [
              0.1111111111111111,
              "#46039f"
             ],
             [
              0.2222222222222222,
              "#7201a8"
             ],
             [
              0.3333333333333333,
              "#9c179e"
             ],
             [
              0.4444444444444444,
              "#bd3786"
             ],
             [
              0.5555555555555556,
              "#d8576b"
             ],
             [
              0.6666666666666666,
              "#ed7953"
             ],
             [
              0.7777777777777778,
              "#fb9f3a"
             ],
             [
              0.8888888888888888,
              "#fdca26"
             ],
             [
              1,
              "#f0f921"
             ]
            ],
            "type": "histogram2d"
           }
          ],
          "histogram2dcontour": [
           {
            "colorbar": {
             "outlinewidth": 0,
             "ticks": ""
            },
            "colorscale": [
             [
              0,
              "#0d0887"
             ],
             [
              0.1111111111111111,
              "#46039f"
             ],
             [
              0.2222222222222222,
              "#7201a8"
             ],
             [
              0.3333333333333333,
              "#9c179e"
             ],
             [
              0.4444444444444444,
              "#bd3786"
             ],
             [
              0.5555555555555556,
              "#d8576b"
             ],
             [
              0.6666666666666666,
              "#ed7953"
             ],
             [
              0.7777777777777778,
              "#fb9f3a"
             ],
             [
              0.8888888888888888,
              "#fdca26"
             ],
             [
              1,
              "#f0f921"
             ]
            ],
            "type": "histogram2dcontour"
           }
          ],
          "mesh3d": [
           {
            "colorbar": {
             "outlinewidth": 0,
             "ticks": ""
            },
            "type": "mesh3d"
           }
          ],
          "parcoords": [
           {
            "line": {
             "colorbar": {
              "outlinewidth": 0,
              "ticks": ""
             }
            },
            "type": "parcoords"
           }
          ],
          "pie": [
           {
            "automargin": true,
            "type": "pie"
           }
          ],
          "scatter": [
           {
            "fillpattern": {
             "fillmode": "overlay",
             "size": 10,
             "solidity": 0.2
            },
            "type": "scatter"
           }
          ],
          "scatter3d": [
           {
            "line": {
             "colorbar": {
              "outlinewidth": 0,
              "ticks": ""
             }
            },
            "marker": {
             "colorbar": {
              "outlinewidth": 0,
              "ticks": ""
             }
            },
            "type": "scatter3d"
           }
          ],
          "scattercarpet": [
           {
            "marker": {
             "colorbar": {
              "outlinewidth": 0,
              "ticks": ""
             }
            },
            "type": "scattercarpet"
           }
          ],
          "scattergeo": [
           {
            "marker": {
             "colorbar": {
              "outlinewidth": 0,
              "ticks": ""
             }
            },
            "type": "scattergeo"
           }
          ],
          "scattergl": [
           {
            "marker": {
             "colorbar": {
              "outlinewidth": 0,
              "ticks": ""
             }
            },
            "type": "scattergl"
           }
          ],
          "scattermapbox": [
           {
            "marker": {
             "colorbar": {
              "outlinewidth": 0,
              "ticks": ""
             }
            },
            "type": "scattermapbox"
           }
          ],
          "scatterpolar": [
           {
            "marker": {
             "colorbar": {
              "outlinewidth": 0,
              "ticks": ""
             }
            },
            "type": "scatterpolar"
           }
          ],
          "scatterpolargl": [
           {
            "marker": {
             "colorbar": {
              "outlinewidth": 0,
              "ticks": ""
             }
            },
            "type": "scatterpolargl"
           }
          ],
          "scatterternary": [
           {
            "marker": {
             "colorbar": {
              "outlinewidth": 0,
              "ticks": ""
             }
            },
            "type": "scatterternary"
           }
          ],
          "surface": [
           {
            "colorbar": {
             "outlinewidth": 0,
             "ticks": ""
            },
            "colorscale": [
             [
              0,
              "#0d0887"
             ],
             [
              0.1111111111111111,
              "#46039f"
             ],
             [
              0.2222222222222222,
              "#7201a8"
             ],
             [
              0.3333333333333333,
              "#9c179e"
             ],
             [
              0.4444444444444444,
              "#bd3786"
             ],
             [
              0.5555555555555556,
              "#d8576b"
             ],
             [
              0.6666666666666666,
              "#ed7953"
             ],
             [
              0.7777777777777778,
              "#fb9f3a"
             ],
             [
              0.8888888888888888,
              "#fdca26"
             ],
             [
              1,
              "#f0f921"
             ]
            ],
            "type": "surface"
           }
          ],
          "table": [
           {
            "cells": {
             "fill": {
              "color": "#EBF0F8"
             },
             "line": {
              "color": "white"
             }
            },
            "header": {
             "fill": {
              "color": "#C8D4E3"
             },
             "line": {
              "color": "white"
             }
            },
            "type": "table"
           }
          ]
         },
         "layout": {
          "annotationdefaults": {
           "arrowcolor": "#2a3f5f",
           "arrowhead": 0,
           "arrowwidth": 1
          },
          "autotypenumbers": "strict",
          "coloraxis": {
           "colorbar": {
            "outlinewidth": 0,
            "ticks": ""
           }
          },
          "colorscale": {
           "diverging": [
            [
             0,
             "#8e0152"
            ],
            [
             0.1,
             "#c51b7d"
            ],
            [
             0.2,
             "#de77ae"
            ],
            [
             0.3,
             "#f1b6da"
            ],
            [
             0.4,
             "#fde0ef"
            ],
            [
             0.5,
             "#f7f7f7"
            ],
            [
             0.6,
             "#e6f5d0"
            ],
            [
             0.7,
             "#b8e186"
            ],
            [
             0.8,
             "#7fbc41"
            ],
            [
             0.9,
             "#4d9221"
            ],
            [
             1,
             "#276419"
            ]
           ],
           "sequential": [
            [
             0,
             "#0d0887"
            ],
            [
             0.1111111111111111,
             "#46039f"
            ],
            [
             0.2222222222222222,
             "#7201a8"
            ],
            [
             0.3333333333333333,
             "#9c179e"
            ],
            [
             0.4444444444444444,
             "#bd3786"
            ],
            [
             0.5555555555555556,
             "#d8576b"
            ],
            [
             0.6666666666666666,
             "#ed7953"
            ],
            [
             0.7777777777777778,
             "#fb9f3a"
            ],
            [
             0.8888888888888888,
             "#fdca26"
            ],
            [
             1,
             "#f0f921"
            ]
           ],
           "sequentialminus": [
            [
             0,
             "#0d0887"
            ],
            [
             0.1111111111111111,
             "#46039f"
            ],
            [
             0.2222222222222222,
             "#7201a8"
            ],
            [
             0.3333333333333333,
             "#9c179e"
            ],
            [
             0.4444444444444444,
             "#bd3786"
            ],
            [
             0.5555555555555556,
             "#d8576b"
            ],
            [
             0.6666666666666666,
             "#ed7953"
            ],
            [
             0.7777777777777778,
             "#fb9f3a"
            ],
            [
             0.8888888888888888,
             "#fdca26"
            ],
            [
             1,
             "#f0f921"
            ]
           ]
          },
          "colorway": [
           "#636efa",
           "#EF553B",
           "#00cc96",
           "#ab63fa",
           "#FFA15A",
           "#19d3f3",
           "#FF6692",
           "#B6E880",
           "#FF97FF",
           "#FECB52"
          ],
          "font": {
           "color": "#2a3f5f"
          },
          "geo": {
           "bgcolor": "white",
           "lakecolor": "white",
           "landcolor": "#E5ECF6",
           "showlakes": true,
           "showland": true,
           "subunitcolor": "white"
          },
          "hoverlabel": {
           "align": "left"
          },
          "hovermode": "closest",
          "mapbox": {
           "style": "light"
          },
          "paper_bgcolor": "white",
          "plot_bgcolor": "#E5ECF6",
          "polar": {
           "angularaxis": {
            "gridcolor": "white",
            "linecolor": "white",
            "ticks": ""
           },
           "bgcolor": "#E5ECF6",
           "radialaxis": {
            "gridcolor": "white",
            "linecolor": "white",
            "ticks": ""
           }
          },
          "scene": {
           "xaxis": {
            "backgroundcolor": "#E5ECF6",
            "gridcolor": "white",
            "gridwidth": 2,
            "linecolor": "white",
            "showbackground": true,
            "ticks": "",
            "zerolinecolor": "white"
           },
           "yaxis": {
            "backgroundcolor": "#E5ECF6",
            "gridcolor": "white",
            "gridwidth": 2,
            "linecolor": "white",
            "showbackground": true,
            "ticks": "",
            "zerolinecolor": "white"
           },
           "zaxis": {
            "backgroundcolor": "#E5ECF6",
            "gridcolor": "white",
            "gridwidth": 2,
            "linecolor": "white",
            "showbackground": true,
            "ticks": "",
            "zerolinecolor": "white"
           }
          },
          "shapedefaults": {
           "line": {
            "color": "#2a3f5f"
           }
          },
          "ternary": {
           "aaxis": {
            "gridcolor": "white",
            "linecolor": "white",
            "ticks": ""
           },
           "baxis": {
            "gridcolor": "white",
            "linecolor": "white",
            "ticks": ""
           },
           "bgcolor": "#E5ECF6",
           "caxis": {
            "gridcolor": "white",
            "linecolor": "white",
            "ticks": ""
           }
          },
          "title": {
           "x": 0.05
          },
          "xaxis": {
           "automargin": true,
           "gridcolor": "white",
           "linecolor": "white",
           "ticks": "",
           "title": {
            "standoff": 15
           },
           "zerolinecolor": "white",
           "zerolinewidth": 2
          },
          "yaxis": {
           "automargin": true,
           "gridcolor": "white",
           "linecolor": "white",
           "ticks": "",
           "title": {
            "standoff": 15
           },
           "zerolinecolor": "white",
           "zerolinewidth": 2
          }
         }
        },
        "title": {
         "text": "Rolling Prediction vs Actual Close Price"
        },
        "xaxis": {
         "title": {
          "text": "Time"
         }
        },
        "yaxis": {
         "title": {
          "text": "Close Price"
         }
        }
       }
      },
      "text/html": [
       "<div>                            <div id=\"a1635c33-7f00-47db-a748-edfd2ac37cd4\" class=\"plotly-graph-div\" style=\"height:525px; width:100%;\"></div>            <script type=\"text/javascript\">                require([\"plotly\"], function(Plotly) {                    window.PLOTLYENV=window.PLOTLYENV || {};                                    if (document.getElementById(\"a1635c33-7f00-47db-a748-edfd2ac37cd4\")) {                    Plotly.newPlot(                        \"a1635c33-7f00-47db-a748-edfd2ac37cd4\",                        [{\"mode\":\"lines\",\"name\":\"Test Actual Close Price\",\"x\":[3803,3804,3805,3806,3807,3808,3809,3810,3811,3812,3813,3814,3815,3816,3817,3818,3819,3820,3821,3822,3823,3824,3825,3826,3827,3828,3829,3830,3831,3832,3833,3834,3835,3836,3837,3838,3839,3840,3841,3842,3843,3844,3845,3846,3847,3848,3849,3850,3851,3852,3853,3854,3855,3856,3857,3858,3859,3860,3861,3862,3863,3864,3865,3866,3867,3868,3869,3870,3871,3872,3873,3874,3875,3876,3877,3878,3879,3880,3881,3882,3883,3884,3885,3886,3887,3888,3889,3890,3891,3892,3893,3894,3895,3896,3897,3898,3899,3900,3901,3902,3903,3904,3905,3906,3907,3908,3909,3910,3911,3912,3913,3914,3915,3916,3917,3918,3919,3920,3921,3922,3923,3924,3925,3926,3927,3928,3929,3930,3931,3932,3933,3934,3935,3936,3937,3938,3939,3940,3941,3942,3943,3944,3945,3946,3947,3948,3949,3950,3951,3952,3953,3954,3955,3956,3957,3958,3959,3960,3961,3962,3963,3964,3965,3966,3967,3968,3969,3970,3971,3972,3973,3974,3975,3976,3977,3978,3979,3980,3981,3982,3983,3984,3985,3986,3987,3988,3989,3990,3991,3992,3993,3994,3995,3996,3997,3998,3999,4000,4001,4002,4003,4004,4005,4006,4007,4008,4009,4010,4011,4012,4013,4014,4015,4016,4017,4018,4019,4020,4021,4022,4023,4024,4025,4026,4027,4028,4029,4030,4031,4032,4033,4034,4035,4036,4037,4038,4039,4040,4041,4042,4043,4044,4045,4046,4047,4048,4049,4050,4051,4052,4053,4054,4055,4056,4057,4058,4059,4060,4061,4062,4063,4064,4065,4066,4067,4068,4069,4070,4071,4072,4073,4074,4075,4076,4077,4078,4079,4080,4081,4082,4083,4084,4085,4086,4087,4088,4089,4090,4091,4092,4093,4094,4095,4096,4097,4098,4099,4100,4101,4102,4103,4104,4105,4106,4107,4108,4109,4110,4111,4112,4113,4114,4115,4116,4117,4118,4119,4120,4121,4122,4123,4124,4125,4126,4127,4128,4129,4130,4131,4132,4133,4134,4135,4136,4137,4138,4139,4140,4141,4142,4143,4144,4145,4146,4147,4148,4149,4150,4151,4152,4153,4154,4155,4156,4157,4158,4159,4160,4161,4162,4163,4164,4165,4166,4167,4168,4169,4170,4171,4172,4173,4174,4175,4176,4177,4178,4179,4180,4181,4182,4183,4184,4185,4186,4187,4188,4189,4190,4191,4192,4193,4194,4195,4196,4197,4198,4199,4200,4201,4202,4203,4204,4205,4206,4207,4208,4209,4210,4211,4212,4213,4214,4215,4216,4217,4218,4219,4220,4221,4222,4223,4224,4225],\"y\":[41.75,41.27000045776367,40.0099983215332,39.650001525878906,37.70000076293945,37.720001220703125,37.66999816894531,37.65999984741211,36.72999954223633,36.150001525878906,37.459999084472656,37.400001525878906,36.93000030517578,38.310001373291016,38.790000915527344,38.68999862670898,38.369998931884766,38.459999084472656,40.33000183105469,41.59999847412109,42.4900016784668,42.29999923706055,42.560001373291016,42.15999984741211,41.209999084472656,41.970001220703125,41.77000045776367,41.79999923706055,42.75,41.40999984741211,44.77999877929688,44.95000076293945,44.83000183105469,44.619998931884766,47.27999877929688,47.43999862670898,46.70000076293945,47.150001525878906,47.59999847412109,46.16999816894531,46.70000076293945,46.88999938964844,46.43000030517578,46.900001525878906,45.77000045776367,44.93000030517578,45.2599983215332,45.880001068115234,45.63999938964844,44.65999984741211,45.58000183105469,46.27999877929688,45.81999969482422,47.0,47.150001525878906,48.52999877929688,48.93000030517578,49.7400016784668,50.90999984741211,49.209999084472656,50.70000076293945,50.90999984741211,52.34999847412109,52.09000015258789,51.5,51.54999923706055,51.810001373291016,52.09999847412109,51.47999954223633,50.97999954223633,51.34999847412109,50.83000183105469,49.59999847412109,48.15999984741211,48.70000076293945,48.5,49.31999969482422,49.29999923706055,49.25,49.900001525878906,48.880001068115234,49.20000076293945,48.79999923706055,49.95000076293945,50.0099983215332,49.18000030517578,48.97999954223633,48.20000076293945,47.79999923706055,48.20000076293945,49.9900016784668,50.20000076293945,50.27999877929688,48.58000183105469,47.90999984741211,47.22999954223633,46.63999938964844,46.0,46.5,45.459999084472656,45.95000076293945,45.22999954223633,46.20000076293945,45.58000183105469,46.0099983215332,46.5,46.880001068115234,46.20000076293945,45.9900016784668,45.880001068115234,45.41999816894531,45.47999954223633,45.59999847412109,45.68000030517578,45.56999969482422,45.08000183105469,45.630001068115234,46.060001373291016,45.65999984741211,45.59999847412109,45.119998931884766,45.4900016784668,47.47999954223633,48.619998931884766,48.400001525878906,48.790000915527344,46.7400016784668,46.400001525878906,46.09000015258789,45.790000915527344,50.369998931884766,51.79999923706055,53.70000076293945,53.83000183105469,54.91999816894531,53.47999954223633,52.310001373291016,52.34999847412109,51.27000045776367,53.709999084472656,53.20000076293945,51.90999984741211,51.81999969482422,51.040000915527344,51.41999816894531,49.900001525878906,48.470001220703125,48.400001525878906,48.43999862670898,48.040000915527344,47.9900016784668,47.0,47.45000076293945,49.09999847412109,48.5099983215332,48.7599983215332,49.0099983215332,49.66999816894531,49.47999954223633,49.56999969482422,49.630001068115234,48.04999923706055,48.41999816894531,48.59999847412109,47.5,46.88999938964844,46.63999938964844,45.93000030517578,46.29999923706055,46.540000915527344,46.29999923706055,46.400001525878906,48.18000030517578,47.95000076293945,47.34999847412109,47.29999923706055,47.209999084472656,46.61000061035156,47.20000076293945,47.290000915527344,48.619998931884766,48.63999938964844,48.04999923706055,47.59999847412109,47.77000045776367,47.41999816894531,46.970001220703125,46.619998931884766,49.54999923706055,49.459999084472656,49.880001068115234,51.93000030517578,52.59999847412109,51.7400016784668,51.40999984741211,52.40999984741211,51.900001525878906,51.70000076293945,51.2599983215332,51.2599983215332,51.36000061035156,49.369998931884766,48.52999877929688,48.68000030517578,48.34999847412109,47.90999984741211,47.52000045776367,46.66999816894531,47.0,46.459999084472656,46.5,47.0099983215332,48.11000061035156,48.560001373291016,48.25,48.790000915527344,50.09999847412109,51.45000076293945,50.20000076293945,51.02999877929688,50.220001220703125,50.119998931884766,50.36000061035156,49.95000076293945,49.5,49.18999862670898,49.20000076293945,49.29999923706055,49.27999877929688,48.88999938964844,48.4900016784668,50.33000183105469,49.060001373291016,48.560001373291016,48.65999984741211,48.29999923706055,48.06999969482422,47.59999847412109,47.68999862670898,48.43000030517578,47.970001220703125,47.540000915527344,47.68000030517578,47.38999938964844,46.04999923706055,45.84000015258789,45.93999862670898,46.09999847412109,45.5099983215332,45.70000076293945,45.18000030517578,45.310001373291016,45.459999084472656,45.11000061035156,45.060001373291016,45.2400016784668,46.060001373291016,45.29999923706055,44.630001068115234,43.27999877929688,42.34999847412109,42.38999938964844,42.61000061035156,43.36000061035156,42.869998931884766,42.65999984741211,42.90999984741211,43.06999969482422,42.72999954223633,43.04999923706055,42.68999862670898,41.84999847412109,41.66999816894531,40.75,40.79999923706055,41.02000045776367,40.380001068115234,39.52999877929688,39.52999877929688,39.34000015258789,39.18999862670898,39.59999847412109,39.790000915527344,38.88999938964844,38.70000076293945,38.790000915527344,38.61000061035156,38.709999084472656,38.45000076293945,38.79999923706055,39.09999847412109,39.18000030517578,39.09999847412109,39.0,40.2599983215332,40.29999923706055,39.470001220703125,39.400001525878906,38.900001525878906,38.970001220703125,38.45000076293945,38.380001068115234,37.81999969482422,38.43000030517578,38.02999877929688,38.16999816894531,38.70000076293945,38.0099983215332,38.9900016784668,39.20000076293945,39.47999954223633,39.36000061035156,40.16999816894531,41.150001525878906,41.25,40.97999954223633,40.18999862670898,40.5099983215332,40.29999923706055,40.09999847412109,40.68000030517578,41.560001373291016,42.380001068115234,42.77999877929688,42.72999954223633,42.34999847412109,43.59000015258789,43.70000076293945,44.06999969482422,42.95000076293945,43.119998931884766,42.650001525878906,42.900001525878906,42.9900016784668,42.34000015258789,42.810001373291016,42.5,43.060001373291016,42.880001068115234,43.15999984741211,43.810001373291016,42.630001068115234,42.45000076293945,42.47999954223633,42.560001373291016,41.83000183105469,41.91999816894531,42.02999877929688,40.560001373291016,40.43999862670898,40.900001525878906,40.650001525878906,40.68999862670898,40.810001373291016,41.25,41.0,40.5,40.220001220703125,40.11000061035156,39.20000076293945,38.95000076293945,37.77999877929688,38.36000061035156,38.27999877929688,38.95000076293945,39.70000076293945,39.41999816894531,39.83000183105469,39.88999938964844,40.59999847412109,41.060001373291016,41.52999877929688,42.08000183105469,41.36000061035156,42.4900016784668,42.59000015258789,41.95000076293945,42.34000015258789,42.93000030517578,42.650001525878906,42.310001373291016,41.84000015258789,43.04999923706055,45.20000076293945,45.459999084472656,45.400001525878906,45.400001525878906,44.77999877929688,43.88999938964844,44.09999847412109,43.7599983215332,43.470001220703125,43.150001525878906,43.06999969482422,43.130001068115234,43.27000045776367,43.08000183105469,42.45000076293945,42.119998931884766,41.83000183105469,41.400001525878906,41.29999923706055,41.869998931884766,41.58000183105469,41.72999954223633,42.0,41.5099983215332,41.66999816894531,41.79999923706055,41.54999923706055,41.650001525878906,41.41999816894531,41.36000061035156,41.619998931884766,42.16999816894531,42.27000045776367,41.97999954223633,41.97999954223633,40.84000015258789,41.52000045776367,41.86000061035156,41.93999862670898,42.68000030517578],\"type\":\"scatter\"},{\"mode\":\"lines\",\"name\":\"Test Predicted Close Price\",\"x\":[3803,3804,3805,3806,3807,3808,3809,3810,3811,3812,3813,3814,3815,3816,3817,3818,3819,3820,3821,3822,3823,3824,3825,3826,3827,3828,3829,3830,3831,3832,3833,3834,3835,3836,3837,3838,3839,3840,3841,3842,3843,3844,3845,3846,3847,3848,3849,3850,3851,3852,3853,3854,3855,3856,3857,3858,3859,3860,3861,3862,3863,3864,3865,3866,3867,3868,3869,3870,3871,3872,3873,3874,3875,3876,3877,3878,3879,3880,3881,3882,3883,3884,3885,3886,3887,3888,3889,3890,3891,3892,3893,3894,3895,3896,3897,3898,3899,3900,3901,3902,3903,3904,3905,3906,3907,3908,3909,3910,3911,3912,3913,3914,3915,3916,3917,3918,3919,3920,3921,3922,3923,3924,3925,3926,3927,3928,3929,3930,3931,3932,3933,3934,3935,3936,3937,3938,3939,3940,3941,3942,3943,3944,3945,3946,3947,3948,3949,3950,3951,3952,3953,3954,3955,3956,3957,3958,3959,3960,3961,3962,3963,3964,3965,3966,3967,3968,3969,3970,3971,3972,3973,3974,3975,3976,3977,3978,3979,3980,3981,3982,3983,3984,3985,3986,3987,3988,3989,3990,3991,3992,3993,3994,3995,3996,3997,3998,3999,4000,4001,4002,4003,4004,4005,4006,4007,4008,4009,4010,4011,4012,4013,4014,4015,4016,4017,4018,4019,4020,4021,4022,4023,4024,4025,4026,4027,4028,4029,4030,4031,4032,4033,4034,4035,4036,4037,4038,4039,4040,4041,4042,4043,4044,4045,4046,4047,4048,4049,4050,4051,4052,4053,4054,4055,4056,4057,4058,4059,4060,4061,4062,4063,4064,4065,4066,4067,4068,4069,4070,4071,4072,4073,4074,4075,4076,4077,4078,4079,4080,4081,4082,4083,4084,4085,4086,4087,4088,4089,4090,4091,4092,4093,4094,4095,4096,4097,4098,4099,4100,4101,4102,4103,4104,4105,4106,4107,4108,4109,4110,4111,4112,4113,4114,4115,4116,4117,4118,4119,4120,4121,4122,4123,4124,4125,4126,4127,4128,4129,4130,4131,4132,4133,4134,4135,4136,4137,4138,4139,4140,4141,4142,4143,4144,4145,4146,4147,4148,4149,4150,4151,4152,4153,4154,4155,4156,4157,4158,4159,4160,4161,4162,4163,4164,4165,4166,4167,4168,4169,4170,4171,4172,4173,4174,4175,4176,4177,4178,4179,4180,4181,4182,4183,4184,4185,4186,4187,4188,4189,4190,4191,4192,4193,4194,4195,4196,4197,4198,4199,4200,4201,4202,4203,4204,4205,4206,4207,4208,4209,4210,4211,4212,4213,4214,4215,4216,4217,4218,4219,4220,4221,4222,4223,4224,4225],\"y\":[40.586029052734375,41.850303649902344,41.13581085205078,39.603736877441406,39.324798583984375,36.91684341430664,37.815513610839844,37.19426727294922,37.25218963623047,36.65397262573242,35.747249603271484,37.37882995605469,38.564510345458984,38.42373275756836,36.70228576660156,38.56653594970703,39.054412841796875,38.83277893066406,39.21198654174805,40.55483627319336,43.207435607910156,42.3204460144043,42.60177993774414,42.06745910644531,42.18890380859375,40.51556396484375,43.18340301513672,41.341983795166016,41.78620529174805,42.35707473754883,40.70803451538086,44.606178283691406,44.09178924560547,44.52333450317383,44.31105041503906,47.24279022216797,47.418819427490234,46.708946228027344,46.3962287902832,47.064510345458984,46.07969665527344,46.92024612426758,46.818382263183594,46.361759185791016,46.88410568237305,45.66968536376953,43.746028900146484,45.4547119140625,45.723602294921875,45.82748794555664,45.1337890625,45.91570281982422,46.47722244262695,45.814823150634766,47.68220901489258,46.72054672241211,48.75590515136719,49.070960998535156,49.63169479370117,50.78864288330078,49.113460540771484,50.72315216064453,50.5715446472168,52.28251266479492,52.03179931640625,51.416324615478516,51.260475158691406,51.633174896240234,52.07526779174805,51.667667388916016,50.89586639404297,50.895484924316406,50.32036209106445,48.447086334228516,48.679229736328125,48.98830032348633,48.889373779296875,49.856021881103516,49.064186096191406,48.894775390625,49.9321174621582,49.148616790771484,49.64323425292969,48.89106750488281,49.92250442504883,49.92060470581055,49.37921142578125,49.2241096496582,48.219764709472656,47.80120849609375,48.23044204711914,50.208152770996094,50.320465087890625,50.413734436035156,48.602073669433594,47.989173889160156,47.41337585449219,46.55036163330078,46.23613357543945,47.172096252441406,45.30408477783203,46.20220184326172,45.37239456176758,46.71484375,45.581241607666016,47.015384674072266,47.150421142578125,46.92949676513672,46.30878448486328,46.103187561035156,46.074039459228516,45.743324279785156,46.204933166503906,46.0788688659668,45.88722229003906,45.81074905395508,45.250919342041016,46.22213363647461,46.16202163696289,46.30834197998047,45.74104690551758,45.318607330322266,45.750282287597656,47.144142150878906,50.02378845214844,49.325382232666016,49.006736755371094,46.96868133544922,46.83980941772461,46.37302780151367,46.00014877319336,50.463523864746094,51.68526840209961,53.48310852050781,53.115821838378906,54.80559539794922,53.254371643066406,52.552978515625,52.29535675048828,51.376434326171875,53.252742767333984,52.9088020324707,52.148826599121094,51.83528518676758,51.05790710449219,51.30980682373047,50.08182907104492,48.704750061035156,48.51972961425781,48.69697952270508,47.95578384399414,48.347694396972656,47.24226379394531,47.555755615234375,49.037532806396484,48.38327407836914,49.09194564819336,49.1367301940918,49.488040924072266,49.993099212646484,49.403263092041016,49.87553024291992,47.9898796081543,48.77246856689453,48.338600158691406,47.72708511352539,47.09173583984375,46.74575424194336,46.16166305541992,46.352203369140625,46.79143524169922,46.54792404174805,46.494117736816406,47.8526496887207,47.83985900878906,47.57546615600586,47.508731842041016,47.386959075927734,47.02165222167969,47.35514450073242,47.54946517944336,48.43037414550781,48.472042083740234,48.13336181640625,47.70933532714844,47.62336730957031,47.47602844238281,47.124942779541016,46.74830627441406,48.881561279296875,49.55491256713867,50.12432098388672,51.17288589477539,52.26877975463867,52.3339958190918,51.31695556640625,52.0313835144043,52.13313674926758,51.87210464477539,51.03031539916992,51.2724494934082,51.36404800415039,49.50305938720703,48.740943908691406,48.899269104003906,48.13957977294922,47.991432189941406,48.050071716308594,46.583377838134766,47.12984848022461,46.52322769165039,46.47906494140625,47.066978454589844,48.37515640258789,48.459075927734375,48.377159118652344,48.630210876464844,49.91283416748047,51.22406005859375,50.514373779296875,50.68238067626953,50.14495086669922,50.02737808227539,50.38401412963867,49.899009704589844,49.52357482910156,49.265201568603516,49.21187973022461,49.139076232910156,49.22457504272461,48.71931457519531,48.41307067871094,49.67165756225586,49.3155632019043,48.722434997558594,48.7335319519043,48.37843704223633,48.03345489501953,47.698143005371094,47.78399658203125,48.383975982666016,47.84331512451172,47.63926315307617,47.68312454223633,47.439064025878906,45.94682312011719,45.95804214477539,45.90834045410156,45.977359771728516,45.520599365234375,45.71516036987305,45.092254638671875,45.13069152832031,45.31959533691406,45.1514892578125,45.03837585449219,45.097373962402344,46.07529067993164,45.294620513916016,44.52415466308594,43.276588439941406,42.55903244018555,42.23411178588867,42.43061447143555,43.12932205200195,42.97648239135742,42.53932571411133,42.55775833129883,43.2551383972168,42.76559066772461,42.81355667114258,42.37422180175781,42.042423248291016,41.64225769042969,40.825199127197266,40.96595764160156,40.88579559326172,40.24319076538086,39.66758346557617,39.4736328125,39.05954360961914,39.0271110534668,39.47005844116211,39.62709045410156,38.85213851928711,38.792232513427734,38.806602478027344,38.56964874267578,38.56771469116211,38.44141387939453,38.527015686035156,39.14461898803711,39.016353607177734,39.120269775390625,39.15298843383789,40.58673095703125,40.03915023803711,39.47458267211914,39.77836608886719,39.19943618774414,38.890403747558594,38.28720474243164,38.28727340698242,38.036251068115234,38.10515594482422,37.67436218261719,38.24601364135742,38.56262969970703,38.116634368896484,38.88008117675781,39.07278060913086,39.68362045288086,39.753326416015625,40.09236526489258,40.63420104980469,41.421390533447266,41.845848083496094,40.77143478393555,40.615169525146484,39.933223724365234,39.97114944458008,40.7868537902832,41.72988510131836,42.68090057373047,43.39995574951172,43.43482208251953,43.1723747253418,44.21150207519531,44.0362548828125,44.17353820800781,43.076148986816406,43.04682159423828,43.01518630981445,43.147483825683594,43.320858001708984,42.10357666015625,42.83759689331055,42.91920471191406,43.344696044921875,42.75874328613281,42.76136016845703,43.756568908691406,43.36559295654297,42.51626205444336,42.60589599609375,42.69157028198242,41.91177749633789,41.89293670654297,42.05021667480469,40.649658203125,40.33901596069336,40.786067962646484,40.75040817260742,40.8955192565918,40.75056457519531,41.1634407043457,40.959388732910156,40.57122039794922,40.2147216796875,39.9708366394043,39.19234085083008,38.88536071777344,37.844512939453125,38.378089904785156,38.367000579833984,38.96369934082031,39.346622467041016,39.350772857666016,39.863651275634766,39.948760986328125,40.601593017578125,41.05446243286133,41.578086853027344,42.22842788696289,41.615562438964844,42.64556884765625,42.71580505371094,42.07022476196289,42.37211608886719,42.920562744140625,42.61808776855469,42.391231536865234,41.807281494140625,43.02617263793945,44.984371185302734,45.53276062011719,45.52759552001953,45.62886428833008,45.00157165527344,44.070404052734375,44.224639892578125,43.69480895996094,44.1354866027832,43.2044792175293,43.13587188720703,43.225887298583984,43.3267707824707,43.19023895263672,42.796775817871094,42.2213249206543,41.85585021972656,41.763954162597656,41.03606414794922,41.843135833740234,41.846290588378906,41.597442626953125,41.84934997558594,41.510929107666016,41.66474533081055,41.851505279541016,41.51583480834961,41.66447830200195,41.53069305419922,41.337890625,41.44987106323242,42.21035385131836,42.31925582885742,41.932735443115234,42.05311965942383,41.105499267578125,41.380584716796875,41.771846771240234,42.10698318481445],\"type\":\"scatter\"}],                        {\"title\":{\"text\":\"Rolling Prediction vs Actual Close Price\"},\"xaxis\":{\"title\":{\"text\":\"Time\"}},\"yaxis\":{\"title\":{\"text\":\"Close Price\"}},\"template\":{\"data\":{\"histogram2dcontour\":[{\"type\":\"histogram2dcontour\",\"colorbar\":{\"outlinewidth\":0,\"ticks\":\"\"},\"colorscale\":[[0.0,\"#0d0887\"],[0.1111111111111111,\"#46039f\"],[0.2222222222222222,\"#7201a8\"],[0.3333333333333333,\"#9c179e\"],[0.4444444444444444,\"#bd3786\"],[0.5555555555555556,\"#d8576b\"],[0.6666666666666666,\"#ed7953\"],[0.7777777777777778,\"#fb9f3a\"],[0.8888888888888888,\"#fdca26\"],[1.0,\"#f0f921\"]]}],\"choropleth\":[{\"type\":\"choropleth\",\"colorbar\":{\"outlinewidth\":0,\"ticks\":\"\"}}],\"histogram2d\":[{\"type\":\"histogram2d\",\"colorbar\":{\"outlinewidth\":0,\"ticks\":\"\"},\"colorscale\":[[0.0,\"#0d0887\"],[0.1111111111111111,\"#46039f\"],[0.2222222222222222,\"#7201a8\"],[0.3333333333333333,\"#9c179e\"],[0.4444444444444444,\"#bd3786\"],[0.5555555555555556,\"#d8576b\"],[0.6666666666666666,\"#ed7953\"],[0.7777777777777778,\"#fb9f3a\"],[0.8888888888888888,\"#fdca26\"],[1.0,\"#f0f921\"]]}],\"heatmap\":[{\"type\":\"heatmap\",\"colorbar\":{\"outlinewidth\":0,\"ticks\":\"\"},\"colorscale\":[[0.0,\"#0d0887\"],[0.1111111111111111,\"#46039f\"],[0.2222222222222222,\"#7201a8\"],[0.3333333333333333,\"#9c179e\"],[0.4444444444444444,\"#bd3786\"],[0.5555555555555556,\"#d8576b\"],[0.6666666666666666,\"#ed7953\"],[0.7777777777777778,\"#fb9f3a\"],[0.8888888888888888,\"#fdca26\"],[1.0,\"#f0f921\"]]}],\"heatmapgl\":[{\"type\":\"heatmapgl\",\"colorbar\":{\"outlinewidth\":0,\"ticks\":\"\"},\"colorscale\":[[0.0,\"#0d0887\"],[0.1111111111111111,\"#46039f\"],[0.2222222222222222,\"#7201a8\"],[0.3333333333333333,\"#9c179e\"],[0.4444444444444444,\"#bd3786\"],[0.5555555555555556,\"#d8576b\"],[0.6666666666666666,\"#ed7953\"],[0.7777777777777778,\"#fb9f3a\"],[0.8888888888888888,\"#fdca26\"],[1.0,\"#f0f921\"]]}],\"contourcarpet\":[{\"type\":\"contourcarpet\",\"colorbar\":{\"outlinewidth\":0,\"ticks\":\"\"}}],\"contour\":[{\"type\":\"contour\",\"colorbar\":{\"outlinewidth\":0,\"ticks\":\"\"},\"colorscale\":[[0.0,\"#0d0887\"],[0.1111111111111111,\"#46039f\"],[0.2222222222222222,\"#7201a8\"],[0.3333333333333333,\"#9c179e\"],[0.4444444444444444,\"#bd3786\"],[0.5555555555555556,\"#d8576b\"],[0.6666666666666666,\"#ed7953\"],[0.7777777777777778,\"#fb9f3a\"],[0.8888888888888888,\"#fdca26\"],[1.0,\"#f0f921\"]]}],\"surface\":[{\"type\":\"surface\",\"colorbar\":{\"outlinewidth\":0,\"ticks\":\"\"},\"colorscale\":[[0.0,\"#0d0887\"],[0.1111111111111111,\"#46039f\"],[0.2222222222222222,\"#7201a8\"],[0.3333333333333333,\"#9c179e\"],[0.4444444444444444,\"#bd3786\"],[0.5555555555555556,\"#d8576b\"],[0.6666666666666666,\"#ed7953\"],[0.7777777777777778,\"#fb9f3a\"],[0.8888888888888888,\"#fdca26\"],[1.0,\"#f0f921\"]]}],\"mesh3d\":[{\"type\":\"mesh3d\",\"colorbar\":{\"outlinewidth\":0,\"ticks\":\"\"}}],\"scatter\":[{\"fillpattern\":{\"fillmode\":\"overlay\",\"size\":10,\"solidity\":0.2},\"type\":\"scatter\"}],\"parcoords\":[{\"type\":\"parcoords\",\"line\":{\"colorbar\":{\"outlinewidth\":0,\"ticks\":\"\"}}}],\"scatterpolargl\":[{\"type\":\"scatterpolargl\",\"marker\":{\"colorbar\":{\"outlinewidth\":0,\"ticks\":\"\"}}}],\"bar\":[{\"error_x\":{\"color\":\"#2a3f5f\"},\"error_y\":{\"color\":\"#2a3f5f\"},\"marker\":{\"line\":{\"color\":\"#E5ECF6\",\"width\":0.5},\"pattern\":{\"fillmode\":\"overlay\",\"size\":10,\"solidity\":0.2}},\"type\":\"bar\"}],\"scattergeo\":[{\"type\":\"scattergeo\",\"marker\":{\"colorbar\":{\"outlinewidth\":0,\"ticks\":\"\"}}}],\"scatterpolar\":[{\"type\":\"scatterpolar\",\"marker\":{\"colorbar\":{\"outlinewidth\":0,\"ticks\":\"\"}}}],\"histogram\":[{\"marker\":{\"pattern\":{\"fillmode\":\"overlay\",\"size\":10,\"solidity\":0.2}},\"type\":\"histogram\"}],\"scattergl\":[{\"type\":\"scattergl\",\"marker\":{\"colorbar\":{\"outlinewidth\":0,\"ticks\":\"\"}}}],\"scatter3d\":[{\"type\":\"scatter3d\",\"line\":{\"colorbar\":{\"outlinewidth\":0,\"ticks\":\"\"}},\"marker\":{\"colorbar\":{\"outlinewidth\":0,\"ticks\":\"\"}}}],\"scattermapbox\":[{\"type\":\"scattermapbox\",\"marker\":{\"colorbar\":{\"outlinewidth\":0,\"ticks\":\"\"}}}],\"scatterternary\":[{\"type\":\"scatterternary\",\"marker\":{\"colorbar\":{\"outlinewidth\":0,\"ticks\":\"\"}}}],\"scattercarpet\":[{\"type\":\"scattercarpet\",\"marker\":{\"colorbar\":{\"outlinewidth\":0,\"ticks\":\"\"}}}],\"carpet\":[{\"aaxis\":{\"endlinecolor\":\"#2a3f5f\",\"gridcolor\":\"white\",\"linecolor\":\"white\",\"minorgridcolor\":\"white\",\"startlinecolor\":\"#2a3f5f\"},\"baxis\":{\"endlinecolor\":\"#2a3f5f\",\"gridcolor\":\"white\",\"linecolor\":\"white\",\"minorgridcolor\":\"white\",\"startlinecolor\":\"#2a3f5f\"},\"type\":\"carpet\"}],\"table\":[{\"cells\":{\"fill\":{\"color\":\"#EBF0F8\"},\"line\":{\"color\":\"white\"}},\"header\":{\"fill\":{\"color\":\"#C8D4E3\"},\"line\":{\"color\":\"white\"}},\"type\":\"table\"}],\"barpolar\":[{\"marker\":{\"line\":{\"color\":\"#E5ECF6\",\"width\":0.5},\"pattern\":{\"fillmode\":\"overlay\",\"size\":10,\"solidity\":0.2}},\"type\":\"barpolar\"}],\"pie\":[{\"automargin\":true,\"type\":\"pie\"}]},\"layout\":{\"autotypenumbers\":\"strict\",\"colorway\":[\"#636efa\",\"#EF553B\",\"#00cc96\",\"#ab63fa\",\"#FFA15A\",\"#19d3f3\",\"#FF6692\",\"#B6E880\",\"#FF97FF\",\"#FECB52\"],\"font\":{\"color\":\"#2a3f5f\"},\"hovermode\":\"closest\",\"hoverlabel\":{\"align\":\"left\"},\"paper_bgcolor\":\"white\",\"plot_bgcolor\":\"#E5ECF6\",\"polar\":{\"bgcolor\":\"#E5ECF6\",\"angularaxis\":{\"gridcolor\":\"white\",\"linecolor\":\"white\",\"ticks\":\"\"},\"radialaxis\":{\"gridcolor\":\"white\",\"linecolor\":\"white\",\"ticks\":\"\"}},\"ternary\":{\"bgcolor\":\"#E5ECF6\",\"aaxis\":{\"gridcolor\":\"white\",\"linecolor\":\"white\",\"ticks\":\"\"},\"baxis\":{\"gridcolor\":\"white\",\"linecolor\":\"white\",\"ticks\":\"\"},\"caxis\":{\"gridcolor\":\"white\",\"linecolor\":\"white\",\"ticks\":\"\"}},\"coloraxis\":{\"colorbar\":{\"outlinewidth\":0,\"ticks\":\"\"}},\"colorscale\":{\"sequential\":[[0.0,\"#0d0887\"],[0.1111111111111111,\"#46039f\"],[0.2222222222222222,\"#7201a8\"],[0.3333333333333333,\"#9c179e\"],[0.4444444444444444,\"#bd3786\"],[0.5555555555555556,\"#d8576b\"],[0.6666666666666666,\"#ed7953\"],[0.7777777777777778,\"#fb9f3a\"],[0.8888888888888888,\"#fdca26\"],[1.0,\"#f0f921\"]],\"sequentialminus\":[[0.0,\"#0d0887\"],[0.1111111111111111,\"#46039f\"],[0.2222222222222222,\"#7201a8\"],[0.3333333333333333,\"#9c179e\"],[0.4444444444444444,\"#bd3786\"],[0.5555555555555556,\"#d8576b\"],[0.6666666666666666,\"#ed7953\"],[0.7777777777777778,\"#fb9f3a\"],[0.8888888888888888,\"#fdca26\"],[1.0,\"#f0f921\"]],\"diverging\":[[0,\"#8e0152\"],[0.1,\"#c51b7d\"],[0.2,\"#de77ae\"],[0.3,\"#f1b6da\"],[0.4,\"#fde0ef\"],[0.5,\"#f7f7f7\"],[0.6,\"#e6f5d0\"],[0.7,\"#b8e186\"],[0.8,\"#7fbc41\"],[0.9,\"#4d9221\"],[1,\"#276419\"]]},\"xaxis\":{\"gridcolor\":\"white\",\"linecolor\":\"white\",\"ticks\":\"\",\"title\":{\"standoff\":15},\"zerolinecolor\":\"white\",\"automargin\":true,\"zerolinewidth\":2},\"yaxis\":{\"gridcolor\":\"white\",\"linecolor\":\"white\",\"ticks\":\"\",\"title\":{\"standoff\":15},\"zerolinecolor\":\"white\",\"automargin\":true,\"zerolinewidth\":2},\"scene\":{\"xaxis\":{\"backgroundcolor\":\"#E5ECF6\",\"gridcolor\":\"white\",\"linecolor\":\"white\",\"showbackground\":true,\"ticks\":\"\",\"zerolinecolor\":\"white\",\"gridwidth\":2},\"yaxis\":{\"backgroundcolor\":\"#E5ECF6\",\"gridcolor\":\"white\",\"linecolor\":\"white\",\"showbackground\":true,\"ticks\":\"\",\"zerolinecolor\":\"white\",\"gridwidth\":2},\"zaxis\":{\"backgroundcolor\":\"#E5ECF6\",\"gridcolor\":\"white\",\"linecolor\":\"white\",\"showbackground\":true,\"ticks\":\"\",\"zerolinecolor\":\"white\",\"gridwidth\":2}},\"shapedefaults\":{\"line\":{\"color\":\"#2a3f5f\"}},\"annotationdefaults\":{\"arrowcolor\":\"#2a3f5f\",\"arrowhead\":0,\"arrowwidth\":1},\"geo\":{\"bgcolor\":\"white\",\"landcolor\":\"#E5ECF6\",\"subunitcolor\":\"white\",\"showland\":true,\"showlakes\":true,\"lakecolor\":\"white\"},\"title\":{\"x\":0.05},\"mapbox\":{\"style\":\"light\"}}}},                        {\"responsive\": true}                    ).then(function(){\n",
       "                            \n",
       "var gd = document.getElementById('a1635c33-7f00-47db-a748-edfd2ac37cd4');\n",
       "var x = new MutationObserver(function (mutations, observer) {{\n",
       "        var display = window.getComputedStyle(gd).display;\n",
       "        if (!display || display === 'none') {{\n",
       "            console.log([gd, 'removed!']);\n",
       "            Plotly.purge(gd);\n",
       "            observer.disconnect();\n",
       "        }}\n",
       "}});\n",
       "\n",
       "// Listen for the removal of the full notebook cells\n",
       "var notebookContainer = gd.closest('#notebook-container');\n",
       "if (notebookContainer) {{\n",
       "    x.observe(notebookContainer, {childList: true});\n",
       "}}\n",
       "\n",
       "// Listen for the clearing of the current output cell\n",
       "var outputEl = gd.closest('.output');\n",
       "if (outputEl) {{\n",
       "    x.observe(outputEl, {childList: true});\n",
       "}}\n",
       "\n",
       "                        })                };                });            </script>        </div>"
      ]
     },
     "metadata": {},
     "output_type": "display_data"
    }
   ],
   "source": [
    "# 计算测试集 R2 和 MAPE\n",
    "test_actuals = test_data['Close'].values\n",
    "test_r2 = r2_score(test_actuals, test_predictions)\n",
    "test_mape = mean_absolute_percentage_error(test_actuals, test_predictions)\n",
    "\n",
    "print(f'Test R2: {test_r2:.4f}')\n",
    "print(f'Test MAPE: {test_mape:.4f}')\n",
    "\n",
    "# 保存预测数据到CSV\n",
    "predictions_df = pd.DataFrame({\n",
    "    'Actual': test_actuals,\n",
    "    'Predicted': test_predictions\n",
    "})\n",
    "predictions_csv_path = os.path.join(logs_dir, 'predictions.csv')\n",
    "predictions_df.to_csv(predictions_csv_path, index=False)\n",
    "print(f'Saved predictions to {predictions_csv_path}')\n",
    "\n",
    "# 使用 Plotly 可视化训练和验证过程中的损失、R2 和 MAPE\n",
    "epochs = list(range(1, num_epochs + 1))\n",
    "\n",
    "fig_loss = go.Figure()\n",
    "fig_loss.add_trace(go.Scatter(x=epochs, y=train_losses, mode='lines', name='Train Loss'))\n",
    "fig_loss.add_trace(go.Scatter(x=epochs, y=val_losses, mode='lines', name='Validation Loss'))\n",
    "fig_loss.update_layout(title='Train and Validation Loss', xaxis=dict(title='Epoch'), yaxis=dict(title='Loss'))\n",
    "fig_loss.show()\n",
    "\n",
    "fig_r2 = go.Figure()\n",
    "fig_r2.add_trace(go.Scatter(x=epochs, y=val_r2s, mode='lines', name='Validation R2'))\n",
    "fig_r2.update_layout(title='Validation R2 Over Epochs', xaxis=dict(title='Epoch'), yaxis=dict(title='R2'))\n",
    "fig_r2.show()\n",
    "\n",
    "fig_mape = go.Figure()\n",
    "fig_mape.add_trace(go.Scatter(x=epochs, y=val_mapes, mode='lines', name='Validation MAPE'))\n",
    "fig_mape.update_layout(title='Validation MAPE Over Epochs', xaxis=dict(title='Epoch'), yaxis=dict(title='MAPE'))\n",
    "fig_mape.show()\n",
    "\n",
    "# 使用 Plotly 可视化滚动预测结果与实际结果\n",
    "test_trace_actual = go.Scatter(x=test_data.index, y=test_actuals, mode='lines', name='Test Actual Close Price')\n",
    "test_trace_predicted = go.Scatter(x=test_data.index, y=test_predictions, mode='lines', name='Test Predicted Close Price')\n",
    "\n",
    "layout = go.Layout(title='Rolling Prediction vs Actual Close Price', xaxis=dict(title='Time'), yaxis=dict(title='Close Price'))\n",
    "\n",
    "fig = go.Figure(data=[test_trace_actual, test_trace_predicted], layout=layout)\n",
    "fig.show()\n"
   ]
  },
  {
   "cell_type": "markdown",
   "metadata": {},
   "source": [
    "---\n",
    "# Baseline: BiLSTM"
   ]
  },
  {
   "cell_type": "code",
   "execution_count": 1,
   "metadata": {},
   "outputs": [],
   "source": [
    "import os\n",
    "import pandas as pd\n",
    "import numpy as np\n",
    "import torch\n",
    "from torch.utils.data import Dataset, DataLoader\n",
    "from torch import nn, optim\n",
    "from sklearn.metrics import r2_score, mean_absolute_percentage_error\n",
    "import plotly.graph_objs as go\n",
    "import plotly.offline as py\n",
    "from tqdm import tqdm\n",
    "\n",
    "# 读取数据\n",
    "file_path = '/teamspace/studios/this_studio/visualization/ping_an_data_with_pandas_ta_features.csv'\n",
    "data = pd.read_csv(file_path)\n",
    "\n",
    "# 填充缺失值\n",
    "data = data.bfill().ffill()\n",
    "\n",
    "# 列名示例\n",
    "features = ['Open', 'High', 'Low', 'Close', 'Volume', 'Return', 'MA5', 'MA10', 'MA50', 'MA200', \n",
    "            'BBL_20_2.0', 'BBM_20_2.0', 'BBU_20_2.0', 'BBB_20_2.0', 'BBP_20_2.0', 'STOCHk_14_3_3', \n",
    "            'STOCHd_14_3_3', 'ATR', 'VWAP', 'CMO', 'RSI', 'MACD_12_26_9', 'MACDh_12_26_9', \n",
    "            'MACDs_12_26_9', 'Volatility']\n",
    "\n",
    "# 数据集划分\n",
    "train_size = int(len(data) * 0.7)\n",
    "val_size = int(len(data) * 0.2)\n",
    "test_size = len(data) - train_size - val_size\n",
    "\n",
    "train_data = data[:train_size]\n",
    "val_data = data[train_size:train_size + val_size]\n",
    "test_data = data[train_size + val_size:]\n",
    "\n",
    "class StockDataset(Dataset):\n",
    "    def __init__(self, data, mean=None, std=None):\n",
    "        self.data = data\n",
    "        self.features = data[features].values.astype(np.float32)\n",
    "        self.targets = data['Close'].values.astype(np.float32)\n",
    "\n",
    "        if mean is None or std is None:\n",
    "            self.mean = self.features.mean(axis=0)\n",
    "            self.std = self.features.std(axis=0)\n",
    "        else:\n",
    "            self.mean = mean\n",
    "            self.std = std\n",
    "\n",
    "        self.features = (self.features - self.mean) / self.std\n",
    "\n",
    "    def __len__(self):\n",
    "        return len(self.data)\n",
    "\n",
    "    def __getitem__(self, idx):\n",
    "        feature = self.features[idx]\n",
    "        target = self.targets[idx]\n",
    "        return torch.tensor(feature).unsqueeze(0), torch.tensor(target)  # 在这里增加时间步维度\n",
    "\n",
    "# 定义BiLSTM模型\n",
    "class BiLSTM(nn.Module):\n",
    "    def __init__(self, input_size, hidden_size, num_layers):\n",
    "        super(BiLSTM, self).__init__()\n",
    "        self.hidden_size = hidden_size\n",
    "        self.num_layers = num_layers\n",
    "        self.lstm = nn.LSTM(input_size, hidden_size, num_layers, batch_first=True, bidirectional=True)\n",
    "        self.fc = nn.Linear(hidden_size * 2, 1)  # 双向LSTM的输出是2倍隐藏层大小\n",
    "\n",
    "    def forward(self, x):\n",
    "        h0 = torch.zeros(self.num_layers * 2, x.size(0), self.hidden_size).to(x.device)  # 双向LSTM需要2倍层数的初始化\n",
    "        c0 = torch.zeros(self.num_layers * 2, x.size(0), self.hidden_size).to(x.device)\n",
    "        out, _ = self.lstm(x, (h0, c0))\n",
    "        out = self.fc(out[:, -1, :])\n",
    "        return out\n",
    "\n",
    "# 创建日志文件夹\n",
    "logs_dir = \"BiLSTM_logs\"\n",
    "if not os.path.exists(logs_dir):\n",
    "    os.makedirs(logs_dir)\n",
    "\n",
    "# 获取下一个训练编号\n",
    "def get_next_log_index(logs_dir):\n",
    "    existing_logs = [int(name.split('_')[1]) for name in os.listdir(logs_dir) if os.path.isdir(os.path.join(logs_dir, name))]\n",
    "    if not existing_logs:\n",
    "        return 0\n",
    "    return max(existing_logs) + 1\n",
    "\n",
    "# 训练函数\n",
    "def train(model, loader, criterion, optimizer, device):\n",
    "    model.train()\n",
    "    running_loss = 0.0\n",
    "    for features, targets in loader:\n",
    "        features, targets = features.to(device), targets.to(device)\n",
    "        optimizer.zero_grad()\n",
    "        outputs = model(features)\n",
    "        loss = criterion(outputs, targets.unsqueeze(1))\n",
    "        loss.backward()\n",
    "        optimizer.step()\n",
    "        running_loss += loss.item() * features.size(0)\n",
    "    epoch_loss = running_loss / len(loader.dataset)\n",
    "    return epoch_loss\n",
    "\n",
    "# 验证函数\n",
    "def validate(model, loader, criterion, device):\n",
    "    model.eval()\n",
    "    running_loss = 0.0\n",
    "    all_targets = []\n",
    "    all_predictions = []\n",
    "    with torch.no_grad():\n",
    "        for features, targets in loader:\n",
    "            features, targets = features.to(device), targets.to(device)\n",
    "            outputs = model(features)\n",
    "            loss = criterion(outputs, targets.unsqueeze(1))\n",
    "            running_loss += loss.item() * features.size(0)\n",
    "            all_targets.extend(targets.cpu().numpy())\n",
    "            all_predictions.extend(outputs.cpu().numpy())\n",
    "    epoch_loss = running_loss / len(loader.dataset)\n",
    "    return epoch_loss, r2_score(all_targets, all_predictions), mean_absolute_percentage_error(all_targets, all_predictions)\n",
    "\n",
    "# 训练和验证过程\n",
    "def train_and_validate(model, train_loader, val_loader, num_epochs, device):\n",
    "    criterion = nn.MSELoss()\n",
    "    optimizer = optim.Adam(model.parameters(), lr=0.001)\n",
    "    train_losses = []\n",
    "    val_losses = []\n",
    "    val_r2s = []\n",
    "    val_mapes = []\n",
    "    best_val_r2 = float('-inf')\n",
    "    best_model_path = None\n",
    "\n",
    "    # 创建新的子文件夹\n",
    "    log_index = get_next_log_index(logs_dir)\n",
    "    logs_dir = os.path.join(logs_dir, f'logs_{log_index}')\n",
    "    os.makedirs(logs_dir)\n",
    "\n",
    "    for epoch in tqdm(range(num_epochs)):\n",
    "        train_loss = train(model, train_loader, criterion, optimizer, device)\n",
    "        val_loss, val_r2, val_mape = validate(model, val_loader, criterion, device)\n",
    "        train_losses.append(train_loss)\n",
    "        val_losses.append(val_loss)\n",
    "        val_r2s.append(val_r2)\n",
    "        val_mapes.append(val_mape)\n",
    "\n",
    "        # Save the model if validation R2 is the best we've seen so far\n",
    "        if val_r2 > best_val_r2:\n",
    "            best_val_r2 = val_r2\n",
    "            best_model_path = os.path.join(logs_dir, f'best_model_epoch_{epoch+1}_r2_{val_r2:.4f}.pth')\n",
    "            torch.save(model.state_dict(), best_model_path)\n",
    "\n",
    "        print(f'Epoch {epoch+1}/{num_epochs}, Train Loss: {train_loss:.4f}, Val Loss: {val_loss:.4f}, Val R2: {val_r2:.4f}, Val MAPE: {val_mape:.4f}')\n",
    "\n",
    "    # Load the best model before returning\n",
    "    if best_model_path:\n",
    "        model.load_state_dict(torch.load(best_model_path))\n",
    "        print(f'Loaded best model from {best_model_path}')\n",
    "    return train_losses, val_losses, val_r2s, val_mapes, best_model_path\n",
    "\n",
    "# 滚动预测函数（带再训练）\n",
    "def rolling_predict_with_retraining(model, train_data, val_data, test_data, window_size, device, num_epochs=5):\n",
    "    model.eval()\n",
    "    predictions = []\n",
    "    criterion = nn.MSELoss()\n",
    "    optimizer = optim.Adam(model.parameters(), lr=0.001)\n",
    "    updated_train_data = pd.concat([train_data, val_data])\n",
    "\n",
    "    for i in tqdm(range(len(test_data)), desc=\"Rolling Prediction\"):\n",
    "        # 获取滚动窗口数据\n",
    "        window_data = pd.concat([updated_train_data, test_data[:i]], axis=0).tail(window_size)\n",
    "        window_dataset = StockDataset(window_data, mean=train_dataset.mean, std=train_dataset.std)\n",
    "        window_loader = DataLoader(window_dataset, batch_size=len(window_dataset), shuffle=False)\n",
    "\n",
    "        # 进行预测\n",
    "        with torch.no_grad():\n",
    "            for features, _ in window_loader:\n",
    "                features = features.to(device)\n",
    "                prediction = model(features)\n",
    "                predictions.append(prediction[-1].item())\n",
    "\n",
    "        # 将预测值加入训练数据（模拟实际情况）\n",
    "        new_row = test_data.iloc[i].copy()\n",
    "        new_row['Close'] = predictions[-1]\n",
    "        updated_train_data = pd.concat([updated_train_data, new_row.to_frame().T])\n",
    "\n",
    "        # 重新训练模型\n",
    "        train_loader = DataLoader(window_dataset, batch_size=batch_size, shuffle=False)\n",
    "        for epoch in range(num_epochs):\n",
    "            train_loss = train(model, train_loader, criterion, optimizer, device)\n",
    "\n",
    "    return predictions\n"
   ]
  },
  {
   "cell_type": "code",
   "execution_count": 5,
   "metadata": {},
   "outputs": [
    {
     "name": "stderr",
     "output_type": "stream",
     "text": [
      "  1%|          | 1/100 [00:00<00:23,  4.26it/s]"
     ]
    },
    {
     "name": "stdout",
     "output_type": "stream",
     "text": [
      "Epoch 1/100, Train Loss: 1284.1266, Val Loss: 4512.8602, Val R2: -15.3351, Val MAPE: 0.9478\n"
     ]
    },
    {
     "name": "stderr",
     "output_type": "stream",
     "text": [
      "  2%|▏         | 2/100 [00:00<00:22,  4.42it/s]"
     ]
    },
    {
     "name": "stdout",
     "output_type": "stream",
     "text": [
      "Epoch 2/100, Train Loss: 622.7401, Val Loss: 2330.2331, Val R2: -7.4347, Val MAPE: 0.6432\n"
     ]
    },
    {
     "name": "stderr",
     "output_type": "stream",
     "text": [
      "  3%|▎         | 3/100 [00:00<00:24,  4.02it/s]"
     ]
    },
    {
     "name": "stdout",
     "output_type": "stream",
     "text": [
      "Epoch 3/100, Train Loss: 292.9544, Val Loss: 1829.6230, Val R2: -5.6227, Val MAPE: 0.5453\n"
     ]
    },
    {
     "name": "stderr",
     "output_type": "stream",
     "text": [
      "  4%|▍         | 4/100 [00:00<00:23,  4.07it/s]"
     ]
    },
    {
     "name": "stdout",
     "output_type": "stream",
     "text": [
      "Epoch 4/100, Train Loss: 209.8302, Val Loss: 1516.6442, Val R2: -4.4898, Val MAPE: 0.4793\n"
     ]
    },
    {
     "name": "stderr",
     "output_type": "stream",
     "text": [
      "  5%|▌         | 5/100 [00:01<00:23,  4.04it/s]"
     ]
    },
    {
     "name": "stdout",
     "output_type": "stream",
     "text": [
      "Epoch 5/100, Train Loss: 152.4254, Val Loss: 1275.3304, Val R2: -3.6163, Val MAPE: 0.4230\n"
     ]
    },
    {
     "name": "stderr",
     "output_type": "stream",
     "text": [
      "  6%|▌         | 6/100 [00:01<00:22,  4.11it/s]"
     ]
    },
    {
     "name": "stdout",
     "output_type": "stream",
     "text": [
      "Epoch 6/100, Train Loss: 119.5254, Val Loss: 1097.2765, Val R2: -2.9718, Val MAPE: 0.3776\n"
     ]
    },
    {
     "name": "stderr",
     "output_type": "stream",
     "text": [
      "  7%|▋         | 7/100 [00:01<00:23,  4.01it/s]"
     ]
    },
    {
     "name": "stdout",
     "output_type": "stream",
     "text": [
      "Epoch 7/100, Train Loss: 98.5384, Val Loss: 959.7357, Val R2: -2.4739, Val MAPE: 0.3399\n"
     ]
    },
    {
     "name": "stderr",
     "output_type": "stream",
     "text": [
      "  8%|▊         | 8/100 [00:01<00:23,  3.89it/s]"
     ]
    },
    {
     "name": "stdout",
     "output_type": "stream",
     "text": [
      "Epoch 8/100, Train Loss: 79.8914, Val Loss: 847.2914, Val R2: -2.0669, Val MAPE: 0.3101\n"
     ]
    },
    {
     "name": "stderr",
     "output_type": "stream",
     "text": [
      "  9%|▉         | 9/100 [00:02<00:22,  4.05it/s]"
     ]
    },
    {
     "name": "stdout",
     "output_type": "stream",
     "text": [
      "Epoch 9/100, Train Loss: 66.2015, Val Loss: 750.3034, Val R2: -1.7159, Val MAPE: 0.2861\n"
     ]
    },
    {
     "name": "stderr",
     "output_type": "stream",
     "text": [
      " 10%|█         | 10/100 [00:02<00:23,  3.90it/s]"
     ]
    },
    {
     "name": "stdout",
     "output_type": "stream",
     "text": [
      "Epoch 10/100, Train Loss: 53.5175, Val Loss: 663.6794, Val R2: -1.4023, Val MAPE: 0.2651\n"
     ]
    },
    {
     "name": "stderr",
     "output_type": "stream",
     "text": [
      " 11%|█         | 11/100 [00:02<00:22,  3.99it/s]"
     ]
    },
    {
     "name": "stdout",
     "output_type": "stream",
     "text": [
      "Epoch 11/100, Train Loss: 42.8908, Val Loss: 588.0453, Val R2: -1.1285, Val MAPE: 0.2478\n"
     ]
    },
    {
     "name": "stderr",
     "output_type": "stream",
     "text": [
      " 12%|█▏        | 12/100 [00:02<00:21,  4.01it/s]"
     ]
    },
    {
     "name": "stdout",
     "output_type": "stream",
     "text": [
      "Epoch 12/100, Train Loss: 34.4283, Val Loss: 523.0247, Val R2: -0.8932, Val MAPE: 0.2358\n"
     ]
    },
    {
     "name": "stderr",
     "output_type": "stream",
     "text": [
      " 13%|█▎        | 13/100 [00:03<00:21,  4.06it/s]"
     ]
    },
    {
     "name": "stdout",
     "output_type": "stream",
     "text": [
      "Epoch 13/100, Train Loss: 27.8395, Val Loss: 467.9750, Val R2: -0.6939, Val MAPE: 0.2273\n"
     ]
    },
    {
     "name": "stderr",
     "output_type": "stream",
     "text": [
      " 14%|█▍        | 14/100 [00:03<00:20,  4.18it/s]"
     ]
    },
    {
     "name": "stdout",
     "output_type": "stream",
     "text": [
      "Epoch 14/100, Train Loss: 22.6181, Val Loss: 421.3414, Val R2: -0.5251, Val MAPE: 0.2202\n"
     ]
    },
    {
     "name": "stderr",
     "output_type": "stream",
     "text": [
      " 15%|█▌        | 15/100 [00:03<00:19,  4.31it/s]"
     ]
    },
    {
     "name": "stdout",
     "output_type": "stream",
     "text": [
      "Epoch 15/100, Train Loss: 18.5279, Val Loss: 381.6387, Val R2: -0.3814, Val MAPE: 0.2137\n"
     ]
    },
    {
     "name": "stderr",
     "output_type": "stream",
     "text": [
      " 16%|█▌        | 16/100 [00:03<00:19,  4.34it/s]"
     ]
    },
    {
     "name": "stdout",
     "output_type": "stream",
     "text": [
      "Epoch 16/100, Train Loss: 15.3393, Val Loss: 347.5828, Val R2: -0.2581, Val MAPE: 0.2070\n"
     ]
    },
    {
     "name": "stderr",
     "output_type": "stream",
     "text": [
      " 17%|█▋        | 17/100 [00:04<00:19,  4.25it/s]"
     ]
    },
    {
     "name": "stdout",
     "output_type": "stream",
     "text": [
      "Epoch 17/100, Train Loss: 12.8885, Val Loss: 318.0383, Val R2: -0.1512, Val MAPE: 0.2000\n"
     ]
    },
    {
     "name": "stderr",
     "output_type": "stream",
     "text": [
      " 18%|█▊        | 18/100 [00:04<00:18,  4.38it/s]"
     ]
    },
    {
     "name": "stdout",
     "output_type": "stream",
     "text": [
      "Epoch 18/100, Train Loss: 11.0270, Val Loss: 291.9163, Val R2: -0.0566, Val MAPE: 0.1923\n"
     ]
    },
    {
     "name": "stderr",
     "output_type": "stream",
     "text": [
      " 19%|█▉        | 19/100 [00:04<00:17,  4.50it/s]"
     ]
    },
    {
     "name": "stdout",
     "output_type": "stream",
     "text": [
      "Epoch 19/100, Train Loss: 9.6590, Val Loss: 268.1608, Val R2: 0.0293, Val MAPE: 0.1832\n"
     ]
    },
    {
     "name": "stderr",
     "output_type": "stream",
     "text": [
      " 21%|██        | 21/100 [00:04<00:17,  4.64it/s]"
     ]
    },
    {
     "name": "stdout",
     "output_type": "stream",
     "text": [
      "Epoch 20/100, Train Loss: 8.8365, Val Loss: 246.3737, Val R2: 0.1082, Val MAPE: 0.1726\n",
      "Epoch 21/100, Train Loss: 8.4482, Val Loss: 226.5535, Val R2: 0.1799, Val MAPE: 0.1607\n"
     ]
    },
    {
     "name": "stderr",
     "output_type": "stream",
     "text": [
      " 22%|██▏       | 22/100 [00:05<00:16,  4.72it/s]"
     ]
    },
    {
     "name": "stdout",
     "output_type": "stream",
     "text": [
      "Epoch 22/100, Train Loss: 7.4367, Val Loss: 208.5752, Val R2: 0.2450, Val MAPE: 0.1470\n"
     ]
    },
    {
     "name": "stderr",
     "output_type": "stream",
     "text": [
      " 23%|██▎       | 23/100 [00:05<00:16,  4.71it/s]"
     ]
    },
    {
     "name": "stdout",
     "output_type": "stream",
     "text": [
      "Epoch 23/100, Train Loss: 6.1888, Val Loss: 192.9311, Val R2: 0.3017, Val MAPE: 0.1333\n"
     ]
    },
    {
     "name": "stderr",
     "output_type": "stream",
     "text": [
      " 24%|██▍       | 24/100 [00:05<00:16,  4.73it/s]"
     ]
    },
    {
     "name": "stdout",
     "output_type": "stream",
     "text": [
      "Epoch 24/100, Train Loss: 6.7803, Val Loss: 179.9941, Val R2: 0.3485, Val MAPE: 0.1258\n"
     ]
    },
    {
     "name": "stderr",
     "output_type": "stream",
     "text": [
      " 25%|██▌       | 25/100 [00:05<00:16,  4.63it/s]"
     ]
    },
    {
     "name": "stdout",
     "output_type": "stream",
     "text": [
      "Epoch 25/100, Train Loss: 6.4506, Val Loss: 168.6132, Val R2: 0.3897, Val MAPE: 0.1204\n"
     ]
    },
    {
     "name": "stderr",
     "output_type": "stream",
     "text": [
      " 26%|██▌       | 26/100 [00:06<00:15,  4.68it/s]"
     ]
    },
    {
     "name": "stdout",
     "output_type": "stream",
     "text": [
      "Epoch 26/100, Train Loss: 4.8344, Val Loss: 158.5860, Val R2: 0.4260, Val MAPE: 0.1164\n"
     ]
    },
    {
     "name": "stderr",
     "output_type": "stream",
     "text": [
      " 27%|██▋       | 27/100 [00:06<00:15,  4.72it/s]"
     ]
    },
    {
     "name": "stdout",
     "output_type": "stream",
     "text": [
      "Epoch 27/100, Train Loss: 3.8530, Val Loss: 151.4057, Val R2: 0.4520, Val MAPE: 0.1156\n"
     ]
    },
    {
     "name": "stderr",
     "output_type": "stream",
     "text": [
      " 28%|██▊       | 28/100 [00:06<00:15,  4.77it/s]"
     ]
    },
    {
     "name": "stdout",
     "output_type": "stream",
     "text": [
      "Epoch 28/100, Train Loss: 3.2785, Val Loss: 145.4932, Val R2: 0.4734, Val MAPE: 0.1137\n"
     ]
    },
    {
     "name": "stderr",
     "output_type": "stream",
     "text": [
      " 29%|██▉       | 29/100 [00:06<00:15,  4.71it/s]"
     ]
    },
    {
     "name": "stdout",
     "output_type": "stream",
     "text": [
      "Epoch 29/100, Train Loss: 2.7315, Val Loss: 134.2358, Val R2: 0.5141, Val MAPE: 0.1128\n"
     ]
    },
    {
     "name": "stderr",
     "output_type": "stream",
     "text": [
      " 30%|███       | 30/100 [00:06<00:15,  4.46it/s]"
     ]
    },
    {
     "name": "stdout",
     "output_type": "stream",
     "text": [
      "Epoch 30/100, Train Loss: 3.4712, Val Loss: 122.9340, Val R2: 0.5550, Val MAPE: 0.1155\n"
     ]
    },
    {
     "name": "stderr",
     "output_type": "stream",
     "text": [
      " 31%|███       | 31/100 [00:07<00:15,  4.44it/s]"
     ]
    },
    {
     "name": "stdout",
     "output_type": "stream",
     "text": [
      "Epoch 31/100, Train Loss: 4.5240, Val Loss: 118.2046, Val R2: 0.5721, Val MAPE: 0.1169\n"
     ]
    },
    {
     "name": "stderr",
     "output_type": "stream",
     "text": [
      " 32%|███▏      | 32/100 [00:07<00:15,  4.42it/s]"
     ]
    },
    {
     "name": "stdout",
     "output_type": "stream",
     "text": [
      "Epoch 32/100, Train Loss: 3.4085, Val Loss: 112.2446, Val R2: 0.5937, Val MAPE: 0.1062\n"
     ]
    },
    {
     "name": "stderr",
     "output_type": "stream",
     "text": [
      " 34%|███▍      | 34/100 [00:07<00:14,  4.64it/s]"
     ]
    },
    {
     "name": "stdout",
     "output_type": "stream",
     "text": [
      "Epoch 33/100, Train Loss: 2.1264, Val Loss: 107.4138, Val R2: 0.6112, Val MAPE: 0.0996\n",
      "Epoch 34/100, Train Loss: 2.1454, Val Loss: 100.7411, Val R2: 0.6353, Val MAPE: 0.0934\n"
     ]
    },
    {
     "name": "stderr",
     "output_type": "stream",
     "text": [
      " 36%|███▌      | 36/100 [00:08<00:13,  4.90it/s]"
     ]
    },
    {
     "name": "stdout",
     "output_type": "stream",
     "text": [
      "Epoch 35/100, Train Loss: 2.3236, Val Loss: 94.6279, Val R2: 0.6575, Val MAPE: 0.0898\n",
      "Epoch 36/100, Train Loss: 1.9485, Val Loss: 89.1290, Val R2: 0.6774, Val MAPE: 0.0873\n"
     ]
    },
    {
     "name": "stderr",
     "output_type": "stream",
     "text": [
      " 38%|███▊      | 38/100 [00:08<00:12,  5.05it/s]"
     ]
    },
    {
     "name": "stdout",
     "output_type": "stream",
     "text": [
      "Epoch 37/100, Train Loss: 1.3720, Val Loss: 84.0593, Val R2: 0.6957, Val MAPE: 0.0847\n",
      "Epoch 38/100, Train Loss: 1.1546, Val Loss: 79.5073, Val R2: 0.7122, Val MAPE: 0.0821\n"
     ]
    },
    {
     "name": "stderr",
     "output_type": "stream",
     "text": [
      " 40%|████      | 40/100 [00:08<00:11,  5.11it/s]"
     ]
    },
    {
     "name": "stdout",
     "output_type": "stream",
     "text": [
      "Epoch 39/100, Train Loss: 1.4239, Val Loss: 74.7682, Val R2: 0.7294, Val MAPE: 0.0776\n",
      "Epoch 40/100, Train Loss: 1.2236, Val Loss: 70.1311, Val R2: 0.7461, Val MAPE: 0.0741\n"
     ]
    },
    {
     "name": "stderr",
     "output_type": "stream",
     "text": [
      " 42%|████▏     | 42/100 [00:09<00:11,  5.15it/s]"
     ]
    },
    {
     "name": "stdout",
     "output_type": "stream",
     "text": [
      "Epoch 41/100, Train Loss: 0.9157, Val Loss: 66.3139, Val R2: 0.7600, Val MAPE: 0.0724\n",
      "Epoch 42/100, Train Loss: 0.7434, Val Loss: 62.7505, Val R2: 0.7729, Val MAPE: 0.0687\n"
     ]
    },
    {
     "name": "stderr",
     "output_type": "stream",
     "text": [
      " 44%|████▍     | 44/100 [00:09<00:10,  5.15it/s]"
     ]
    },
    {
     "name": "stdout",
     "output_type": "stream",
     "text": [
      "Epoch 43/100, Train Loss: 0.8286, Val Loss: 59.9180, Val R2: 0.7831, Val MAPE: 0.0658\n",
      "Epoch 44/100, Train Loss: 1.0911, Val Loss: 57.7992, Val R2: 0.7908, Val MAPE: 0.0650\n"
     ]
    },
    {
     "name": "stderr",
     "output_type": "stream",
     "text": [
      " 46%|████▌     | 46/100 [00:10<00:10,  5.19it/s]"
     ]
    },
    {
     "name": "stdout",
     "output_type": "stream",
     "text": [
      "Epoch 45/100, Train Loss: 1.5372, Val Loss: 57.1482, Val R2: 0.7931, Val MAPE: 0.0664\n",
      "Epoch 46/100, Train Loss: 2.2929, Val Loss: 60.2427, Val R2: 0.7819, Val MAPE: 0.0725\n"
     ]
    },
    {
     "name": "stderr",
     "output_type": "stream",
     "text": [
      " 47%|████▋     | 47/100 [00:10<00:10,  5.18it/s]"
     ]
    },
    {
     "name": "stdout",
     "output_type": "stream",
     "text": [
      "Epoch 47/100, Train Loss: 3.0853, Val Loss: 80.8748, Val R2: 0.7073, Val MAPE: 0.0969\n"
     ]
    },
    {
     "name": "stderr",
     "output_type": "stream",
     "text": [
      " 48%|████▊     | 48/100 [00:10<00:10,  4.93it/s]"
     ]
    },
    {
     "name": "stdout",
     "output_type": "stream",
     "text": [
      "Epoch 48/100, Train Loss: 3.7184, Val Loss: 124.7228, Val R2: 0.5485, Val MAPE: 0.1236\n"
     ]
    },
    {
     "name": "stderr",
     "output_type": "stream",
     "text": [
      " 50%|█████     | 50/100 [00:10<00:10,  4.86it/s]"
     ]
    },
    {
     "name": "stdout",
     "output_type": "stream",
     "text": [
      "Epoch 49/100, Train Loss: 4.4152, Val Loss: 106.0152, Val R2: 0.6163, Val MAPE: 0.1016\n",
      "Epoch 50/100, Train Loss: 5.1152, Val Loss: 71.6060, Val R2: 0.7408, Val MAPE: 0.1003\n"
     ]
    },
    {
     "name": "stderr",
     "output_type": "stream",
     "text": [
      " 52%|█████▏    | 52/100 [00:11<00:09,  4.97it/s]"
     ]
    },
    {
     "name": "stdout",
     "output_type": "stream",
     "text": [
      "Epoch 51/100, Train Loss: 5.1720, Val Loss: 62.7151, Val R2: 0.7730, Val MAPE: 0.0933\n",
      "Epoch 52/100, Train Loss: 3.2289, Val Loss: 63.2740, Val R2: 0.7710, Val MAPE: 0.0883\n"
     ]
    },
    {
     "name": "stderr",
     "output_type": "stream",
     "text": [
      " 53%|█████▎    | 53/100 [00:11<00:09,  4.97it/s]"
     ]
    },
    {
     "name": "stdout",
     "output_type": "stream",
     "text": [
      "Epoch 53/100, Train Loss: 1.7522, Val Loss: 61.4477, Val R2: 0.7776, Val MAPE: 0.0825\n"
     ]
    },
    {
     "name": "stderr",
     "output_type": "stream",
     "text": [
      " 55%|█████▌    | 55/100 [00:11<00:08,  5.03it/s]"
     ]
    },
    {
     "name": "stdout",
     "output_type": "stream",
     "text": [
      "Epoch 54/100, Train Loss: 1.2755, Val Loss: 57.5266, Val R2: 0.7918, Val MAPE: 0.0763\n",
      "Epoch 55/100, Train Loss: 0.7817, Val Loss: 53.4092, Val R2: 0.8067, Val MAPE: 0.0718\n"
     ]
    },
    {
     "name": "stderr",
     "output_type": "stream",
     "text": [
      " 56%|█████▌    | 56/100 [00:12<00:08,  4.97it/s]"
     ]
    },
    {
     "name": "stdout",
     "output_type": "stream",
     "text": [
      "Epoch 56/100, Train Loss: 0.5566, Val Loss: 50.3886, Val R2: 0.8176, Val MAPE: 0.0692\n"
     ]
    },
    {
     "name": "stderr",
     "output_type": "stream",
     "text": [
      " 58%|█████▊    | 58/100 [00:12<00:08,  5.02it/s]"
     ]
    },
    {
     "name": "stdout",
     "output_type": "stream",
     "text": [
      "Epoch 57/100, Train Loss: 0.4668, Val Loss: 49.4344, Val R2: 0.8211, Val MAPE: 0.0677\n",
      "Epoch 58/100, Train Loss: 0.3611, Val Loss: 49.6469, Val R2: 0.8203, Val MAPE: 0.0668\n"
     ]
    },
    {
     "name": "stderr",
     "output_type": "stream",
     "text": [
      " 60%|██████    | 60/100 [00:12<00:07,  5.02it/s]"
     ]
    },
    {
     "name": "stdout",
     "output_type": "stream",
     "text": [
      "Epoch 59/100, Train Loss: 0.3509, Val Loss: 48.4229, Val R2: 0.8247, Val MAPE: 0.0655\n",
      "Epoch 60/100, Train Loss: 0.3308, Val Loss: 46.2847, Val R2: 0.8325, Val MAPE: 0.0633\n"
     ]
    },
    {
     "name": "stderr",
     "output_type": "stream",
     "text": [
      " 61%|██████    | 61/100 [00:13<00:07,  5.01it/s]"
     ]
    },
    {
     "name": "stdout",
     "output_type": "stream",
     "text": [
      "Epoch 61/100, Train Loss: 0.2842, Val Loss: 44.6945, Val R2: 0.8382, Val MAPE: 0.0620\n"
     ]
    },
    {
     "name": "stderr",
     "output_type": "stream",
     "text": [
      " 62%|██████▏   | 62/100 [00:13<00:07,  4.98it/s]"
     ]
    },
    {
     "name": "stdout",
     "output_type": "stream",
     "text": [
      "Epoch 62/100, Train Loss: 0.2749, Val Loss: 44.5571, Val R2: 0.8387, Val MAPE: 0.0617\n"
     ]
    },
    {
     "name": "stderr",
     "output_type": "stream",
     "text": [
      " 63%|██████▎   | 63/100 [00:13<00:07,  4.96it/s]"
     ]
    },
    {
     "name": "stdout",
     "output_type": "stream",
     "text": [
      "Epoch 63/100, Train Loss: 0.2724, Val Loss: 45.1506, Val R2: 0.8366, Val MAPE: 0.0621\n"
     ]
    },
    {
     "name": "stderr",
     "output_type": "stream",
     "text": [
      " 64%|██████▍   | 64/100 [00:13<00:07,  4.96it/s]"
     ]
    },
    {
     "name": "stdout",
     "output_type": "stream",
     "text": [
      "Epoch 64/100, Train Loss: 0.3247, Val Loss: 46.5818, Val R2: 0.8314, Val MAPE: 0.0629\n"
     ]
    },
    {
     "name": "stderr",
     "output_type": "stream",
     "text": [
      " 65%|██████▌   | 65/100 [00:13<00:07,  4.96it/s]"
     ]
    },
    {
     "name": "stdout",
     "output_type": "stream",
     "text": [
      "Epoch 65/100, Train Loss: 0.3455, Val Loss: 47.4080, Val R2: 0.8284, Val MAPE: 0.0642\n"
     ]
    },
    {
     "name": "stderr",
     "output_type": "stream",
     "text": [
      " 67%|██████▋   | 67/100 [00:14<00:06,  4.97it/s]"
     ]
    },
    {
     "name": "stdout",
     "output_type": "stream",
     "text": [
      "Epoch 66/100, Train Loss: 0.5106, Val Loss: 50.1963, Val R2: 0.8183, Val MAPE: 0.0657\n",
      "Epoch 67/100, Train Loss: 0.5306, Val Loss: 52.6876, Val R2: 0.8093, Val MAPE: 0.0722\n"
     ]
    },
    {
     "name": "stderr",
     "output_type": "stream",
     "text": [
      " 69%|██████▉   | 69/100 [00:14<00:06,  5.01it/s]"
     ]
    },
    {
     "name": "stdout",
     "output_type": "stream",
     "text": [
      "Epoch 68/100, Train Loss: 1.1947, Val Loss: 57.0105, Val R2: 0.7936, Val MAPE: 0.0723\n",
      "Epoch 69/100, Train Loss: 1.7199, Val Loss: 63.5289, Val R2: 0.7700, Val MAPE: 0.0777\n"
     ]
    },
    {
     "name": "stderr",
     "output_type": "stream",
     "text": [
      " 71%|███████   | 71/100 [00:15<00:05,  5.11it/s]"
     ]
    },
    {
     "name": "stdout",
     "output_type": "stream",
     "text": [
      "Epoch 70/100, Train Loss: 2.1392, Val Loss: 45.1050, Val R2: 0.8367, Val MAPE: 0.0714\n",
      "Epoch 71/100, Train Loss: 3.8487, Val Loss: 41.2496, Val R2: 0.8507, Val MAPE: 0.0776\n"
     ]
    },
    {
     "name": "stderr",
     "output_type": "stream",
     "text": [
      " 72%|███████▏  | 72/100 [00:15<00:05,  5.01it/s]"
     ]
    },
    {
     "name": "stdout",
     "output_type": "stream",
     "text": [
      "Epoch 72/100, Train Loss: 4.7892, Val Loss: 55.9484, Val R2: 0.7975, Val MAPE: 0.1021\n"
     ]
    },
    {
     "name": "stderr",
     "output_type": "stream",
     "text": [
      " 73%|███████▎  | 73/100 [00:15<00:05,  4.82it/s]"
     ]
    },
    {
     "name": "stdout",
     "output_type": "stream",
     "text": [
      "Epoch 73/100, Train Loss: 5.2597, Val Loss: 41.3541, Val R2: 0.8503, Val MAPE: 0.0716\n"
     ]
    },
    {
     "name": "stderr",
     "output_type": "stream",
     "text": [
      " 75%|███████▌  | 75/100 [00:15<00:05,  4.81it/s]"
     ]
    },
    {
     "name": "stdout",
     "output_type": "stream",
     "text": [
      "Epoch 74/100, Train Loss: 4.3783, Val Loss: 39.9731, Val R2: 0.8553, Val MAPE: 0.0670\n",
      "Epoch 75/100, Train Loss: 1.7431, Val Loss: 36.8557, Val R2: 0.8666, Val MAPE: 0.0577\n"
     ]
    },
    {
     "name": "stderr",
     "output_type": "stream",
     "text": [
      " 77%|███████▋  | 77/100 [00:16<00:04,  4.97it/s]"
     ]
    },
    {
     "name": "stdout",
     "output_type": "stream",
     "text": [
      "Epoch 76/100, Train Loss: 1.2683, Val Loss: 38.3355, Val R2: 0.8612, Val MAPE: 0.0585\n",
      "Epoch 77/100, Train Loss: 0.9751, Val Loss: 42.5418, Val R2: 0.8460, Val MAPE: 0.0622\n"
     ]
    },
    {
     "name": "stderr",
     "output_type": "stream",
     "text": [
      " 79%|███████▉  | 79/100 [00:16<00:04,  5.04it/s]"
     ]
    },
    {
     "name": "stdout",
     "output_type": "stream",
     "text": [
      "Epoch 78/100, Train Loss: 0.9171, Val Loss: 48.4788, Val R2: 0.8245, Val MAPE: 0.0679\n",
      "Epoch 79/100, Train Loss: 0.7656, Val Loss: 56.5245, Val R2: 0.7954, Val MAPE: 0.0778\n"
     ]
    },
    {
     "name": "stderr",
     "output_type": "stream",
     "text": [
      " 81%|████████  | 81/100 [00:17<00:03,  5.13it/s]"
     ]
    },
    {
     "name": "stdout",
     "output_type": "stream",
     "text": [
      "Epoch 80/100, Train Loss: 0.6045, Val Loss: 57.7494, Val R2: 0.7910, Val MAPE: 0.0767\n",
      "Epoch 81/100, Train Loss: 0.5644, Val Loss: 48.0881, Val R2: 0.8259, Val MAPE: 0.0656\n"
     ]
    },
    {
     "name": "stderr",
     "output_type": "stream",
     "text": [
      " 83%|████████▎ | 83/100 [00:17<00:03,  5.16it/s]"
     ]
    },
    {
     "name": "stdout",
     "output_type": "stream",
     "text": [
      "Epoch 82/100, Train Loss: 0.8225, Val Loss: 36.6436, Val R2: 0.8674, Val MAPE: 0.0635\n",
      "Epoch 83/100, Train Loss: 1.6022, Val Loss: 32.5043, Val R2: 0.8823, Val MAPE: 0.0645\n"
     ]
    },
    {
     "name": "stderr",
     "output_type": "stream",
     "text": [
      " 85%|████████▌ | 85/100 [00:17<00:02,  5.12it/s]"
     ]
    },
    {
     "name": "stdout",
     "output_type": "stream",
     "text": [
      "Epoch 84/100, Train Loss: 2.0117, Val Loss: 34.8717, Val R2: 0.8738, Val MAPE: 0.0707\n",
      "Epoch 85/100, Train Loss: 1.7958, Val Loss: 35.3387, Val R2: 0.8721, Val MAPE: 0.0692\n"
     ]
    },
    {
     "name": "stderr",
     "output_type": "stream",
     "text": [
      " 87%|████████▋ | 87/100 [00:18<00:02,  5.12it/s]"
     ]
    },
    {
     "name": "stdout",
     "output_type": "stream",
     "text": [
      "Epoch 86/100, Train Loss: 1.0719, Val Loss: 32.5554, Val R2: 0.8822, Val MAPE: 0.0608\n",
      "Epoch 87/100, Train Loss: 0.5587, Val Loss: 31.5471, Val R2: 0.8858, Val MAPE: 0.0518\n"
     ]
    },
    {
     "name": "stderr",
     "output_type": "stream",
     "text": [
      " 89%|████████▉ | 89/100 [00:18<00:02,  5.14it/s]"
     ]
    },
    {
     "name": "stdout",
     "output_type": "stream",
     "text": [
      "Epoch 88/100, Train Loss: 1.0087, Val Loss: 38.4735, Val R2: 0.8607, Val MAPE: 0.0581\n",
      "Epoch 89/100, Train Loss: 1.5177, Val Loss: 48.3235, Val R2: 0.8251, Val MAPE: 0.0720\n"
     ]
    },
    {
     "name": "stderr",
     "output_type": "stream",
     "text": [
      " 91%|█████████ | 91/100 [00:19<00:01,  5.16it/s]"
     ]
    },
    {
     "name": "stdout",
     "output_type": "stream",
     "text": [
      "Epoch 90/100, Train Loss: 1.5484, Val Loss: 58.0328, Val R2: 0.7899, Val MAPE: 0.0822\n",
      "Epoch 91/100, Train Loss: 1.2669, Val Loss: 68.4803, Val R2: 0.7521, Val MAPE: 0.0903\n"
     ]
    },
    {
     "name": "stderr",
     "output_type": "stream",
     "text": [
      " 93%|█████████▎| 93/100 [00:19<00:01,  5.20it/s]"
     ]
    },
    {
     "name": "stdout",
     "output_type": "stream",
     "text": [
      "Epoch 92/100, Train Loss: 0.8431, Val Loss: 64.0139, Val R2: 0.7683, Val MAPE: 0.0767\n",
      "Epoch 93/100, Train Loss: 1.0021, Val Loss: 45.7644, Val R2: 0.8343, Val MAPE: 0.0737\n"
     ]
    },
    {
     "name": "stderr",
     "output_type": "stream",
     "text": [
      " 95%|█████████▌| 95/100 [00:19<00:00,  5.18it/s]"
     ]
    },
    {
     "name": "stdout",
     "output_type": "stream",
     "text": [
      "Epoch 94/100, Train Loss: 1.6294, Val Loss: 38.1752, Val R2: 0.8618, Val MAPE: 0.0723\n",
      "Epoch 95/100, Train Loss: 1.6826, Val Loss: 36.8506, Val R2: 0.8666, Val MAPE: 0.0673\n"
     ]
    },
    {
     "name": "stderr",
     "output_type": "stream",
     "text": [
      " 97%|█████████▋| 97/100 [00:20<00:00,  5.22it/s]"
     ]
    },
    {
     "name": "stdout",
     "output_type": "stream",
     "text": [
      "Epoch 96/100, Train Loss: 1.0594, Val Loss: 36.5191, Val R2: 0.8678, Val MAPE: 0.0641\n",
      "Epoch 97/100, Train Loss: 0.4733, Val Loss: 37.7204, Val R2: 0.8635, Val MAPE: 0.0592\n"
     ]
    },
    {
     "name": "stderr",
     "output_type": "stream",
     "text": [
      " 98%|█████████▊| 98/100 [00:20<00:00,  4.91it/s]"
     ]
    },
    {
     "name": "stdout",
     "output_type": "stream",
     "text": [
      "Epoch 98/100, Train Loss: 0.6784, Val Loss: 39.9937, Val R2: 0.8552, Val MAPE: 0.0582\n"
     ]
    },
    {
     "name": "stderr",
     "output_type": "stream",
     "text": [
      "100%|██████████| 100/100 [00:20<00:00,  4.79it/s]"
     ]
    },
    {
     "name": "stdout",
     "output_type": "stream",
     "text": [
      "Epoch 99/100, Train Loss: 0.7456, Val Loss: 45.1229, Val R2: 0.8367, Val MAPE: 0.0643\n",
      "Epoch 100/100, Train Loss: 0.6658, Val Loss: 49.9401, Val R2: 0.8192, Val MAPE: 0.0697\n",
      "Loaded best model from BiLSTM_logs/logs_2/best_model_epoch_87_r2_0.8858.pth\n"
     ]
    },
    {
     "name": "stderr",
     "output_type": "stream",
     "text": [
      "\n"
     ]
    }
   ],
   "source": [
    "device = torch.device(\"cuda\" if torch.cuda.is_available() else \"cpu\")\n",
    "batch_size = 32\n",
    "# 加载最佳模型并进行训练和验证\n",
    "input_size = len(features)\n",
    "hidden_size = 64\n",
    "num_layers = 2\n",
    "model = BiLSTM(input_size, hidden_size, num_layers).to(device)\n",
    "num_epochs = 100\n",
    "\n",
    "train_dataset = StockDataset(train_data)\n",
    "val_dataset = StockDataset(val_data, train_dataset.mean, train_dataset.std)\n",
    "train_loader = DataLoader(train_dataset, batch_size=batch_size, shuffle=False)\n",
    "val_loader = DataLoader(val_dataset, batch_size=batch_size, shuffle=False)\n",
    "\n",
    "train_losses, val_losses, val_r2s, val_mapes, best_model_path = train_and_validate(model, train_loader, val_loader, num_epochs, device)\n"
   ]
  },
  {
   "cell_type": "code",
   "execution_count": 8,
   "metadata": {},
   "outputs": [
    {
     "name": "stdout",
     "output_type": "stream",
     "text": [
      "Using model from BiLSTM_logs/logs_2/best_model_epoch_87_r2_0.8858.pth for rolling prediction.\n"
     ]
    },
    {
     "name": "stderr",
     "output_type": "stream",
     "text": [
      "Rolling Prediction: 100%|██████████| 423/423 [08:13<00:00,  1.17s/it]\n"
     ]
    }
   ],
   "source": [
    "# 在测试集上进行滚动预测\n",
    "window_size = len(pd.concat([train_data, val_data]))  # 使用训练和验证数据作为初始窗口\n",
    "model.load_state_dict(torch.load(best_model_path))  # 确保使用验证集上表现最好的模型\n",
    "print(f'Using model from {best_model_path} for rolling prediction.')\n",
    "test_predictions = rolling_predict_with_retraining(model, train_data, val_data, test_data, window_size, device)\n"
   ]
  },
  {
   "cell_type": "code",
   "execution_count": 9,
   "metadata": {},
   "outputs": [
    {
     "name": "stdout",
     "output_type": "stream",
     "text": [
      "Test R2: 0.9467\n",
      "Test MAPE: 0.0161\n",
      "Saved predictions to BiLSTM_logs/predictions.csv\n"
     ]
    },
    {
     "data": {
      "application/vnd.plotly.v1+json": {
       "config": {
        "plotlyServerURL": "https://plot.ly"
       },
       "data": [
        {
         "mode": "lines",
         "name": "Train Loss",
         "type": "scatter",
         "x": [
          1,
          2,
          3,
          4,
          5,
          6,
          7,
          8,
          9,
          10,
          11,
          12,
          13,
          14,
          15,
          16,
          17,
          18,
          19,
          20,
          21,
          22,
          23,
          24,
          25,
          26,
          27,
          28,
          29,
          30,
          31,
          32,
          33,
          34,
          35,
          36,
          37,
          38,
          39,
          40,
          41,
          42,
          43,
          44,
          45,
          46,
          47,
          48,
          49,
          50,
          51,
          52,
          53,
          54,
          55,
          56,
          57,
          58,
          59,
          60,
          61,
          62,
          63,
          64,
          65,
          66,
          67,
          68,
          69,
          70,
          71,
          72,
          73,
          74,
          75,
          76,
          77,
          78,
          79,
          80,
          81,
          82,
          83,
          84,
          85,
          86,
          87,
          88,
          89,
          90,
          91,
          92,
          93,
          94,
          95,
          96,
          97,
          98,
          99,
          100
         ],
         "y": [
          1284.126642790737,
          622.7401095191074,
          292.95437397740835,
          209.8301894585775,
          152.42540272834577,
          119.52536534376448,
          98.53842091479763,
          79.89136302644454,
          66.20153386404257,
          53.51746883708291,
          42.89075176098445,
          34.42825263549219,
          27.839517772479827,
          22.618051063297084,
          18.527894219931433,
          15.339286004836048,
          12.888478444829996,
          11.027039338308786,
          9.659035345815258,
          8.836481359105322,
          8.448180867015227,
          7.43668308783577,
          6.188813332611843,
          6.780316061551221,
          6.450571785068254,
          4.834446037154168,
          3.853049992033966,
          3.2785203292653557,
          2.731486564677176,
          3.47120724593247,
          4.524027682019699,
          3.408473987245656,
          2.1263627061535977,
          2.1453656286625864,
          2.323585800186777,
          1.9484928467331746,
          1.3719607169278334,
          1.1546466901465153,
          1.4239200653056183,
          1.2236381040141742,
          0.9157410069413489,
          0.7434384539128962,
          0.8286362803208014,
          1.0910793158746475,
          1.5371824474331492,
          2.2928672695357384,
          3.085266065484692,
          3.7183735127824638,
          4.41524897438195,
          5.115182365373311,
          5.171995443758568,
          3.228912599752528,
          1.7522175433347158,
          1.2754945115282619,
          0.7817134845289045,
          0.556641266233539,
          0.466773792678154,
          0.36106982399999815,
          0.35090480149396774,
          0.3307878683252541,
          0.28424085582971087,
          0.27485000083702815,
          0.27238718109196547,
          0.3246883803460951,
          0.34553995276873706,
          0.5105552425541291,
          0.5305822604134971,
          1.1947345799382996,
          1.7198912422446644,
          2.139218137081287,
          3.84870174038523,
          4.789185412354047,
          5.259712952750208,
          4.378308278390731,
          1.7430601295302897,
          1.2682593353420113,
          0.9750836054725853,
          0.9170725773402854,
          0.7656025175279746,
          0.6045246275294222,
          0.5643988339944496,
          0.8225306276939784,
          1.6022335582282432,
          2.01172773067495,
          1.7957951607959668,
          1.07193053864129,
          0.5586604409277479,
          1.008697247569669,
          1.517657451014248,
          1.5483952628611068,
          1.2669035790940246,
          0.843093356917322,
          1.0021251824113306,
          1.629430453687846,
          1.68255797102594,
          1.0593721197617063,
          0.47326215651286785,
          0.6783599125283082,
          0.7456300803098105,
          0.6657891828589458
         ]
        },
        {
         "mode": "lines",
         "name": "Validation Loss",
         "type": "scatter",
         "x": [
          1,
          2,
          3,
          4,
          5,
          6,
          7,
          8,
          9,
          10,
          11,
          12,
          13,
          14,
          15,
          16,
          17,
          18,
          19,
          20,
          21,
          22,
          23,
          24,
          25,
          26,
          27,
          28,
          29,
          30,
          31,
          32,
          33,
          34,
          35,
          36,
          37,
          38,
          39,
          40,
          41,
          42,
          43,
          44,
          45,
          46,
          47,
          48,
          49,
          50,
          51,
          52,
          53,
          54,
          55,
          56,
          57,
          58,
          59,
          60,
          61,
          62,
          63,
          64,
          65,
          66,
          67,
          68,
          69,
          70,
          71,
          72,
          73,
          74,
          75,
          76,
          77,
          78,
          79,
          80,
          81,
          82,
          83,
          84,
          85,
          86,
          87,
          88,
          89,
          90,
          91,
          92,
          93,
          94,
          95,
          96,
          97,
          98,
          99,
          100
         ],
         "y": [
          4512.860247549926,
          2330.2331373587162,
          1829.6230097302318,
          1516.6441763070914,
          1275.3304262127397,
          1097.2764929540058,
          959.735689893312,
          847.2913554850414,
          750.3034073169415,
          663.6794265645495,
          588.045261044474,
          523.0246590744109,
          467.97504201810034,
          421.34135938452545,
          381.63865909689275,
          347.58277172111195,
          318.03832512917603,
          291.91625736055994,
          268.160804991186,
          246.37370423367744,
          226.55348151618912,
          208.57518823640586,
          192.93106602917055,
          179.9941115027613,
          168.6131845380075,
          158.58598699040667,
          151.40568838634434,
          145.49322719221286,
          134.23577337547167,
          122.93399493934135,
          118.2045550148868,
          112.2446070609008,
          107.4138119171357,
          100.74108692294747,
          94.62785864659315,
          89.1289668678532,
          84.05929893685516,
          79.50727319643342,
          74.76823811289474,
          70.13108139277915,
          66.3139106221453,
          62.750503295448404,
          59.91800475030829,
          57.799218301607304,
          57.14815165562742,
          60.24272938875052,
          80.87483637375239,
          124.72281339746961,
          106.01521718992284,
          71.60598739646596,
          62.71508348905123,
          63.273983740947656,
          61.44769266695666,
          57.52661071904665,
          53.40917838975875,
          50.38864822070274,
          49.43440566577855,
          49.64693567293459,
          48.422922411587464,
          46.28471117993078,
          44.6944687583346,
          44.55714689884665,
          45.1505817860938,
          46.58176246968776,
          47.408036670476726,
          50.19634717903899,
          52.68758412380895,
          57.010514591149324,
          63.528924663814564,
          45.10500573166729,
          41.24957169527133,
          55.948402368669676,
          41.35406276093432,
          39.97313446109817,
          36.85571619702514,
          38.33549279306062,
          42.54177721985698,
          48.47877634045993,
          56.52448259472142,
          57.74937128625678,
          48.08812972818606,
          36.64363494342601,
          32.50428449077719,
          34.87174136709179,
          35.33874083637486,
          32.55540522400444,
          31.547066035117272,
          38.47350696628616,
          48.32352511135079,
          58.032788978102644,
          68.48034046556823,
          64.0139319622305,
          45.76436239614995,
          38.17522353335951,
          36.85057044678186,
          36.519126436978404,
          37.720395639820914,
          39.99373782589238,
          45.12288364284843,
          49.940082277207686
         ]
        }
       ],
       "layout": {
        "template": {
         "data": {
          "bar": [
           {
            "error_x": {
             "color": "#2a3f5f"
            },
            "error_y": {
             "color": "#2a3f5f"
            },
            "marker": {
             "line": {
              "color": "#E5ECF6",
              "width": 0.5
             },
             "pattern": {
              "fillmode": "overlay",
              "size": 10,
              "solidity": 0.2
             }
            },
            "type": "bar"
           }
          ],
          "barpolar": [
           {
            "marker": {
             "line": {
              "color": "#E5ECF6",
              "width": 0.5
             },
             "pattern": {
              "fillmode": "overlay",
              "size": 10,
              "solidity": 0.2
             }
            },
            "type": "barpolar"
           }
          ],
          "carpet": [
           {
            "aaxis": {
             "endlinecolor": "#2a3f5f",
             "gridcolor": "white",
             "linecolor": "white",
             "minorgridcolor": "white",
             "startlinecolor": "#2a3f5f"
            },
            "baxis": {
             "endlinecolor": "#2a3f5f",
             "gridcolor": "white",
             "linecolor": "white",
             "minorgridcolor": "white",
             "startlinecolor": "#2a3f5f"
            },
            "type": "carpet"
           }
          ],
          "choropleth": [
           {
            "colorbar": {
             "outlinewidth": 0,
             "ticks": ""
            },
            "type": "choropleth"
           }
          ],
          "contour": [
           {
            "colorbar": {
             "outlinewidth": 0,
             "ticks": ""
            },
            "colorscale": [
             [
              0,
              "#0d0887"
             ],
             [
              0.1111111111111111,
              "#46039f"
             ],
             [
              0.2222222222222222,
              "#7201a8"
             ],
             [
              0.3333333333333333,
              "#9c179e"
             ],
             [
              0.4444444444444444,
              "#bd3786"
             ],
             [
              0.5555555555555556,
              "#d8576b"
             ],
             [
              0.6666666666666666,
              "#ed7953"
             ],
             [
              0.7777777777777778,
              "#fb9f3a"
             ],
             [
              0.8888888888888888,
              "#fdca26"
             ],
             [
              1,
              "#f0f921"
             ]
            ],
            "type": "contour"
           }
          ],
          "contourcarpet": [
           {
            "colorbar": {
             "outlinewidth": 0,
             "ticks": ""
            },
            "type": "contourcarpet"
           }
          ],
          "heatmap": [
           {
            "colorbar": {
             "outlinewidth": 0,
             "ticks": ""
            },
            "colorscale": [
             [
              0,
              "#0d0887"
             ],
             [
              0.1111111111111111,
              "#46039f"
             ],
             [
              0.2222222222222222,
              "#7201a8"
             ],
             [
              0.3333333333333333,
              "#9c179e"
             ],
             [
              0.4444444444444444,
              "#bd3786"
             ],
             [
              0.5555555555555556,
              "#d8576b"
             ],
             [
              0.6666666666666666,
              "#ed7953"
             ],
             [
              0.7777777777777778,
              "#fb9f3a"
             ],
             [
              0.8888888888888888,
              "#fdca26"
             ],
             [
              1,
              "#f0f921"
             ]
            ],
            "type": "heatmap"
           }
          ],
          "heatmapgl": [
           {
            "colorbar": {
             "outlinewidth": 0,
             "ticks": ""
            },
            "colorscale": [
             [
              0,
              "#0d0887"
             ],
             [
              0.1111111111111111,
              "#46039f"
             ],
             [
              0.2222222222222222,
              "#7201a8"
             ],
             [
              0.3333333333333333,
              "#9c179e"
             ],
             [
              0.4444444444444444,
              "#bd3786"
             ],
             [
              0.5555555555555556,
              "#d8576b"
             ],
             [
              0.6666666666666666,
              "#ed7953"
             ],
             [
              0.7777777777777778,
              "#fb9f3a"
             ],
             [
              0.8888888888888888,
              "#fdca26"
             ],
             [
              1,
              "#f0f921"
             ]
            ],
            "type": "heatmapgl"
           }
          ],
          "histogram": [
           {
            "marker": {
             "pattern": {
              "fillmode": "overlay",
              "size": 10,
              "solidity": 0.2
             }
            },
            "type": "histogram"
           }
          ],
          "histogram2d": [
           {
            "colorbar": {
             "outlinewidth": 0,
             "ticks": ""
            },
            "colorscale": [
             [
              0,
              "#0d0887"
             ],
             [
              0.1111111111111111,
              "#46039f"
             ],
             [
              0.2222222222222222,
              "#7201a8"
             ],
             [
              0.3333333333333333,
              "#9c179e"
             ],
             [
              0.4444444444444444,
              "#bd3786"
             ],
             [
              0.5555555555555556,
              "#d8576b"
             ],
             [
              0.6666666666666666,
              "#ed7953"
             ],
             [
              0.7777777777777778,
              "#fb9f3a"
             ],
             [
              0.8888888888888888,
              "#fdca26"
             ],
             [
              1,
              "#f0f921"
             ]
            ],
            "type": "histogram2d"
           }
          ],
          "histogram2dcontour": [
           {
            "colorbar": {
             "outlinewidth": 0,
             "ticks": ""
            },
            "colorscale": [
             [
              0,
              "#0d0887"
             ],
             [
              0.1111111111111111,
              "#46039f"
             ],
             [
              0.2222222222222222,
              "#7201a8"
             ],
             [
              0.3333333333333333,
              "#9c179e"
             ],
             [
              0.4444444444444444,
              "#bd3786"
             ],
             [
              0.5555555555555556,
              "#d8576b"
             ],
             [
              0.6666666666666666,
              "#ed7953"
             ],
             [
              0.7777777777777778,
              "#fb9f3a"
             ],
             [
              0.8888888888888888,
              "#fdca26"
             ],
             [
              1,
              "#f0f921"
             ]
            ],
            "type": "histogram2dcontour"
           }
          ],
          "mesh3d": [
           {
            "colorbar": {
             "outlinewidth": 0,
             "ticks": ""
            },
            "type": "mesh3d"
           }
          ],
          "parcoords": [
           {
            "line": {
             "colorbar": {
              "outlinewidth": 0,
              "ticks": ""
             }
            },
            "type": "parcoords"
           }
          ],
          "pie": [
           {
            "automargin": true,
            "type": "pie"
           }
          ],
          "scatter": [
           {
            "fillpattern": {
             "fillmode": "overlay",
             "size": 10,
             "solidity": 0.2
            },
            "type": "scatter"
           }
          ],
          "scatter3d": [
           {
            "line": {
             "colorbar": {
              "outlinewidth": 0,
              "ticks": ""
             }
            },
            "marker": {
             "colorbar": {
              "outlinewidth": 0,
              "ticks": ""
             }
            },
            "type": "scatter3d"
           }
          ],
          "scattercarpet": [
           {
            "marker": {
             "colorbar": {
              "outlinewidth": 0,
              "ticks": ""
             }
            },
            "type": "scattercarpet"
           }
          ],
          "scattergeo": [
           {
            "marker": {
             "colorbar": {
              "outlinewidth": 0,
              "ticks": ""
             }
            },
            "type": "scattergeo"
           }
          ],
          "scattergl": [
           {
            "marker": {
             "colorbar": {
              "outlinewidth": 0,
              "ticks": ""
             }
            },
            "type": "scattergl"
           }
          ],
          "scattermapbox": [
           {
            "marker": {
             "colorbar": {
              "outlinewidth": 0,
              "ticks": ""
             }
            },
            "type": "scattermapbox"
           }
          ],
          "scatterpolar": [
           {
            "marker": {
             "colorbar": {
              "outlinewidth": 0,
              "ticks": ""
             }
            },
            "type": "scatterpolar"
           }
          ],
          "scatterpolargl": [
           {
            "marker": {
             "colorbar": {
              "outlinewidth": 0,
              "ticks": ""
             }
            },
            "type": "scatterpolargl"
           }
          ],
          "scatterternary": [
           {
            "marker": {
             "colorbar": {
              "outlinewidth": 0,
              "ticks": ""
             }
            },
            "type": "scatterternary"
           }
          ],
          "surface": [
           {
            "colorbar": {
             "outlinewidth": 0,
             "ticks": ""
            },
            "colorscale": [
             [
              0,
              "#0d0887"
             ],
             [
              0.1111111111111111,
              "#46039f"
             ],
             [
              0.2222222222222222,
              "#7201a8"
             ],
             [
              0.3333333333333333,
              "#9c179e"
             ],
             [
              0.4444444444444444,
              "#bd3786"
             ],
             [
              0.5555555555555556,
              "#d8576b"
             ],
             [
              0.6666666666666666,
              "#ed7953"
             ],
             [
              0.7777777777777778,
              "#fb9f3a"
             ],
             [
              0.8888888888888888,
              "#fdca26"
             ],
             [
              1,
              "#f0f921"
             ]
            ],
            "type": "surface"
           }
          ],
          "table": [
           {
            "cells": {
             "fill": {
              "color": "#EBF0F8"
             },
             "line": {
              "color": "white"
             }
            },
            "header": {
             "fill": {
              "color": "#C8D4E3"
             },
             "line": {
              "color": "white"
             }
            },
            "type": "table"
           }
          ]
         },
         "layout": {
          "annotationdefaults": {
           "arrowcolor": "#2a3f5f",
           "arrowhead": 0,
           "arrowwidth": 1
          },
          "autotypenumbers": "strict",
          "coloraxis": {
           "colorbar": {
            "outlinewidth": 0,
            "ticks": ""
           }
          },
          "colorscale": {
           "diverging": [
            [
             0,
             "#8e0152"
            ],
            [
             0.1,
             "#c51b7d"
            ],
            [
             0.2,
             "#de77ae"
            ],
            [
             0.3,
             "#f1b6da"
            ],
            [
             0.4,
             "#fde0ef"
            ],
            [
             0.5,
             "#f7f7f7"
            ],
            [
             0.6,
             "#e6f5d0"
            ],
            [
             0.7,
             "#b8e186"
            ],
            [
             0.8,
             "#7fbc41"
            ],
            [
             0.9,
             "#4d9221"
            ],
            [
             1,
             "#276419"
            ]
           ],
           "sequential": [
            [
             0,
             "#0d0887"
            ],
            [
             0.1111111111111111,
             "#46039f"
            ],
            [
             0.2222222222222222,
             "#7201a8"
            ],
            [
             0.3333333333333333,
             "#9c179e"
            ],
            [
             0.4444444444444444,
             "#bd3786"
            ],
            [
             0.5555555555555556,
             "#d8576b"
            ],
            [
             0.6666666666666666,
             "#ed7953"
            ],
            [
             0.7777777777777778,
             "#fb9f3a"
            ],
            [
             0.8888888888888888,
             "#fdca26"
            ],
            [
             1,
             "#f0f921"
            ]
           ],
           "sequentialminus": [
            [
             0,
             "#0d0887"
            ],
            [
             0.1111111111111111,
             "#46039f"
            ],
            [
             0.2222222222222222,
             "#7201a8"
            ],
            [
             0.3333333333333333,
             "#9c179e"
            ],
            [
             0.4444444444444444,
             "#bd3786"
            ],
            [
             0.5555555555555556,
             "#d8576b"
            ],
            [
             0.6666666666666666,
             "#ed7953"
            ],
            [
             0.7777777777777778,
             "#fb9f3a"
            ],
            [
             0.8888888888888888,
             "#fdca26"
            ],
            [
             1,
             "#f0f921"
            ]
           ]
          },
          "colorway": [
           "#636efa",
           "#EF553B",
           "#00cc96",
           "#ab63fa",
           "#FFA15A",
           "#19d3f3",
           "#FF6692",
           "#B6E880",
           "#FF97FF",
           "#FECB52"
          ],
          "font": {
           "color": "#2a3f5f"
          },
          "geo": {
           "bgcolor": "white",
           "lakecolor": "white",
           "landcolor": "#E5ECF6",
           "showlakes": true,
           "showland": true,
           "subunitcolor": "white"
          },
          "hoverlabel": {
           "align": "left"
          },
          "hovermode": "closest",
          "mapbox": {
           "style": "light"
          },
          "paper_bgcolor": "white",
          "plot_bgcolor": "#E5ECF6",
          "polar": {
           "angularaxis": {
            "gridcolor": "white",
            "linecolor": "white",
            "ticks": ""
           },
           "bgcolor": "#E5ECF6",
           "radialaxis": {
            "gridcolor": "white",
            "linecolor": "white",
            "ticks": ""
           }
          },
          "scene": {
           "xaxis": {
            "backgroundcolor": "#E5ECF6",
            "gridcolor": "white",
            "gridwidth": 2,
            "linecolor": "white",
            "showbackground": true,
            "ticks": "",
            "zerolinecolor": "white"
           },
           "yaxis": {
            "backgroundcolor": "#E5ECF6",
            "gridcolor": "white",
            "gridwidth": 2,
            "linecolor": "white",
            "showbackground": true,
            "ticks": "",
            "zerolinecolor": "white"
           },
           "zaxis": {
            "backgroundcolor": "#E5ECF6",
            "gridcolor": "white",
            "gridwidth": 2,
            "linecolor": "white",
            "showbackground": true,
            "ticks": "",
            "zerolinecolor": "white"
           }
          },
          "shapedefaults": {
           "line": {
            "color": "#2a3f5f"
           }
          },
          "ternary": {
           "aaxis": {
            "gridcolor": "white",
            "linecolor": "white",
            "ticks": ""
           },
           "baxis": {
            "gridcolor": "white",
            "linecolor": "white",
            "ticks": ""
           },
           "bgcolor": "#E5ECF6",
           "caxis": {
            "gridcolor": "white",
            "linecolor": "white",
            "ticks": ""
           }
          },
          "title": {
           "x": 0.05
          },
          "xaxis": {
           "automargin": true,
           "gridcolor": "white",
           "linecolor": "white",
           "ticks": "",
           "title": {
            "standoff": 15
           },
           "zerolinecolor": "white",
           "zerolinewidth": 2
          },
          "yaxis": {
           "automargin": true,
           "gridcolor": "white",
           "linecolor": "white",
           "ticks": "",
           "title": {
            "standoff": 15
           },
           "zerolinecolor": "white",
           "zerolinewidth": 2
          }
         }
        },
        "title": {
         "text": "Train and Validation Loss"
        },
        "xaxis": {
         "title": {
          "text": "Epoch"
         }
        },
        "yaxis": {
         "title": {
          "text": "Loss"
         }
        }
       }
      },
      "text/html": [
       "<div>                            <div id=\"867f2a13-da04-43e7-878a-74814c951fba\" class=\"plotly-graph-div\" style=\"height:525px; width:100%;\"></div>            <script type=\"text/javascript\">                require([\"plotly\"], function(Plotly) {                    window.PLOTLYENV=window.PLOTLYENV || {};                                    if (document.getElementById(\"867f2a13-da04-43e7-878a-74814c951fba\")) {                    Plotly.newPlot(                        \"867f2a13-da04-43e7-878a-74814c951fba\",                        [{\"mode\":\"lines\",\"name\":\"Train Loss\",\"x\":[1,2,3,4,5,6,7,8,9,10,11,12,13,14,15,16,17,18,19,20,21,22,23,24,25,26,27,28,29,30,31,32,33,34,35,36,37,38,39,40,41,42,43,44,45,46,47,48,49,50,51,52,53,54,55,56,57,58,59,60,61,62,63,64,65,66,67,68,69,70,71,72,73,74,75,76,77,78,79,80,81,82,83,84,85,86,87,88,89,90,91,92,93,94,95,96,97,98,99,100],\"y\":[1284.126642790737,622.7401095191074,292.95437397740835,209.8301894585775,152.42540272834577,119.52536534376448,98.53842091479763,79.89136302644454,66.20153386404257,53.51746883708291,42.89075176098445,34.42825263549219,27.839517772479827,22.618051063297084,18.527894219931433,15.339286004836048,12.888478444829996,11.027039338308786,9.659035345815258,8.836481359105322,8.448180867015227,7.43668308783577,6.188813332611843,6.780316061551221,6.450571785068254,4.834446037154168,3.853049992033966,3.2785203292653557,2.731486564677176,3.47120724593247,4.524027682019699,3.408473987245656,2.1263627061535977,2.1453656286625864,2.323585800186777,1.9484928467331746,1.3719607169278334,1.1546466901465153,1.4239200653056183,1.2236381040141742,0.9157410069413489,0.7434384539128962,0.8286362803208014,1.0910793158746475,1.5371824474331492,2.2928672695357384,3.085266065484692,3.7183735127824638,4.41524897438195,5.115182365373311,5.171995443758568,3.228912599752528,1.7522175433347158,1.2754945115282619,0.7817134845289045,0.556641266233539,0.466773792678154,0.36106982399999815,0.35090480149396774,0.3307878683252541,0.28424085582971087,0.27485000083702815,0.27238718109196547,0.3246883803460951,0.34553995276873706,0.5105552425541291,0.5305822604134971,1.1947345799382996,1.7198912422446644,2.139218137081287,3.84870174038523,4.789185412354047,5.259712952750208,4.378308278390731,1.7430601295302897,1.2682593353420113,0.9750836054725853,0.9170725773402854,0.7656025175279746,0.6045246275294222,0.5643988339944496,0.8225306276939784,1.6022335582282432,2.01172773067495,1.7957951607959668,1.07193053864129,0.5586604409277479,1.008697247569669,1.517657451014248,1.5483952628611068,1.2669035790940246,0.843093356917322,1.0021251824113306,1.629430453687846,1.68255797102594,1.0593721197617063,0.47326215651286785,0.6783599125283082,0.7456300803098105,0.6657891828589458],\"type\":\"scatter\"},{\"mode\":\"lines\",\"name\":\"Validation Loss\",\"x\":[1,2,3,4,5,6,7,8,9,10,11,12,13,14,15,16,17,18,19,20,21,22,23,24,25,26,27,28,29,30,31,32,33,34,35,36,37,38,39,40,41,42,43,44,45,46,47,48,49,50,51,52,53,54,55,56,57,58,59,60,61,62,63,64,65,66,67,68,69,70,71,72,73,74,75,76,77,78,79,80,81,82,83,84,85,86,87,88,89,90,91,92,93,94,95,96,97,98,99,100],\"y\":[4512.860247549926,2330.2331373587162,1829.6230097302318,1516.6441763070914,1275.3304262127397,1097.2764929540058,959.735689893312,847.2913554850414,750.3034073169415,663.6794265645495,588.045261044474,523.0246590744109,467.97504201810034,421.34135938452545,381.63865909689275,347.58277172111195,318.03832512917603,291.91625736055994,268.160804991186,246.37370423367744,226.55348151618912,208.57518823640586,192.93106602917055,179.9941115027613,168.6131845380075,158.58598699040667,151.40568838634434,145.49322719221286,134.23577337547167,122.93399493934135,118.2045550148868,112.2446070609008,107.4138119171357,100.74108692294747,94.62785864659315,89.1289668678532,84.05929893685516,79.50727319643342,74.76823811289474,70.13108139277915,66.3139106221453,62.750503295448404,59.91800475030829,57.799218301607304,57.14815165562742,60.24272938875052,80.87483637375239,124.72281339746961,106.01521718992284,71.60598739646596,62.71508348905123,63.273983740947656,61.44769266695666,57.52661071904665,53.40917838975875,50.38864822070274,49.43440566577855,49.64693567293459,48.422922411587464,46.28471117993078,44.6944687583346,44.55714689884665,45.1505817860938,46.58176246968776,47.408036670476726,50.19634717903899,52.68758412380895,57.010514591149324,63.528924663814564,45.10500573166729,41.24957169527133,55.948402368669676,41.35406276093432,39.97313446109817,36.85571619702514,38.33549279306062,42.54177721985698,48.47877634045993,56.52448259472142,57.74937128625678,48.08812972818606,36.64363494342601,32.50428449077719,34.87174136709179,35.33874083637486,32.55540522400444,31.547066035117272,38.47350696628616,48.32352511135079,58.032788978102644,68.48034046556823,64.0139319622305,45.76436239614995,38.17522353335951,36.85057044678186,36.519126436978404,37.720395639820914,39.99373782589238,45.12288364284843,49.940082277207686],\"type\":\"scatter\"}],                        {\"template\":{\"data\":{\"histogram2dcontour\":[{\"type\":\"histogram2dcontour\",\"colorbar\":{\"outlinewidth\":0,\"ticks\":\"\"},\"colorscale\":[[0.0,\"#0d0887\"],[0.1111111111111111,\"#46039f\"],[0.2222222222222222,\"#7201a8\"],[0.3333333333333333,\"#9c179e\"],[0.4444444444444444,\"#bd3786\"],[0.5555555555555556,\"#d8576b\"],[0.6666666666666666,\"#ed7953\"],[0.7777777777777778,\"#fb9f3a\"],[0.8888888888888888,\"#fdca26\"],[1.0,\"#f0f921\"]]}],\"choropleth\":[{\"type\":\"choropleth\",\"colorbar\":{\"outlinewidth\":0,\"ticks\":\"\"}}],\"histogram2d\":[{\"type\":\"histogram2d\",\"colorbar\":{\"outlinewidth\":0,\"ticks\":\"\"},\"colorscale\":[[0.0,\"#0d0887\"],[0.1111111111111111,\"#46039f\"],[0.2222222222222222,\"#7201a8\"],[0.3333333333333333,\"#9c179e\"],[0.4444444444444444,\"#bd3786\"],[0.5555555555555556,\"#d8576b\"],[0.6666666666666666,\"#ed7953\"],[0.7777777777777778,\"#fb9f3a\"],[0.8888888888888888,\"#fdca26\"],[1.0,\"#f0f921\"]]}],\"heatmap\":[{\"type\":\"heatmap\",\"colorbar\":{\"outlinewidth\":0,\"ticks\":\"\"},\"colorscale\":[[0.0,\"#0d0887\"],[0.1111111111111111,\"#46039f\"],[0.2222222222222222,\"#7201a8\"],[0.3333333333333333,\"#9c179e\"],[0.4444444444444444,\"#bd3786\"],[0.5555555555555556,\"#d8576b\"],[0.6666666666666666,\"#ed7953\"],[0.7777777777777778,\"#fb9f3a\"],[0.8888888888888888,\"#fdca26\"],[1.0,\"#f0f921\"]]}],\"heatmapgl\":[{\"type\":\"heatmapgl\",\"colorbar\":{\"outlinewidth\":0,\"ticks\":\"\"},\"colorscale\":[[0.0,\"#0d0887\"],[0.1111111111111111,\"#46039f\"],[0.2222222222222222,\"#7201a8\"],[0.3333333333333333,\"#9c179e\"],[0.4444444444444444,\"#bd3786\"],[0.5555555555555556,\"#d8576b\"],[0.6666666666666666,\"#ed7953\"],[0.7777777777777778,\"#fb9f3a\"],[0.8888888888888888,\"#fdca26\"],[1.0,\"#f0f921\"]]}],\"contourcarpet\":[{\"type\":\"contourcarpet\",\"colorbar\":{\"outlinewidth\":0,\"ticks\":\"\"}}],\"contour\":[{\"type\":\"contour\",\"colorbar\":{\"outlinewidth\":0,\"ticks\":\"\"},\"colorscale\":[[0.0,\"#0d0887\"],[0.1111111111111111,\"#46039f\"],[0.2222222222222222,\"#7201a8\"],[0.3333333333333333,\"#9c179e\"],[0.4444444444444444,\"#bd3786\"],[0.5555555555555556,\"#d8576b\"],[0.6666666666666666,\"#ed7953\"],[0.7777777777777778,\"#fb9f3a\"],[0.8888888888888888,\"#fdca26\"],[1.0,\"#f0f921\"]]}],\"surface\":[{\"type\":\"surface\",\"colorbar\":{\"outlinewidth\":0,\"ticks\":\"\"},\"colorscale\":[[0.0,\"#0d0887\"],[0.1111111111111111,\"#46039f\"],[0.2222222222222222,\"#7201a8\"],[0.3333333333333333,\"#9c179e\"],[0.4444444444444444,\"#bd3786\"],[0.5555555555555556,\"#d8576b\"],[0.6666666666666666,\"#ed7953\"],[0.7777777777777778,\"#fb9f3a\"],[0.8888888888888888,\"#fdca26\"],[1.0,\"#f0f921\"]]}],\"mesh3d\":[{\"type\":\"mesh3d\",\"colorbar\":{\"outlinewidth\":0,\"ticks\":\"\"}}],\"scatter\":[{\"fillpattern\":{\"fillmode\":\"overlay\",\"size\":10,\"solidity\":0.2},\"type\":\"scatter\"}],\"parcoords\":[{\"type\":\"parcoords\",\"line\":{\"colorbar\":{\"outlinewidth\":0,\"ticks\":\"\"}}}],\"scatterpolargl\":[{\"type\":\"scatterpolargl\",\"marker\":{\"colorbar\":{\"outlinewidth\":0,\"ticks\":\"\"}}}],\"bar\":[{\"error_x\":{\"color\":\"#2a3f5f\"},\"error_y\":{\"color\":\"#2a3f5f\"},\"marker\":{\"line\":{\"color\":\"#E5ECF6\",\"width\":0.5},\"pattern\":{\"fillmode\":\"overlay\",\"size\":10,\"solidity\":0.2}},\"type\":\"bar\"}],\"scattergeo\":[{\"type\":\"scattergeo\",\"marker\":{\"colorbar\":{\"outlinewidth\":0,\"ticks\":\"\"}}}],\"scatterpolar\":[{\"type\":\"scatterpolar\",\"marker\":{\"colorbar\":{\"outlinewidth\":0,\"ticks\":\"\"}}}],\"histogram\":[{\"marker\":{\"pattern\":{\"fillmode\":\"overlay\",\"size\":10,\"solidity\":0.2}},\"type\":\"histogram\"}],\"scattergl\":[{\"type\":\"scattergl\",\"marker\":{\"colorbar\":{\"outlinewidth\":0,\"ticks\":\"\"}}}],\"scatter3d\":[{\"type\":\"scatter3d\",\"line\":{\"colorbar\":{\"outlinewidth\":0,\"ticks\":\"\"}},\"marker\":{\"colorbar\":{\"outlinewidth\":0,\"ticks\":\"\"}}}],\"scattermapbox\":[{\"type\":\"scattermapbox\",\"marker\":{\"colorbar\":{\"outlinewidth\":0,\"ticks\":\"\"}}}],\"scatterternary\":[{\"type\":\"scatterternary\",\"marker\":{\"colorbar\":{\"outlinewidth\":0,\"ticks\":\"\"}}}],\"scattercarpet\":[{\"type\":\"scattercarpet\",\"marker\":{\"colorbar\":{\"outlinewidth\":0,\"ticks\":\"\"}}}],\"carpet\":[{\"aaxis\":{\"endlinecolor\":\"#2a3f5f\",\"gridcolor\":\"white\",\"linecolor\":\"white\",\"minorgridcolor\":\"white\",\"startlinecolor\":\"#2a3f5f\"},\"baxis\":{\"endlinecolor\":\"#2a3f5f\",\"gridcolor\":\"white\",\"linecolor\":\"white\",\"minorgridcolor\":\"white\",\"startlinecolor\":\"#2a3f5f\"},\"type\":\"carpet\"}],\"table\":[{\"cells\":{\"fill\":{\"color\":\"#EBF0F8\"},\"line\":{\"color\":\"white\"}},\"header\":{\"fill\":{\"color\":\"#C8D4E3\"},\"line\":{\"color\":\"white\"}},\"type\":\"table\"}],\"barpolar\":[{\"marker\":{\"line\":{\"color\":\"#E5ECF6\",\"width\":0.5},\"pattern\":{\"fillmode\":\"overlay\",\"size\":10,\"solidity\":0.2}},\"type\":\"barpolar\"}],\"pie\":[{\"automargin\":true,\"type\":\"pie\"}]},\"layout\":{\"autotypenumbers\":\"strict\",\"colorway\":[\"#636efa\",\"#EF553B\",\"#00cc96\",\"#ab63fa\",\"#FFA15A\",\"#19d3f3\",\"#FF6692\",\"#B6E880\",\"#FF97FF\",\"#FECB52\"],\"font\":{\"color\":\"#2a3f5f\"},\"hovermode\":\"closest\",\"hoverlabel\":{\"align\":\"left\"},\"paper_bgcolor\":\"white\",\"plot_bgcolor\":\"#E5ECF6\",\"polar\":{\"bgcolor\":\"#E5ECF6\",\"angularaxis\":{\"gridcolor\":\"white\",\"linecolor\":\"white\",\"ticks\":\"\"},\"radialaxis\":{\"gridcolor\":\"white\",\"linecolor\":\"white\",\"ticks\":\"\"}},\"ternary\":{\"bgcolor\":\"#E5ECF6\",\"aaxis\":{\"gridcolor\":\"white\",\"linecolor\":\"white\",\"ticks\":\"\"},\"baxis\":{\"gridcolor\":\"white\",\"linecolor\":\"white\",\"ticks\":\"\"},\"caxis\":{\"gridcolor\":\"white\",\"linecolor\":\"white\",\"ticks\":\"\"}},\"coloraxis\":{\"colorbar\":{\"outlinewidth\":0,\"ticks\":\"\"}},\"colorscale\":{\"sequential\":[[0.0,\"#0d0887\"],[0.1111111111111111,\"#46039f\"],[0.2222222222222222,\"#7201a8\"],[0.3333333333333333,\"#9c179e\"],[0.4444444444444444,\"#bd3786\"],[0.5555555555555556,\"#d8576b\"],[0.6666666666666666,\"#ed7953\"],[0.7777777777777778,\"#fb9f3a\"],[0.8888888888888888,\"#fdca26\"],[1.0,\"#f0f921\"]],\"sequentialminus\":[[0.0,\"#0d0887\"],[0.1111111111111111,\"#46039f\"],[0.2222222222222222,\"#7201a8\"],[0.3333333333333333,\"#9c179e\"],[0.4444444444444444,\"#bd3786\"],[0.5555555555555556,\"#d8576b\"],[0.6666666666666666,\"#ed7953\"],[0.7777777777777778,\"#fb9f3a\"],[0.8888888888888888,\"#fdca26\"],[1.0,\"#f0f921\"]],\"diverging\":[[0,\"#8e0152\"],[0.1,\"#c51b7d\"],[0.2,\"#de77ae\"],[0.3,\"#f1b6da\"],[0.4,\"#fde0ef\"],[0.5,\"#f7f7f7\"],[0.6,\"#e6f5d0\"],[0.7,\"#b8e186\"],[0.8,\"#7fbc41\"],[0.9,\"#4d9221\"],[1,\"#276419\"]]},\"xaxis\":{\"gridcolor\":\"white\",\"linecolor\":\"white\",\"ticks\":\"\",\"title\":{\"standoff\":15},\"zerolinecolor\":\"white\",\"automargin\":true,\"zerolinewidth\":2},\"yaxis\":{\"gridcolor\":\"white\",\"linecolor\":\"white\",\"ticks\":\"\",\"title\":{\"standoff\":15},\"zerolinecolor\":\"white\",\"automargin\":true,\"zerolinewidth\":2},\"scene\":{\"xaxis\":{\"backgroundcolor\":\"#E5ECF6\",\"gridcolor\":\"white\",\"linecolor\":\"white\",\"showbackground\":true,\"ticks\":\"\",\"zerolinecolor\":\"white\",\"gridwidth\":2},\"yaxis\":{\"backgroundcolor\":\"#E5ECF6\",\"gridcolor\":\"white\",\"linecolor\":\"white\",\"showbackground\":true,\"ticks\":\"\",\"zerolinecolor\":\"white\",\"gridwidth\":2},\"zaxis\":{\"backgroundcolor\":\"#E5ECF6\",\"gridcolor\":\"white\",\"linecolor\":\"white\",\"showbackground\":true,\"ticks\":\"\",\"zerolinecolor\":\"white\",\"gridwidth\":2}},\"shapedefaults\":{\"line\":{\"color\":\"#2a3f5f\"}},\"annotationdefaults\":{\"arrowcolor\":\"#2a3f5f\",\"arrowhead\":0,\"arrowwidth\":1},\"geo\":{\"bgcolor\":\"white\",\"landcolor\":\"#E5ECF6\",\"subunitcolor\":\"white\",\"showland\":true,\"showlakes\":true,\"lakecolor\":\"white\"},\"title\":{\"x\":0.05},\"mapbox\":{\"style\":\"light\"}}},\"title\":{\"text\":\"Train and Validation Loss\"},\"xaxis\":{\"title\":{\"text\":\"Epoch\"}},\"yaxis\":{\"title\":{\"text\":\"Loss\"}}},                        {\"responsive\": true}                    ).then(function(){\n",
       "                            \n",
       "var gd = document.getElementById('867f2a13-da04-43e7-878a-74814c951fba');\n",
       "var x = new MutationObserver(function (mutations, observer) {{\n",
       "        var display = window.getComputedStyle(gd).display;\n",
       "        if (!display || display === 'none') {{\n",
       "            console.log([gd, 'removed!']);\n",
       "            Plotly.purge(gd);\n",
       "            observer.disconnect();\n",
       "        }}\n",
       "}});\n",
       "\n",
       "// Listen for the removal of the full notebook cells\n",
       "var notebookContainer = gd.closest('#notebook-container');\n",
       "if (notebookContainer) {{\n",
       "    x.observe(notebookContainer, {childList: true});\n",
       "}}\n",
       "\n",
       "// Listen for the clearing of the current output cell\n",
       "var outputEl = gd.closest('.output');\n",
       "if (outputEl) {{\n",
       "    x.observe(outputEl, {childList: true});\n",
       "}}\n",
       "\n",
       "                        })                };                });            </script>        </div>"
      ]
     },
     "metadata": {},
     "output_type": "display_data"
    },
    {
     "data": {
      "application/vnd.plotly.v1+json": {
       "config": {
        "plotlyServerURL": "https://plot.ly"
       },
       "data": [
        {
         "mode": "lines",
         "name": "Validation R2",
         "type": "scatter",
         "x": [
          1,
          2,
          3,
          4,
          5,
          6,
          7,
          8,
          9,
          10,
          11,
          12,
          13,
          14,
          15,
          16,
          17,
          18,
          19,
          20,
          21,
          22,
          23,
          24,
          25,
          26,
          27,
          28,
          29,
          30,
          31,
          32,
          33,
          34,
          35,
          36,
          37,
          38,
          39,
          40,
          41,
          42,
          43,
          44,
          45,
          46,
          47,
          48,
          49,
          50,
          51,
          52,
          53,
          54,
          55,
          56,
          57,
          58,
          59,
          60,
          61,
          62,
          63,
          64,
          65,
          66,
          67,
          68,
          69,
          70,
          71,
          72,
          73,
          74,
          75,
          76,
          77,
          78,
          79,
          80,
          81,
          82,
          83,
          84,
          85,
          86,
          87,
          88,
          89,
          90,
          91,
          92,
          93,
          94,
          95,
          96,
          97,
          98,
          99,
          100
         ],
         "y": [
          -15.335118416801073,
          -7.434702767422543,
          -5.622653345594567,
          -4.489769414426926,
          -3.6162904697827383,
          -2.9717918280958693,
          -2.473937919306114,
          -2.066925156535904,
          -1.715859659166585,
          -1.4023083889284678,
          -1.1285367953650525,
          -0.8931828564311151,
          -0.6939207697094414,
          -0.5251217209636556,
          -0.38141056826074227,
          -0.2581390827428951,
          -0.15119757740131012,
          -0.05664399056023317,
          0.029343188880200377,
          0.10820553911220787,
          0.17994846664677133,
          0.24502415572568792,
          0.3016509031740403,
          0.3484785679367146,
          0.3896739193443939,
          0.42596917412813584,
          0.45195956379062296,
          0.4733608017873788,
          0.5141092007798306,
          0.5550180471549626,
          0.5721371035313975,
          0.593710232356657,
          0.6111961681139675,
          0.6353493125913551,
          0.6574772536799472,
          0.6773814903006792,
          0.6957320729986229,
          0.7122089628277892,
          0.7293627626002175,
          0.746147796335835,
          0.7599647377288294,
          0.7728631419763239,
          0.7831158774654311,
          0.7907852145133907,
          0.7931418694866904,
          0.7819404798724862,
          0.7072588142304409,
          0.5485430903121719,
          0.6162586426616926,
          0.7408091061227386,
          0.7729913452129261,
          0.7709683094370225,
          0.7775788989922621,
          0.7917719673717752,
          0.8066757652871324,
          0.8176091199973227,
          0.8210631760236831,
          0.8202938891414537,
          0.8247244222164991,
          0.8324640674123333,
          0.8382202456323542,
          0.8387173008473894,
          0.8365692589501013,
          0.8313888351856215,
          0.828397988698743,
          0.8183051872517544,
          0.8092877070367026,
          0.7936400754704448,
          0.7700455027853875,
          0.8367342271069984,
          0.8506896714984262,
          0.797484584139549,
          0.8503114487086497,
          0.8553099691516426,
          0.8665940340924762,
          0.861237713724639,
          0.8460122942549765,
          0.8245222492186426,
          0.7953993546960676,
          0.7909656466484327,
          0.8259362664691867,
          0.8673616986718687,
          0.882344827769093,
          0.8737753894209477,
          0.8720850028272079,
          0.882159790781773,
          0.8858096557043904,
          0.8607381456731803,
          0.8250842137266758,
          0.7899397654602047,
          0.7521229571666346,
          0.7682899327400158,
          0.8343475650689289,
          0.8618178329423848,
          0.8666126562060825,
          0.867812376646884,
          0.8634641678770272,
          0.8552353916876907,
          0.8366695145374938,
          0.8192327836540758
         ]
        }
       ],
       "layout": {
        "template": {
         "data": {
          "bar": [
           {
            "error_x": {
             "color": "#2a3f5f"
            },
            "error_y": {
             "color": "#2a3f5f"
            },
            "marker": {
             "line": {
              "color": "#E5ECF6",
              "width": 0.5
             },
             "pattern": {
              "fillmode": "overlay",
              "size": 10,
              "solidity": 0.2
             }
            },
            "type": "bar"
           }
          ],
          "barpolar": [
           {
            "marker": {
             "line": {
              "color": "#E5ECF6",
              "width": 0.5
             },
             "pattern": {
              "fillmode": "overlay",
              "size": 10,
              "solidity": 0.2
             }
            },
            "type": "barpolar"
           }
          ],
          "carpet": [
           {
            "aaxis": {
             "endlinecolor": "#2a3f5f",
             "gridcolor": "white",
             "linecolor": "white",
             "minorgridcolor": "white",
             "startlinecolor": "#2a3f5f"
            },
            "baxis": {
             "endlinecolor": "#2a3f5f",
             "gridcolor": "white",
             "linecolor": "white",
             "minorgridcolor": "white",
             "startlinecolor": "#2a3f5f"
            },
            "type": "carpet"
           }
          ],
          "choropleth": [
           {
            "colorbar": {
             "outlinewidth": 0,
             "ticks": ""
            },
            "type": "choropleth"
           }
          ],
          "contour": [
           {
            "colorbar": {
             "outlinewidth": 0,
             "ticks": ""
            },
            "colorscale": [
             [
              0,
              "#0d0887"
             ],
             [
              0.1111111111111111,
              "#46039f"
             ],
             [
              0.2222222222222222,
              "#7201a8"
             ],
             [
              0.3333333333333333,
              "#9c179e"
             ],
             [
              0.4444444444444444,
              "#bd3786"
             ],
             [
              0.5555555555555556,
              "#d8576b"
             ],
             [
              0.6666666666666666,
              "#ed7953"
             ],
             [
              0.7777777777777778,
              "#fb9f3a"
             ],
             [
              0.8888888888888888,
              "#fdca26"
             ],
             [
              1,
              "#f0f921"
             ]
            ],
            "type": "contour"
           }
          ],
          "contourcarpet": [
           {
            "colorbar": {
             "outlinewidth": 0,
             "ticks": ""
            },
            "type": "contourcarpet"
           }
          ],
          "heatmap": [
           {
            "colorbar": {
             "outlinewidth": 0,
             "ticks": ""
            },
            "colorscale": [
             [
              0,
              "#0d0887"
             ],
             [
              0.1111111111111111,
              "#46039f"
             ],
             [
              0.2222222222222222,
              "#7201a8"
             ],
             [
              0.3333333333333333,
              "#9c179e"
             ],
             [
              0.4444444444444444,
              "#bd3786"
             ],
             [
              0.5555555555555556,
              "#d8576b"
             ],
             [
              0.6666666666666666,
              "#ed7953"
             ],
             [
              0.7777777777777778,
              "#fb9f3a"
             ],
             [
              0.8888888888888888,
              "#fdca26"
             ],
             [
              1,
              "#f0f921"
             ]
            ],
            "type": "heatmap"
           }
          ],
          "heatmapgl": [
           {
            "colorbar": {
             "outlinewidth": 0,
             "ticks": ""
            },
            "colorscale": [
             [
              0,
              "#0d0887"
             ],
             [
              0.1111111111111111,
              "#46039f"
             ],
             [
              0.2222222222222222,
              "#7201a8"
             ],
             [
              0.3333333333333333,
              "#9c179e"
             ],
             [
              0.4444444444444444,
              "#bd3786"
             ],
             [
              0.5555555555555556,
              "#d8576b"
             ],
             [
              0.6666666666666666,
              "#ed7953"
             ],
             [
              0.7777777777777778,
              "#fb9f3a"
             ],
             [
              0.8888888888888888,
              "#fdca26"
             ],
             [
              1,
              "#f0f921"
             ]
            ],
            "type": "heatmapgl"
           }
          ],
          "histogram": [
           {
            "marker": {
             "pattern": {
              "fillmode": "overlay",
              "size": 10,
              "solidity": 0.2
             }
            },
            "type": "histogram"
           }
          ],
          "histogram2d": [
           {
            "colorbar": {
             "outlinewidth": 0,
             "ticks": ""
            },
            "colorscale": [
             [
              0,
              "#0d0887"
             ],
             [
              0.1111111111111111,
              "#46039f"
             ],
             [
              0.2222222222222222,
              "#7201a8"
             ],
             [
              0.3333333333333333,
              "#9c179e"
             ],
             [
              0.4444444444444444,
              "#bd3786"
             ],
             [
              0.5555555555555556,
              "#d8576b"
             ],
             [
              0.6666666666666666,
              "#ed7953"
             ],
             [
              0.7777777777777778,
              "#fb9f3a"
             ],
             [
              0.8888888888888888,
              "#fdca26"
             ],
             [
              1,
              "#f0f921"
             ]
            ],
            "type": "histogram2d"
           }
          ],
          "histogram2dcontour": [
           {
            "colorbar": {
             "outlinewidth": 0,
             "ticks": ""
            },
            "colorscale": [
             [
              0,
              "#0d0887"
             ],
             [
              0.1111111111111111,
              "#46039f"
             ],
             [
              0.2222222222222222,
              "#7201a8"
             ],
             [
              0.3333333333333333,
              "#9c179e"
             ],
             [
              0.4444444444444444,
              "#bd3786"
             ],
             [
              0.5555555555555556,
              "#d8576b"
             ],
             [
              0.6666666666666666,
              "#ed7953"
             ],
             [
              0.7777777777777778,
              "#fb9f3a"
             ],
             [
              0.8888888888888888,
              "#fdca26"
             ],
             [
              1,
              "#f0f921"
             ]
            ],
            "type": "histogram2dcontour"
           }
          ],
          "mesh3d": [
           {
            "colorbar": {
             "outlinewidth": 0,
             "ticks": ""
            },
            "type": "mesh3d"
           }
          ],
          "parcoords": [
           {
            "line": {
             "colorbar": {
              "outlinewidth": 0,
              "ticks": ""
             }
            },
            "type": "parcoords"
           }
          ],
          "pie": [
           {
            "automargin": true,
            "type": "pie"
           }
          ],
          "scatter": [
           {
            "fillpattern": {
             "fillmode": "overlay",
             "size": 10,
             "solidity": 0.2
            },
            "type": "scatter"
           }
          ],
          "scatter3d": [
           {
            "line": {
             "colorbar": {
              "outlinewidth": 0,
              "ticks": ""
             }
            },
            "marker": {
             "colorbar": {
              "outlinewidth": 0,
              "ticks": ""
             }
            },
            "type": "scatter3d"
           }
          ],
          "scattercarpet": [
           {
            "marker": {
             "colorbar": {
              "outlinewidth": 0,
              "ticks": ""
             }
            },
            "type": "scattercarpet"
           }
          ],
          "scattergeo": [
           {
            "marker": {
             "colorbar": {
              "outlinewidth": 0,
              "ticks": ""
             }
            },
            "type": "scattergeo"
           }
          ],
          "scattergl": [
           {
            "marker": {
             "colorbar": {
              "outlinewidth": 0,
              "ticks": ""
             }
            },
            "type": "scattergl"
           }
          ],
          "scattermapbox": [
           {
            "marker": {
             "colorbar": {
              "outlinewidth": 0,
              "ticks": ""
             }
            },
            "type": "scattermapbox"
           }
          ],
          "scatterpolar": [
           {
            "marker": {
             "colorbar": {
              "outlinewidth": 0,
              "ticks": ""
             }
            },
            "type": "scatterpolar"
           }
          ],
          "scatterpolargl": [
           {
            "marker": {
             "colorbar": {
              "outlinewidth": 0,
              "ticks": ""
             }
            },
            "type": "scatterpolargl"
           }
          ],
          "scatterternary": [
           {
            "marker": {
             "colorbar": {
              "outlinewidth": 0,
              "ticks": ""
             }
            },
            "type": "scatterternary"
           }
          ],
          "surface": [
           {
            "colorbar": {
             "outlinewidth": 0,
             "ticks": ""
            },
            "colorscale": [
             [
              0,
              "#0d0887"
             ],
             [
              0.1111111111111111,
              "#46039f"
             ],
             [
              0.2222222222222222,
              "#7201a8"
             ],
             [
              0.3333333333333333,
              "#9c179e"
             ],
             [
              0.4444444444444444,
              "#bd3786"
             ],
             [
              0.5555555555555556,
              "#d8576b"
             ],
             [
              0.6666666666666666,
              "#ed7953"
             ],
             [
              0.7777777777777778,
              "#fb9f3a"
             ],
             [
              0.8888888888888888,
              "#fdca26"
             ],
             [
              1,
              "#f0f921"
             ]
            ],
            "type": "surface"
           }
          ],
          "table": [
           {
            "cells": {
             "fill": {
              "color": "#EBF0F8"
             },
             "line": {
              "color": "white"
             }
            },
            "header": {
             "fill": {
              "color": "#C8D4E3"
             },
             "line": {
              "color": "white"
             }
            },
            "type": "table"
           }
          ]
         },
         "layout": {
          "annotationdefaults": {
           "arrowcolor": "#2a3f5f",
           "arrowhead": 0,
           "arrowwidth": 1
          },
          "autotypenumbers": "strict",
          "coloraxis": {
           "colorbar": {
            "outlinewidth": 0,
            "ticks": ""
           }
          },
          "colorscale": {
           "diverging": [
            [
             0,
             "#8e0152"
            ],
            [
             0.1,
             "#c51b7d"
            ],
            [
             0.2,
             "#de77ae"
            ],
            [
             0.3,
             "#f1b6da"
            ],
            [
             0.4,
             "#fde0ef"
            ],
            [
             0.5,
             "#f7f7f7"
            ],
            [
             0.6,
             "#e6f5d0"
            ],
            [
             0.7,
             "#b8e186"
            ],
            [
             0.8,
             "#7fbc41"
            ],
            [
             0.9,
             "#4d9221"
            ],
            [
             1,
             "#276419"
            ]
           ],
           "sequential": [
            [
             0,
             "#0d0887"
            ],
            [
             0.1111111111111111,
             "#46039f"
            ],
            [
             0.2222222222222222,
             "#7201a8"
            ],
            [
             0.3333333333333333,
             "#9c179e"
            ],
            [
             0.4444444444444444,
             "#bd3786"
            ],
            [
             0.5555555555555556,
             "#d8576b"
            ],
            [
             0.6666666666666666,
             "#ed7953"
            ],
            [
             0.7777777777777778,
             "#fb9f3a"
            ],
            [
             0.8888888888888888,
             "#fdca26"
            ],
            [
             1,
             "#f0f921"
            ]
           ],
           "sequentialminus": [
            [
             0,
             "#0d0887"
            ],
            [
             0.1111111111111111,
             "#46039f"
            ],
            [
             0.2222222222222222,
             "#7201a8"
            ],
            [
             0.3333333333333333,
             "#9c179e"
            ],
            [
             0.4444444444444444,
             "#bd3786"
            ],
            [
             0.5555555555555556,
             "#d8576b"
            ],
            [
             0.6666666666666666,
             "#ed7953"
            ],
            [
             0.7777777777777778,
             "#fb9f3a"
            ],
            [
             0.8888888888888888,
             "#fdca26"
            ],
            [
             1,
             "#f0f921"
            ]
           ]
          },
          "colorway": [
           "#636efa",
           "#EF553B",
           "#00cc96",
           "#ab63fa",
           "#FFA15A",
           "#19d3f3",
           "#FF6692",
           "#B6E880",
           "#FF97FF",
           "#FECB52"
          ],
          "font": {
           "color": "#2a3f5f"
          },
          "geo": {
           "bgcolor": "white",
           "lakecolor": "white",
           "landcolor": "#E5ECF6",
           "showlakes": true,
           "showland": true,
           "subunitcolor": "white"
          },
          "hoverlabel": {
           "align": "left"
          },
          "hovermode": "closest",
          "mapbox": {
           "style": "light"
          },
          "paper_bgcolor": "white",
          "plot_bgcolor": "#E5ECF6",
          "polar": {
           "angularaxis": {
            "gridcolor": "white",
            "linecolor": "white",
            "ticks": ""
           },
           "bgcolor": "#E5ECF6",
           "radialaxis": {
            "gridcolor": "white",
            "linecolor": "white",
            "ticks": ""
           }
          },
          "scene": {
           "xaxis": {
            "backgroundcolor": "#E5ECF6",
            "gridcolor": "white",
            "gridwidth": 2,
            "linecolor": "white",
            "showbackground": true,
            "ticks": "",
            "zerolinecolor": "white"
           },
           "yaxis": {
            "backgroundcolor": "#E5ECF6",
            "gridcolor": "white",
            "gridwidth": 2,
            "linecolor": "white",
            "showbackground": true,
            "ticks": "",
            "zerolinecolor": "white"
           },
           "zaxis": {
            "backgroundcolor": "#E5ECF6",
            "gridcolor": "white",
            "gridwidth": 2,
            "linecolor": "white",
            "showbackground": true,
            "ticks": "",
            "zerolinecolor": "white"
           }
          },
          "shapedefaults": {
           "line": {
            "color": "#2a3f5f"
           }
          },
          "ternary": {
           "aaxis": {
            "gridcolor": "white",
            "linecolor": "white",
            "ticks": ""
           },
           "baxis": {
            "gridcolor": "white",
            "linecolor": "white",
            "ticks": ""
           },
           "bgcolor": "#E5ECF6",
           "caxis": {
            "gridcolor": "white",
            "linecolor": "white",
            "ticks": ""
           }
          },
          "title": {
           "x": 0.05
          },
          "xaxis": {
           "automargin": true,
           "gridcolor": "white",
           "linecolor": "white",
           "ticks": "",
           "title": {
            "standoff": 15
           },
           "zerolinecolor": "white",
           "zerolinewidth": 2
          },
          "yaxis": {
           "automargin": true,
           "gridcolor": "white",
           "linecolor": "white",
           "ticks": "",
           "title": {
            "standoff": 15
           },
           "zerolinecolor": "white",
           "zerolinewidth": 2
          }
         }
        },
        "title": {
         "text": "Validation R2 Over Epochs"
        },
        "xaxis": {
         "title": {
          "text": "Epoch"
         }
        },
        "yaxis": {
         "title": {
          "text": "R2"
         }
        }
       }
      },
      "text/html": [
       "<div>                            <div id=\"17292f4c-2ad8-4cc4-9dbc-9924a1852814\" class=\"plotly-graph-div\" style=\"height:525px; width:100%;\"></div>            <script type=\"text/javascript\">                require([\"plotly\"], function(Plotly) {                    window.PLOTLYENV=window.PLOTLYENV || {};                                    if (document.getElementById(\"17292f4c-2ad8-4cc4-9dbc-9924a1852814\")) {                    Plotly.newPlot(                        \"17292f4c-2ad8-4cc4-9dbc-9924a1852814\",                        [{\"mode\":\"lines\",\"name\":\"Validation R2\",\"x\":[1,2,3,4,5,6,7,8,9,10,11,12,13,14,15,16,17,18,19,20,21,22,23,24,25,26,27,28,29,30,31,32,33,34,35,36,37,38,39,40,41,42,43,44,45,46,47,48,49,50,51,52,53,54,55,56,57,58,59,60,61,62,63,64,65,66,67,68,69,70,71,72,73,74,75,76,77,78,79,80,81,82,83,84,85,86,87,88,89,90,91,92,93,94,95,96,97,98,99,100],\"y\":[-15.335118416801073,-7.434702767422543,-5.622653345594567,-4.489769414426926,-3.6162904697827383,-2.9717918280958693,-2.473937919306114,-2.066925156535904,-1.715859659166585,-1.4023083889284678,-1.1285367953650525,-0.8931828564311151,-0.6939207697094414,-0.5251217209636556,-0.38141056826074227,-0.2581390827428951,-0.15119757740131012,-0.05664399056023317,0.029343188880200377,0.10820553911220787,0.17994846664677133,0.24502415572568792,0.3016509031740403,0.3484785679367146,0.3896739193443939,0.42596917412813584,0.45195956379062296,0.4733608017873788,0.5141092007798306,0.5550180471549626,0.5721371035313975,0.593710232356657,0.6111961681139675,0.6353493125913551,0.6574772536799472,0.6773814903006792,0.6957320729986229,0.7122089628277892,0.7293627626002175,0.746147796335835,0.7599647377288294,0.7728631419763239,0.7831158774654311,0.7907852145133907,0.7931418694866904,0.7819404798724862,0.7072588142304409,0.5485430903121719,0.6162586426616926,0.7408091061227386,0.7729913452129261,0.7709683094370225,0.7775788989922621,0.7917719673717752,0.8066757652871324,0.8176091199973227,0.8210631760236831,0.8202938891414537,0.8247244222164991,0.8324640674123333,0.8382202456323542,0.8387173008473894,0.8365692589501013,0.8313888351856215,0.828397988698743,0.8183051872517544,0.8092877070367026,0.7936400754704448,0.7700455027853875,0.8367342271069984,0.8506896714984262,0.797484584139549,0.8503114487086497,0.8553099691516426,0.8665940340924762,0.861237713724639,0.8460122942549765,0.8245222492186426,0.7953993546960676,0.7909656466484327,0.8259362664691867,0.8673616986718687,0.882344827769093,0.8737753894209477,0.8720850028272079,0.882159790781773,0.8858096557043904,0.8607381456731803,0.8250842137266758,0.7899397654602047,0.7521229571666346,0.7682899327400158,0.8343475650689289,0.8618178329423848,0.8666126562060825,0.867812376646884,0.8634641678770272,0.8552353916876907,0.8366695145374938,0.8192327836540758],\"type\":\"scatter\"}],                        {\"template\":{\"data\":{\"histogram2dcontour\":[{\"type\":\"histogram2dcontour\",\"colorbar\":{\"outlinewidth\":0,\"ticks\":\"\"},\"colorscale\":[[0.0,\"#0d0887\"],[0.1111111111111111,\"#46039f\"],[0.2222222222222222,\"#7201a8\"],[0.3333333333333333,\"#9c179e\"],[0.4444444444444444,\"#bd3786\"],[0.5555555555555556,\"#d8576b\"],[0.6666666666666666,\"#ed7953\"],[0.7777777777777778,\"#fb9f3a\"],[0.8888888888888888,\"#fdca26\"],[1.0,\"#f0f921\"]]}],\"choropleth\":[{\"type\":\"choropleth\",\"colorbar\":{\"outlinewidth\":0,\"ticks\":\"\"}}],\"histogram2d\":[{\"type\":\"histogram2d\",\"colorbar\":{\"outlinewidth\":0,\"ticks\":\"\"},\"colorscale\":[[0.0,\"#0d0887\"],[0.1111111111111111,\"#46039f\"],[0.2222222222222222,\"#7201a8\"],[0.3333333333333333,\"#9c179e\"],[0.4444444444444444,\"#bd3786\"],[0.5555555555555556,\"#d8576b\"],[0.6666666666666666,\"#ed7953\"],[0.7777777777777778,\"#fb9f3a\"],[0.8888888888888888,\"#fdca26\"],[1.0,\"#f0f921\"]]}],\"heatmap\":[{\"type\":\"heatmap\",\"colorbar\":{\"outlinewidth\":0,\"ticks\":\"\"},\"colorscale\":[[0.0,\"#0d0887\"],[0.1111111111111111,\"#46039f\"],[0.2222222222222222,\"#7201a8\"],[0.3333333333333333,\"#9c179e\"],[0.4444444444444444,\"#bd3786\"],[0.5555555555555556,\"#d8576b\"],[0.6666666666666666,\"#ed7953\"],[0.7777777777777778,\"#fb9f3a\"],[0.8888888888888888,\"#fdca26\"],[1.0,\"#f0f921\"]]}],\"heatmapgl\":[{\"type\":\"heatmapgl\",\"colorbar\":{\"outlinewidth\":0,\"ticks\":\"\"},\"colorscale\":[[0.0,\"#0d0887\"],[0.1111111111111111,\"#46039f\"],[0.2222222222222222,\"#7201a8\"],[0.3333333333333333,\"#9c179e\"],[0.4444444444444444,\"#bd3786\"],[0.5555555555555556,\"#d8576b\"],[0.6666666666666666,\"#ed7953\"],[0.7777777777777778,\"#fb9f3a\"],[0.8888888888888888,\"#fdca26\"],[1.0,\"#f0f921\"]]}],\"contourcarpet\":[{\"type\":\"contourcarpet\",\"colorbar\":{\"outlinewidth\":0,\"ticks\":\"\"}}],\"contour\":[{\"type\":\"contour\",\"colorbar\":{\"outlinewidth\":0,\"ticks\":\"\"},\"colorscale\":[[0.0,\"#0d0887\"],[0.1111111111111111,\"#46039f\"],[0.2222222222222222,\"#7201a8\"],[0.3333333333333333,\"#9c179e\"],[0.4444444444444444,\"#bd3786\"],[0.5555555555555556,\"#d8576b\"],[0.6666666666666666,\"#ed7953\"],[0.7777777777777778,\"#fb9f3a\"],[0.8888888888888888,\"#fdca26\"],[1.0,\"#f0f921\"]]}],\"surface\":[{\"type\":\"surface\",\"colorbar\":{\"outlinewidth\":0,\"ticks\":\"\"},\"colorscale\":[[0.0,\"#0d0887\"],[0.1111111111111111,\"#46039f\"],[0.2222222222222222,\"#7201a8\"],[0.3333333333333333,\"#9c179e\"],[0.4444444444444444,\"#bd3786\"],[0.5555555555555556,\"#d8576b\"],[0.6666666666666666,\"#ed7953\"],[0.7777777777777778,\"#fb9f3a\"],[0.8888888888888888,\"#fdca26\"],[1.0,\"#f0f921\"]]}],\"mesh3d\":[{\"type\":\"mesh3d\",\"colorbar\":{\"outlinewidth\":0,\"ticks\":\"\"}}],\"scatter\":[{\"fillpattern\":{\"fillmode\":\"overlay\",\"size\":10,\"solidity\":0.2},\"type\":\"scatter\"}],\"parcoords\":[{\"type\":\"parcoords\",\"line\":{\"colorbar\":{\"outlinewidth\":0,\"ticks\":\"\"}}}],\"scatterpolargl\":[{\"type\":\"scatterpolargl\",\"marker\":{\"colorbar\":{\"outlinewidth\":0,\"ticks\":\"\"}}}],\"bar\":[{\"error_x\":{\"color\":\"#2a3f5f\"},\"error_y\":{\"color\":\"#2a3f5f\"},\"marker\":{\"line\":{\"color\":\"#E5ECF6\",\"width\":0.5},\"pattern\":{\"fillmode\":\"overlay\",\"size\":10,\"solidity\":0.2}},\"type\":\"bar\"}],\"scattergeo\":[{\"type\":\"scattergeo\",\"marker\":{\"colorbar\":{\"outlinewidth\":0,\"ticks\":\"\"}}}],\"scatterpolar\":[{\"type\":\"scatterpolar\",\"marker\":{\"colorbar\":{\"outlinewidth\":0,\"ticks\":\"\"}}}],\"histogram\":[{\"marker\":{\"pattern\":{\"fillmode\":\"overlay\",\"size\":10,\"solidity\":0.2}},\"type\":\"histogram\"}],\"scattergl\":[{\"type\":\"scattergl\",\"marker\":{\"colorbar\":{\"outlinewidth\":0,\"ticks\":\"\"}}}],\"scatter3d\":[{\"type\":\"scatter3d\",\"line\":{\"colorbar\":{\"outlinewidth\":0,\"ticks\":\"\"}},\"marker\":{\"colorbar\":{\"outlinewidth\":0,\"ticks\":\"\"}}}],\"scattermapbox\":[{\"type\":\"scattermapbox\",\"marker\":{\"colorbar\":{\"outlinewidth\":0,\"ticks\":\"\"}}}],\"scatterternary\":[{\"type\":\"scatterternary\",\"marker\":{\"colorbar\":{\"outlinewidth\":0,\"ticks\":\"\"}}}],\"scattercarpet\":[{\"type\":\"scattercarpet\",\"marker\":{\"colorbar\":{\"outlinewidth\":0,\"ticks\":\"\"}}}],\"carpet\":[{\"aaxis\":{\"endlinecolor\":\"#2a3f5f\",\"gridcolor\":\"white\",\"linecolor\":\"white\",\"minorgridcolor\":\"white\",\"startlinecolor\":\"#2a3f5f\"},\"baxis\":{\"endlinecolor\":\"#2a3f5f\",\"gridcolor\":\"white\",\"linecolor\":\"white\",\"minorgridcolor\":\"white\",\"startlinecolor\":\"#2a3f5f\"},\"type\":\"carpet\"}],\"table\":[{\"cells\":{\"fill\":{\"color\":\"#EBF0F8\"},\"line\":{\"color\":\"white\"}},\"header\":{\"fill\":{\"color\":\"#C8D4E3\"},\"line\":{\"color\":\"white\"}},\"type\":\"table\"}],\"barpolar\":[{\"marker\":{\"line\":{\"color\":\"#E5ECF6\",\"width\":0.5},\"pattern\":{\"fillmode\":\"overlay\",\"size\":10,\"solidity\":0.2}},\"type\":\"barpolar\"}],\"pie\":[{\"automargin\":true,\"type\":\"pie\"}]},\"layout\":{\"autotypenumbers\":\"strict\",\"colorway\":[\"#636efa\",\"#EF553B\",\"#00cc96\",\"#ab63fa\",\"#FFA15A\",\"#19d3f3\",\"#FF6692\",\"#B6E880\",\"#FF97FF\",\"#FECB52\"],\"font\":{\"color\":\"#2a3f5f\"},\"hovermode\":\"closest\",\"hoverlabel\":{\"align\":\"left\"},\"paper_bgcolor\":\"white\",\"plot_bgcolor\":\"#E5ECF6\",\"polar\":{\"bgcolor\":\"#E5ECF6\",\"angularaxis\":{\"gridcolor\":\"white\",\"linecolor\":\"white\",\"ticks\":\"\"},\"radialaxis\":{\"gridcolor\":\"white\",\"linecolor\":\"white\",\"ticks\":\"\"}},\"ternary\":{\"bgcolor\":\"#E5ECF6\",\"aaxis\":{\"gridcolor\":\"white\",\"linecolor\":\"white\",\"ticks\":\"\"},\"baxis\":{\"gridcolor\":\"white\",\"linecolor\":\"white\",\"ticks\":\"\"},\"caxis\":{\"gridcolor\":\"white\",\"linecolor\":\"white\",\"ticks\":\"\"}},\"coloraxis\":{\"colorbar\":{\"outlinewidth\":0,\"ticks\":\"\"}},\"colorscale\":{\"sequential\":[[0.0,\"#0d0887\"],[0.1111111111111111,\"#46039f\"],[0.2222222222222222,\"#7201a8\"],[0.3333333333333333,\"#9c179e\"],[0.4444444444444444,\"#bd3786\"],[0.5555555555555556,\"#d8576b\"],[0.6666666666666666,\"#ed7953\"],[0.7777777777777778,\"#fb9f3a\"],[0.8888888888888888,\"#fdca26\"],[1.0,\"#f0f921\"]],\"sequentialminus\":[[0.0,\"#0d0887\"],[0.1111111111111111,\"#46039f\"],[0.2222222222222222,\"#7201a8\"],[0.3333333333333333,\"#9c179e\"],[0.4444444444444444,\"#bd3786\"],[0.5555555555555556,\"#d8576b\"],[0.6666666666666666,\"#ed7953\"],[0.7777777777777778,\"#fb9f3a\"],[0.8888888888888888,\"#fdca26\"],[1.0,\"#f0f921\"]],\"diverging\":[[0,\"#8e0152\"],[0.1,\"#c51b7d\"],[0.2,\"#de77ae\"],[0.3,\"#f1b6da\"],[0.4,\"#fde0ef\"],[0.5,\"#f7f7f7\"],[0.6,\"#e6f5d0\"],[0.7,\"#b8e186\"],[0.8,\"#7fbc41\"],[0.9,\"#4d9221\"],[1,\"#276419\"]]},\"xaxis\":{\"gridcolor\":\"white\",\"linecolor\":\"white\",\"ticks\":\"\",\"title\":{\"standoff\":15},\"zerolinecolor\":\"white\",\"automargin\":true,\"zerolinewidth\":2},\"yaxis\":{\"gridcolor\":\"white\",\"linecolor\":\"white\",\"ticks\":\"\",\"title\":{\"standoff\":15},\"zerolinecolor\":\"white\",\"automargin\":true,\"zerolinewidth\":2},\"scene\":{\"xaxis\":{\"backgroundcolor\":\"#E5ECF6\",\"gridcolor\":\"white\",\"linecolor\":\"white\",\"showbackground\":true,\"ticks\":\"\",\"zerolinecolor\":\"white\",\"gridwidth\":2},\"yaxis\":{\"backgroundcolor\":\"#E5ECF6\",\"gridcolor\":\"white\",\"linecolor\":\"white\",\"showbackground\":true,\"ticks\":\"\",\"zerolinecolor\":\"white\",\"gridwidth\":2},\"zaxis\":{\"backgroundcolor\":\"#E5ECF6\",\"gridcolor\":\"white\",\"linecolor\":\"white\",\"showbackground\":true,\"ticks\":\"\",\"zerolinecolor\":\"white\",\"gridwidth\":2}},\"shapedefaults\":{\"line\":{\"color\":\"#2a3f5f\"}},\"annotationdefaults\":{\"arrowcolor\":\"#2a3f5f\",\"arrowhead\":0,\"arrowwidth\":1},\"geo\":{\"bgcolor\":\"white\",\"landcolor\":\"#E5ECF6\",\"subunitcolor\":\"white\",\"showland\":true,\"showlakes\":true,\"lakecolor\":\"white\"},\"title\":{\"x\":0.05},\"mapbox\":{\"style\":\"light\"}}},\"title\":{\"text\":\"Validation R2 Over Epochs\"},\"xaxis\":{\"title\":{\"text\":\"Epoch\"}},\"yaxis\":{\"title\":{\"text\":\"R2\"}}},                        {\"responsive\": true}                    ).then(function(){\n",
       "                            \n",
       "var gd = document.getElementById('17292f4c-2ad8-4cc4-9dbc-9924a1852814');\n",
       "var x = new MutationObserver(function (mutations, observer) {{\n",
       "        var display = window.getComputedStyle(gd).display;\n",
       "        if (!display || display === 'none') {{\n",
       "            console.log([gd, 'removed!']);\n",
       "            Plotly.purge(gd);\n",
       "            observer.disconnect();\n",
       "        }}\n",
       "}});\n",
       "\n",
       "// Listen for the removal of the full notebook cells\n",
       "var notebookContainer = gd.closest('#notebook-container');\n",
       "if (notebookContainer) {{\n",
       "    x.observe(notebookContainer, {childList: true});\n",
       "}}\n",
       "\n",
       "// Listen for the clearing of the current output cell\n",
       "var outputEl = gd.closest('.output');\n",
       "if (outputEl) {{\n",
       "    x.observe(outputEl, {childList: true});\n",
       "}}\n",
       "\n",
       "                        })                };                });            </script>        </div>"
      ]
     },
     "metadata": {},
     "output_type": "display_data"
    },
    {
     "data": {
      "application/vnd.plotly.v1+json": {
       "config": {
        "plotlyServerURL": "https://plot.ly"
       },
       "data": [
        {
         "mode": "lines",
         "name": "Validation MAPE",
         "type": "scatter",
         "x": [
          1,
          2,
          3,
          4,
          5,
          6,
          7,
          8,
          9,
          10,
          11,
          12,
          13,
          14,
          15,
          16,
          17,
          18,
          19,
          20,
          21,
          22,
          23,
          24,
          25,
          26,
          27,
          28,
          29,
          30,
          31,
          32,
          33,
          34,
          35,
          36,
          37,
          38,
          39,
          40,
          41,
          42,
          43,
          44,
          45,
          46,
          47,
          48,
          49,
          50,
          51,
          52,
          53,
          54,
          55,
          56,
          57,
          58,
          59,
          60,
          61,
          62,
          63,
          64,
          65,
          66,
          67,
          68,
          69,
          70,
          71,
          72,
          73,
          74,
          75,
          76,
          77,
          78,
          79,
          80,
          81,
          82,
          83,
          84,
          85,
          86,
          87,
          88,
          89,
          90,
          91,
          92,
          93,
          94,
          95,
          96,
          97,
          98,
          99,
          100
         ],
         "y": [
          0.9478490948677063,
          0.6431586742401123,
          0.5453334450721741,
          0.4792923927307129,
          0.4230082333087921,
          0.3776453137397766,
          0.339926153421402,
          0.310075968503952,
          0.2860838770866394,
          0.26508891582489014,
          0.2477869838476181,
          0.23579192161560059,
          0.22730904817581177,
          0.22024720907211304,
          0.21372312307357788,
          0.20702067017555237,
          0.19998793303966522,
          0.192326620221138,
          0.18318288028240204,
          0.17257092893123627,
          0.1607062667608261,
          0.14697489142417908,
          0.133271723985672,
          0.12578104436397552,
          0.12044776231050491,
          0.1164383590221405,
          0.11564541608095169,
          0.11366046965122223,
          0.11277882009744644,
          0.11551236361265182,
          0.11693321168422699,
          0.10621561110019684,
          0.09958304464817047,
          0.0933837741613388,
          0.08976586908102036,
          0.08727622032165527,
          0.08470232039690018,
          0.08208471536636353,
          0.07761415839195251,
          0.07410412281751633,
          0.0723877102136612,
          0.06868269294500351,
          0.06577444821596146,
          0.06503834575414658,
          0.06640033423900604,
          0.07249536365270615,
          0.09689807891845703,
          0.1236300840973854,
          0.10155904293060303,
          0.10028889030218124,
          0.09328080713748932,
          0.08826272189617157,
          0.08253531157970428,
          0.07627955079078674,
          0.07178943604230881,
          0.06923368573188782,
          0.0677403137087822,
          0.06679613888263702,
          0.0654628649353981,
          0.0633295550942421,
          0.06203426420688629,
          0.061705175787210464,
          0.062090422958135605,
          0.06290119886398315,
          0.06422819942235947,
          0.06574719399213791,
          0.07224739342927933,
          0.07228579372167587,
          0.07768793404102325,
          0.071394182741642,
          0.077643021941185,
          0.10208446532487869,
          0.071604885160923,
          0.0670429915189743,
          0.057742778211832047,
          0.05854092165827751,
          0.06224685162305832,
          0.06786089390516281,
          0.07781057804822922,
          0.07673218101263046,
          0.06563504040241241,
          0.06346232444047928,
          0.0645374208688736,
          0.07067282497882843,
          0.06921875476837158,
          0.060814306139945984,
          0.0518404096364975,
          0.058143772184848785,
          0.07198262214660645,
          0.08216776698827744,
          0.0902712345123291,
          0.07670112699270248,
          0.07373180240392685,
          0.07229312509298325,
          0.06734998524188995,
          0.06411592662334442,
          0.05922926962375641,
          0.05817166343331337,
          0.06430944055318832,
          0.06966782361268997
         ]
        }
       ],
       "layout": {
        "template": {
         "data": {
          "bar": [
           {
            "error_x": {
             "color": "#2a3f5f"
            },
            "error_y": {
             "color": "#2a3f5f"
            },
            "marker": {
             "line": {
              "color": "#E5ECF6",
              "width": 0.5
             },
             "pattern": {
              "fillmode": "overlay",
              "size": 10,
              "solidity": 0.2
             }
            },
            "type": "bar"
           }
          ],
          "barpolar": [
           {
            "marker": {
             "line": {
              "color": "#E5ECF6",
              "width": 0.5
             },
             "pattern": {
              "fillmode": "overlay",
              "size": 10,
              "solidity": 0.2
             }
            },
            "type": "barpolar"
           }
          ],
          "carpet": [
           {
            "aaxis": {
             "endlinecolor": "#2a3f5f",
             "gridcolor": "white",
             "linecolor": "white",
             "minorgridcolor": "white",
             "startlinecolor": "#2a3f5f"
            },
            "baxis": {
             "endlinecolor": "#2a3f5f",
             "gridcolor": "white",
             "linecolor": "white",
             "minorgridcolor": "white",
             "startlinecolor": "#2a3f5f"
            },
            "type": "carpet"
           }
          ],
          "choropleth": [
           {
            "colorbar": {
             "outlinewidth": 0,
             "ticks": ""
            },
            "type": "choropleth"
           }
          ],
          "contour": [
           {
            "colorbar": {
             "outlinewidth": 0,
             "ticks": ""
            },
            "colorscale": [
             [
              0,
              "#0d0887"
             ],
             [
              0.1111111111111111,
              "#46039f"
             ],
             [
              0.2222222222222222,
              "#7201a8"
             ],
             [
              0.3333333333333333,
              "#9c179e"
             ],
             [
              0.4444444444444444,
              "#bd3786"
             ],
             [
              0.5555555555555556,
              "#d8576b"
             ],
             [
              0.6666666666666666,
              "#ed7953"
             ],
             [
              0.7777777777777778,
              "#fb9f3a"
             ],
             [
              0.8888888888888888,
              "#fdca26"
             ],
             [
              1,
              "#f0f921"
             ]
            ],
            "type": "contour"
           }
          ],
          "contourcarpet": [
           {
            "colorbar": {
             "outlinewidth": 0,
             "ticks": ""
            },
            "type": "contourcarpet"
           }
          ],
          "heatmap": [
           {
            "colorbar": {
             "outlinewidth": 0,
             "ticks": ""
            },
            "colorscale": [
             [
              0,
              "#0d0887"
             ],
             [
              0.1111111111111111,
              "#46039f"
             ],
             [
              0.2222222222222222,
              "#7201a8"
             ],
             [
              0.3333333333333333,
              "#9c179e"
             ],
             [
              0.4444444444444444,
              "#bd3786"
             ],
             [
              0.5555555555555556,
              "#d8576b"
             ],
             [
              0.6666666666666666,
              "#ed7953"
             ],
             [
              0.7777777777777778,
              "#fb9f3a"
             ],
             [
              0.8888888888888888,
              "#fdca26"
             ],
             [
              1,
              "#f0f921"
             ]
            ],
            "type": "heatmap"
           }
          ],
          "heatmapgl": [
           {
            "colorbar": {
             "outlinewidth": 0,
             "ticks": ""
            },
            "colorscale": [
             [
              0,
              "#0d0887"
             ],
             [
              0.1111111111111111,
              "#46039f"
             ],
             [
              0.2222222222222222,
              "#7201a8"
             ],
             [
              0.3333333333333333,
              "#9c179e"
             ],
             [
              0.4444444444444444,
              "#bd3786"
             ],
             [
              0.5555555555555556,
              "#d8576b"
             ],
             [
              0.6666666666666666,
              "#ed7953"
             ],
             [
              0.7777777777777778,
              "#fb9f3a"
             ],
             [
              0.8888888888888888,
              "#fdca26"
             ],
             [
              1,
              "#f0f921"
             ]
            ],
            "type": "heatmapgl"
           }
          ],
          "histogram": [
           {
            "marker": {
             "pattern": {
              "fillmode": "overlay",
              "size": 10,
              "solidity": 0.2
             }
            },
            "type": "histogram"
           }
          ],
          "histogram2d": [
           {
            "colorbar": {
             "outlinewidth": 0,
             "ticks": ""
            },
            "colorscale": [
             [
              0,
              "#0d0887"
             ],
             [
              0.1111111111111111,
              "#46039f"
             ],
             [
              0.2222222222222222,
              "#7201a8"
             ],
             [
              0.3333333333333333,
              "#9c179e"
             ],
             [
              0.4444444444444444,
              "#bd3786"
             ],
             [
              0.5555555555555556,
              "#d8576b"
             ],
             [
              0.6666666666666666,
              "#ed7953"
             ],
             [
              0.7777777777777778,
              "#fb9f3a"
             ],
             [
              0.8888888888888888,
              "#fdca26"
             ],
             [
              1,
              "#f0f921"
             ]
            ],
            "type": "histogram2d"
           }
          ],
          "histogram2dcontour": [
           {
            "colorbar": {
             "outlinewidth": 0,
             "ticks": ""
            },
            "colorscale": [
             [
              0,
              "#0d0887"
             ],
             [
              0.1111111111111111,
              "#46039f"
             ],
             [
              0.2222222222222222,
              "#7201a8"
             ],
             [
              0.3333333333333333,
              "#9c179e"
             ],
             [
              0.4444444444444444,
              "#bd3786"
             ],
             [
              0.5555555555555556,
              "#d8576b"
             ],
             [
              0.6666666666666666,
              "#ed7953"
             ],
             [
              0.7777777777777778,
              "#fb9f3a"
             ],
             [
              0.8888888888888888,
              "#fdca26"
             ],
             [
              1,
              "#f0f921"
             ]
            ],
            "type": "histogram2dcontour"
           }
          ],
          "mesh3d": [
           {
            "colorbar": {
             "outlinewidth": 0,
             "ticks": ""
            },
            "type": "mesh3d"
           }
          ],
          "parcoords": [
           {
            "line": {
             "colorbar": {
              "outlinewidth": 0,
              "ticks": ""
             }
            },
            "type": "parcoords"
           }
          ],
          "pie": [
           {
            "automargin": true,
            "type": "pie"
           }
          ],
          "scatter": [
           {
            "fillpattern": {
             "fillmode": "overlay",
             "size": 10,
             "solidity": 0.2
            },
            "type": "scatter"
           }
          ],
          "scatter3d": [
           {
            "line": {
             "colorbar": {
              "outlinewidth": 0,
              "ticks": ""
             }
            },
            "marker": {
             "colorbar": {
              "outlinewidth": 0,
              "ticks": ""
             }
            },
            "type": "scatter3d"
           }
          ],
          "scattercarpet": [
           {
            "marker": {
             "colorbar": {
              "outlinewidth": 0,
              "ticks": ""
             }
            },
            "type": "scattercarpet"
           }
          ],
          "scattergeo": [
           {
            "marker": {
             "colorbar": {
              "outlinewidth": 0,
              "ticks": ""
             }
            },
            "type": "scattergeo"
           }
          ],
          "scattergl": [
           {
            "marker": {
             "colorbar": {
              "outlinewidth": 0,
              "ticks": ""
             }
            },
            "type": "scattergl"
           }
          ],
          "scattermapbox": [
           {
            "marker": {
             "colorbar": {
              "outlinewidth": 0,
              "ticks": ""
             }
            },
            "type": "scattermapbox"
           }
          ],
          "scatterpolar": [
           {
            "marker": {
             "colorbar": {
              "outlinewidth": 0,
              "ticks": ""
             }
            },
            "type": "scatterpolar"
           }
          ],
          "scatterpolargl": [
           {
            "marker": {
             "colorbar": {
              "outlinewidth": 0,
              "ticks": ""
             }
            },
            "type": "scatterpolargl"
           }
          ],
          "scatterternary": [
           {
            "marker": {
             "colorbar": {
              "outlinewidth": 0,
              "ticks": ""
             }
            },
            "type": "scatterternary"
           }
          ],
          "surface": [
           {
            "colorbar": {
             "outlinewidth": 0,
             "ticks": ""
            },
            "colorscale": [
             [
              0,
              "#0d0887"
             ],
             [
              0.1111111111111111,
              "#46039f"
             ],
             [
              0.2222222222222222,
              "#7201a8"
             ],
             [
              0.3333333333333333,
              "#9c179e"
             ],
             [
              0.4444444444444444,
              "#bd3786"
             ],
             [
              0.5555555555555556,
              "#d8576b"
             ],
             [
              0.6666666666666666,
              "#ed7953"
             ],
             [
              0.7777777777777778,
              "#fb9f3a"
             ],
             [
              0.8888888888888888,
              "#fdca26"
             ],
             [
              1,
              "#f0f921"
             ]
            ],
            "type": "surface"
           }
          ],
          "table": [
           {
            "cells": {
             "fill": {
              "color": "#EBF0F8"
             },
             "line": {
              "color": "white"
             }
            },
            "header": {
             "fill": {
              "color": "#C8D4E3"
             },
             "line": {
              "color": "white"
             }
            },
            "type": "table"
           }
          ]
         },
         "layout": {
          "annotationdefaults": {
           "arrowcolor": "#2a3f5f",
           "arrowhead": 0,
           "arrowwidth": 1
          },
          "autotypenumbers": "strict",
          "coloraxis": {
           "colorbar": {
            "outlinewidth": 0,
            "ticks": ""
           }
          },
          "colorscale": {
           "diverging": [
            [
             0,
             "#8e0152"
            ],
            [
             0.1,
             "#c51b7d"
            ],
            [
             0.2,
             "#de77ae"
            ],
            [
             0.3,
             "#f1b6da"
            ],
            [
             0.4,
             "#fde0ef"
            ],
            [
             0.5,
             "#f7f7f7"
            ],
            [
             0.6,
             "#e6f5d0"
            ],
            [
             0.7,
             "#b8e186"
            ],
            [
             0.8,
             "#7fbc41"
            ],
            [
             0.9,
             "#4d9221"
            ],
            [
             1,
             "#276419"
            ]
           ],
           "sequential": [
            [
             0,
             "#0d0887"
            ],
            [
             0.1111111111111111,
             "#46039f"
            ],
            [
             0.2222222222222222,
             "#7201a8"
            ],
            [
             0.3333333333333333,
             "#9c179e"
            ],
            [
             0.4444444444444444,
             "#bd3786"
            ],
            [
             0.5555555555555556,
             "#d8576b"
            ],
            [
             0.6666666666666666,
             "#ed7953"
            ],
            [
             0.7777777777777778,
             "#fb9f3a"
            ],
            [
             0.8888888888888888,
             "#fdca26"
            ],
            [
             1,
             "#f0f921"
            ]
           ],
           "sequentialminus": [
            [
             0,
             "#0d0887"
            ],
            [
             0.1111111111111111,
             "#46039f"
            ],
            [
             0.2222222222222222,
             "#7201a8"
            ],
            [
             0.3333333333333333,
             "#9c179e"
            ],
            [
             0.4444444444444444,
             "#bd3786"
            ],
            [
             0.5555555555555556,
             "#d8576b"
            ],
            [
             0.6666666666666666,
             "#ed7953"
            ],
            [
             0.7777777777777778,
             "#fb9f3a"
            ],
            [
             0.8888888888888888,
             "#fdca26"
            ],
            [
             1,
             "#f0f921"
            ]
           ]
          },
          "colorway": [
           "#636efa",
           "#EF553B",
           "#00cc96",
           "#ab63fa",
           "#FFA15A",
           "#19d3f3",
           "#FF6692",
           "#B6E880",
           "#FF97FF",
           "#FECB52"
          ],
          "font": {
           "color": "#2a3f5f"
          },
          "geo": {
           "bgcolor": "white",
           "lakecolor": "white",
           "landcolor": "#E5ECF6",
           "showlakes": true,
           "showland": true,
           "subunitcolor": "white"
          },
          "hoverlabel": {
           "align": "left"
          },
          "hovermode": "closest",
          "mapbox": {
           "style": "light"
          },
          "paper_bgcolor": "white",
          "plot_bgcolor": "#E5ECF6",
          "polar": {
           "angularaxis": {
            "gridcolor": "white",
            "linecolor": "white",
            "ticks": ""
           },
           "bgcolor": "#E5ECF6",
           "radialaxis": {
            "gridcolor": "white",
            "linecolor": "white",
            "ticks": ""
           }
          },
          "scene": {
           "xaxis": {
            "backgroundcolor": "#E5ECF6",
            "gridcolor": "white",
            "gridwidth": 2,
            "linecolor": "white",
            "showbackground": true,
            "ticks": "",
            "zerolinecolor": "white"
           },
           "yaxis": {
            "backgroundcolor": "#E5ECF6",
            "gridcolor": "white",
            "gridwidth": 2,
            "linecolor": "white",
            "showbackground": true,
            "ticks": "",
            "zerolinecolor": "white"
           },
           "zaxis": {
            "backgroundcolor": "#E5ECF6",
            "gridcolor": "white",
            "gridwidth": 2,
            "linecolor": "white",
            "showbackground": true,
            "ticks": "",
            "zerolinecolor": "white"
           }
          },
          "shapedefaults": {
           "line": {
            "color": "#2a3f5f"
           }
          },
          "ternary": {
           "aaxis": {
            "gridcolor": "white",
            "linecolor": "white",
            "ticks": ""
           },
           "baxis": {
            "gridcolor": "white",
            "linecolor": "white",
            "ticks": ""
           },
           "bgcolor": "#E5ECF6",
           "caxis": {
            "gridcolor": "white",
            "linecolor": "white",
            "ticks": ""
           }
          },
          "title": {
           "x": 0.05
          },
          "xaxis": {
           "automargin": true,
           "gridcolor": "white",
           "linecolor": "white",
           "ticks": "",
           "title": {
            "standoff": 15
           },
           "zerolinecolor": "white",
           "zerolinewidth": 2
          },
          "yaxis": {
           "automargin": true,
           "gridcolor": "white",
           "linecolor": "white",
           "ticks": "",
           "title": {
            "standoff": 15
           },
           "zerolinecolor": "white",
           "zerolinewidth": 2
          }
         }
        },
        "title": {
         "text": "Validation MAPE Over Epochs"
        },
        "xaxis": {
         "title": {
          "text": "Epoch"
         }
        },
        "yaxis": {
         "title": {
          "text": "MAPE"
         }
        }
       }
      },
      "text/html": [
       "<div>                            <div id=\"083db597-ace7-4ece-98fd-601fc981d293\" class=\"plotly-graph-div\" style=\"height:525px; width:100%;\"></div>            <script type=\"text/javascript\">                require([\"plotly\"], function(Plotly) {                    window.PLOTLYENV=window.PLOTLYENV || {};                                    if (document.getElementById(\"083db597-ace7-4ece-98fd-601fc981d293\")) {                    Plotly.newPlot(                        \"083db597-ace7-4ece-98fd-601fc981d293\",                        [{\"mode\":\"lines\",\"name\":\"Validation MAPE\",\"x\":[1,2,3,4,5,6,7,8,9,10,11,12,13,14,15,16,17,18,19,20,21,22,23,24,25,26,27,28,29,30,31,32,33,34,35,36,37,38,39,40,41,42,43,44,45,46,47,48,49,50,51,52,53,54,55,56,57,58,59,60,61,62,63,64,65,66,67,68,69,70,71,72,73,74,75,76,77,78,79,80,81,82,83,84,85,86,87,88,89,90,91,92,93,94,95,96,97,98,99,100],\"y\":[0.9478490948677063,0.6431586742401123,0.5453334450721741,0.4792923927307129,0.4230082333087921,0.3776453137397766,0.339926153421402,0.310075968503952,0.2860838770866394,0.26508891582489014,0.2477869838476181,0.23579192161560059,0.22730904817581177,0.22024720907211304,0.21372312307357788,0.20702067017555237,0.19998793303966522,0.192326620221138,0.18318288028240204,0.17257092893123627,0.1607062667608261,0.14697489142417908,0.133271723985672,0.12578104436397552,0.12044776231050491,0.1164383590221405,0.11564541608095169,0.11366046965122223,0.11277882009744644,0.11551236361265182,0.11693321168422699,0.10621561110019684,0.09958304464817047,0.0933837741613388,0.08976586908102036,0.08727622032165527,0.08470232039690018,0.08208471536636353,0.07761415839195251,0.07410412281751633,0.0723877102136612,0.06868269294500351,0.06577444821596146,0.06503834575414658,0.06640033423900604,0.07249536365270615,0.09689807891845703,0.1236300840973854,0.10155904293060303,0.10028889030218124,0.09328080713748932,0.08826272189617157,0.08253531157970428,0.07627955079078674,0.07178943604230881,0.06923368573188782,0.0677403137087822,0.06679613888263702,0.0654628649353981,0.0633295550942421,0.06203426420688629,0.061705175787210464,0.062090422958135605,0.06290119886398315,0.06422819942235947,0.06574719399213791,0.07224739342927933,0.07228579372167587,0.07768793404102325,0.071394182741642,0.077643021941185,0.10208446532487869,0.071604885160923,0.0670429915189743,0.057742778211832047,0.05854092165827751,0.06224685162305832,0.06786089390516281,0.07781057804822922,0.07673218101263046,0.06563504040241241,0.06346232444047928,0.0645374208688736,0.07067282497882843,0.06921875476837158,0.060814306139945984,0.0518404096364975,0.058143772184848785,0.07198262214660645,0.08216776698827744,0.0902712345123291,0.07670112699270248,0.07373180240392685,0.07229312509298325,0.06734998524188995,0.06411592662334442,0.05922926962375641,0.05817166343331337,0.06430944055318832,0.06966782361268997],\"type\":\"scatter\"}],                        {\"template\":{\"data\":{\"histogram2dcontour\":[{\"type\":\"histogram2dcontour\",\"colorbar\":{\"outlinewidth\":0,\"ticks\":\"\"},\"colorscale\":[[0.0,\"#0d0887\"],[0.1111111111111111,\"#46039f\"],[0.2222222222222222,\"#7201a8\"],[0.3333333333333333,\"#9c179e\"],[0.4444444444444444,\"#bd3786\"],[0.5555555555555556,\"#d8576b\"],[0.6666666666666666,\"#ed7953\"],[0.7777777777777778,\"#fb9f3a\"],[0.8888888888888888,\"#fdca26\"],[1.0,\"#f0f921\"]]}],\"choropleth\":[{\"type\":\"choropleth\",\"colorbar\":{\"outlinewidth\":0,\"ticks\":\"\"}}],\"histogram2d\":[{\"type\":\"histogram2d\",\"colorbar\":{\"outlinewidth\":0,\"ticks\":\"\"},\"colorscale\":[[0.0,\"#0d0887\"],[0.1111111111111111,\"#46039f\"],[0.2222222222222222,\"#7201a8\"],[0.3333333333333333,\"#9c179e\"],[0.4444444444444444,\"#bd3786\"],[0.5555555555555556,\"#d8576b\"],[0.6666666666666666,\"#ed7953\"],[0.7777777777777778,\"#fb9f3a\"],[0.8888888888888888,\"#fdca26\"],[1.0,\"#f0f921\"]]}],\"heatmap\":[{\"type\":\"heatmap\",\"colorbar\":{\"outlinewidth\":0,\"ticks\":\"\"},\"colorscale\":[[0.0,\"#0d0887\"],[0.1111111111111111,\"#46039f\"],[0.2222222222222222,\"#7201a8\"],[0.3333333333333333,\"#9c179e\"],[0.4444444444444444,\"#bd3786\"],[0.5555555555555556,\"#d8576b\"],[0.6666666666666666,\"#ed7953\"],[0.7777777777777778,\"#fb9f3a\"],[0.8888888888888888,\"#fdca26\"],[1.0,\"#f0f921\"]]}],\"heatmapgl\":[{\"type\":\"heatmapgl\",\"colorbar\":{\"outlinewidth\":0,\"ticks\":\"\"},\"colorscale\":[[0.0,\"#0d0887\"],[0.1111111111111111,\"#46039f\"],[0.2222222222222222,\"#7201a8\"],[0.3333333333333333,\"#9c179e\"],[0.4444444444444444,\"#bd3786\"],[0.5555555555555556,\"#d8576b\"],[0.6666666666666666,\"#ed7953\"],[0.7777777777777778,\"#fb9f3a\"],[0.8888888888888888,\"#fdca26\"],[1.0,\"#f0f921\"]]}],\"contourcarpet\":[{\"type\":\"contourcarpet\",\"colorbar\":{\"outlinewidth\":0,\"ticks\":\"\"}}],\"contour\":[{\"type\":\"contour\",\"colorbar\":{\"outlinewidth\":0,\"ticks\":\"\"},\"colorscale\":[[0.0,\"#0d0887\"],[0.1111111111111111,\"#46039f\"],[0.2222222222222222,\"#7201a8\"],[0.3333333333333333,\"#9c179e\"],[0.4444444444444444,\"#bd3786\"],[0.5555555555555556,\"#d8576b\"],[0.6666666666666666,\"#ed7953\"],[0.7777777777777778,\"#fb9f3a\"],[0.8888888888888888,\"#fdca26\"],[1.0,\"#f0f921\"]]}],\"surface\":[{\"type\":\"surface\",\"colorbar\":{\"outlinewidth\":0,\"ticks\":\"\"},\"colorscale\":[[0.0,\"#0d0887\"],[0.1111111111111111,\"#46039f\"],[0.2222222222222222,\"#7201a8\"],[0.3333333333333333,\"#9c179e\"],[0.4444444444444444,\"#bd3786\"],[0.5555555555555556,\"#d8576b\"],[0.6666666666666666,\"#ed7953\"],[0.7777777777777778,\"#fb9f3a\"],[0.8888888888888888,\"#fdca26\"],[1.0,\"#f0f921\"]]}],\"mesh3d\":[{\"type\":\"mesh3d\",\"colorbar\":{\"outlinewidth\":0,\"ticks\":\"\"}}],\"scatter\":[{\"fillpattern\":{\"fillmode\":\"overlay\",\"size\":10,\"solidity\":0.2},\"type\":\"scatter\"}],\"parcoords\":[{\"type\":\"parcoords\",\"line\":{\"colorbar\":{\"outlinewidth\":0,\"ticks\":\"\"}}}],\"scatterpolargl\":[{\"type\":\"scatterpolargl\",\"marker\":{\"colorbar\":{\"outlinewidth\":0,\"ticks\":\"\"}}}],\"bar\":[{\"error_x\":{\"color\":\"#2a3f5f\"},\"error_y\":{\"color\":\"#2a3f5f\"},\"marker\":{\"line\":{\"color\":\"#E5ECF6\",\"width\":0.5},\"pattern\":{\"fillmode\":\"overlay\",\"size\":10,\"solidity\":0.2}},\"type\":\"bar\"}],\"scattergeo\":[{\"type\":\"scattergeo\",\"marker\":{\"colorbar\":{\"outlinewidth\":0,\"ticks\":\"\"}}}],\"scatterpolar\":[{\"type\":\"scatterpolar\",\"marker\":{\"colorbar\":{\"outlinewidth\":0,\"ticks\":\"\"}}}],\"histogram\":[{\"marker\":{\"pattern\":{\"fillmode\":\"overlay\",\"size\":10,\"solidity\":0.2}},\"type\":\"histogram\"}],\"scattergl\":[{\"type\":\"scattergl\",\"marker\":{\"colorbar\":{\"outlinewidth\":0,\"ticks\":\"\"}}}],\"scatter3d\":[{\"type\":\"scatter3d\",\"line\":{\"colorbar\":{\"outlinewidth\":0,\"ticks\":\"\"}},\"marker\":{\"colorbar\":{\"outlinewidth\":0,\"ticks\":\"\"}}}],\"scattermapbox\":[{\"type\":\"scattermapbox\",\"marker\":{\"colorbar\":{\"outlinewidth\":0,\"ticks\":\"\"}}}],\"scatterternary\":[{\"type\":\"scatterternary\",\"marker\":{\"colorbar\":{\"outlinewidth\":0,\"ticks\":\"\"}}}],\"scattercarpet\":[{\"type\":\"scattercarpet\",\"marker\":{\"colorbar\":{\"outlinewidth\":0,\"ticks\":\"\"}}}],\"carpet\":[{\"aaxis\":{\"endlinecolor\":\"#2a3f5f\",\"gridcolor\":\"white\",\"linecolor\":\"white\",\"minorgridcolor\":\"white\",\"startlinecolor\":\"#2a3f5f\"},\"baxis\":{\"endlinecolor\":\"#2a3f5f\",\"gridcolor\":\"white\",\"linecolor\":\"white\",\"minorgridcolor\":\"white\",\"startlinecolor\":\"#2a3f5f\"},\"type\":\"carpet\"}],\"table\":[{\"cells\":{\"fill\":{\"color\":\"#EBF0F8\"},\"line\":{\"color\":\"white\"}},\"header\":{\"fill\":{\"color\":\"#C8D4E3\"},\"line\":{\"color\":\"white\"}},\"type\":\"table\"}],\"barpolar\":[{\"marker\":{\"line\":{\"color\":\"#E5ECF6\",\"width\":0.5},\"pattern\":{\"fillmode\":\"overlay\",\"size\":10,\"solidity\":0.2}},\"type\":\"barpolar\"}],\"pie\":[{\"automargin\":true,\"type\":\"pie\"}]},\"layout\":{\"autotypenumbers\":\"strict\",\"colorway\":[\"#636efa\",\"#EF553B\",\"#00cc96\",\"#ab63fa\",\"#FFA15A\",\"#19d3f3\",\"#FF6692\",\"#B6E880\",\"#FF97FF\",\"#FECB52\"],\"font\":{\"color\":\"#2a3f5f\"},\"hovermode\":\"closest\",\"hoverlabel\":{\"align\":\"left\"},\"paper_bgcolor\":\"white\",\"plot_bgcolor\":\"#E5ECF6\",\"polar\":{\"bgcolor\":\"#E5ECF6\",\"angularaxis\":{\"gridcolor\":\"white\",\"linecolor\":\"white\",\"ticks\":\"\"},\"radialaxis\":{\"gridcolor\":\"white\",\"linecolor\":\"white\",\"ticks\":\"\"}},\"ternary\":{\"bgcolor\":\"#E5ECF6\",\"aaxis\":{\"gridcolor\":\"white\",\"linecolor\":\"white\",\"ticks\":\"\"},\"baxis\":{\"gridcolor\":\"white\",\"linecolor\":\"white\",\"ticks\":\"\"},\"caxis\":{\"gridcolor\":\"white\",\"linecolor\":\"white\",\"ticks\":\"\"}},\"coloraxis\":{\"colorbar\":{\"outlinewidth\":0,\"ticks\":\"\"}},\"colorscale\":{\"sequential\":[[0.0,\"#0d0887\"],[0.1111111111111111,\"#46039f\"],[0.2222222222222222,\"#7201a8\"],[0.3333333333333333,\"#9c179e\"],[0.4444444444444444,\"#bd3786\"],[0.5555555555555556,\"#d8576b\"],[0.6666666666666666,\"#ed7953\"],[0.7777777777777778,\"#fb9f3a\"],[0.8888888888888888,\"#fdca26\"],[1.0,\"#f0f921\"]],\"sequentialminus\":[[0.0,\"#0d0887\"],[0.1111111111111111,\"#46039f\"],[0.2222222222222222,\"#7201a8\"],[0.3333333333333333,\"#9c179e\"],[0.4444444444444444,\"#bd3786\"],[0.5555555555555556,\"#d8576b\"],[0.6666666666666666,\"#ed7953\"],[0.7777777777777778,\"#fb9f3a\"],[0.8888888888888888,\"#fdca26\"],[1.0,\"#f0f921\"]],\"diverging\":[[0,\"#8e0152\"],[0.1,\"#c51b7d\"],[0.2,\"#de77ae\"],[0.3,\"#f1b6da\"],[0.4,\"#fde0ef\"],[0.5,\"#f7f7f7\"],[0.6,\"#e6f5d0\"],[0.7,\"#b8e186\"],[0.8,\"#7fbc41\"],[0.9,\"#4d9221\"],[1,\"#276419\"]]},\"xaxis\":{\"gridcolor\":\"white\",\"linecolor\":\"white\",\"ticks\":\"\",\"title\":{\"standoff\":15},\"zerolinecolor\":\"white\",\"automargin\":true,\"zerolinewidth\":2},\"yaxis\":{\"gridcolor\":\"white\",\"linecolor\":\"white\",\"ticks\":\"\",\"title\":{\"standoff\":15},\"zerolinecolor\":\"white\",\"automargin\":true,\"zerolinewidth\":2},\"scene\":{\"xaxis\":{\"backgroundcolor\":\"#E5ECF6\",\"gridcolor\":\"white\",\"linecolor\":\"white\",\"showbackground\":true,\"ticks\":\"\",\"zerolinecolor\":\"white\",\"gridwidth\":2},\"yaxis\":{\"backgroundcolor\":\"#E5ECF6\",\"gridcolor\":\"white\",\"linecolor\":\"white\",\"showbackground\":true,\"ticks\":\"\",\"zerolinecolor\":\"white\",\"gridwidth\":2},\"zaxis\":{\"backgroundcolor\":\"#E5ECF6\",\"gridcolor\":\"white\",\"linecolor\":\"white\",\"showbackground\":true,\"ticks\":\"\",\"zerolinecolor\":\"white\",\"gridwidth\":2}},\"shapedefaults\":{\"line\":{\"color\":\"#2a3f5f\"}},\"annotationdefaults\":{\"arrowcolor\":\"#2a3f5f\",\"arrowhead\":0,\"arrowwidth\":1},\"geo\":{\"bgcolor\":\"white\",\"landcolor\":\"#E5ECF6\",\"subunitcolor\":\"white\",\"showland\":true,\"showlakes\":true,\"lakecolor\":\"white\"},\"title\":{\"x\":0.05},\"mapbox\":{\"style\":\"light\"}}},\"title\":{\"text\":\"Validation MAPE Over Epochs\"},\"xaxis\":{\"title\":{\"text\":\"Epoch\"}},\"yaxis\":{\"title\":{\"text\":\"MAPE\"}}},                        {\"responsive\": true}                    ).then(function(){\n",
       "                            \n",
       "var gd = document.getElementById('083db597-ace7-4ece-98fd-601fc981d293');\n",
       "var x = new MutationObserver(function (mutations, observer) {{\n",
       "        var display = window.getComputedStyle(gd).display;\n",
       "        if (!display || display === 'none') {{\n",
       "            console.log([gd, 'removed!']);\n",
       "            Plotly.purge(gd);\n",
       "            observer.disconnect();\n",
       "        }}\n",
       "}});\n",
       "\n",
       "// Listen for the removal of the full notebook cells\n",
       "var notebookContainer = gd.closest('#notebook-container');\n",
       "if (notebookContainer) {{\n",
       "    x.observe(notebookContainer, {childList: true});\n",
       "}}\n",
       "\n",
       "// Listen for the clearing of the current output cell\n",
       "var outputEl = gd.closest('.output');\n",
       "if (outputEl) {{\n",
       "    x.observe(outputEl, {childList: true});\n",
       "}}\n",
       "\n",
       "                        })                };                });            </script>        </div>"
      ]
     },
     "metadata": {},
     "output_type": "display_data"
    },
    {
     "data": {
      "application/vnd.plotly.v1+json": {
       "config": {
        "plotlyServerURL": "https://plot.ly"
       },
       "data": [
        {
         "mode": "lines",
         "name": "Test Actual Close Price",
         "type": "scatter",
         "x": [
          3803,
          3804,
          3805,
          3806,
          3807,
          3808,
          3809,
          3810,
          3811,
          3812,
          3813,
          3814,
          3815,
          3816,
          3817,
          3818,
          3819,
          3820,
          3821,
          3822,
          3823,
          3824,
          3825,
          3826,
          3827,
          3828,
          3829,
          3830,
          3831,
          3832,
          3833,
          3834,
          3835,
          3836,
          3837,
          3838,
          3839,
          3840,
          3841,
          3842,
          3843,
          3844,
          3845,
          3846,
          3847,
          3848,
          3849,
          3850,
          3851,
          3852,
          3853,
          3854,
          3855,
          3856,
          3857,
          3858,
          3859,
          3860,
          3861,
          3862,
          3863,
          3864,
          3865,
          3866,
          3867,
          3868,
          3869,
          3870,
          3871,
          3872,
          3873,
          3874,
          3875,
          3876,
          3877,
          3878,
          3879,
          3880,
          3881,
          3882,
          3883,
          3884,
          3885,
          3886,
          3887,
          3888,
          3889,
          3890,
          3891,
          3892,
          3893,
          3894,
          3895,
          3896,
          3897,
          3898,
          3899,
          3900,
          3901,
          3902,
          3903,
          3904,
          3905,
          3906,
          3907,
          3908,
          3909,
          3910,
          3911,
          3912,
          3913,
          3914,
          3915,
          3916,
          3917,
          3918,
          3919,
          3920,
          3921,
          3922,
          3923,
          3924,
          3925,
          3926,
          3927,
          3928,
          3929,
          3930,
          3931,
          3932,
          3933,
          3934,
          3935,
          3936,
          3937,
          3938,
          3939,
          3940,
          3941,
          3942,
          3943,
          3944,
          3945,
          3946,
          3947,
          3948,
          3949,
          3950,
          3951,
          3952,
          3953,
          3954,
          3955,
          3956,
          3957,
          3958,
          3959,
          3960,
          3961,
          3962,
          3963,
          3964,
          3965,
          3966,
          3967,
          3968,
          3969,
          3970,
          3971,
          3972,
          3973,
          3974,
          3975,
          3976,
          3977,
          3978,
          3979,
          3980,
          3981,
          3982,
          3983,
          3984,
          3985,
          3986,
          3987,
          3988,
          3989,
          3990,
          3991,
          3992,
          3993,
          3994,
          3995,
          3996,
          3997,
          3998,
          3999,
          4000,
          4001,
          4002,
          4003,
          4004,
          4005,
          4006,
          4007,
          4008,
          4009,
          4010,
          4011,
          4012,
          4013,
          4014,
          4015,
          4016,
          4017,
          4018,
          4019,
          4020,
          4021,
          4022,
          4023,
          4024,
          4025,
          4026,
          4027,
          4028,
          4029,
          4030,
          4031,
          4032,
          4033,
          4034,
          4035,
          4036,
          4037,
          4038,
          4039,
          4040,
          4041,
          4042,
          4043,
          4044,
          4045,
          4046,
          4047,
          4048,
          4049,
          4050,
          4051,
          4052,
          4053,
          4054,
          4055,
          4056,
          4057,
          4058,
          4059,
          4060,
          4061,
          4062,
          4063,
          4064,
          4065,
          4066,
          4067,
          4068,
          4069,
          4070,
          4071,
          4072,
          4073,
          4074,
          4075,
          4076,
          4077,
          4078,
          4079,
          4080,
          4081,
          4082,
          4083,
          4084,
          4085,
          4086,
          4087,
          4088,
          4089,
          4090,
          4091,
          4092,
          4093,
          4094,
          4095,
          4096,
          4097,
          4098,
          4099,
          4100,
          4101,
          4102,
          4103,
          4104,
          4105,
          4106,
          4107,
          4108,
          4109,
          4110,
          4111,
          4112,
          4113,
          4114,
          4115,
          4116,
          4117,
          4118,
          4119,
          4120,
          4121,
          4122,
          4123,
          4124,
          4125,
          4126,
          4127,
          4128,
          4129,
          4130,
          4131,
          4132,
          4133,
          4134,
          4135,
          4136,
          4137,
          4138,
          4139,
          4140,
          4141,
          4142,
          4143,
          4144,
          4145,
          4146,
          4147,
          4148,
          4149,
          4150,
          4151,
          4152,
          4153,
          4154,
          4155,
          4156,
          4157,
          4158,
          4159,
          4160,
          4161,
          4162,
          4163,
          4164,
          4165,
          4166,
          4167,
          4168,
          4169,
          4170,
          4171,
          4172,
          4173,
          4174,
          4175,
          4176,
          4177,
          4178,
          4179,
          4180,
          4181,
          4182,
          4183,
          4184,
          4185,
          4186,
          4187,
          4188,
          4189,
          4190,
          4191,
          4192,
          4193,
          4194,
          4195,
          4196,
          4197,
          4198,
          4199,
          4200,
          4201,
          4202,
          4203,
          4204,
          4205,
          4206,
          4207,
          4208,
          4209,
          4210,
          4211,
          4212,
          4213,
          4214,
          4215,
          4216,
          4217,
          4218,
          4219,
          4220,
          4221,
          4222,
          4223,
          4224,
          4225
         ],
         "y": [
          41.75,
          41.27000045776367,
          40.0099983215332,
          39.650001525878906,
          37.70000076293945,
          37.720001220703125,
          37.66999816894531,
          37.65999984741211,
          36.72999954223633,
          36.150001525878906,
          37.459999084472656,
          37.400001525878906,
          36.93000030517578,
          38.310001373291016,
          38.790000915527344,
          38.68999862670898,
          38.369998931884766,
          38.459999084472656,
          40.33000183105469,
          41.59999847412109,
          42.4900016784668,
          42.29999923706055,
          42.560001373291016,
          42.15999984741211,
          41.209999084472656,
          41.970001220703125,
          41.77000045776367,
          41.79999923706055,
          42.75,
          41.40999984741211,
          44.77999877929688,
          44.95000076293945,
          44.83000183105469,
          44.619998931884766,
          47.27999877929688,
          47.43999862670898,
          46.70000076293945,
          47.150001525878906,
          47.59999847412109,
          46.16999816894531,
          46.70000076293945,
          46.88999938964844,
          46.43000030517578,
          46.900001525878906,
          45.77000045776367,
          44.93000030517578,
          45.2599983215332,
          45.880001068115234,
          45.63999938964844,
          44.65999984741211,
          45.58000183105469,
          46.27999877929688,
          45.81999969482422,
          47,
          47.150001525878906,
          48.52999877929688,
          48.93000030517578,
          49.7400016784668,
          50.90999984741211,
          49.209999084472656,
          50.70000076293945,
          50.90999984741211,
          52.34999847412109,
          52.09000015258789,
          51.5,
          51.54999923706055,
          51.810001373291016,
          52.09999847412109,
          51.47999954223633,
          50.97999954223633,
          51.34999847412109,
          50.83000183105469,
          49.59999847412109,
          48.15999984741211,
          48.70000076293945,
          48.5,
          49.31999969482422,
          49.29999923706055,
          49.25,
          49.900001525878906,
          48.880001068115234,
          49.20000076293945,
          48.79999923706055,
          49.95000076293945,
          50.0099983215332,
          49.18000030517578,
          48.97999954223633,
          48.20000076293945,
          47.79999923706055,
          48.20000076293945,
          49.9900016784668,
          50.20000076293945,
          50.27999877929688,
          48.58000183105469,
          47.90999984741211,
          47.22999954223633,
          46.63999938964844,
          46,
          46.5,
          45.459999084472656,
          45.95000076293945,
          45.22999954223633,
          46.20000076293945,
          45.58000183105469,
          46.0099983215332,
          46.5,
          46.880001068115234,
          46.20000076293945,
          45.9900016784668,
          45.880001068115234,
          45.41999816894531,
          45.47999954223633,
          45.59999847412109,
          45.68000030517578,
          45.56999969482422,
          45.08000183105469,
          45.630001068115234,
          46.060001373291016,
          45.65999984741211,
          45.59999847412109,
          45.119998931884766,
          45.4900016784668,
          47.47999954223633,
          48.619998931884766,
          48.400001525878906,
          48.790000915527344,
          46.7400016784668,
          46.400001525878906,
          46.09000015258789,
          45.790000915527344,
          50.369998931884766,
          51.79999923706055,
          53.70000076293945,
          53.83000183105469,
          54.91999816894531,
          53.47999954223633,
          52.310001373291016,
          52.34999847412109,
          51.27000045776367,
          53.709999084472656,
          53.20000076293945,
          51.90999984741211,
          51.81999969482422,
          51.040000915527344,
          51.41999816894531,
          49.900001525878906,
          48.470001220703125,
          48.400001525878906,
          48.43999862670898,
          48.040000915527344,
          47.9900016784668,
          47,
          47.45000076293945,
          49.09999847412109,
          48.5099983215332,
          48.7599983215332,
          49.0099983215332,
          49.66999816894531,
          49.47999954223633,
          49.56999969482422,
          49.630001068115234,
          48.04999923706055,
          48.41999816894531,
          48.59999847412109,
          47.5,
          46.88999938964844,
          46.63999938964844,
          45.93000030517578,
          46.29999923706055,
          46.540000915527344,
          46.29999923706055,
          46.400001525878906,
          48.18000030517578,
          47.95000076293945,
          47.34999847412109,
          47.29999923706055,
          47.209999084472656,
          46.61000061035156,
          47.20000076293945,
          47.290000915527344,
          48.619998931884766,
          48.63999938964844,
          48.04999923706055,
          47.59999847412109,
          47.77000045776367,
          47.41999816894531,
          46.970001220703125,
          46.619998931884766,
          49.54999923706055,
          49.459999084472656,
          49.880001068115234,
          51.93000030517578,
          52.59999847412109,
          51.7400016784668,
          51.40999984741211,
          52.40999984741211,
          51.900001525878906,
          51.70000076293945,
          51.2599983215332,
          51.2599983215332,
          51.36000061035156,
          49.369998931884766,
          48.52999877929688,
          48.68000030517578,
          48.34999847412109,
          47.90999984741211,
          47.52000045776367,
          46.66999816894531,
          47,
          46.459999084472656,
          46.5,
          47.0099983215332,
          48.11000061035156,
          48.560001373291016,
          48.25,
          48.790000915527344,
          50.09999847412109,
          51.45000076293945,
          50.20000076293945,
          51.02999877929688,
          50.220001220703125,
          50.119998931884766,
          50.36000061035156,
          49.95000076293945,
          49.5,
          49.18999862670898,
          49.20000076293945,
          49.29999923706055,
          49.27999877929688,
          48.88999938964844,
          48.4900016784668,
          50.33000183105469,
          49.060001373291016,
          48.560001373291016,
          48.65999984741211,
          48.29999923706055,
          48.06999969482422,
          47.59999847412109,
          47.68999862670898,
          48.43000030517578,
          47.970001220703125,
          47.540000915527344,
          47.68000030517578,
          47.38999938964844,
          46.04999923706055,
          45.84000015258789,
          45.93999862670898,
          46.09999847412109,
          45.5099983215332,
          45.70000076293945,
          45.18000030517578,
          45.310001373291016,
          45.459999084472656,
          45.11000061035156,
          45.060001373291016,
          45.2400016784668,
          46.060001373291016,
          45.29999923706055,
          44.630001068115234,
          43.27999877929688,
          42.34999847412109,
          42.38999938964844,
          42.61000061035156,
          43.36000061035156,
          42.869998931884766,
          42.65999984741211,
          42.90999984741211,
          43.06999969482422,
          42.72999954223633,
          43.04999923706055,
          42.68999862670898,
          41.84999847412109,
          41.66999816894531,
          40.75,
          40.79999923706055,
          41.02000045776367,
          40.380001068115234,
          39.52999877929688,
          39.52999877929688,
          39.34000015258789,
          39.18999862670898,
          39.59999847412109,
          39.790000915527344,
          38.88999938964844,
          38.70000076293945,
          38.790000915527344,
          38.61000061035156,
          38.709999084472656,
          38.45000076293945,
          38.79999923706055,
          39.09999847412109,
          39.18000030517578,
          39.09999847412109,
          39,
          40.2599983215332,
          40.29999923706055,
          39.470001220703125,
          39.400001525878906,
          38.900001525878906,
          38.970001220703125,
          38.45000076293945,
          38.380001068115234,
          37.81999969482422,
          38.43000030517578,
          38.02999877929688,
          38.16999816894531,
          38.70000076293945,
          38.0099983215332,
          38.9900016784668,
          39.20000076293945,
          39.47999954223633,
          39.36000061035156,
          40.16999816894531,
          41.150001525878906,
          41.25,
          40.97999954223633,
          40.18999862670898,
          40.5099983215332,
          40.29999923706055,
          40.09999847412109,
          40.68000030517578,
          41.560001373291016,
          42.380001068115234,
          42.77999877929688,
          42.72999954223633,
          42.34999847412109,
          43.59000015258789,
          43.70000076293945,
          44.06999969482422,
          42.95000076293945,
          43.119998931884766,
          42.650001525878906,
          42.900001525878906,
          42.9900016784668,
          42.34000015258789,
          42.810001373291016,
          42.5,
          43.060001373291016,
          42.880001068115234,
          43.15999984741211,
          43.810001373291016,
          42.630001068115234,
          42.45000076293945,
          42.47999954223633,
          42.560001373291016,
          41.83000183105469,
          41.91999816894531,
          42.02999877929688,
          40.560001373291016,
          40.43999862670898,
          40.900001525878906,
          40.650001525878906,
          40.68999862670898,
          40.810001373291016,
          41.25,
          41,
          40.5,
          40.220001220703125,
          40.11000061035156,
          39.20000076293945,
          38.95000076293945,
          37.77999877929688,
          38.36000061035156,
          38.27999877929688,
          38.95000076293945,
          39.70000076293945,
          39.41999816894531,
          39.83000183105469,
          39.88999938964844,
          40.59999847412109,
          41.060001373291016,
          41.52999877929688,
          42.08000183105469,
          41.36000061035156,
          42.4900016784668,
          42.59000015258789,
          41.95000076293945,
          42.34000015258789,
          42.93000030517578,
          42.650001525878906,
          42.310001373291016,
          41.84000015258789,
          43.04999923706055,
          45.20000076293945,
          45.459999084472656,
          45.400001525878906,
          45.400001525878906,
          44.77999877929688,
          43.88999938964844,
          44.09999847412109,
          43.7599983215332,
          43.470001220703125,
          43.150001525878906,
          43.06999969482422,
          43.130001068115234,
          43.27000045776367,
          43.08000183105469,
          42.45000076293945,
          42.119998931884766,
          41.83000183105469,
          41.400001525878906,
          41.29999923706055,
          41.869998931884766,
          41.58000183105469,
          41.72999954223633,
          42,
          41.5099983215332,
          41.66999816894531,
          41.79999923706055,
          41.54999923706055,
          41.650001525878906,
          41.41999816894531,
          41.36000061035156,
          41.619998931884766,
          42.16999816894531,
          42.27000045776367,
          41.97999954223633,
          41.97999954223633,
          40.84000015258789,
          41.52000045776367,
          41.86000061035156,
          41.93999862670898,
          42.68000030517578
         ]
        },
        {
         "mode": "lines",
         "name": "Test Predicted Close Price",
         "type": "scatter",
         "x": [
          3803,
          3804,
          3805,
          3806,
          3807,
          3808,
          3809,
          3810,
          3811,
          3812,
          3813,
          3814,
          3815,
          3816,
          3817,
          3818,
          3819,
          3820,
          3821,
          3822,
          3823,
          3824,
          3825,
          3826,
          3827,
          3828,
          3829,
          3830,
          3831,
          3832,
          3833,
          3834,
          3835,
          3836,
          3837,
          3838,
          3839,
          3840,
          3841,
          3842,
          3843,
          3844,
          3845,
          3846,
          3847,
          3848,
          3849,
          3850,
          3851,
          3852,
          3853,
          3854,
          3855,
          3856,
          3857,
          3858,
          3859,
          3860,
          3861,
          3862,
          3863,
          3864,
          3865,
          3866,
          3867,
          3868,
          3869,
          3870,
          3871,
          3872,
          3873,
          3874,
          3875,
          3876,
          3877,
          3878,
          3879,
          3880,
          3881,
          3882,
          3883,
          3884,
          3885,
          3886,
          3887,
          3888,
          3889,
          3890,
          3891,
          3892,
          3893,
          3894,
          3895,
          3896,
          3897,
          3898,
          3899,
          3900,
          3901,
          3902,
          3903,
          3904,
          3905,
          3906,
          3907,
          3908,
          3909,
          3910,
          3911,
          3912,
          3913,
          3914,
          3915,
          3916,
          3917,
          3918,
          3919,
          3920,
          3921,
          3922,
          3923,
          3924,
          3925,
          3926,
          3927,
          3928,
          3929,
          3930,
          3931,
          3932,
          3933,
          3934,
          3935,
          3936,
          3937,
          3938,
          3939,
          3940,
          3941,
          3942,
          3943,
          3944,
          3945,
          3946,
          3947,
          3948,
          3949,
          3950,
          3951,
          3952,
          3953,
          3954,
          3955,
          3956,
          3957,
          3958,
          3959,
          3960,
          3961,
          3962,
          3963,
          3964,
          3965,
          3966,
          3967,
          3968,
          3969,
          3970,
          3971,
          3972,
          3973,
          3974,
          3975,
          3976,
          3977,
          3978,
          3979,
          3980,
          3981,
          3982,
          3983,
          3984,
          3985,
          3986,
          3987,
          3988,
          3989,
          3990,
          3991,
          3992,
          3993,
          3994,
          3995,
          3996,
          3997,
          3998,
          3999,
          4000,
          4001,
          4002,
          4003,
          4004,
          4005,
          4006,
          4007,
          4008,
          4009,
          4010,
          4011,
          4012,
          4013,
          4014,
          4015,
          4016,
          4017,
          4018,
          4019,
          4020,
          4021,
          4022,
          4023,
          4024,
          4025,
          4026,
          4027,
          4028,
          4029,
          4030,
          4031,
          4032,
          4033,
          4034,
          4035,
          4036,
          4037,
          4038,
          4039,
          4040,
          4041,
          4042,
          4043,
          4044,
          4045,
          4046,
          4047,
          4048,
          4049,
          4050,
          4051,
          4052,
          4053,
          4054,
          4055,
          4056,
          4057,
          4058,
          4059,
          4060,
          4061,
          4062,
          4063,
          4064,
          4065,
          4066,
          4067,
          4068,
          4069,
          4070,
          4071,
          4072,
          4073,
          4074,
          4075,
          4076,
          4077,
          4078,
          4079,
          4080,
          4081,
          4082,
          4083,
          4084,
          4085,
          4086,
          4087,
          4088,
          4089,
          4090,
          4091,
          4092,
          4093,
          4094,
          4095,
          4096,
          4097,
          4098,
          4099,
          4100,
          4101,
          4102,
          4103,
          4104,
          4105,
          4106,
          4107,
          4108,
          4109,
          4110,
          4111,
          4112,
          4113,
          4114,
          4115,
          4116,
          4117,
          4118,
          4119,
          4120,
          4121,
          4122,
          4123,
          4124,
          4125,
          4126,
          4127,
          4128,
          4129,
          4130,
          4131,
          4132,
          4133,
          4134,
          4135,
          4136,
          4137,
          4138,
          4139,
          4140,
          4141,
          4142,
          4143,
          4144,
          4145,
          4146,
          4147,
          4148,
          4149,
          4150,
          4151,
          4152,
          4153,
          4154,
          4155,
          4156,
          4157,
          4158,
          4159,
          4160,
          4161,
          4162,
          4163,
          4164,
          4165,
          4166,
          4167,
          4168,
          4169,
          4170,
          4171,
          4172,
          4173,
          4174,
          4175,
          4176,
          4177,
          4178,
          4179,
          4180,
          4181,
          4182,
          4183,
          4184,
          4185,
          4186,
          4187,
          4188,
          4189,
          4190,
          4191,
          4192,
          4193,
          4194,
          4195,
          4196,
          4197,
          4198,
          4199,
          4200,
          4201,
          4202,
          4203,
          4204,
          4205,
          4206,
          4207,
          4208,
          4209,
          4210,
          4211,
          4212,
          4213,
          4214,
          4215,
          4216,
          4217,
          4218,
          4219,
          4220,
          4221,
          4222,
          4223,
          4224,
          4225
         ],
         "y": [
          42.52543258666992,
          41.70713424682617,
          41.96274948120117,
          40.159786224365234,
          39.992069244384766,
          38.464664459228516,
          37.500579833984375,
          37.71355056762695,
          38.46227264404297,
          36.93772888183594,
          35.97742462158203,
          37.377464294433594,
          37.40945816040039,
          37.124916076660156,
          37.898345947265625,
          39.22807312011719,
          38.32546615600586,
          38.9384765625,
          39.00890350341797,
          40.410404205322266,
          42.36298370361328,
          41.802162170410156,
          43.47318649291992,
          42.37790298461914,
          42.169036865234375,
          41.47129821777344,
          42.7681884765625,
          42.14811706542969,
          42.290714263916016,
          42.17061233520508,
          42.10978698730469,
          45.01865768432617,
          43.25216293334961,
          45.90629196166992,
          44.5377197265625,
          46.5784797668457,
          47.2066764831543,
          46.9005241394043,
          47.68133544921875,
          48.258304595947266,
          45.620849609375,
          47.345455169677734,
          48.136474609375,
          46.13383483886719,
          46.26655960083008,
          46.320343017578125,
          44.67597579956055,
          45.02980422973633,
          46.405338287353516,
          45.18850326538086,
          43.74994659423828,
          47.151546478271484,
          46.150917053222656,
          45.43024444580078,
          48.51227951049805,
          47.31560134887695,
          49.50048065185547,
          48.670814514160156,
          49.39750289916992,
          50.469913482666016,
          49.985103607177734,
          50.12915802001953,
          50.071868896484375,
          52.80937957763672,
          50.708473205566406,
          51.66116714477539,
          51.490272521972656,
          51.27708053588867,
          52.897361755371094,
          51.088165283203125,
          50.90046310424805,
          52.3961181640625,
          50.910667419433594,
          48.47037124633789,
          49.00282287597656,
          48.80010986328125,
          48.05308151245117,
          50.64014434814453,
          48.05375671386719,
          50.120182037353516,
          49.73667907714844,
          49.200233459472656,
          50.80083084106445,
          48.49791717529297,
          50.70833969116211,
          50.4997444152832,
          50.178768157958984,
          49.245872497558594,
          48.26438903808594,
          48.314579010009766,
          48.28114318847656,
          49.59404754638672,
          47.33219528198242,
          50.77536392211914,
          48.93202590942383,
          47.89659118652344,
          47.0240478515625,
          46.98091125488281,
          43.959781646728516,
          47.27294158935547,
          45.54817581176758,
          46.192420959472656,
          44.996910095214844,
          46.014617919921875,
          43.91364288330078,
          45.49183654785156,
          46.461002349853516,
          47.58583450317383,
          47.30521011352539,
          45.907325744628906,
          46.07778549194336,
          45.8261833190918,
          45.27705764770508,
          45.78551483154297,
          46.05799102783203,
          45.1485710144043,
          44.64057922363281,
          46.417728424072266,
          46.01568603515625,
          45.55348587036133,
          46.01465606689453,
          45.94694519042969,
          45.0211296081543,
          47.63734436035156,
          49.094581604003906,
          47.855224609375,
          49.249393463134766,
          47.07192611694336,
          46.11341094970703,
          46.68056869506836,
          46.25002670288086,
          49.0528564453125,
          51.574241638183594,
          53.26518249511719,
          53.84230041503906,
          54.546451568603516,
          53.55192947387695,
          52.43995666503906,
          52.52422332763672,
          51.0806770324707,
          53.20277404785156,
          52.76222229003906,
          51.450828552246094,
          51.16447067260742,
          50.97188186645508,
          51.09413528442383,
          49.87775421142578,
          47.90137481689453,
          48.32514953613281,
          48.21019744873047,
          47.752994537353516,
          47.817142486572266,
          47.26448440551758,
          47.592002868652344,
          48.206298828125,
          48.6700325012207,
          48.93096923828125,
          49.387882232666016,
          49.44573211669922,
          49.978763580322266,
          49.63674545288086,
          48.94593811035156,
          47.837135314941406,
          49.18741226196289,
          48.22734832763672,
          48.13488006591797,
          46.91136932373047,
          46.85297393798828,
          46.31319808959961,
          45.25812530517578,
          45.951969146728516,
          46.07306671142578,
          46.4428825378418,
          47.29901885986328,
          47.75975799560547,
          48.3261833190918,
          47.21590805053711,
          47.508060455322266,
          47.286590576171875,
          46.31180191040039,
          48.3631706237793,
          47.27391052246094,
          49.09596252441406,
          47.370643615722656,
          48.04935073852539,
          47.71072769165039,
          47.255062103271484,
          47.61985778808594,
          46.78643035888672,
          48.692020416259766,
          50.60527420043945,
          49.1360969543457,
          52.91484832763672,
          52.76107406616211,
          53.264129638671875,
          52.553558349609375,
          51.31083679199219,
          52.92438507080078,
          52.14580154418945,
          51.208213806152344,
          51.67578125,
          51.930660247802734,
          49.647212982177734,
          49.51057052612305,
          48.6359748840332,
          48.80824279785156,
          48.07642364501953,
          47.99166488647461,
          47.0801887512207,
          46.553375244140625,
          47.130523681640625,
          46.593360900878906,
          46.948482513427734,
          48.09526443481445,
          48.61829376220703,
          48.07626724243164,
          48.71165466308594,
          50.54667663574219,
          50.11564636230469,
          51.390628814697266,
          50.26047134399414,
          50.96199035644531,
          49.88933181762695,
          50.45025634765625,
          49.91379165649414,
          49.896846771240234,
          49.76130676269531,
          49.328460693359375,
          49.7446403503418,
          50.0208740234375,
          49.31052017211914,
          48.74441146850586,
          50.17817306518555,
          49.63650131225586,
          48.979129791259766,
          48.450592041015625,
          48.2705192565918,
          47.97541046142578,
          47.5769157409668,
          47.49919891357422,
          48.14091110229492,
          47.70611572265625,
          47.69477081298828,
          47.506736755371094,
          47.18919372558594,
          46.556278228759766,
          45.25482940673828,
          45.0629997253418,
          46.13680648803711,
          45.440059661865234,
          44.897640228271484,
          45.60330581665039,
          44.32246017456055,
          45.62055587768555,
          44.104957580566406,
          45.482826232910156,
          44.076332092285156,
          45.90724182128906,
          45.16359329223633,
          44.16912078857422,
          44.02325439453125,
          41.84552001953125,
          43.55284118652344,
          42.284732818603516,
          44.07536315917969,
          43.57724380493164,
          42.71849822998047,
          42.978580474853516,
          43.45247268676758,
          43.05478286743164,
          42.68477249145508,
          41.92613220214844,
          42.02798080444336,
          41.956661224365234,
          40.76026153564453,
          41.381919860839844,
          40.270851135253906,
          41.22359848022461,
          39.0260124206543,
          38.9327507019043,
          39.21085739135742,
          38.59980773925781,
          40.01089096069336,
          39.94231414794922,
          39.07168197631836,
          38.98866653442383,
          39.28221130371094,
          38.07518005371094,
          39.0911750793457,
          38.44957733154297,
          38.64989471435547,
          39.536197662353516,
          39.88022232055664,
          39.34381866455078,
          39.33767318725586,
          40.901493072509766,
          40.7645263671875,
          39.9467658996582,
          40.00355529785156,
          39.31535720825195,
          39.09174728393555,
          38.879276275634766,
          38.883155822753906,
          38.38518142700195,
          38.04127502441406,
          38.90283966064453,
          37.65898895263672,
          37.943824768066406,
          38.92680740356445,
          37.933624267578125,
          38.94233703613281,
          39.519134521484375,
          39.499568939208984,
          39.83649826049805,
          41.01841354370117,
          41.28508758544922,
          40.49153137207031,
          40.126522064208984,
          40.61418151855469,
          40.33502960205078,
          39.54088592529297,
          40.48381042480469,
          41.512962341308594,
          42.529151916503906,
          43.1599006652832,
          43.589508056640625,
          43.015045166015625,
          43.92971420288086,
          44.00346374511719,
          44.46211624145508,
          43.376243591308594,
          43.51798629760742,
          43.386417388916016,
          43.110904693603516,
          43.354469299316406,
          42.56534194946289,
          42.67284393310547,
          42.66896438598633,
          43.579689025878906,
          42.653541564941406,
          43.07190704345703,
          44.17713928222656,
          42.28767395019531,
          42.617156982421875,
          43.04829788208008,
          43.056270599365234,
          41.6938591003418,
          42.21445846557617,
          42.65519332885742,
          41.82246398925781,
          40.00081253051758,
          41.511600494384766,
          41.062950134277344,
          40.47425079345703,
          41.09287643432617,
          41.62537384033203,
          41.16594314575195,
          40.24546432495117,
          40.584205627441406,
          40.6307487487793,
          39.13691329956055,
          39.26300048828125,
          38.90153884887695,
          37.85151290893555,
          37.40755844116211,
          38.969974517822266,
          38.95414352416992,
          39.869590759277344,
          39.819435119628906,
          39.580047607421875,
          40.12225341796875,
          40.75096893310547,
          40.39017105102539,
          41.319766998291016,
          41.331886291503906,
          41.89757537841797,
          42.28687286376953,
          42.155452728271484,
          42.27375030517578,
          42.313072204589844,
          42.576995849609375,
          42.09111404418945,
          42.0150146484375,
          42.78209686279297,
          44.17561721801758,
          45.1201057434082,
          45.106971740722656,
          45.088340759277344,
          44.31777572631836,
          43.77513885498047,
          44.31876754760742,
          43.49947738647461,
          43.42411804199219,
          43.404640197753906,
          42.712425231933594,
          42.85166549682617,
          43.325008392333984,
          43.049991607666016,
          42.70559310913086,
          42.47481918334961,
          41.976253509521484,
          41.576053619384766,
          41.49591827392578,
          41.522438049316406,
          41.796173095703125,
          41.814247131347656,
          41.656063079833984,
          41.63465881347656,
          41.53942108154297,
          41.50923156738281,
          41.699745178222656,
          41.0449104309082,
          41.862571716308594,
          40.69187545776367,
          41.08850860595703,
          41.89543914794922,
          42.24779510498047,
          41.85372543334961,
          41.96583938598633,
          40.86591339111328,
          41.82828903198242,
          41.16032028198242,
          41.612464904785156
         ]
        }
       ],
       "layout": {
        "template": {
         "data": {
          "bar": [
           {
            "error_x": {
             "color": "#2a3f5f"
            },
            "error_y": {
             "color": "#2a3f5f"
            },
            "marker": {
             "line": {
              "color": "#E5ECF6",
              "width": 0.5
             },
             "pattern": {
              "fillmode": "overlay",
              "size": 10,
              "solidity": 0.2
             }
            },
            "type": "bar"
           }
          ],
          "barpolar": [
           {
            "marker": {
             "line": {
              "color": "#E5ECF6",
              "width": 0.5
             },
             "pattern": {
              "fillmode": "overlay",
              "size": 10,
              "solidity": 0.2
             }
            },
            "type": "barpolar"
           }
          ],
          "carpet": [
           {
            "aaxis": {
             "endlinecolor": "#2a3f5f",
             "gridcolor": "white",
             "linecolor": "white",
             "minorgridcolor": "white",
             "startlinecolor": "#2a3f5f"
            },
            "baxis": {
             "endlinecolor": "#2a3f5f",
             "gridcolor": "white",
             "linecolor": "white",
             "minorgridcolor": "white",
             "startlinecolor": "#2a3f5f"
            },
            "type": "carpet"
           }
          ],
          "choropleth": [
           {
            "colorbar": {
             "outlinewidth": 0,
             "ticks": ""
            },
            "type": "choropleth"
           }
          ],
          "contour": [
           {
            "colorbar": {
             "outlinewidth": 0,
             "ticks": ""
            },
            "colorscale": [
             [
              0,
              "#0d0887"
             ],
             [
              0.1111111111111111,
              "#46039f"
             ],
             [
              0.2222222222222222,
              "#7201a8"
             ],
             [
              0.3333333333333333,
              "#9c179e"
             ],
             [
              0.4444444444444444,
              "#bd3786"
             ],
             [
              0.5555555555555556,
              "#d8576b"
             ],
             [
              0.6666666666666666,
              "#ed7953"
             ],
             [
              0.7777777777777778,
              "#fb9f3a"
             ],
             [
              0.8888888888888888,
              "#fdca26"
             ],
             [
              1,
              "#f0f921"
             ]
            ],
            "type": "contour"
           }
          ],
          "contourcarpet": [
           {
            "colorbar": {
             "outlinewidth": 0,
             "ticks": ""
            },
            "type": "contourcarpet"
           }
          ],
          "heatmap": [
           {
            "colorbar": {
             "outlinewidth": 0,
             "ticks": ""
            },
            "colorscale": [
             [
              0,
              "#0d0887"
             ],
             [
              0.1111111111111111,
              "#46039f"
             ],
             [
              0.2222222222222222,
              "#7201a8"
             ],
             [
              0.3333333333333333,
              "#9c179e"
             ],
             [
              0.4444444444444444,
              "#bd3786"
             ],
             [
              0.5555555555555556,
              "#d8576b"
             ],
             [
              0.6666666666666666,
              "#ed7953"
             ],
             [
              0.7777777777777778,
              "#fb9f3a"
             ],
             [
              0.8888888888888888,
              "#fdca26"
             ],
             [
              1,
              "#f0f921"
             ]
            ],
            "type": "heatmap"
           }
          ],
          "heatmapgl": [
           {
            "colorbar": {
             "outlinewidth": 0,
             "ticks": ""
            },
            "colorscale": [
             [
              0,
              "#0d0887"
             ],
             [
              0.1111111111111111,
              "#46039f"
             ],
             [
              0.2222222222222222,
              "#7201a8"
             ],
             [
              0.3333333333333333,
              "#9c179e"
             ],
             [
              0.4444444444444444,
              "#bd3786"
             ],
             [
              0.5555555555555556,
              "#d8576b"
             ],
             [
              0.6666666666666666,
              "#ed7953"
             ],
             [
              0.7777777777777778,
              "#fb9f3a"
             ],
             [
              0.8888888888888888,
              "#fdca26"
             ],
             [
              1,
              "#f0f921"
             ]
            ],
            "type": "heatmapgl"
           }
          ],
          "histogram": [
           {
            "marker": {
             "pattern": {
              "fillmode": "overlay",
              "size": 10,
              "solidity": 0.2
             }
            },
            "type": "histogram"
           }
          ],
          "histogram2d": [
           {
            "colorbar": {
             "outlinewidth": 0,
             "ticks": ""
            },
            "colorscale": [
             [
              0,
              "#0d0887"
             ],
             [
              0.1111111111111111,
              "#46039f"
             ],
             [
              0.2222222222222222,
              "#7201a8"
             ],
             [
              0.3333333333333333,
              "#9c179e"
             ],
             [
              0.4444444444444444,
              "#bd3786"
             ],
             [
              0.5555555555555556,
              "#d8576b"
             ],
             [
              0.6666666666666666,
              "#ed7953"
             ],
             [
              0.7777777777777778,
              "#fb9f3a"
             ],
             [
              0.8888888888888888,
              "#fdca26"
             ],
             [
              1,
              "#f0f921"
             ]
            ],
            "type": "histogram2d"
           }
          ],
          "histogram2dcontour": [
           {
            "colorbar": {
             "outlinewidth": 0,
             "ticks": ""
            },
            "colorscale": [
             [
              0,
              "#0d0887"
             ],
             [
              0.1111111111111111,
              "#46039f"
             ],
             [
              0.2222222222222222,
              "#7201a8"
             ],
             [
              0.3333333333333333,
              "#9c179e"
             ],
             [
              0.4444444444444444,
              "#bd3786"
             ],
             [
              0.5555555555555556,
              "#d8576b"
             ],
             [
              0.6666666666666666,
              "#ed7953"
             ],
             [
              0.7777777777777778,
              "#fb9f3a"
             ],
             [
              0.8888888888888888,
              "#fdca26"
             ],
             [
              1,
              "#f0f921"
             ]
            ],
            "type": "histogram2dcontour"
           }
          ],
          "mesh3d": [
           {
            "colorbar": {
             "outlinewidth": 0,
             "ticks": ""
            },
            "type": "mesh3d"
           }
          ],
          "parcoords": [
           {
            "line": {
             "colorbar": {
              "outlinewidth": 0,
              "ticks": ""
             }
            },
            "type": "parcoords"
           }
          ],
          "pie": [
           {
            "automargin": true,
            "type": "pie"
           }
          ],
          "scatter": [
           {
            "fillpattern": {
             "fillmode": "overlay",
             "size": 10,
             "solidity": 0.2
            },
            "type": "scatter"
           }
          ],
          "scatter3d": [
           {
            "line": {
             "colorbar": {
              "outlinewidth": 0,
              "ticks": ""
             }
            },
            "marker": {
             "colorbar": {
              "outlinewidth": 0,
              "ticks": ""
             }
            },
            "type": "scatter3d"
           }
          ],
          "scattercarpet": [
           {
            "marker": {
             "colorbar": {
              "outlinewidth": 0,
              "ticks": ""
             }
            },
            "type": "scattercarpet"
           }
          ],
          "scattergeo": [
           {
            "marker": {
             "colorbar": {
              "outlinewidth": 0,
              "ticks": ""
             }
            },
            "type": "scattergeo"
           }
          ],
          "scattergl": [
           {
            "marker": {
             "colorbar": {
              "outlinewidth": 0,
              "ticks": ""
             }
            },
            "type": "scattergl"
           }
          ],
          "scattermapbox": [
           {
            "marker": {
             "colorbar": {
              "outlinewidth": 0,
              "ticks": ""
             }
            },
            "type": "scattermapbox"
           }
          ],
          "scatterpolar": [
           {
            "marker": {
             "colorbar": {
              "outlinewidth": 0,
              "ticks": ""
             }
            },
            "type": "scatterpolar"
           }
          ],
          "scatterpolargl": [
           {
            "marker": {
             "colorbar": {
              "outlinewidth": 0,
              "ticks": ""
             }
            },
            "type": "scatterpolargl"
           }
          ],
          "scatterternary": [
           {
            "marker": {
             "colorbar": {
              "outlinewidth": 0,
              "ticks": ""
             }
            },
            "type": "scatterternary"
           }
          ],
          "surface": [
           {
            "colorbar": {
             "outlinewidth": 0,
             "ticks": ""
            },
            "colorscale": [
             [
              0,
              "#0d0887"
             ],
             [
              0.1111111111111111,
              "#46039f"
             ],
             [
              0.2222222222222222,
              "#7201a8"
             ],
             [
              0.3333333333333333,
              "#9c179e"
             ],
             [
              0.4444444444444444,
              "#bd3786"
             ],
             [
              0.5555555555555556,
              "#d8576b"
             ],
             [
              0.6666666666666666,
              "#ed7953"
             ],
             [
              0.7777777777777778,
              "#fb9f3a"
             ],
             [
              0.8888888888888888,
              "#fdca26"
             ],
             [
              1,
              "#f0f921"
             ]
            ],
            "type": "surface"
           }
          ],
          "table": [
           {
            "cells": {
             "fill": {
              "color": "#EBF0F8"
             },
             "line": {
              "color": "white"
             }
            },
            "header": {
             "fill": {
              "color": "#C8D4E3"
             },
             "line": {
              "color": "white"
             }
            },
            "type": "table"
           }
          ]
         },
         "layout": {
          "annotationdefaults": {
           "arrowcolor": "#2a3f5f",
           "arrowhead": 0,
           "arrowwidth": 1
          },
          "autotypenumbers": "strict",
          "coloraxis": {
           "colorbar": {
            "outlinewidth": 0,
            "ticks": ""
           }
          },
          "colorscale": {
           "diverging": [
            [
             0,
             "#8e0152"
            ],
            [
             0.1,
             "#c51b7d"
            ],
            [
             0.2,
             "#de77ae"
            ],
            [
             0.3,
             "#f1b6da"
            ],
            [
             0.4,
             "#fde0ef"
            ],
            [
             0.5,
             "#f7f7f7"
            ],
            [
             0.6,
             "#e6f5d0"
            ],
            [
             0.7,
             "#b8e186"
            ],
            [
             0.8,
             "#7fbc41"
            ],
            [
             0.9,
             "#4d9221"
            ],
            [
             1,
             "#276419"
            ]
           ],
           "sequential": [
            [
             0,
             "#0d0887"
            ],
            [
             0.1111111111111111,
             "#46039f"
            ],
            [
             0.2222222222222222,
             "#7201a8"
            ],
            [
             0.3333333333333333,
             "#9c179e"
            ],
            [
             0.4444444444444444,
             "#bd3786"
            ],
            [
             0.5555555555555556,
             "#d8576b"
            ],
            [
             0.6666666666666666,
             "#ed7953"
            ],
            [
             0.7777777777777778,
             "#fb9f3a"
            ],
            [
             0.8888888888888888,
             "#fdca26"
            ],
            [
             1,
             "#f0f921"
            ]
           ],
           "sequentialminus": [
            [
             0,
             "#0d0887"
            ],
            [
             0.1111111111111111,
             "#46039f"
            ],
            [
             0.2222222222222222,
             "#7201a8"
            ],
            [
             0.3333333333333333,
             "#9c179e"
            ],
            [
             0.4444444444444444,
             "#bd3786"
            ],
            [
             0.5555555555555556,
             "#d8576b"
            ],
            [
             0.6666666666666666,
             "#ed7953"
            ],
            [
             0.7777777777777778,
             "#fb9f3a"
            ],
            [
             0.8888888888888888,
             "#fdca26"
            ],
            [
             1,
             "#f0f921"
            ]
           ]
          },
          "colorway": [
           "#636efa",
           "#EF553B",
           "#00cc96",
           "#ab63fa",
           "#FFA15A",
           "#19d3f3",
           "#FF6692",
           "#B6E880",
           "#FF97FF",
           "#FECB52"
          ],
          "font": {
           "color": "#2a3f5f"
          },
          "geo": {
           "bgcolor": "white",
           "lakecolor": "white",
           "landcolor": "#E5ECF6",
           "showlakes": true,
           "showland": true,
           "subunitcolor": "white"
          },
          "hoverlabel": {
           "align": "left"
          },
          "hovermode": "closest",
          "mapbox": {
           "style": "light"
          },
          "paper_bgcolor": "white",
          "plot_bgcolor": "#E5ECF6",
          "polar": {
           "angularaxis": {
            "gridcolor": "white",
            "linecolor": "white",
            "ticks": ""
           },
           "bgcolor": "#E5ECF6",
           "radialaxis": {
            "gridcolor": "white",
            "linecolor": "white",
            "ticks": ""
           }
          },
          "scene": {
           "xaxis": {
            "backgroundcolor": "#E5ECF6",
            "gridcolor": "white",
            "gridwidth": 2,
            "linecolor": "white",
            "showbackground": true,
            "ticks": "",
            "zerolinecolor": "white"
           },
           "yaxis": {
            "backgroundcolor": "#E5ECF6",
            "gridcolor": "white",
            "gridwidth": 2,
            "linecolor": "white",
            "showbackground": true,
            "ticks": "",
            "zerolinecolor": "white"
           },
           "zaxis": {
            "backgroundcolor": "#E5ECF6",
            "gridcolor": "white",
            "gridwidth": 2,
            "linecolor": "white",
            "showbackground": true,
            "ticks": "",
            "zerolinecolor": "white"
           }
          },
          "shapedefaults": {
           "line": {
            "color": "#2a3f5f"
           }
          },
          "ternary": {
           "aaxis": {
            "gridcolor": "white",
            "linecolor": "white",
            "ticks": ""
           },
           "baxis": {
            "gridcolor": "white",
            "linecolor": "white",
            "ticks": ""
           },
           "bgcolor": "#E5ECF6",
           "caxis": {
            "gridcolor": "white",
            "linecolor": "white",
            "ticks": ""
           }
          },
          "title": {
           "x": 0.05
          },
          "xaxis": {
           "automargin": true,
           "gridcolor": "white",
           "linecolor": "white",
           "ticks": "",
           "title": {
            "standoff": 15
           },
           "zerolinecolor": "white",
           "zerolinewidth": 2
          },
          "yaxis": {
           "automargin": true,
           "gridcolor": "white",
           "linecolor": "white",
           "ticks": "",
           "title": {
            "standoff": 15
           },
           "zerolinecolor": "white",
           "zerolinewidth": 2
          }
         }
        },
        "title": {
         "text": "Rolling Prediction vs Actual Close Price"
        },
        "xaxis": {
         "title": {
          "text": "Time"
         }
        },
        "yaxis": {
         "title": {
          "text": "Close Price"
         }
        }
       }
      },
      "text/html": [
       "<div>                            <div id=\"071c50bf-a683-44a1-a126-43837067e0dc\" class=\"plotly-graph-div\" style=\"height:525px; width:100%;\"></div>            <script type=\"text/javascript\">                require([\"plotly\"], function(Plotly) {                    window.PLOTLYENV=window.PLOTLYENV || {};                                    if (document.getElementById(\"071c50bf-a683-44a1-a126-43837067e0dc\")) {                    Plotly.newPlot(                        \"071c50bf-a683-44a1-a126-43837067e0dc\",                        [{\"mode\":\"lines\",\"name\":\"Test Actual Close Price\",\"x\":[3803,3804,3805,3806,3807,3808,3809,3810,3811,3812,3813,3814,3815,3816,3817,3818,3819,3820,3821,3822,3823,3824,3825,3826,3827,3828,3829,3830,3831,3832,3833,3834,3835,3836,3837,3838,3839,3840,3841,3842,3843,3844,3845,3846,3847,3848,3849,3850,3851,3852,3853,3854,3855,3856,3857,3858,3859,3860,3861,3862,3863,3864,3865,3866,3867,3868,3869,3870,3871,3872,3873,3874,3875,3876,3877,3878,3879,3880,3881,3882,3883,3884,3885,3886,3887,3888,3889,3890,3891,3892,3893,3894,3895,3896,3897,3898,3899,3900,3901,3902,3903,3904,3905,3906,3907,3908,3909,3910,3911,3912,3913,3914,3915,3916,3917,3918,3919,3920,3921,3922,3923,3924,3925,3926,3927,3928,3929,3930,3931,3932,3933,3934,3935,3936,3937,3938,3939,3940,3941,3942,3943,3944,3945,3946,3947,3948,3949,3950,3951,3952,3953,3954,3955,3956,3957,3958,3959,3960,3961,3962,3963,3964,3965,3966,3967,3968,3969,3970,3971,3972,3973,3974,3975,3976,3977,3978,3979,3980,3981,3982,3983,3984,3985,3986,3987,3988,3989,3990,3991,3992,3993,3994,3995,3996,3997,3998,3999,4000,4001,4002,4003,4004,4005,4006,4007,4008,4009,4010,4011,4012,4013,4014,4015,4016,4017,4018,4019,4020,4021,4022,4023,4024,4025,4026,4027,4028,4029,4030,4031,4032,4033,4034,4035,4036,4037,4038,4039,4040,4041,4042,4043,4044,4045,4046,4047,4048,4049,4050,4051,4052,4053,4054,4055,4056,4057,4058,4059,4060,4061,4062,4063,4064,4065,4066,4067,4068,4069,4070,4071,4072,4073,4074,4075,4076,4077,4078,4079,4080,4081,4082,4083,4084,4085,4086,4087,4088,4089,4090,4091,4092,4093,4094,4095,4096,4097,4098,4099,4100,4101,4102,4103,4104,4105,4106,4107,4108,4109,4110,4111,4112,4113,4114,4115,4116,4117,4118,4119,4120,4121,4122,4123,4124,4125,4126,4127,4128,4129,4130,4131,4132,4133,4134,4135,4136,4137,4138,4139,4140,4141,4142,4143,4144,4145,4146,4147,4148,4149,4150,4151,4152,4153,4154,4155,4156,4157,4158,4159,4160,4161,4162,4163,4164,4165,4166,4167,4168,4169,4170,4171,4172,4173,4174,4175,4176,4177,4178,4179,4180,4181,4182,4183,4184,4185,4186,4187,4188,4189,4190,4191,4192,4193,4194,4195,4196,4197,4198,4199,4200,4201,4202,4203,4204,4205,4206,4207,4208,4209,4210,4211,4212,4213,4214,4215,4216,4217,4218,4219,4220,4221,4222,4223,4224,4225],\"y\":[41.75,41.27000045776367,40.0099983215332,39.650001525878906,37.70000076293945,37.720001220703125,37.66999816894531,37.65999984741211,36.72999954223633,36.150001525878906,37.459999084472656,37.400001525878906,36.93000030517578,38.310001373291016,38.790000915527344,38.68999862670898,38.369998931884766,38.459999084472656,40.33000183105469,41.59999847412109,42.4900016784668,42.29999923706055,42.560001373291016,42.15999984741211,41.209999084472656,41.970001220703125,41.77000045776367,41.79999923706055,42.75,41.40999984741211,44.77999877929688,44.95000076293945,44.83000183105469,44.619998931884766,47.27999877929688,47.43999862670898,46.70000076293945,47.150001525878906,47.59999847412109,46.16999816894531,46.70000076293945,46.88999938964844,46.43000030517578,46.900001525878906,45.77000045776367,44.93000030517578,45.2599983215332,45.880001068115234,45.63999938964844,44.65999984741211,45.58000183105469,46.27999877929688,45.81999969482422,47.0,47.150001525878906,48.52999877929688,48.93000030517578,49.7400016784668,50.90999984741211,49.209999084472656,50.70000076293945,50.90999984741211,52.34999847412109,52.09000015258789,51.5,51.54999923706055,51.810001373291016,52.09999847412109,51.47999954223633,50.97999954223633,51.34999847412109,50.83000183105469,49.59999847412109,48.15999984741211,48.70000076293945,48.5,49.31999969482422,49.29999923706055,49.25,49.900001525878906,48.880001068115234,49.20000076293945,48.79999923706055,49.95000076293945,50.0099983215332,49.18000030517578,48.97999954223633,48.20000076293945,47.79999923706055,48.20000076293945,49.9900016784668,50.20000076293945,50.27999877929688,48.58000183105469,47.90999984741211,47.22999954223633,46.63999938964844,46.0,46.5,45.459999084472656,45.95000076293945,45.22999954223633,46.20000076293945,45.58000183105469,46.0099983215332,46.5,46.880001068115234,46.20000076293945,45.9900016784668,45.880001068115234,45.41999816894531,45.47999954223633,45.59999847412109,45.68000030517578,45.56999969482422,45.08000183105469,45.630001068115234,46.060001373291016,45.65999984741211,45.59999847412109,45.119998931884766,45.4900016784668,47.47999954223633,48.619998931884766,48.400001525878906,48.790000915527344,46.7400016784668,46.400001525878906,46.09000015258789,45.790000915527344,50.369998931884766,51.79999923706055,53.70000076293945,53.83000183105469,54.91999816894531,53.47999954223633,52.310001373291016,52.34999847412109,51.27000045776367,53.709999084472656,53.20000076293945,51.90999984741211,51.81999969482422,51.040000915527344,51.41999816894531,49.900001525878906,48.470001220703125,48.400001525878906,48.43999862670898,48.040000915527344,47.9900016784668,47.0,47.45000076293945,49.09999847412109,48.5099983215332,48.7599983215332,49.0099983215332,49.66999816894531,49.47999954223633,49.56999969482422,49.630001068115234,48.04999923706055,48.41999816894531,48.59999847412109,47.5,46.88999938964844,46.63999938964844,45.93000030517578,46.29999923706055,46.540000915527344,46.29999923706055,46.400001525878906,48.18000030517578,47.95000076293945,47.34999847412109,47.29999923706055,47.209999084472656,46.61000061035156,47.20000076293945,47.290000915527344,48.619998931884766,48.63999938964844,48.04999923706055,47.59999847412109,47.77000045776367,47.41999816894531,46.970001220703125,46.619998931884766,49.54999923706055,49.459999084472656,49.880001068115234,51.93000030517578,52.59999847412109,51.7400016784668,51.40999984741211,52.40999984741211,51.900001525878906,51.70000076293945,51.2599983215332,51.2599983215332,51.36000061035156,49.369998931884766,48.52999877929688,48.68000030517578,48.34999847412109,47.90999984741211,47.52000045776367,46.66999816894531,47.0,46.459999084472656,46.5,47.0099983215332,48.11000061035156,48.560001373291016,48.25,48.790000915527344,50.09999847412109,51.45000076293945,50.20000076293945,51.02999877929688,50.220001220703125,50.119998931884766,50.36000061035156,49.95000076293945,49.5,49.18999862670898,49.20000076293945,49.29999923706055,49.27999877929688,48.88999938964844,48.4900016784668,50.33000183105469,49.060001373291016,48.560001373291016,48.65999984741211,48.29999923706055,48.06999969482422,47.59999847412109,47.68999862670898,48.43000030517578,47.970001220703125,47.540000915527344,47.68000030517578,47.38999938964844,46.04999923706055,45.84000015258789,45.93999862670898,46.09999847412109,45.5099983215332,45.70000076293945,45.18000030517578,45.310001373291016,45.459999084472656,45.11000061035156,45.060001373291016,45.2400016784668,46.060001373291016,45.29999923706055,44.630001068115234,43.27999877929688,42.34999847412109,42.38999938964844,42.61000061035156,43.36000061035156,42.869998931884766,42.65999984741211,42.90999984741211,43.06999969482422,42.72999954223633,43.04999923706055,42.68999862670898,41.84999847412109,41.66999816894531,40.75,40.79999923706055,41.02000045776367,40.380001068115234,39.52999877929688,39.52999877929688,39.34000015258789,39.18999862670898,39.59999847412109,39.790000915527344,38.88999938964844,38.70000076293945,38.790000915527344,38.61000061035156,38.709999084472656,38.45000076293945,38.79999923706055,39.09999847412109,39.18000030517578,39.09999847412109,39.0,40.2599983215332,40.29999923706055,39.470001220703125,39.400001525878906,38.900001525878906,38.970001220703125,38.45000076293945,38.380001068115234,37.81999969482422,38.43000030517578,38.02999877929688,38.16999816894531,38.70000076293945,38.0099983215332,38.9900016784668,39.20000076293945,39.47999954223633,39.36000061035156,40.16999816894531,41.150001525878906,41.25,40.97999954223633,40.18999862670898,40.5099983215332,40.29999923706055,40.09999847412109,40.68000030517578,41.560001373291016,42.380001068115234,42.77999877929688,42.72999954223633,42.34999847412109,43.59000015258789,43.70000076293945,44.06999969482422,42.95000076293945,43.119998931884766,42.650001525878906,42.900001525878906,42.9900016784668,42.34000015258789,42.810001373291016,42.5,43.060001373291016,42.880001068115234,43.15999984741211,43.810001373291016,42.630001068115234,42.45000076293945,42.47999954223633,42.560001373291016,41.83000183105469,41.91999816894531,42.02999877929688,40.560001373291016,40.43999862670898,40.900001525878906,40.650001525878906,40.68999862670898,40.810001373291016,41.25,41.0,40.5,40.220001220703125,40.11000061035156,39.20000076293945,38.95000076293945,37.77999877929688,38.36000061035156,38.27999877929688,38.95000076293945,39.70000076293945,39.41999816894531,39.83000183105469,39.88999938964844,40.59999847412109,41.060001373291016,41.52999877929688,42.08000183105469,41.36000061035156,42.4900016784668,42.59000015258789,41.95000076293945,42.34000015258789,42.93000030517578,42.650001525878906,42.310001373291016,41.84000015258789,43.04999923706055,45.20000076293945,45.459999084472656,45.400001525878906,45.400001525878906,44.77999877929688,43.88999938964844,44.09999847412109,43.7599983215332,43.470001220703125,43.150001525878906,43.06999969482422,43.130001068115234,43.27000045776367,43.08000183105469,42.45000076293945,42.119998931884766,41.83000183105469,41.400001525878906,41.29999923706055,41.869998931884766,41.58000183105469,41.72999954223633,42.0,41.5099983215332,41.66999816894531,41.79999923706055,41.54999923706055,41.650001525878906,41.41999816894531,41.36000061035156,41.619998931884766,42.16999816894531,42.27000045776367,41.97999954223633,41.97999954223633,40.84000015258789,41.52000045776367,41.86000061035156,41.93999862670898,42.68000030517578],\"type\":\"scatter\"},{\"mode\":\"lines\",\"name\":\"Test Predicted Close Price\",\"x\":[3803,3804,3805,3806,3807,3808,3809,3810,3811,3812,3813,3814,3815,3816,3817,3818,3819,3820,3821,3822,3823,3824,3825,3826,3827,3828,3829,3830,3831,3832,3833,3834,3835,3836,3837,3838,3839,3840,3841,3842,3843,3844,3845,3846,3847,3848,3849,3850,3851,3852,3853,3854,3855,3856,3857,3858,3859,3860,3861,3862,3863,3864,3865,3866,3867,3868,3869,3870,3871,3872,3873,3874,3875,3876,3877,3878,3879,3880,3881,3882,3883,3884,3885,3886,3887,3888,3889,3890,3891,3892,3893,3894,3895,3896,3897,3898,3899,3900,3901,3902,3903,3904,3905,3906,3907,3908,3909,3910,3911,3912,3913,3914,3915,3916,3917,3918,3919,3920,3921,3922,3923,3924,3925,3926,3927,3928,3929,3930,3931,3932,3933,3934,3935,3936,3937,3938,3939,3940,3941,3942,3943,3944,3945,3946,3947,3948,3949,3950,3951,3952,3953,3954,3955,3956,3957,3958,3959,3960,3961,3962,3963,3964,3965,3966,3967,3968,3969,3970,3971,3972,3973,3974,3975,3976,3977,3978,3979,3980,3981,3982,3983,3984,3985,3986,3987,3988,3989,3990,3991,3992,3993,3994,3995,3996,3997,3998,3999,4000,4001,4002,4003,4004,4005,4006,4007,4008,4009,4010,4011,4012,4013,4014,4015,4016,4017,4018,4019,4020,4021,4022,4023,4024,4025,4026,4027,4028,4029,4030,4031,4032,4033,4034,4035,4036,4037,4038,4039,4040,4041,4042,4043,4044,4045,4046,4047,4048,4049,4050,4051,4052,4053,4054,4055,4056,4057,4058,4059,4060,4061,4062,4063,4064,4065,4066,4067,4068,4069,4070,4071,4072,4073,4074,4075,4076,4077,4078,4079,4080,4081,4082,4083,4084,4085,4086,4087,4088,4089,4090,4091,4092,4093,4094,4095,4096,4097,4098,4099,4100,4101,4102,4103,4104,4105,4106,4107,4108,4109,4110,4111,4112,4113,4114,4115,4116,4117,4118,4119,4120,4121,4122,4123,4124,4125,4126,4127,4128,4129,4130,4131,4132,4133,4134,4135,4136,4137,4138,4139,4140,4141,4142,4143,4144,4145,4146,4147,4148,4149,4150,4151,4152,4153,4154,4155,4156,4157,4158,4159,4160,4161,4162,4163,4164,4165,4166,4167,4168,4169,4170,4171,4172,4173,4174,4175,4176,4177,4178,4179,4180,4181,4182,4183,4184,4185,4186,4187,4188,4189,4190,4191,4192,4193,4194,4195,4196,4197,4198,4199,4200,4201,4202,4203,4204,4205,4206,4207,4208,4209,4210,4211,4212,4213,4214,4215,4216,4217,4218,4219,4220,4221,4222,4223,4224,4225],\"y\":[42.52543258666992,41.70713424682617,41.96274948120117,40.159786224365234,39.992069244384766,38.464664459228516,37.500579833984375,37.71355056762695,38.46227264404297,36.93772888183594,35.97742462158203,37.377464294433594,37.40945816040039,37.124916076660156,37.898345947265625,39.22807312011719,38.32546615600586,38.9384765625,39.00890350341797,40.410404205322266,42.36298370361328,41.802162170410156,43.47318649291992,42.37790298461914,42.169036865234375,41.47129821777344,42.7681884765625,42.14811706542969,42.290714263916016,42.17061233520508,42.10978698730469,45.01865768432617,43.25216293334961,45.90629196166992,44.5377197265625,46.5784797668457,47.2066764831543,46.9005241394043,47.68133544921875,48.258304595947266,45.620849609375,47.345455169677734,48.136474609375,46.13383483886719,46.26655960083008,46.320343017578125,44.67597579956055,45.02980422973633,46.405338287353516,45.18850326538086,43.74994659423828,47.151546478271484,46.150917053222656,45.43024444580078,48.51227951049805,47.31560134887695,49.50048065185547,48.670814514160156,49.39750289916992,50.469913482666016,49.985103607177734,50.12915802001953,50.071868896484375,52.80937957763672,50.708473205566406,51.66116714477539,51.490272521972656,51.27708053588867,52.897361755371094,51.088165283203125,50.90046310424805,52.3961181640625,50.910667419433594,48.47037124633789,49.00282287597656,48.80010986328125,48.05308151245117,50.64014434814453,48.05375671386719,50.120182037353516,49.73667907714844,49.200233459472656,50.80083084106445,48.49791717529297,50.70833969116211,50.4997444152832,50.178768157958984,49.245872497558594,48.26438903808594,48.314579010009766,48.28114318847656,49.59404754638672,47.33219528198242,50.77536392211914,48.93202590942383,47.89659118652344,47.0240478515625,46.98091125488281,43.959781646728516,47.27294158935547,45.54817581176758,46.192420959472656,44.996910095214844,46.014617919921875,43.91364288330078,45.49183654785156,46.461002349853516,47.58583450317383,47.30521011352539,45.907325744628906,46.07778549194336,45.8261833190918,45.27705764770508,45.78551483154297,46.05799102783203,45.1485710144043,44.64057922363281,46.417728424072266,46.01568603515625,45.55348587036133,46.01465606689453,45.94694519042969,45.0211296081543,47.63734436035156,49.094581604003906,47.855224609375,49.249393463134766,47.07192611694336,46.11341094970703,46.68056869506836,46.25002670288086,49.0528564453125,51.574241638183594,53.26518249511719,53.84230041503906,54.546451568603516,53.55192947387695,52.43995666503906,52.52422332763672,51.0806770324707,53.20277404785156,52.76222229003906,51.450828552246094,51.16447067260742,50.97188186645508,51.09413528442383,49.87775421142578,47.90137481689453,48.32514953613281,48.21019744873047,47.752994537353516,47.817142486572266,47.26448440551758,47.592002868652344,48.206298828125,48.6700325012207,48.93096923828125,49.387882232666016,49.44573211669922,49.978763580322266,49.63674545288086,48.94593811035156,47.837135314941406,49.18741226196289,48.22734832763672,48.13488006591797,46.91136932373047,46.85297393798828,46.31319808959961,45.25812530517578,45.951969146728516,46.07306671142578,46.4428825378418,47.29901885986328,47.75975799560547,48.3261833190918,47.21590805053711,47.508060455322266,47.286590576171875,46.31180191040039,48.3631706237793,47.27391052246094,49.09596252441406,47.370643615722656,48.04935073852539,47.71072769165039,47.255062103271484,47.61985778808594,46.78643035888672,48.692020416259766,50.60527420043945,49.1360969543457,52.91484832763672,52.76107406616211,53.264129638671875,52.553558349609375,51.31083679199219,52.92438507080078,52.14580154418945,51.208213806152344,51.67578125,51.930660247802734,49.647212982177734,49.51057052612305,48.6359748840332,48.80824279785156,48.07642364501953,47.99166488647461,47.0801887512207,46.553375244140625,47.130523681640625,46.593360900878906,46.948482513427734,48.09526443481445,48.61829376220703,48.07626724243164,48.71165466308594,50.54667663574219,50.11564636230469,51.390628814697266,50.26047134399414,50.96199035644531,49.88933181762695,50.45025634765625,49.91379165649414,49.896846771240234,49.76130676269531,49.328460693359375,49.7446403503418,50.0208740234375,49.31052017211914,48.74441146850586,50.17817306518555,49.63650131225586,48.979129791259766,48.450592041015625,48.2705192565918,47.97541046142578,47.5769157409668,47.49919891357422,48.14091110229492,47.70611572265625,47.69477081298828,47.506736755371094,47.18919372558594,46.556278228759766,45.25482940673828,45.0629997253418,46.13680648803711,45.440059661865234,44.897640228271484,45.60330581665039,44.32246017456055,45.62055587768555,44.104957580566406,45.482826232910156,44.076332092285156,45.90724182128906,45.16359329223633,44.16912078857422,44.02325439453125,41.84552001953125,43.55284118652344,42.284732818603516,44.07536315917969,43.57724380493164,42.71849822998047,42.978580474853516,43.45247268676758,43.05478286743164,42.68477249145508,41.92613220214844,42.02798080444336,41.956661224365234,40.76026153564453,41.381919860839844,40.270851135253906,41.22359848022461,39.0260124206543,38.9327507019043,39.21085739135742,38.59980773925781,40.01089096069336,39.94231414794922,39.07168197631836,38.98866653442383,39.28221130371094,38.07518005371094,39.0911750793457,38.44957733154297,38.64989471435547,39.536197662353516,39.88022232055664,39.34381866455078,39.33767318725586,40.901493072509766,40.7645263671875,39.9467658996582,40.00355529785156,39.31535720825195,39.09174728393555,38.879276275634766,38.883155822753906,38.38518142700195,38.04127502441406,38.90283966064453,37.65898895263672,37.943824768066406,38.92680740356445,37.933624267578125,38.94233703613281,39.519134521484375,39.499568939208984,39.83649826049805,41.01841354370117,41.28508758544922,40.49153137207031,40.126522064208984,40.61418151855469,40.33502960205078,39.54088592529297,40.48381042480469,41.512962341308594,42.529151916503906,43.1599006652832,43.589508056640625,43.015045166015625,43.92971420288086,44.00346374511719,44.46211624145508,43.376243591308594,43.51798629760742,43.386417388916016,43.110904693603516,43.354469299316406,42.56534194946289,42.67284393310547,42.66896438598633,43.579689025878906,42.653541564941406,43.07190704345703,44.17713928222656,42.28767395019531,42.617156982421875,43.04829788208008,43.056270599365234,41.6938591003418,42.21445846557617,42.65519332885742,41.82246398925781,40.00081253051758,41.511600494384766,41.062950134277344,40.47425079345703,41.09287643432617,41.62537384033203,41.16594314575195,40.24546432495117,40.584205627441406,40.6307487487793,39.13691329956055,39.26300048828125,38.90153884887695,37.85151290893555,37.40755844116211,38.969974517822266,38.95414352416992,39.869590759277344,39.819435119628906,39.580047607421875,40.12225341796875,40.75096893310547,40.39017105102539,41.319766998291016,41.331886291503906,41.89757537841797,42.28687286376953,42.155452728271484,42.27375030517578,42.313072204589844,42.576995849609375,42.09111404418945,42.0150146484375,42.78209686279297,44.17561721801758,45.1201057434082,45.106971740722656,45.088340759277344,44.31777572631836,43.77513885498047,44.31876754760742,43.49947738647461,43.42411804199219,43.404640197753906,42.712425231933594,42.85166549682617,43.325008392333984,43.049991607666016,42.70559310913086,42.47481918334961,41.976253509521484,41.576053619384766,41.49591827392578,41.522438049316406,41.796173095703125,41.814247131347656,41.656063079833984,41.63465881347656,41.53942108154297,41.50923156738281,41.699745178222656,41.0449104309082,41.862571716308594,40.69187545776367,41.08850860595703,41.89543914794922,42.24779510498047,41.85372543334961,41.96583938598633,40.86591339111328,41.82828903198242,41.16032028198242,41.612464904785156],\"type\":\"scatter\"}],                        {\"title\":{\"text\":\"Rolling Prediction vs Actual Close Price\"},\"xaxis\":{\"title\":{\"text\":\"Time\"}},\"yaxis\":{\"title\":{\"text\":\"Close Price\"}},\"template\":{\"data\":{\"histogram2dcontour\":[{\"type\":\"histogram2dcontour\",\"colorbar\":{\"outlinewidth\":0,\"ticks\":\"\"},\"colorscale\":[[0.0,\"#0d0887\"],[0.1111111111111111,\"#46039f\"],[0.2222222222222222,\"#7201a8\"],[0.3333333333333333,\"#9c179e\"],[0.4444444444444444,\"#bd3786\"],[0.5555555555555556,\"#d8576b\"],[0.6666666666666666,\"#ed7953\"],[0.7777777777777778,\"#fb9f3a\"],[0.8888888888888888,\"#fdca26\"],[1.0,\"#f0f921\"]]}],\"choropleth\":[{\"type\":\"choropleth\",\"colorbar\":{\"outlinewidth\":0,\"ticks\":\"\"}}],\"histogram2d\":[{\"type\":\"histogram2d\",\"colorbar\":{\"outlinewidth\":0,\"ticks\":\"\"},\"colorscale\":[[0.0,\"#0d0887\"],[0.1111111111111111,\"#46039f\"],[0.2222222222222222,\"#7201a8\"],[0.3333333333333333,\"#9c179e\"],[0.4444444444444444,\"#bd3786\"],[0.5555555555555556,\"#d8576b\"],[0.6666666666666666,\"#ed7953\"],[0.7777777777777778,\"#fb9f3a\"],[0.8888888888888888,\"#fdca26\"],[1.0,\"#f0f921\"]]}],\"heatmap\":[{\"type\":\"heatmap\",\"colorbar\":{\"outlinewidth\":0,\"ticks\":\"\"},\"colorscale\":[[0.0,\"#0d0887\"],[0.1111111111111111,\"#46039f\"],[0.2222222222222222,\"#7201a8\"],[0.3333333333333333,\"#9c179e\"],[0.4444444444444444,\"#bd3786\"],[0.5555555555555556,\"#d8576b\"],[0.6666666666666666,\"#ed7953\"],[0.7777777777777778,\"#fb9f3a\"],[0.8888888888888888,\"#fdca26\"],[1.0,\"#f0f921\"]]}],\"heatmapgl\":[{\"type\":\"heatmapgl\",\"colorbar\":{\"outlinewidth\":0,\"ticks\":\"\"},\"colorscale\":[[0.0,\"#0d0887\"],[0.1111111111111111,\"#46039f\"],[0.2222222222222222,\"#7201a8\"],[0.3333333333333333,\"#9c179e\"],[0.4444444444444444,\"#bd3786\"],[0.5555555555555556,\"#d8576b\"],[0.6666666666666666,\"#ed7953\"],[0.7777777777777778,\"#fb9f3a\"],[0.8888888888888888,\"#fdca26\"],[1.0,\"#f0f921\"]]}],\"contourcarpet\":[{\"type\":\"contourcarpet\",\"colorbar\":{\"outlinewidth\":0,\"ticks\":\"\"}}],\"contour\":[{\"type\":\"contour\",\"colorbar\":{\"outlinewidth\":0,\"ticks\":\"\"},\"colorscale\":[[0.0,\"#0d0887\"],[0.1111111111111111,\"#46039f\"],[0.2222222222222222,\"#7201a8\"],[0.3333333333333333,\"#9c179e\"],[0.4444444444444444,\"#bd3786\"],[0.5555555555555556,\"#d8576b\"],[0.6666666666666666,\"#ed7953\"],[0.7777777777777778,\"#fb9f3a\"],[0.8888888888888888,\"#fdca26\"],[1.0,\"#f0f921\"]]}],\"surface\":[{\"type\":\"surface\",\"colorbar\":{\"outlinewidth\":0,\"ticks\":\"\"},\"colorscale\":[[0.0,\"#0d0887\"],[0.1111111111111111,\"#46039f\"],[0.2222222222222222,\"#7201a8\"],[0.3333333333333333,\"#9c179e\"],[0.4444444444444444,\"#bd3786\"],[0.5555555555555556,\"#d8576b\"],[0.6666666666666666,\"#ed7953\"],[0.7777777777777778,\"#fb9f3a\"],[0.8888888888888888,\"#fdca26\"],[1.0,\"#f0f921\"]]}],\"mesh3d\":[{\"type\":\"mesh3d\",\"colorbar\":{\"outlinewidth\":0,\"ticks\":\"\"}}],\"scatter\":[{\"fillpattern\":{\"fillmode\":\"overlay\",\"size\":10,\"solidity\":0.2},\"type\":\"scatter\"}],\"parcoords\":[{\"type\":\"parcoords\",\"line\":{\"colorbar\":{\"outlinewidth\":0,\"ticks\":\"\"}}}],\"scatterpolargl\":[{\"type\":\"scatterpolargl\",\"marker\":{\"colorbar\":{\"outlinewidth\":0,\"ticks\":\"\"}}}],\"bar\":[{\"error_x\":{\"color\":\"#2a3f5f\"},\"error_y\":{\"color\":\"#2a3f5f\"},\"marker\":{\"line\":{\"color\":\"#E5ECF6\",\"width\":0.5},\"pattern\":{\"fillmode\":\"overlay\",\"size\":10,\"solidity\":0.2}},\"type\":\"bar\"}],\"scattergeo\":[{\"type\":\"scattergeo\",\"marker\":{\"colorbar\":{\"outlinewidth\":0,\"ticks\":\"\"}}}],\"scatterpolar\":[{\"type\":\"scatterpolar\",\"marker\":{\"colorbar\":{\"outlinewidth\":0,\"ticks\":\"\"}}}],\"histogram\":[{\"marker\":{\"pattern\":{\"fillmode\":\"overlay\",\"size\":10,\"solidity\":0.2}},\"type\":\"histogram\"}],\"scattergl\":[{\"type\":\"scattergl\",\"marker\":{\"colorbar\":{\"outlinewidth\":0,\"ticks\":\"\"}}}],\"scatter3d\":[{\"type\":\"scatter3d\",\"line\":{\"colorbar\":{\"outlinewidth\":0,\"ticks\":\"\"}},\"marker\":{\"colorbar\":{\"outlinewidth\":0,\"ticks\":\"\"}}}],\"scattermapbox\":[{\"type\":\"scattermapbox\",\"marker\":{\"colorbar\":{\"outlinewidth\":0,\"ticks\":\"\"}}}],\"scatterternary\":[{\"type\":\"scatterternary\",\"marker\":{\"colorbar\":{\"outlinewidth\":0,\"ticks\":\"\"}}}],\"scattercarpet\":[{\"type\":\"scattercarpet\",\"marker\":{\"colorbar\":{\"outlinewidth\":0,\"ticks\":\"\"}}}],\"carpet\":[{\"aaxis\":{\"endlinecolor\":\"#2a3f5f\",\"gridcolor\":\"white\",\"linecolor\":\"white\",\"minorgridcolor\":\"white\",\"startlinecolor\":\"#2a3f5f\"},\"baxis\":{\"endlinecolor\":\"#2a3f5f\",\"gridcolor\":\"white\",\"linecolor\":\"white\",\"minorgridcolor\":\"white\",\"startlinecolor\":\"#2a3f5f\"},\"type\":\"carpet\"}],\"table\":[{\"cells\":{\"fill\":{\"color\":\"#EBF0F8\"},\"line\":{\"color\":\"white\"}},\"header\":{\"fill\":{\"color\":\"#C8D4E3\"},\"line\":{\"color\":\"white\"}},\"type\":\"table\"}],\"barpolar\":[{\"marker\":{\"line\":{\"color\":\"#E5ECF6\",\"width\":0.5},\"pattern\":{\"fillmode\":\"overlay\",\"size\":10,\"solidity\":0.2}},\"type\":\"barpolar\"}],\"pie\":[{\"automargin\":true,\"type\":\"pie\"}]},\"layout\":{\"autotypenumbers\":\"strict\",\"colorway\":[\"#636efa\",\"#EF553B\",\"#00cc96\",\"#ab63fa\",\"#FFA15A\",\"#19d3f3\",\"#FF6692\",\"#B6E880\",\"#FF97FF\",\"#FECB52\"],\"font\":{\"color\":\"#2a3f5f\"},\"hovermode\":\"closest\",\"hoverlabel\":{\"align\":\"left\"},\"paper_bgcolor\":\"white\",\"plot_bgcolor\":\"#E5ECF6\",\"polar\":{\"bgcolor\":\"#E5ECF6\",\"angularaxis\":{\"gridcolor\":\"white\",\"linecolor\":\"white\",\"ticks\":\"\"},\"radialaxis\":{\"gridcolor\":\"white\",\"linecolor\":\"white\",\"ticks\":\"\"}},\"ternary\":{\"bgcolor\":\"#E5ECF6\",\"aaxis\":{\"gridcolor\":\"white\",\"linecolor\":\"white\",\"ticks\":\"\"},\"baxis\":{\"gridcolor\":\"white\",\"linecolor\":\"white\",\"ticks\":\"\"},\"caxis\":{\"gridcolor\":\"white\",\"linecolor\":\"white\",\"ticks\":\"\"}},\"coloraxis\":{\"colorbar\":{\"outlinewidth\":0,\"ticks\":\"\"}},\"colorscale\":{\"sequential\":[[0.0,\"#0d0887\"],[0.1111111111111111,\"#46039f\"],[0.2222222222222222,\"#7201a8\"],[0.3333333333333333,\"#9c179e\"],[0.4444444444444444,\"#bd3786\"],[0.5555555555555556,\"#d8576b\"],[0.6666666666666666,\"#ed7953\"],[0.7777777777777778,\"#fb9f3a\"],[0.8888888888888888,\"#fdca26\"],[1.0,\"#f0f921\"]],\"sequentialminus\":[[0.0,\"#0d0887\"],[0.1111111111111111,\"#46039f\"],[0.2222222222222222,\"#7201a8\"],[0.3333333333333333,\"#9c179e\"],[0.4444444444444444,\"#bd3786\"],[0.5555555555555556,\"#d8576b\"],[0.6666666666666666,\"#ed7953\"],[0.7777777777777778,\"#fb9f3a\"],[0.8888888888888888,\"#fdca26\"],[1.0,\"#f0f921\"]],\"diverging\":[[0,\"#8e0152\"],[0.1,\"#c51b7d\"],[0.2,\"#de77ae\"],[0.3,\"#f1b6da\"],[0.4,\"#fde0ef\"],[0.5,\"#f7f7f7\"],[0.6,\"#e6f5d0\"],[0.7,\"#b8e186\"],[0.8,\"#7fbc41\"],[0.9,\"#4d9221\"],[1,\"#276419\"]]},\"xaxis\":{\"gridcolor\":\"white\",\"linecolor\":\"white\",\"ticks\":\"\",\"title\":{\"standoff\":15},\"zerolinecolor\":\"white\",\"automargin\":true,\"zerolinewidth\":2},\"yaxis\":{\"gridcolor\":\"white\",\"linecolor\":\"white\",\"ticks\":\"\",\"title\":{\"standoff\":15},\"zerolinecolor\":\"white\",\"automargin\":true,\"zerolinewidth\":2},\"scene\":{\"xaxis\":{\"backgroundcolor\":\"#E5ECF6\",\"gridcolor\":\"white\",\"linecolor\":\"white\",\"showbackground\":true,\"ticks\":\"\",\"zerolinecolor\":\"white\",\"gridwidth\":2},\"yaxis\":{\"backgroundcolor\":\"#E5ECF6\",\"gridcolor\":\"white\",\"linecolor\":\"white\",\"showbackground\":true,\"ticks\":\"\",\"zerolinecolor\":\"white\",\"gridwidth\":2},\"zaxis\":{\"backgroundcolor\":\"#E5ECF6\",\"gridcolor\":\"white\",\"linecolor\":\"white\",\"showbackground\":true,\"ticks\":\"\",\"zerolinecolor\":\"white\",\"gridwidth\":2}},\"shapedefaults\":{\"line\":{\"color\":\"#2a3f5f\"}},\"annotationdefaults\":{\"arrowcolor\":\"#2a3f5f\",\"arrowhead\":0,\"arrowwidth\":1},\"geo\":{\"bgcolor\":\"white\",\"landcolor\":\"#E5ECF6\",\"subunitcolor\":\"white\",\"showland\":true,\"showlakes\":true,\"lakecolor\":\"white\"},\"title\":{\"x\":0.05},\"mapbox\":{\"style\":\"light\"}}}},                        {\"responsive\": true}                    ).then(function(){\n",
       "                            \n",
       "var gd = document.getElementById('071c50bf-a683-44a1-a126-43837067e0dc');\n",
       "var x = new MutationObserver(function (mutations, observer) {{\n",
       "        var display = window.getComputedStyle(gd).display;\n",
       "        if (!display || display === 'none') {{\n",
       "            console.log([gd, 'removed!']);\n",
       "            Plotly.purge(gd);\n",
       "            observer.disconnect();\n",
       "        }}\n",
       "}});\n",
       "\n",
       "// Listen for the removal of the full notebook cells\n",
       "var notebookContainer = gd.closest('#notebook-container');\n",
       "if (notebookContainer) {{\n",
       "    x.observe(notebookContainer, {childList: true});\n",
       "}}\n",
       "\n",
       "// Listen for the clearing of the current output cell\n",
       "var outputEl = gd.closest('.output');\n",
       "if (outputEl) {{\n",
       "    x.observe(outputEl, {childList: true});\n",
       "}}\n",
       "\n",
       "                        })                };                });            </script>        </div>"
      ]
     },
     "metadata": {},
     "output_type": "display_data"
    }
   ],
   "source": [
    "\n",
    "# 计算测试集 R2 和 MAPE\n",
    "test_actuals = test_data['Close'].values\n",
    "test_r2 = r2_score(test_actuals, test_predictions)\n",
    "test_mape = mean_absolute_percentage_error(test_actuals, test_predictions)\n",
    "\n",
    "print(f'Test R2: {test_r2:.4f}')\n",
    "print(f'Test MAPE: {test_mape:.4f}')\n",
    "\n",
    "# 保存预测数据到CSV\n",
    "predictions_df = pd.DataFrame({\n",
    "    'Actual': test_actuals,\n",
    "    'Predicted': test_predictions\n",
    "})\n",
    "predictions_csv_path = os.path.join(logs_dir, 'predictions.csv')\n",
    "predictions_df.to_csv(predictions_csv_path, index=False)\n",
    "print(f'Saved predictions to {predictions_csv_path}')\n",
    "\n",
    "# 使用 Plotly 可视化训练和验证过程中的损失、R2 和 MAPE\n",
    "epochs = list(range(1, num_epochs + 1))\n",
    "\n",
    "fig_loss = go.Figure()\n",
    "fig_loss.add_trace(go.Scatter(x=epochs, y=train_losses, mode='lines', name='Train Loss'))\n",
    "fig_loss.add_trace(go.Scatter(x=epochs, y=val_losses, mode='lines', name='Validation Loss'))\n",
    "fig_loss.update_layout(title='Train and Validation Loss', xaxis=dict(title='Epoch'), yaxis=dict(title='Loss'))\n",
    "fig_loss.show()\n",
    "\n",
    "fig_r2 = go.Figure()\n",
    "fig_r2.add_trace(go.Scatter(x=epochs, y=val_r2s, mode='lines', name='Validation R2'))\n",
    "fig_r2.update_layout(title='Validation R2 Over Epochs', xaxis=dict(title='Epoch'), yaxis=dict(title='R2'))\n",
    "fig_r2.show()\n",
    "\n",
    "fig_mape = go.Figure()\n",
    "fig_mape.add_trace(go.Scatter(x=epochs, y=val_mapes, mode='lines', name='Validation MAPE'))\n",
    "fig_mape.update_layout(title='Validation MAPE Over Epochs', xaxis=dict(title='Epoch'), yaxis=dict(title='MAPE'))\n",
    "fig_mape.show()\n",
    "\n",
    "# 使用 Plotly 可视化滚动预测结果与实际结果\n",
    "test_trace_actual = go.Scatter(x=test_data.index, y=test_actuals, mode='lines', name='Test Actual Close Price')\n",
    "test_trace_predicted = go.Scatter(x=test_data.index, y=test_predictions, mode='lines', name='Test Predicted Close Price')\n",
    "\n",
    "layout = go.Layout(title='Rolling Prediction vs Actual Close Price', xaxis=dict(title='Time'), yaxis=dict(title='Close Price'))\n",
    "\n",
    "fig = go.Figure(data=[test_trace_actual, test_trace_predicted], layout=layout)\n",
    "fig.show()\n"
   ]
  },
  {
   "cell_type": "markdown",
   "metadata": {},
   "source": [
    "---\n",
    "# KAN"
   ]
  },
  {
   "cell_type": "code",
   "execution_count": 19,
   "metadata": {},
   "outputs": [],
   "source": [
    "import os\n",
    "import pandas as pd\n",
    "import numpy as np\n",
    "import torch\n",
    "from torch.utils.data import Dataset, DataLoader\n",
    "from torch import nn, optim\n",
    "from sklearn.metrics import r2_score, mean_absolute_percentage_error\n",
    "import plotly.graph_objs as go\n",
    "import plotly.offline as py\n",
    "from tqdm import tqdm\n",
    "from KAN import KAN\n",
    "\n",
    "# 读取数据\n",
    "file_path = '/teamspace/studios/this_studio/ping_an_data_with_pandas_ta_features.csv'\n",
    "data = pd.read_csv(file_path)\n",
    "\n",
    "# 填充缺失值\n",
    "data = data.bfill().ffill()\n",
    "\n",
    "# 列名示例\n",
    "features = ['Open', 'High', 'Low', 'Close', 'Volume', 'Return', 'MA5', 'MA10', 'MA50', 'MA200', \n",
    "            'BBL_20_2.0', 'BBM_20_2.0', 'BBU_20_2.0', 'BBB_20_2.0', 'BBP_20_2.0', 'STOCHk_14_3_3', \n",
    "            'STOCHd_14_3_3', 'ATR', 'VWAP', 'CMO', 'RSI', 'MACD_12_26_9', 'MACDh_12_26_9', \n",
    "            'MACDs_12_26_9', 'Volatility']\n",
    "\n",
    "# 数据集划分\n",
    "train_size = int(len(data) * 0.7)\n",
    "val_size = int(len(data) * 0.2)\n",
    "test_size = len(data) - train_size - val_size\n",
    "\n",
    "train_data = data[:train_size]\n",
    "val_data = data[train_size:train_size + val_size]\n",
    "test_data = data[train_size + val_size:]\n",
    "\n",
    "class StockDataset(Dataset):\n",
    "    def __init__(self, data, mean=None, std=None):\n",
    "        self.data = data\n",
    "        self.features = data[features].values.astype(np.float32)\n",
    "        self.targets = data['Close'].values.astype(np.float32)\n",
    "\n",
    "        if mean is None or std is None:\n",
    "            self.mean = self.features.mean(axis=0)\n",
    "            self.std = self.features.std(axis=0)\n",
    "        else:\n",
    "            self.mean = mean\n",
    "            self.std = std\n",
    "\n",
    "        self.features = (self.features - self.mean) / self.std\n",
    "\n",
    "    def __len__(self):\n",
    "        return len(self.data)\n",
    "\n",
    "    def __getitem__(self, idx):\n",
    "        feature = self.features[idx]\n",
    "        target = self.targets[idx]\n",
    "        return torch.tensor(feature), torch.tensor(target)\n",
    "\n",
    "# 创建日志文件夹\n",
    "logs_dir = \"KAN_logs\"\n",
    "if not os.path.exists(logs_dir):\n",
    "    os.makedirs(logs_dir)\n",
    "\n",
    "# 获取下一个训练编号\n",
    "def get_next_log_index(logs_dir):\n",
    "    existing_logs = [int(name.split('_')[1]) for name in os.listdir(logs_dir) if os.path.isdir(os.path.join(logs_dir, name))]\n",
    "    if not existing_logs:\n",
    "        return 0\n",
    "    return max(existing_logs) + 1\n",
    "\n",
    "# 训练函数\n",
    "def train(model, loader, criterion, optimizer, device):\n",
    "    model.train()\n",
    "    running_loss = 0.0\n",
    "    for features, targets in loader:\n",
    "        features, targets = features.to(device), targets.to(device)\n",
    "        optimizer.zero_grad()\n",
    "        outputs = model(features)\n",
    "        loss = criterion(outputs, targets.unsqueeze(1))\n",
    "        loss.backward()\n",
    "        optimizer.step()\n",
    "        running_loss += loss.item() * features.size(0)\n",
    "    epoch_loss = running_loss / len(loader.dataset)\n",
    "    return epoch_loss\n",
    "\n",
    "# 验证函数\n",
    "def validate(model, loader, criterion, device):\n",
    "    model.eval()\n",
    "    running_loss = 0.0\n",
    "    all_targets = []\n",
    "    all_predictions = []\n",
    "    with torch.no_grad():\n",
    "        for features, targets in loader:\n",
    "            features, targets = features.to(device), targets.to(device)\n",
    "            outputs = model(features)\n",
    "            loss = criterion(outputs, targets.unsqueeze(1))\n",
    "            running_loss += loss.item() * features.size(0)\n",
    "            all_targets.extend(targets.cpu().numpy())\n",
    "            all_predictions.extend(outputs.cpu().numpy())\n",
    "    epoch_loss = running_loss / len(loader.dataset)\n",
    "    return epoch_loss, r2_score(all_targets, all_predictions), mean_absolute_percentage_error(all_targets, all_predictions)\n",
    "\n",
    "# 训练和验证过程\n",
    "def train_and_validate(model, train_loader, val_loader, num_epochs, device):\n",
    "    criterion = nn.HuberLoss()\n",
    "    optimizer = optim.AdamW(model.parameters(), lr=3e-4, weight_decay=1e-4)\n",
    "    train_losses = []\n",
    "    val_losses = []\n",
    "    val_r2s = []\n",
    "    val_mapes = []\n",
    "    best_val_r2 = float('-inf')\n",
    "    best_model_path = None\n",
    "\n",
    "    # 创建新的子文件夹\n",
    "    log_index = get_next_log_index(logs_dir)\n",
    "    log_dir = os.path.join(logs_dir, f'logs_{log_index}')\n",
    "    os.makedirs(log_dir)\n",
    "\n",
    "    for epoch in tqdm(range(num_epochs)):\n",
    "        train_loss = train(model, train_loader, criterion, optimizer, device)\n",
    "        val_loss, val_r2, val_mape = validate(model, val_loader, criterion, device)\n",
    "        train_losses.append(train_loss)\n",
    "        val_losses.append(val_loss)\n",
    "        val_r2s.append(val_r2)\n",
    "        val_mapes.append(val_mape)\n",
    "\n",
    "        # Save the model if validation R2 is the best we've seen so far\n",
    "        if val_r2 > best_val_r2:\n",
    "            best_val_r2 = val_r2\n",
    "            best_model_path = os.path.join(log_dir, f'best_model_epoch_{epoch+1}_r2_{val_r2:.4f}.pth')\n",
    "            torch.save(model.state_dict(), best_model_path)\n",
    "\n",
    "        print(f'Epoch {epoch+1}/{num_epochs}, Train Loss: {train_loss:.4f}, Val Loss: {val_loss:.4f}, Val R2: {val_r2:.4f}, Val MAPE: {val_mape:.4f}')\n",
    "\n",
    "    # Load the best model before returning\n",
    "    if best_model_path:\n",
    "        model.load_state_dict(torch.load(best_model_path))\n",
    "        print(f'Loaded best model from {best_model_path}')\n",
    "    return train_losses, val_losses, val_r2s, val_mapes, best_model_path\n",
    "\n",
    "# 滚动预测函数（带再训练）\n",
    "def rolling_predict_with_retraining(model, train_data, val_data, test_data, window_size, device, num_epochs=20):\n",
    "    model.eval()\n",
    "    predictions = []\n",
    "    criterion = nn.HuberLoss()\n",
    "    optimizer = optim.AdamW(model.parameters(), lr=3e-4)\n",
    "    updated_train_data = pd.concat([train_data, val_data])\n",
    "\n",
    "    for i in tqdm(range(len(test_data)), desc=\"Rolling Prediction\"):\n",
    "        # 获取滚动窗口数据\n",
    "        window_data = pd.concat([updated_train_data, test_data[:i]], axis=0).tail(window_size)\n",
    "        window_dataset = StockDataset(window_data, mean=train_dataset.mean, std=train_dataset.std)\n",
    "        window_loader = DataLoader(window_dataset, batch_size=len(window_dataset), shuffle=False)\n",
    "\n",
    "        # 进行预测\n",
    "        with torch.no_grad():\n",
    "            for features, _ in window_loader:\n",
    "                features = features.to(device)\n",
    "                prediction = model(features)\n",
    "                predictions.append(prediction[-1].item())\n",
    "\n",
    "        # 将预测值加入训练数据（模拟实际情况）\n",
    "        new_row = test_data.iloc[i].copy()\n",
    "        new_row['Close'] = predictions[-1]\n",
    "        updated_train_data = pd.concat([updated_train_data, new_row.to_frame().T])\n",
    "\n",
    "        # 重新训练模型\n",
    "        train_loader = DataLoader(window_dataset, batch_size=batch_size, shuffle=False)\n",
    "        for epoch in range(num_epochs):\n",
    "            train_loss = train(model, train_loader, criterion, optimizer, device)\n",
    "\n",
    "    return predictions\n"
   ]
  },
  {
   "cell_type": "code",
   "execution_count": 20,
   "metadata": {},
   "outputs": [
    {
     "name": "stderr",
     "output_type": "stream",
     "text": [
      "  3%|▎         | 2/70 [00:00<00:12,  5.50it/s]"
     ]
    },
    {
     "name": "stdout",
     "output_type": "stream",
     "text": [
      "Epoch 1/70, Train Loss: 32.2924, Val Loss: 67.9315, Val R2: -16.9374, Val MAPE: 0.9945\n",
      "Epoch 2/70, Train Loss: 31.9455, Val Loss: 67.1214, Val R2: -16.5131, Val MAPE: 0.9828\n"
     ]
    },
    {
     "name": "stderr",
     "output_type": "stream",
     "text": [
      "  6%|▌         | 4/70 [00:00<00:12,  5.36it/s]"
     ]
    },
    {
     "name": "stdout",
     "output_type": "stream",
     "text": [
      "Epoch 3/70, Train Loss: 31.0671, Val Loss: 64.9243, Val R2: -15.3861, Val MAPE: 0.9511\n",
      "Epoch 4/70, Train Loss: 28.7002, Val Loss: 58.9786, Val R2: -12.5207, Val MAPE: 0.8657\n"
     ]
    },
    {
     "name": "stderr",
     "output_type": "stream",
     "text": [
      "  9%|▊         | 6/70 [00:01<00:11,  5.43it/s]"
     ]
    },
    {
     "name": "stdout",
     "output_type": "stream",
     "text": [
      "Epoch 5/70, Train Loss: 22.5959, Val Loss: 43.6989, Val R2: -6.4253, Val MAPE: 0.6469\n",
      "Epoch 6/70, Train Loss: 10.7808, Val Loss: 15.4852, Val R2: -0.0242, Val MAPE: 0.2442\n"
     ]
    },
    {
     "name": "stderr",
     "output_type": "stream",
     "text": [
      " 11%|█▏        | 8/70 [00:01<00:11,  5.47it/s]"
     ]
    },
    {
     "name": "stdout",
     "output_type": "stream",
     "text": [
      "Epoch 7/70, Train Loss: 6.8789, Val Loss: 6.5120, Val R2: 0.7627, Val MAPE: 0.1155\n",
      "Epoch 8/70, Train Loss: 6.1533, Val Loss: 7.6207, Val R2: 0.7238, Val MAPE: 0.1331\n"
     ]
    },
    {
     "name": "stderr",
     "output_type": "stream",
     "text": [
      " 14%|█▍        | 10/70 [00:01<00:11,  5.44it/s]"
     ]
    },
    {
     "name": "stdout",
     "output_type": "stream",
     "text": [
      "Epoch 9/70, Train Loss: 4.7887, Val Loss: 4.2210, Val R2: 0.8823, Val MAPE: 0.0817\n",
      "Epoch 10/70, Train Loss: 4.1791, Val Loss: 3.4179, Val R2: 0.9121, Val MAPE: 0.0672\n"
     ]
    },
    {
     "name": "stderr",
     "output_type": "stream",
     "text": [
      " 17%|█▋        | 12/70 [00:02<00:10,  5.46it/s]"
     ]
    },
    {
     "name": "stdout",
     "output_type": "stream",
     "text": [
      "Epoch 11/70, Train Loss: 3.4845, Val Loss: 3.7429, Val R2: 0.9106, Val MAPE: 0.0667\n",
      "Epoch 12/70, Train Loss: 3.0218, Val Loss: 3.7233, Val R2: 0.9147, Val MAPE: 0.0635\n"
     ]
    },
    {
     "name": "stderr",
     "output_type": "stream",
     "text": [
      " 20%|██        | 14/70 [00:02<00:10,  5.48it/s]"
     ]
    },
    {
     "name": "stdout",
     "output_type": "stream",
     "text": [
      "Epoch 13/70, Train Loss: 2.6099, Val Loss: 3.5515, Val R2: 0.9220, Val MAPE: 0.0592\n",
      "Epoch 14/70, Train Loss: 2.2409, Val Loss: 3.3835, Val R2: 0.9274, Val MAPE: 0.0547\n"
     ]
    },
    {
     "name": "stderr",
     "output_type": "stream",
     "text": [
      " 23%|██▎       | 16/70 [00:02<00:09,  5.48it/s]"
     ]
    },
    {
     "name": "stdout",
     "output_type": "stream",
     "text": [
      "Epoch 15/70, Train Loss: 1.8742, Val Loss: 3.2269, Val R2: 0.9324, Val MAPE: 0.0512\n",
      "Epoch 16/70, Train Loss: 1.4844, Val Loss: 3.0527, Val R2: 0.9378, Val MAPE: 0.0479\n"
     ]
    },
    {
     "name": "stderr",
     "output_type": "stream",
     "text": [
      " 26%|██▌       | 18/70 [00:03<00:09,  5.51it/s]"
     ]
    },
    {
     "name": "stdout",
     "output_type": "stream",
     "text": [
      "Epoch 17/70, Train Loss: 1.1715, Val Loss: 3.1392, Val R2: 0.9340, Val MAPE: 0.0483\n",
      "Epoch 18/70, Train Loss: 0.9765, Val Loss: 3.0721, Val R2: 0.9366, Val MAPE: 0.0470\n"
     ]
    },
    {
     "name": "stderr",
     "output_type": "stream",
     "text": [
      " 29%|██▊       | 20/70 [00:03<00:09,  5.47it/s]"
     ]
    },
    {
     "name": "stdout",
     "output_type": "stream",
     "text": [
      "Epoch 19/70, Train Loss: 0.7580, Val Loss: 2.7517, Val R2: 0.9472, Val MAPE: 0.0427\n",
      "Epoch 20/70, Train Loss: 0.6216, Val Loss: 2.6239, Val R2: 0.9507, Val MAPE: 0.0407\n"
     ]
    },
    {
     "name": "stderr",
     "output_type": "stream",
     "text": [
      " 30%|███       | 21/70 [00:03<00:08,  5.47it/s]"
     ]
    },
    {
     "name": "stdout",
     "output_type": "stream",
     "text": [
      "Epoch 21/70, Train Loss: 0.5576, Val Loss: 2.0038, Val R2: 0.9677, Val MAPE: 0.0330\n"
     ]
    },
    {
     "name": "stderr",
     "output_type": "stream",
     "text": [
      " 31%|███▏      | 22/70 [00:04<00:09,  5.27it/s]"
     ]
    },
    {
     "name": "stdout",
     "output_type": "stream",
     "text": [
      "Epoch 22/70, Train Loss: 0.5513, Val Loss: 1.4863, Val R2: 0.9807, Val MAPE: 0.0274\n"
     ]
    },
    {
     "name": "stderr",
     "output_type": "stream",
     "text": [
      " 34%|███▍      | 24/70 [00:04<00:09,  4.88it/s]"
     ]
    },
    {
     "name": "stdout",
     "output_type": "stream",
     "text": [
      "Epoch 23/70, Train Loss: 0.5173, Val Loss: 1.4038, Val R2: 0.9821, Val MAPE: 0.0259\n",
      "Epoch 24/70, Train Loss: 0.4552, Val Loss: 2.3718, Val R2: 0.9585, Val MAPE: 0.0372\n"
     ]
    },
    {
     "name": "stderr",
     "output_type": "stream",
     "text": [
      " 37%|███▋      | 26/70 [00:04<00:08,  5.19it/s]"
     ]
    },
    {
     "name": "stdout",
     "output_type": "stream",
     "text": [
      "Epoch 25/70, Train Loss: 0.9837, Val Loss: 3.5214, Val R2: 0.9279, Val MAPE: 0.0557\n",
      "Epoch 26/70, Train Loss: 1.1179, Val Loss: 2.5111, Val R2: 0.9526, Val MAPE: 0.0388\n"
     ]
    },
    {
     "name": "stderr",
     "output_type": "stream",
     "text": [
      " 40%|████      | 28/70 [00:05<00:07,  5.36it/s]"
     ]
    },
    {
     "name": "stdout",
     "output_type": "stream",
     "text": [
      "Epoch 27/70, Train Loss: 0.9086, Val Loss: 1.0539, Val R2: 0.9885, Val MAPE: 0.0218\n",
      "Epoch 28/70, Train Loss: 0.5413, Val Loss: 1.3615, Val R2: 0.9831, Val MAPE: 0.0255\n"
     ]
    },
    {
     "name": "stderr",
     "output_type": "stream",
     "text": [
      " 43%|████▎     | 30/70 [00:05<00:07,  5.45it/s]"
     ]
    },
    {
     "name": "stdout",
     "output_type": "stream",
     "text": [
      "Epoch 29/70, Train Loss: 0.3830, Val Loss: 1.6949, Val R2: 0.9751, Val MAPE: 0.0285\n",
      "Epoch 30/70, Train Loss: 0.7462, Val Loss: 3.2331, Val R2: 0.9369, Val MAPE: 0.0515\n"
     ]
    },
    {
     "name": "stderr",
     "output_type": "stream",
     "text": [
      " 46%|████▌     | 32/70 [00:05<00:06,  5.50it/s]"
     ]
    },
    {
     "name": "stdout",
     "output_type": "stream",
     "text": [
      "Epoch 31/70, Train Loss: 1.1069, Val Loss: 2.8794, Val R2: 0.9421, Val MAPE: 0.0435\n",
      "Epoch 32/70, Train Loss: 0.7515, Val Loss: 1.1224, Val R2: 0.9874, Val MAPE: 0.0226\n"
     ]
    },
    {
     "name": "stderr",
     "output_type": "stream",
     "text": [
      " 49%|████▊     | 34/70 [00:06<00:06,  5.48it/s]"
     ]
    },
    {
     "name": "stdout",
     "output_type": "stream",
     "text": [
      "Epoch 33/70, Train Loss: 0.4822, Val Loss: 1.3700, Val R2: 0.9827, Val MAPE: 0.0253\n",
      "Epoch 34/70, Train Loss: 0.3425, Val Loss: 2.0052, Val R2: 0.9676, Val MAPE: 0.0322\n"
     ]
    },
    {
     "name": "stderr",
     "output_type": "stream",
     "text": [
      " 51%|█████▏    | 36/70 [00:06<00:06,  5.46it/s]"
     ]
    },
    {
     "name": "stdout",
     "output_type": "stream",
     "text": [
      "Epoch 35/70, Train Loss: 0.7512, Val Loss: 3.1244, Val R2: 0.9403, Val MAPE: 0.0499\n",
      "Epoch 36/70, Train Loss: 1.0688, Val Loss: 2.3951, Val R2: 0.9564, Val MAPE: 0.0377\n"
     ]
    },
    {
     "name": "stderr",
     "output_type": "stream",
     "text": [
      " 54%|█████▍    | 38/70 [00:07<00:05,  5.46it/s]"
     ]
    },
    {
     "name": "stdout",
     "output_type": "stream",
     "text": [
      "Epoch 37/70, Train Loss: 1.2099, Val Loss: 1.3743, Val R2: 0.9828, Val MAPE: 0.0257\n",
      "Epoch 38/70, Train Loss: 1.3304, Val Loss: 3.1100, Val R2: 0.9437, Val MAPE: 0.0510\n"
     ]
    },
    {
     "name": "stderr",
     "output_type": "stream",
     "text": [
      " 57%|█████▋    | 40/70 [00:07<00:05,  5.47it/s]"
     ]
    },
    {
     "name": "stdout",
     "output_type": "stream",
     "text": [
      "Epoch 39/70, Train Loss: 2.3620, Val Loss: 1.6827, Val R2: 0.9766, Val MAPE: 0.0301\n",
      "Epoch 40/70, Train Loss: 1.1605, Val Loss: 3.3890, Val R2: 0.9237, Val MAPE: 0.0511\n"
     ]
    },
    {
     "name": "stderr",
     "output_type": "stream",
     "text": [
      " 60%|██████    | 42/70 [00:07<00:05,  5.45it/s]"
     ]
    },
    {
     "name": "stdout",
     "output_type": "stream",
     "text": [
      "Epoch 41/70, Train Loss: 1.3776, Val Loss: 3.0684, Val R2: 0.9400, Val MAPE: 0.0479\n",
      "Epoch 42/70, Train Loss: 1.5819, Val Loss: 2.7750, Val R2: 0.9465, Val MAPE: 0.0426\n"
     ]
    },
    {
     "name": "stderr",
     "output_type": "stream",
     "text": [
      " 63%|██████▎   | 44/70 [00:08<00:04,  5.43it/s]"
     ]
    },
    {
     "name": "stdout",
     "output_type": "stream",
     "text": [
      "Epoch 43/70, Train Loss: 0.3525, Val Loss: 1.5242, Val R2: 0.9797, Val MAPE: 0.0273\n",
      "Epoch 44/70, Train Loss: 0.3052, Val Loss: 1.6895, Val R2: 0.9756, Val MAPE: 0.0284\n"
     ]
    },
    {
     "name": "stderr",
     "output_type": "stream",
     "text": [
      " 66%|██████▌   | 46/70 [00:08<00:04,  5.45it/s]"
     ]
    },
    {
     "name": "stdout",
     "output_type": "stream",
     "text": [
      "Epoch 45/70, Train Loss: 0.3502, Val Loss: 2.7081, Val R2: 0.9496, Val MAPE: 0.0420\n",
      "Epoch 46/70, Train Loss: 0.5237, Val Loss: 3.1597, Val R2: 0.9376, Val MAPE: 0.0496\n"
     ]
    },
    {
     "name": "stderr",
     "output_type": "stream",
     "text": [
      " 69%|██████▊   | 48/70 [00:08<00:04,  5.46it/s]"
     ]
    },
    {
     "name": "stdout",
     "output_type": "stream",
     "text": [
      "Epoch 47/70, Train Loss: 0.4639, Val Loss: 2.1298, Val R2: 0.9644, Val MAPE: 0.0342\n",
      "Epoch 48/70, Train Loss: 0.7076, Val Loss: 1.2477, Val R2: 0.9857, Val MAPE: 0.0252\n"
     ]
    },
    {
     "name": "stderr",
     "output_type": "stream",
     "text": [
      " 70%|███████   | 49/70 [00:09<00:04,  5.10it/s]"
     ]
    },
    {
     "name": "stdout",
     "output_type": "stream",
     "text": [
      "Epoch 49/70, Train Loss: 0.9132, Val Loss: 2.5312, Val R2: 0.9562, Val MAPE: 0.0406\n"
     ]
    },
    {
     "name": "stderr",
     "output_type": "stream",
     "text": [
      " 73%|███████▎  | 51/70 [00:09<00:03,  5.01it/s]"
     ]
    },
    {
     "name": "stdout",
     "output_type": "stream",
     "text": [
      "Epoch 50/70, Train Loss: 1.6217, Val Loss: 0.6362, Val R2: 0.9942, Val MAPE: 0.0155\n",
      "Epoch 51/70, Train Loss: 0.8528, Val Loss: 1.4903, Val R2: 0.9812, Val MAPE: 0.0288\n"
     ]
    },
    {
     "name": "stderr",
     "output_type": "stream",
     "text": [
      " 76%|███████▌  | 53/70 [00:09<00:03,  5.23it/s]"
     ]
    },
    {
     "name": "stdout",
     "output_type": "stream",
     "text": [
      "Epoch 52/70, Train Loss: 1.7347, Val Loss: 2.5497, Val R2: 0.9543, Val MAPE: 0.0401\n",
      "Epoch 53/70, Train Loss: 0.8899, Val Loss: 1.2681, Val R2: 0.9845, Val MAPE: 0.0230\n"
     ]
    },
    {
     "name": "stderr",
     "output_type": "stream",
     "text": [
      " 79%|███████▊  | 55/70 [00:10<00:02,  5.26it/s]"
     ]
    },
    {
     "name": "stdout",
     "output_type": "stream",
     "text": [
      "Epoch 54/70, Train Loss: 0.8136, Val Loss: 1.5010, Val R2: 0.9803, Val MAPE: 0.0278\n",
      "Epoch 55/70, Train Loss: 1.4532, Val Loss: 1.8776, Val R2: 0.9711, Val MAPE: 0.0315\n"
     ]
    },
    {
     "name": "stderr",
     "output_type": "stream",
     "text": [
      " 81%|████████▏ | 57/70 [00:10<00:02,  5.31it/s]"
     ]
    },
    {
     "name": "stdout",
     "output_type": "stream",
     "text": [
      "Epoch 56/70, Train Loss: 1.0057, Val Loss: 2.2419, Val R2: 0.9643, Val MAPE: 0.0370\n",
      "Epoch 57/70, Train Loss: 1.6077, Val Loss: 1.8309, Val R2: 0.9726, Val MAPE: 0.0312\n"
     ]
    },
    {
     "name": "stderr",
     "output_type": "stream",
     "text": [
      " 84%|████████▍ | 59/70 [00:11<00:02,  5.34it/s]"
     ]
    },
    {
     "name": "stdout",
     "output_type": "stream",
     "text": [
      "Epoch 58/70, Train Loss: 0.7859, Val Loss: 1.8781, Val R2: 0.9723, Val MAPE: 0.0327\n",
      "Epoch 59/70, Train Loss: 1.1974, Val Loss: 2.9975, Val R2: 0.9433, Val MAPE: 0.0474\n"
     ]
    },
    {
     "name": "stderr",
     "output_type": "stream",
     "text": [
      " 87%|████████▋ | 61/70 [00:11<00:01,  5.36it/s]"
     ]
    },
    {
     "name": "stdout",
     "output_type": "stream",
     "text": [
      "Epoch 60/70, Train Loss: 1.3748, Val Loss: 2.6726, Val R2: 0.9503, Val MAPE: 0.0413\n",
      "Epoch 61/70, Train Loss: 0.5350, Val Loss: 1.6199, Val R2: 0.9782, Val MAPE: 0.0296\n"
     ]
    },
    {
     "name": "stderr",
     "output_type": "stream",
     "text": [
      " 90%|█████████ | 63/70 [00:11<00:01,  5.35it/s]"
     ]
    },
    {
     "name": "stdout",
     "output_type": "stream",
     "text": [
      "Epoch 62/70, Train Loss: 0.9209, Val Loss: 2.2471, Val R2: 0.9635, Val MAPE: 0.0361\n",
      "Epoch 63/70, Train Loss: 1.1767, Val Loss: 1.0370, Val R2: 0.9882, Val MAPE: 0.0199\n"
     ]
    },
    {
     "name": "stderr",
     "output_type": "stream",
     "text": [
      " 93%|█████████▎| 65/70 [00:12<00:00,  5.39it/s]"
     ]
    },
    {
     "name": "stdout",
     "output_type": "stream",
     "text": [
      "Epoch 64/70, Train Loss: 0.7174, Val Loss: 1.4714, Val R2: 0.9814, Val MAPE: 0.0281\n",
      "Epoch 65/70, Train Loss: 1.2286, Val Loss: 1.3782, Val R2: 0.9822, Val MAPE: 0.0248\n"
     ]
    },
    {
     "name": "stderr",
     "output_type": "stream",
     "text": [
      " 96%|█████████▌| 67/70 [00:12<00:00,  5.30it/s]"
     ]
    },
    {
     "name": "stdout",
     "output_type": "stream",
     "text": [
      "Epoch 66/70, Train Loss: 0.6920, Val Loss: 1.3396, Val R2: 0.9831, Val MAPE: 0.0238\n",
      "Epoch 67/70, Train Loss: 1.0084, Val Loss: 1.5922, Val R2: 0.9785, Val MAPE: 0.0289\n"
     ]
    },
    {
     "name": "stderr",
     "output_type": "stream",
     "text": [
      " 99%|█████████▊| 69/70 [00:12<00:00,  5.32it/s]"
     ]
    },
    {
     "name": "stdout",
     "output_type": "stream",
     "text": [
      "Epoch 68/70, Train Loss: 1.1355, Val Loss: 2.0777, Val R2: 0.9666, Val MAPE: 0.0342\n",
      "Epoch 69/70, Train Loss: 1.0162, Val Loss: 2.2341, Val R2: 0.9639, Val MAPE: 0.0361\n"
     ]
    },
    {
     "name": "stderr",
     "output_type": "stream",
     "text": [
      "100%|██████████| 70/70 [00:13<00:00,  5.35it/s]"
     ]
    },
    {
     "name": "stdout",
     "output_type": "stream",
     "text": [
      "Epoch 70/70, Train Loss: 1.4310, Val Loss: 1.7259, Val R2: 0.9756, Val MAPE: 0.0302\n",
      "Loaded best model from KAN_logs/logs_16/best_model_epoch_50_r2_0.9942.pth\n"
     ]
    },
    {
     "name": "stderr",
     "output_type": "stream",
     "text": [
      "\n"
     ]
    }
   ],
   "source": [
    "\n",
    "device = torch.device(\"cuda\" if torch.cuda.is_available() else \"cpu\")\n",
    "batch_size = 128\n",
    "\n",
    "# 定义一个 KAN 模型实例\n",
    "model = KAN(\n",
    "    layers_hidden=[len(features), 64, 128, 64, 1],\n",
    "    grid_size=5,\n",
    "    spline_order=3,\n",
    "    scale_noise=0.1,\n",
    "    scale_base=1.0,\n",
    "    scale_spline=1.0,\n",
    "    base_activation=torch.nn.ReLU,\n",
    "    grid_eps=0.02,\n",
    "    grid_range=[-1, 1],\n",
    ").to(device)\n",
    "num_epochs = 70\n",
    "\n",
    "train_dataset = StockDataset(train_data)\n",
    "val_dataset = StockDataset(val_data, train_dataset.mean, train_dataset.std)\n",
    "train_loader = DataLoader(train_dataset, batch_size=batch_size, shuffle=False)\n",
    "val_loader = DataLoader(val_dataset, batch_size=batch_size, shuffle=False)\n",
    "\n",
    "train_losses, val_losses, val_r2s, val_mapes, best_model_path = train_and_validate(model, train_loader, val_loader, num_epochs, device)\n"
   ]
  },
  {
   "cell_type": "code",
   "execution_count": 21,
   "metadata": {},
   "outputs": [
    {
     "name": "stdout",
     "output_type": "stream",
     "text": [
      "Using model from KAN_logs/logs_16/best_model_epoch_50_r2_0.9942.pth for rolling prediction.\n"
     ]
    },
    {
     "name": "stderr",
     "output_type": "stream",
     "text": [
      "Rolling Prediction: 100%|██████████| 423/423 [29:16<00:00,  4.15s/it]"
     ]
    },
    {
     "name": "stdout",
     "output_type": "stream",
     "text": [
      "Test R2: 0.9200\n",
      "Test MAPE: 0.0172\n"
     ]
    },
    {
     "name": "stderr",
     "output_type": "stream",
     "text": [
      "\n"
     ]
    }
   ],
   "source": [
    "\n",
    "# 在测试集上进行滚动预测\n",
    "window_size = len(pd.concat([train_data, val_data]))  # 使用训练和验证数据作为初始窗口\n",
    "model.load_state_dict(torch.load(best_model_path))  # 确保使用验证集上表现最好的模型\n",
    "print(f'Using model from {best_model_path} for rolling prediction.')\n",
    "test_predictions = rolling_predict_with_retraining(model, train_data, val_data, test_data, window_size, device)\n",
    "\n",
    "# 计算测试集 R2 和 MAPE\n",
    "test_actuals = test_data['Close'].values\n",
    "test_r2 = r2_score(test_actuals, test_predictions)\n",
    "test_mape = mean_absolute_percentage_error(test_actuals, test_predictions)\n",
    "\n",
    "print(f'Test R2: {test_r2:.4f}')\n",
    "print(f'Test MAPE: {test_mape:.4f}')\n"
   ]
  },
  {
   "cell_type": "code",
   "execution_count": 22,
   "metadata": {},
   "outputs": [
    {
     "name": "stdout",
     "output_type": "stream",
     "text": [
      "Saved predictions to KAN_logs/predictions.csv\n"
     ]
    },
    {
     "data": {
      "application/vnd.plotly.v1+json": {
       "config": {
        "plotlyServerURL": "https://plot.ly"
       },
       "data": [
        {
         "mode": "lines",
         "name": "Train Loss",
         "type": "scatter",
         "x": [
          1,
          2,
          3,
          4,
          5,
          6,
          7,
          8,
          9,
          10,
          11,
          12,
          13,
          14,
          15,
          16,
          17,
          18,
          19,
          20,
          21,
          22,
          23,
          24,
          25,
          26,
          27,
          28,
          29,
          30,
          31,
          32,
          33,
          34,
          35,
          36,
          37,
          38,
          39,
          40,
          41,
          42,
          43,
          44,
          45,
          46,
          47,
          48,
          49,
          50,
          51,
          52,
          53,
          54,
          55,
          56,
          57,
          58,
          59,
          60,
          61,
          62,
          63,
          64,
          65,
          66,
          67,
          68,
          69,
          70
         ],
         "y": [
          32.292445638681116,
          31.94552694840396,
          31.067109846278893,
          28.700203076015057,
          22.595892144668095,
          10.780773190891042,
          6.878913259087099,
          6.153279455067581,
          4.7887381391802535,
          4.1790789258568735,
          3.484483723385742,
          3.0217520682855263,
          2.609853885720274,
          2.2409180587332664,
          1.874225976420384,
          1.484400746425799,
          1.171518094520298,
          0.9764614220282933,
          0.7579626234259615,
          0.6215978038319064,
          0.5575889436234648,
          0.5513402527655356,
          0.5173265880793635,
          0.45521532699334777,
          0.9836819011508975,
          1.1178915675948649,
          0.9086434770226881,
          0.541285544674166,
          0.3830490499593826,
          0.7461680525698478,
          1.1069429299571854,
          0.7515249422388032,
          0.4822070684341904,
          0.3424657304356274,
          0.7512416137058724,
          1.068843930103313,
          1.209921288401634,
          1.3304052259810797,
          2.36195686123031,
          1.1604842251422358,
          1.3775902759835397,
          1.5819387818265396,
          0.3524874856114952,
          0.3051749600438833,
          0.3502206835414688,
          0.5236892199459875,
          0.4638538980822534,
          0.7075857654506085,
          0.9131550264568083,
          1.6217376084808082,
          0.8527746061020561,
          1.7347161377338722,
          0.8898654480573694,
          0.8135865066726922,
          1.4531565049437754,
          1.0056956379175026,
          1.6077232198428268,
          0.7859438522350474,
          1.1974386500296679,
          1.3747573916052869,
          0.5350086042069357,
          0.9208876276999571,
          1.1767116842276346,
          0.7173506288692869,
          1.2286418063806632,
          0.6920438888026219,
          1.008427066082403,
          1.1354767513726514,
          1.016209512253804,
          1.4309884943093216
         ]
        },
        {
         "mode": "lines",
         "name": "Validation Loss",
         "type": "scatter",
         "x": [
          1,
          2,
          3,
          4,
          5,
          6,
          7,
          8,
          9,
          10,
          11,
          12,
          13,
          14,
          15,
          16,
          17,
          18,
          19,
          20,
          21,
          22,
          23,
          24,
          25,
          26,
          27,
          28,
          29,
          30,
          31,
          32,
          33,
          34,
          35,
          36,
          37,
          38,
          39,
          40,
          41,
          42,
          43,
          44,
          45,
          46,
          47,
          48,
          49,
          50,
          51,
          52,
          53,
          54,
          55,
          56,
          57,
          58,
          59,
          60,
          61,
          62,
          63,
          64,
          65,
          66,
          67,
          68,
          69,
          70
         ],
         "y": [
          67.9314960682886,
          67.12137791108803,
          64.92427458452755,
          58.9785602953307,
          43.69887400068475,
          15.485174618105917,
          6.511961818446775,
          7.62073148467837,
          4.221041206495296,
          3.4178630518490043,
          3.7428966567361144,
          3.7232589100944926,
          3.5514558391458184,
          3.383479357894356,
          3.2268606490637426,
          3.052652246147923,
          3.1391528534465993,
          3.072072969773817,
          2.7516554632306804,
          2.6238554601221393,
          2.003829554128929,
          1.4862877969911112,
          1.403762540521001,
          2.3718395378903523,
          3.5213999906235194,
          2.511063075964973,
          1.0539080038578552,
          1.3614814941699689,
          1.6948649110526022,
          3.2330732876027124,
          2.87940744825986,
          1.1223755740555081,
          1.3700070147683634,
          2.005235488316011,
          3.1244474171181404,
          2.3951112137391015,
          1.3743224917078865,
          3.1099578517428514,
          1.6827202662913756,
          3.3889547379764577,
          3.0684324817015574,
          2.7750447931109803,
          1.524163551161275,
          1.6894708422161417,
          2.7080516438424236,
          3.1596903817188107,
          2.129808559114411,
          1.2476861399306347,
          2.531235140138829,
          0.6361546162317491,
          1.4902603682681654,
          2.5497328491694122,
          1.2680887140025048,
          1.500988889304844,
          1.8775501636358407,
          2.2418667036048054,
          1.830852558344779,
          1.8781074032981016,
          2.9974604360097965,
          2.672607605710361,
          1.6199371282870954,
          2.247071171609255,
          1.0370466182041451,
          1.4713592254198515,
          1.3782497315011786,
          1.3396414833308676,
          1.5922262221398438,
          2.0777047171395204,
          2.2340924849700645,
          1.7258504200263842
         ]
        }
       ],
       "layout": {
        "template": {
         "data": {
          "bar": [
           {
            "error_x": {
             "color": "#2a3f5f"
            },
            "error_y": {
             "color": "#2a3f5f"
            },
            "marker": {
             "line": {
              "color": "#E5ECF6",
              "width": 0.5
             },
             "pattern": {
              "fillmode": "overlay",
              "size": 10,
              "solidity": 0.2
             }
            },
            "type": "bar"
           }
          ],
          "barpolar": [
           {
            "marker": {
             "line": {
              "color": "#E5ECF6",
              "width": 0.5
             },
             "pattern": {
              "fillmode": "overlay",
              "size": 10,
              "solidity": 0.2
             }
            },
            "type": "barpolar"
           }
          ],
          "carpet": [
           {
            "aaxis": {
             "endlinecolor": "#2a3f5f",
             "gridcolor": "white",
             "linecolor": "white",
             "minorgridcolor": "white",
             "startlinecolor": "#2a3f5f"
            },
            "baxis": {
             "endlinecolor": "#2a3f5f",
             "gridcolor": "white",
             "linecolor": "white",
             "minorgridcolor": "white",
             "startlinecolor": "#2a3f5f"
            },
            "type": "carpet"
           }
          ],
          "choropleth": [
           {
            "colorbar": {
             "outlinewidth": 0,
             "ticks": ""
            },
            "type": "choropleth"
           }
          ],
          "contour": [
           {
            "colorbar": {
             "outlinewidth": 0,
             "ticks": ""
            },
            "colorscale": [
             [
              0,
              "#0d0887"
             ],
             [
              0.1111111111111111,
              "#46039f"
             ],
             [
              0.2222222222222222,
              "#7201a8"
             ],
             [
              0.3333333333333333,
              "#9c179e"
             ],
             [
              0.4444444444444444,
              "#bd3786"
             ],
             [
              0.5555555555555556,
              "#d8576b"
             ],
             [
              0.6666666666666666,
              "#ed7953"
             ],
             [
              0.7777777777777778,
              "#fb9f3a"
             ],
             [
              0.8888888888888888,
              "#fdca26"
             ],
             [
              1,
              "#f0f921"
             ]
            ],
            "type": "contour"
           }
          ],
          "contourcarpet": [
           {
            "colorbar": {
             "outlinewidth": 0,
             "ticks": ""
            },
            "type": "contourcarpet"
           }
          ],
          "heatmap": [
           {
            "colorbar": {
             "outlinewidth": 0,
             "ticks": ""
            },
            "colorscale": [
             [
              0,
              "#0d0887"
             ],
             [
              0.1111111111111111,
              "#46039f"
             ],
             [
              0.2222222222222222,
              "#7201a8"
             ],
             [
              0.3333333333333333,
              "#9c179e"
             ],
             [
              0.4444444444444444,
              "#bd3786"
             ],
             [
              0.5555555555555556,
              "#d8576b"
             ],
             [
              0.6666666666666666,
              "#ed7953"
             ],
             [
              0.7777777777777778,
              "#fb9f3a"
             ],
             [
              0.8888888888888888,
              "#fdca26"
             ],
             [
              1,
              "#f0f921"
             ]
            ],
            "type": "heatmap"
           }
          ],
          "heatmapgl": [
           {
            "colorbar": {
             "outlinewidth": 0,
             "ticks": ""
            },
            "colorscale": [
             [
              0,
              "#0d0887"
             ],
             [
              0.1111111111111111,
              "#46039f"
             ],
             [
              0.2222222222222222,
              "#7201a8"
             ],
             [
              0.3333333333333333,
              "#9c179e"
             ],
             [
              0.4444444444444444,
              "#bd3786"
             ],
             [
              0.5555555555555556,
              "#d8576b"
             ],
             [
              0.6666666666666666,
              "#ed7953"
             ],
             [
              0.7777777777777778,
              "#fb9f3a"
             ],
             [
              0.8888888888888888,
              "#fdca26"
             ],
             [
              1,
              "#f0f921"
             ]
            ],
            "type": "heatmapgl"
           }
          ],
          "histogram": [
           {
            "marker": {
             "pattern": {
              "fillmode": "overlay",
              "size": 10,
              "solidity": 0.2
             }
            },
            "type": "histogram"
           }
          ],
          "histogram2d": [
           {
            "colorbar": {
             "outlinewidth": 0,
             "ticks": ""
            },
            "colorscale": [
             [
              0,
              "#0d0887"
             ],
             [
              0.1111111111111111,
              "#46039f"
             ],
             [
              0.2222222222222222,
              "#7201a8"
             ],
             [
              0.3333333333333333,
              "#9c179e"
             ],
             [
              0.4444444444444444,
              "#bd3786"
             ],
             [
              0.5555555555555556,
              "#d8576b"
             ],
             [
              0.6666666666666666,
              "#ed7953"
             ],
             [
              0.7777777777777778,
              "#fb9f3a"
             ],
             [
              0.8888888888888888,
              "#fdca26"
             ],
             [
              1,
              "#f0f921"
             ]
            ],
            "type": "histogram2d"
           }
          ],
          "histogram2dcontour": [
           {
            "colorbar": {
             "outlinewidth": 0,
             "ticks": ""
            },
            "colorscale": [
             [
              0,
              "#0d0887"
             ],
             [
              0.1111111111111111,
              "#46039f"
             ],
             [
              0.2222222222222222,
              "#7201a8"
             ],
             [
              0.3333333333333333,
              "#9c179e"
             ],
             [
              0.4444444444444444,
              "#bd3786"
             ],
             [
              0.5555555555555556,
              "#d8576b"
             ],
             [
              0.6666666666666666,
              "#ed7953"
             ],
             [
              0.7777777777777778,
              "#fb9f3a"
             ],
             [
              0.8888888888888888,
              "#fdca26"
             ],
             [
              1,
              "#f0f921"
             ]
            ],
            "type": "histogram2dcontour"
           }
          ],
          "mesh3d": [
           {
            "colorbar": {
             "outlinewidth": 0,
             "ticks": ""
            },
            "type": "mesh3d"
           }
          ],
          "parcoords": [
           {
            "line": {
             "colorbar": {
              "outlinewidth": 0,
              "ticks": ""
             }
            },
            "type": "parcoords"
           }
          ],
          "pie": [
           {
            "automargin": true,
            "type": "pie"
           }
          ],
          "scatter": [
           {
            "fillpattern": {
             "fillmode": "overlay",
             "size": 10,
             "solidity": 0.2
            },
            "type": "scatter"
           }
          ],
          "scatter3d": [
           {
            "line": {
             "colorbar": {
              "outlinewidth": 0,
              "ticks": ""
             }
            },
            "marker": {
             "colorbar": {
              "outlinewidth": 0,
              "ticks": ""
             }
            },
            "type": "scatter3d"
           }
          ],
          "scattercarpet": [
           {
            "marker": {
             "colorbar": {
              "outlinewidth": 0,
              "ticks": ""
             }
            },
            "type": "scattercarpet"
           }
          ],
          "scattergeo": [
           {
            "marker": {
             "colorbar": {
              "outlinewidth": 0,
              "ticks": ""
             }
            },
            "type": "scattergeo"
           }
          ],
          "scattergl": [
           {
            "marker": {
             "colorbar": {
              "outlinewidth": 0,
              "ticks": ""
             }
            },
            "type": "scattergl"
           }
          ],
          "scattermapbox": [
           {
            "marker": {
             "colorbar": {
              "outlinewidth": 0,
              "ticks": ""
             }
            },
            "type": "scattermapbox"
           }
          ],
          "scatterpolar": [
           {
            "marker": {
             "colorbar": {
              "outlinewidth": 0,
              "ticks": ""
             }
            },
            "type": "scatterpolar"
           }
          ],
          "scatterpolargl": [
           {
            "marker": {
             "colorbar": {
              "outlinewidth": 0,
              "ticks": ""
             }
            },
            "type": "scatterpolargl"
           }
          ],
          "scatterternary": [
           {
            "marker": {
             "colorbar": {
              "outlinewidth": 0,
              "ticks": ""
             }
            },
            "type": "scatterternary"
           }
          ],
          "surface": [
           {
            "colorbar": {
             "outlinewidth": 0,
             "ticks": ""
            },
            "colorscale": [
             [
              0,
              "#0d0887"
             ],
             [
              0.1111111111111111,
              "#46039f"
             ],
             [
              0.2222222222222222,
              "#7201a8"
             ],
             [
              0.3333333333333333,
              "#9c179e"
             ],
             [
              0.4444444444444444,
              "#bd3786"
             ],
             [
              0.5555555555555556,
              "#d8576b"
             ],
             [
              0.6666666666666666,
              "#ed7953"
             ],
             [
              0.7777777777777778,
              "#fb9f3a"
             ],
             [
              0.8888888888888888,
              "#fdca26"
             ],
             [
              1,
              "#f0f921"
             ]
            ],
            "type": "surface"
           }
          ],
          "table": [
           {
            "cells": {
             "fill": {
              "color": "#EBF0F8"
             },
             "line": {
              "color": "white"
             }
            },
            "header": {
             "fill": {
              "color": "#C8D4E3"
             },
             "line": {
              "color": "white"
             }
            },
            "type": "table"
           }
          ]
         },
         "layout": {
          "annotationdefaults": {
           "arrowcolor": "#2a3f5f",
           "arrowhead": 0,
           "arrowwidth": 1
          },
          "autotypenumbers": "strict",
          "coloraxis": {
           "colorbar": {
            "outlinewidth": 0,
            "ticks": ""
           }
          },
          "colorscale": {
           "diverging": [
            [
             0,
             "#8e0152"
            ],
            [
             0.1,
             "#c51b7d"
            ],
            [
             0.2,
             "#de77ae"
            ],
            [
             0.3,
             "#f1b6da"
            ],
            [
             0.4,
             "#fde0ef"
            ],
            [
             0.5,
             "#f7f7f7"
            ],
            [
             0.6,
             "#e6f5d0"
            ],
            [
             0.7,
             "#b8e186"
            ],
            [
             0.8,
             "#7fbc41"
            ],
            [
             0.9,
             "#4d9221"
            ],
            [
             1,
             "#276419"
            ]
           ],
           "sequential": [
            [
             0,
             "#0d0887"
            ],
            [
             0.1111111111111111,
             "#46039f"
            ],
            [
             0.2222222222222222,
             "#7201a8"
            ],
            [
             0.3333333333333333,
             "#9c179e"
            ],
            [
             0.4444444444444444,
             "#bd3786"
            ],
            [
             0.5555555555555556,
             "#d8576b"
            ],
            [
             0.6666666666666666,
             "#ed7953"
            ],
            [
             0.7777777777777778,
             "#fb9f3a"
            ],
            [
             0.8888888888888888,
             "#fdca26"
            ],
            [
             1,
             "#f0f921"
            ]
           ],
           "sequentialminus": [
            [
             0,
             "#0d0887"
            ],
            [
             0.1111111111111111,
             "#46039f"
            ],
            [
             0.2222222222222222,
             "#7201a8"
            ],
            [
             0.3333333333333333,
             "#9c179e"
            ],
            [
             0.4444444444444444,
             "#bd3786"
            ],
            [
             0.5555555555555556,
             "#d8576b"
            ],
            [
             0.6666666666666666,
             "#ed7953"
            ],
            [
             0.7777777777777778,
             "#fb9f3a"
            ],
            [
             0.8888888888888888,
             "#fdca26"
            ],
            [
             1,
             "#f0f921"
            ]
           ]
          },
          "colorway": [
           "#636efa",
           "#EF553B",
           "#00cc96",
           "#ab63fa",
           "#FFA15A",
           "#19d3f3",
           "#FF6692",
           "#B6E880",
           "#FF97FF",
           "#FECB52"
          ],
          "font": {
           "color": "#2a3f5f"
          },
          "geo": {
           "bgcolor": "white",
           "lakecolor": "white",
           "landcolor": "#E5ECF6",
           "showlakes": true,
           "showland": true,
           "subunitcolor": "white"
          },
          "hoverlabel": {
           "align": "left"
          },
          "hovermode": "closest",
          "mapbox": {
           "style": "light"
          },
          "paper_bgcolor": "white",
          "plot_bgcolor": "#E5ECF6",
          "polar": {
           "angularaxis": {
            "gridcolor": "white",
            "linecolor": "white",
            "ticks": ""
           },
           "bgcolor": "#E5ECF6",
           "radialaxis": {
            "gridcolor": "white",
            "linecolor": "white",
            "ticks": ""
           }
          },
          "scene": {
           "xaxis": {
            "backgroundcolor": "#E5ECF6",
            "gridcolor": "white",
            "gridwidth": 2,
            "linecolor": "white",
            "showbackground": true,
            "ticks": "",
            "zerolinecolor": "white"
           },
           "yaxis": {
            "backgroundcolor": "#E5ECF6",
            "gridcolor": "white",
            "gridwidth": 2,
            "linecolor": "white",
            "showbackground": true,
            "ticks": "",
            "zerolinecolor": "white"
           },
           "zaxis": {
            "backgroundcolor": "#E5ECF6",
            "gridcolor": "white",
            "gridwidth": 2,
            "linecolor": "white",
            "showbackground": true,
            "ticks": "",
            "zerolinecolor": "white"
           }
          },
          "shapedefaults": {
           "line": {
            "color": "#2a3f5f"
           }
          },
          "ternary": {
           "aaxis": {
            "gridcolor": "white",
            "linecolor": "white",
            "ticks": ""
           },
           "baxis": {
            "gridcolor": "white",
            "linecolor": "white",
            "ticks": ""
           },
           "bgcolor": "#E5ECF6",
           "caxis": {
            "gridcolor": "white",
            "linecolor": "white",
            "ticks": ""
           }
          },
          "title": {
           "x": 0.05
          },
          "xaxis": {
           "automargin": true,
           "gridcolor": "white",
           "linecolor": "white",
           "ticks": "",
           "title": {
            "standoff": 15
           },
           "zerolinecolor": "white",
           "zerolinewidth": 2
          },
          "yaxis": {
           "automargin": true,
           "gridcolor": "white",
           "linecolor": "white",
           "ticks": "",
           "title": {
            "standoff": 15
           },
           "zerolinecolor": "white",
           "zerolinewidth": 2
          }
         }
        },
        "title": {
         "text": "Train and Validation Loss"
        },
        "xaxis": {
         "title": {
          "text": "Epoch"
         }
        },
        "yaxis": {
         "title": {
          "text": "Loss"
         }
        }
       }
      },
      "text/html": [
       "<div>                            <div id=\"bfcbee15-cda1-4b3c-a568-62e87a4007e8\" class=\"plotly-graph-div\" style=\"height:525px; width:100%;\"></div>            <script type=\"text/javascript\">                require([\"plotly\"], function(Plotly) {                    window.PLOTLYENV=window.PLOTLYENV || {};                                    if (document.getElementById(\"bfcbee15-cda1-4b3c-a568-62e87a4007e8\")) {                    Plotly.newPlot(                        \"bfcbee15-cda1-4b3c-a568-62e87a4007e8\",                        [{\"mode\":\"lines\",\"name\":\"Train Loss\",\"x\":[1,2,3,4,5,6,7,8,9,10,11,12,13,14,15,16,17,18,19,20,21,22,23,24,25,26,27,28,29,30,31,32,33,34,35,36,37,38,39,40,41,42,43,44,45,46,47,48,49,50,51,52,53,54,55,56,57,58,59,60,61,62,63,64,65,66,67,68,69,70],\"y\":[32.292445638681116,31.94552694840396,31.067109846278893,28.700203076015057,22.595892144668095,10.780773190891042,6.878913259087099,6.153279455067581,4.7887381391802535,4.1790789258568735,3.484483723385742,3.0217520682855263,2.609853885720274,2.2409180587332664,1.874225976420384,1.484400746425799,1.171518094520298,0.9764614220282933,0.7579626234259615,0.6215978038319064,0.5575889436234648,0.5513402527655356,0.5173265880793635,0.45521532699334777,0.9836819011508975,1.1178915675948649,0.9086434770226881,0.541285544674166,0.3830490499593826,0.7461680525698478,1.1069429299571854,0.7515249422388032,0.4822070684341904,0.3424657304356274,0.7512416137058724,1.068843930103313,1.209921288401634,1.3304052259810797,2.36195686123031,1.1604842251422358,1.3775902759835397,1.5819387818265396,0.3524874856114952,0.3051749600438833,0.3502206835414688,0.5236892199459875,0.4638538980822534,0.7075857654506085,0.9131550264568083,1.6217376084808082,0.8527746061020561,1.7347161377338722,0.8898654480573694,0.8135865066726922,1.4531565049437754,1.0056956379175026,1.6077232198428268,0.7859438522350474,1.1974386500296679,1.3747573916052869,0.5350086042069357,0.9208876276999571,1.1767116842276346,0.7173506288692869,1.2286418063806632,0.6920438888026219,1.008427066082403,1.1354767513726514,1.016209512253804,1.4309884943093216],\"type\":\"scatter\"},{\"mode\":\"lines\",\"name\":\"Validation Loss\",\"x\":[1,2,3,4,5,6,7,8,9,10,11,12,13,14,15,16,17,18,19,20,21,22,23,24,25,26,27,28,29,30,31,32,33,34,35,36,37,38,39,40,41,42,43,44,45,46,47,48,49,50,51,52,53,54,55,56,57,58,59,60,61,62,63,64,65,66,67,68,69,70],\"y\":[67.9314960682886,67.12137791108803,64.92427458452755,58.9785602953307,43.69887400068475,15.485174618105917,6.511961818446775,7.62073148467837,4.221041206495296,3.4178630518490043,3.7428966567361144,3.7232589100944926,3.5514558391458184,3.383479357894356,3.2268606490637426,3.052652246147923,3.1391528534465993,3.072072969773817,2.7516554632306804,2.6238554601221393,2.003829554128929,1.4862877969911112,1.403762540521001,2.3718395378903523,3.5213999906235194,2.511063075964973,1.0539080038578552,1.3614814941699689,1.6948649110526022,3.2330732876027124,2.87940744825986,1.1223755740555081,1.3700070147683634,2.005235488316011,3.1244474171181404,2.3951112137391015,1.3743224917078865,3.1099578517428514,1.6827202662913756,3.3889547379764577,3.0684324817015574,2.7750447931109803,1.524163551161275,1.6894708422161417,2.7080516438424236,3.1596903817188107,2.129808559114411,1.2476861399306347,2.531235140138829,0.6361546162317491,1.4902603682681654,2.5497328491694122,1.2680887140025048,1.500988889304844,1.8775501636358407,2.2418667036048054,1.830852558344779,1.8781074032981016,2.9974604360097965,2.672607605710361,1.6199371282870954,2.247071171609255,1.0370466182041451,1.4713592254198515,1.3782497315011786,1.3396414833308676,1.5922262221398438,2.0777047171395204,2.2340924849700645,1.7258504200263842],\"type\":\"scatter\"}],                        {\"template\":{\"data\":{\"histogram2dcontour\":[{\"type\":\"histogram2dcontour\",\"colorbar\":{\"outlinewidth\":0,\"ticks\":\"\"},\"colorscale\":[[0.0,\"#0d0887\"],[0.1111111111111111,\"#46039f\"],[0.2222222222222222,\"#7201a8\"],[0.3333333333333333,\"#9c179e\"],[0.4444444444444444,\"#bd3786\"],[0.5555555555555556,\"#d8576b\"],[0.6666666666666666,\"#ed7953\"],[0.7777777777777778,\"#fb9f3a\"],[0.8888888888888888,\"#fdca26\"],[1.0,\"#f0f921\"]]}],\"choropleth\":[{\"type\":\"choropleth\",\"colorbar\":{\"outlinewidth\":0,\"ticks\":\"\"}}],\"histogram2d\":[{\"type\":\"histogram2d\",\"colorbar\":{\"outlinewidth\":0,\"ticks\":\"\"},\"colorscale\":[[0.0,\"#0d0887\"],[0.1111111111111111,\"#46039f\"],[0.2222222222222222,\"#7201a8\"],[0.3333333333333333,\"#9c179e\"],[0.4444444444444444,\"#bd3786\"],[0.5555555555555556,\"#d8576b\"],[0.6666666666666666,\"#ed7953\"],[0.7777777777777778,\"#fb9f3a\"],[0.8888888888888888,\"#fdca26\"],[1.0,\"#f0f921\"]]}],\"heatmap\":[{\"type\":\"heatmap\",\"colorbar\":{\"outlinewidth\":0,\"ticks\":\"\"},\"colorscale\":[[0.0,\"#0d0887\"],[0.1111111111111111,\"#46039f\"],[0.2222222222222222,\"#7201a8\"],[0.3333333333333333,\"#9c179e\"],[0.4444444444444444,\"#bd3786\"],[0.5555555555555556,\"#d8576b\"],[0.6666666666666666,\"#ed7953\"],[0.7777777777777778,\"#fb9f3a\"],[0.8888888888888888,\"#fdca26\"],[1.0,\"#f0f921\"]]}],\"heatmapgl\":[{\"type\":\"heatmapgl\",\"colorbar\":{\"outlinewidth\":0,\"ticks\":\"\"},\"colorscale\":[[0.0,\"#0d0887\"],[0.1111111111111111,\"#46039f\"],[0.2222222222222222,\"#7201a8\"],[0.3333333333333333,\"#9c179e\"],[0.4444444444444444,\"#bd3786\"],[0.5555555555555556,\"#d8576b\"],[0.6666666666666666,\"#ed7953\"],[0.7777777777777778,\"#fb9f3a\"],[0.8888888888888888,\"#fdca26\"],[1.0,\"#f0f921\"]]}],\"contourcarpet\":[{\"type\":\"contourcarpet\",\"colorbar\":{\"outlinewidth\":0,\"ticks\":\"\"}}],\"contour\":[{\"type\":\"contour\",\"colorbar\":{\"outlinewidth\":0,\"ticks\":\"\"},\"colorscale\":[[0.0,\"#0d0887\"],[0.1111111111111111,\"#46039f\"],[0.2222222222222222,\"#7201a8\"],[0.3333333333333333,\"#9c179e\"],[0.4444444444444444,\"#bd3786\"],[0.5555555555555556,\"#d8576b\"],[0.6666666666666666,\"#ed7953\"],[0.7777777777777778,\"#fb9f3a\"],[0.8888888888888888,\"#fdca26\"],[1.0,\"#f0f921\"]]}],\"surface\":[{\"type\":\"surface\",\"colorbar\":{\"outlinewidth\":0,\"ticks\":\"\"},\"colorscale\":[[0.0,\"#0d0887\"],[0.1111111111111111,\"#46039f\"],[0.2222222222222222,\"#7201a8\"],[0.3333333333333333,\"#9c179e\"],[0.4444444444444444,\"#bd3786\"],[0.5555555555555556,\"#d8576b\"],[0.6666666666666666,\"#ed7953\"],[0.7777777777777778,\"#fb9f3a\"],[0.8888888888888888,\"#fdca26\"],[1.0,\"#f0f921\"]]}],\"mesh3d\":[{\"type\":\"mesh3d\",\"colorbar\":{\"outlinewidth\":0,\"ticks\":\"\"}}],\"scatter\":[{\"fillpattern\":{\"fillmode\":\"overlay\",\"size\":10,\"solidity\":0.2},\"type\":\"scatter\"}],\"parcoords\":[{\"type\":\"parcoords\",\"line\":{\"colorbar\":{\"outlinewidth\":0,\"ticks\":\"\"}}}],\"scatterpolargl\":[{\"type\":\"scatterpolargl\",\"marker\":{\"colorbar\":{\"outlinewidth\":0,\"ticks\":\"\"}}}],\"bar\":[{\"error_x\":{\"color\":\"#2a3f5f\"},\"error_y\":{\"color\":\"#2a3f5f\"},\"marker\":{\"line\":{\"color\":\"#E5ECF6\",\"width\":0.5},\"pattern\":{\"fillmode\":\"overlay\",\"size\":10,\"solidity\":0.2}},\"type\":\"bar\"}],\"scattergeo\":[{\"type\":\"scattergeo\",\"marker\":{\"colorbar\":{\"outlinewidth\":0,\"ticks\":\"\"}}}],\"scatterpolar\":[{\"type\":\"scatterpolar\",\"marker\":{\"colorbar\":{\"outlinewidth\":0,\"ticks\":\"\"}}}],\"histogram\":[{\"marker\":{\"pattern\":{\"fillmode\":\"overlay\",\"size\":10,\"solidity\":0.2}},\"type\":\"histogram\"}],\"scattergl\":[{\"type\":\"scattergl\",\"marker\":{\"colorbar\":{\"outlinewidth\":0,\"ticks\":\"\"}}}],\"scatter3d\":[{\"type\":\"scatter3d\",\"line\":{\"colorbar\":{\"outlinewidth\":0,\"ticks\":\"\"}},\"marker\":{\"colorbar\":{\"outlinewidth\":0,\"ticks\":\"\"}}}],\"scattermapbox\":[{\"type\":\"scattermapbox\",\"marker\":{\"colorbar\":{\"outlinewidth\":0,\"ticks\":\"\"}}}],\"scatterternary\":[{\"type\":\"scatterternary\",\"marker\":{\"colorbar\":{\"outlinewidth\":0,\"ticks\":\"\"}}}],\"scattercarpet\":[{\"type\":\"scattercarpet\",\"marker\":{\"colorbar\":{\"outlinewidth\":0,\"ticks\":\"\"}}}],\"carpet\":[{\"aaxis\":{\"endlinecolor\":\"#2a3f5f\",\"gridcolor\":\"white\",\"linecolor\":\"white\",\"minorgridcolor\":\"white\",\"startlinecolor\":\"#2a3f5f\"},\"baxis\":{\"endlinecolor\":\"#2a3f5f\",\"gridcolor\":\"white\",\"linecolor\":\"white\",\"minorgridcolor\":\"white\",\"startlinecolor\":\"#2a3f5f\"},\"type\":\"carpet\"}],\"table\":[{\"cells\":{\"fill\":{\"color\":\"#EBF0F8\"},\"line\":{\"color\":\"white\"}},\"header\":{\"fill\":{\"color\":\"#C8D4E3\"},\"line\":{\"color\":\"white\"}},\"type\":\"table\"}],\"barpolar\":[{\"marker\":{\"line\":{\"color\":\"#E5ECF6\",\"width\":0.5},\"pattern\":{\"fillmode\":\"overlay\",\"size\":10,\"solidity\":0.2}},\"type\":\"barpolar\"}],\"pie\":[{\"automargin\":true,\"type\":\"pie\"}]},\"layout\":{\"autotypenumbers\":\"strict\",\"colorway\":[\"#636efa\",\"#EF553B\",\"#00cc96\",\"#ab63fa\",\"#FFA15A\",\"#19d3f3\",\"#FF6692\",\"#B6E880\",\"#FF97FF\",\"#FECB52\"],\"font\":{\"color\":\"#2a3f5f\"},\"hovermode\":\"closest\",\"hoverlabel\":{\"align\":\"left\"},\"paper_bgcolor\":\"white\",\"plot_bgcolor\":\"#E5ECF6\",\"polar\":{\"bgcolor\":\"#E5ECF6\",\"angularaxis\":{\"gridcolor\":\"white\",\"linecolor\":\"white\",\"ticks\":\"\"},\"radialaxis\":{\"gridcolor\":\"white\",\"linecolor\":\"white\",\"ticks\":\"\"}},\"ternary\":{\"bgcolor\":\"#E5ECF6\",\"aaxis\":{\"gridcolor\":\"white\",\"linecolor\":\"white\",\"ticks\":\"\"},\"baxis\":{\"gridcolor\":\"white\",\"linecolor\":\"white\",\"ticks\":\"\"},\"caxis\":{\"gridcolor\":\"white\",\"linecolor\":\"white\",\"ticks\":\"\"}},\"coloraxis\":{\"colorbar\":{\"outlinewidth\":0,\"ticks\":\"\"}},\"colorscale\":{\"sequential\":[[0.0,\"#0d0887\"],[0.1111111111111111,\"#46039f\"],[0.2222222222222222,\"#7201a8\"],[0.3333333333333333,\"#9c179e\"],[0.4444444444444444,\"#bd3786\"],[0.5555555555555556,\"#d8576b\"],[0.6666666666666666,\"#ed7953\"],[0.7777777777777778,\"#fb9f3a\"],[0.8888888888888888,\"#fdca26\"],[1.0,\"#f0f921\"]],\"sequentialminus\":[[0.0,\"#0d0887\"],[0.1111111111111111,\"#46039f\"],[0.2222222222222222,\"#7201a8\"],[0.3333333333333333,\"#9c179e\"],[0.4444444444444444,\"#bd3786\"],[0.5555555555555556,\"#d8576b\"],[0.6666666666666666,\"#ed7953\"],[0.7777777777777778,\"#fb9f3a\"],[0.8888888888888888,\"#fdca26\"],[1.0,\"#f0f921\"]],\"diverging\":[[0,\"#8e0152\"],[0.1,\"#c51b7d\"],[0.2,\"#de77ae\"],[0.3,\"#f1b6da\"],[0.4,\"#fde0ef\"],[0.5,\"#f7f7f7\"],[0.6,\"#e6f5d0\"],[0.7,\"#b8e186\"],[0.8,\"#7fbc41\"],[0.9,\"#4d9221\"],[1,\"#276419\"]]},\"xaxis\":{\"gridcolor\":\"white\",\"linecolor\":\"white\",\"ticks\":\"\",\"title\":{\"standoff\":15},\"zerolinecolor\":\"white\",\"automargin\":true,\"zerolinewidth\":2},\"yaxis\":{\"gridcolor\":\"white\",\"linecolor\":\"white\",\"ticks\":\"\",\"title\":{\"standoff\":15},\"zerolinecolor\":\"white\",\"automargin\":true,\"zerolinewidth\":2},\"scene\":{\"xaxis\":{\"backgroundcolor\":\"#E5ECF6\",\"gridcolor\":\"white\",\"linecolor\":\"white\",\"showbackground\":true,\"ticks\":\"\",\"zerolinecolor\":\"white\",\"gridwidth\":2},\"yaxis\":{\"backgroundcolor\":\"#E5ECF6\",\"gridcolor\":\"white\",\"linecolor\":\"white\",\"showbackground\":true,\"ticks\":\"\",\"zerolinecolor\":\"white\",\"gridwidth\":2},\"zaxis\":{\"backgroundcolor\":\"#E5ECF6\",\"gridcolor\":\"white\",\"linecolor\":\"white\",\"showbackground\":true,\"ticks\":\"\",\"zerolinecolor\":\"white\",\"gridwidth\":2}},\"shapedefaults\":{\"line\":{\"color\":\"#2a3f5f\"}},\"annotationdefaults\":{\"arrowcolor\":\"#2a3f5f\",\"arrowhead\":0,\"arrowwidth\":1},\"geo\":{\"bgcolor\":\"white\",\"landcolor\":\"#E5ECF6\",\"subunitcolor\":\"white\",\"showland\":true,\"showlakes\":true,\"lakecolor\":\"white\"},\"title\":{\"x\":0.05},\"mapbox\":{\"style\":\"light\"}}},\"title\":{\"text\":\"Train and Validation Loss\"},\"xaxis\":{\"title\":{\"text\":\"Epoch\"}},\"yaxis\":{\"title\":{\"text\":\"Loss\"}}},                        {\"responsive\": true}                    ).then(function(){\n",
       "                            \n",
       "var gd = document.getElementById('bfcbee15-cda1-4b3c-a568-62e87a4007e8');\n",
       "var x = new MutationObserver(function (mutations, observer) {{\n",
       "        var display = window.getComputedStyle(gd).display;\n",
       "        if (!display || display === 'none') {{\n",
       "            console.log([gd, 'removed!']);\n",
       "            Plotly.purge(gd);\n",
       "            observer.disconnect();\n",
       "        }}\n",
       "}});\n",
       "\n",
       "// Listen for the removal of the full notebook cells\n",
       "var notebookContainer = gd.closest('#notebook-container');\n",
       "if (notebookContainer) {{\n",
       "    x.observe(notebookContainer, {childList: true});\n",
       "}}\n",
       "\n",
       "// Listen for the clearing of the current output cell\n",
       "var outputEl = gd.closest('.output');\n",
       "if (outputEl) {{\n",
       "    x.observe(outputEl, {childList: true});\n",
       "}}\n",
       "\n",
       "                        })                };                });            </script>        </div>"
      ]
     },
     "metadata": {},
     "output_type": "display_data"
    },
    {
     "data": {
      "application/vnd.plotly.v1+json": {
       "config": {
        "plotlyServerURL": "https://plot.ly"
       },
       "data": [
        {
         "mode": "lines",
         "name": "Validation R2",
         "type": "scatter",
         "x": [
          1,
          2,
          3,
          4,
          5,
          6,
          7,
          8,
          9,
          10,
          11,
          12,
          13,
          14,
          15,
          16,
          17,
          18,
          19,
          20,
          21,
          22,
          23,
          24,
          25,
          26,
          27,
          28,
          29,
          30,
          31,
          32,
          33,
          34,
          35,
          36,
          37,
          38,
          39,
          40,
          41,
          42,
          43,
          44,
          45,
          46,
          47,
          48,
          49,
          50,
          51,
          52,
          53,
          54,
          55,
          56,
          57,
          58,
          59,
          60,
          61,
          62,
          63,
          64,
          65,
          66,
          67,
          68,
          69,
          70
         ],
         "y": [
          -16.937429138986783,
          -16.513060174075395,
          -15.386082805788298,
          -12.520661105277867,
          -6.4252985092005845,
          -0.02421577817077125,
          0.762663067053052,
          0.7238463372207034,
          0.8822964183156785,
          0.9121063014164423,
          0.910554716495253,
          0.9147461819169259,
          0.9220093874354619,
          0.9274328906856273,
          0.932410167149861,
          0.9377715641120214,
          0.9339571019789723,
          0.9365698708263158,
          0.9472322650920351,
          0.9507386752711656,
          0.967663136152644,
          0.9806949435669152,
          0.9821107915802658,
          0.9585051563102243,
          0.9278758349127322,
          0.9526157600900055,
          0.9884837160244517,
          0.9830593958389934,
          0.9750759045032706,
          0.9369387449985118,
          0.9421317316178329,
          0.9873522363148085,
          0.982725407850165,
          0.9676177602082596,
          0.9403345799649176,
          0.9564142283935857,
          0.9828164502402961,
          0.9437129590480579,
          0.9765977549287398,
          0.9237279217116953,
          0.9400221768649712,
          0.9465161394824865,
          0.9797213385232724,
          0.9755519213263745,
          0.9496240551708721,
          0.9376393028081582,
          0.9643944673553625,
          0.9857010760187997,
          0.9561600492626959,
          0.9941845261256256,
          0.9812331606927889,
          0.9542594045216706,
          0.9844678566714898,
          0.980264821273821,
          0.9711313562034526,
          0.9643043074392659,
          0.9726181701588713,
          0.9723092601063003,
          0.943322151786658,
          0.950305811903082,
          0.9781695137438845,
          0.9634637904151587,
          0.9882402488052967,
          0.9813988805423157,
          0.9821925944381162,
          0.9831325605612993,
          0.9784959410135212,
          0.9666122154909841,
          0.9639437063663112,
          0.975597859641206
         ]
        }
       ],
       "layout": {
        "template": {
         "data": {
          "bar": [
           {
            "error_x": {
             "color": "#2a3f5f"
            },
            "error_y": {
             "color": "#2a3f5f"
            },
            "marker": {
             "line": {
              "color": "#E5ECF6",
              "width": 0.5
             },
             "pattern": {
              "fillmode": "overlay",
              "size": 10,
              "solidity": 0.2
             }
            },
            "type": "bar"
           }
          ],
          "barpolar": [
           {
            "marker": {
             "line": {
              "color": "#E5ECF6",
              "width": 0.5
             },
             "pattern": {
              "fillmode": "overlay",
              "size": 10,
              "solidity": 0.2
             }
            },
            "type": "barpolar"
           }
          ],
          "carpet": [
           {
            "aaxis": {
             "endlinecolor": "#2a3f5f",
             "gridcolor": "white",
             "linecolor": "white",
             "minorgridcolor": "white",
             "startlinecolor": "#2a3f5f"
            },
            "baxis": {
             "endlinecolor": "#2a3f5f",
             "gridcolor": "white",
             "linecolor": "white",
             "minorgridcolor": "white",
             "startlinecolor": "#2a3f5f"
            },
            "type": "carpet"
           }
          ],
          "choropleth": [
           {
            "colorbar": {
             "outlinewidth": 0,
             "ticks": ""
            },
            "type": "choropleth"
           }
          ],
          "contour": [
           {
            "colorbar": {
             "outlinewidth": 0,
             "ticks": ""
            },
            "colorscale": [
             [
              0,
              "#0d0887"
             ],
             [
              0.1111111111111111,
              "#46039f"
             ],
             [
              0.2222222222222222,
              "#7201a8"
             ],
             [
              0.3333333333333333,
              "#9c179e"
             ],
             [
              0.4444444444444444,
              "#bd3786"
             ],
             [
              0.5555555555555556,
              "#d8576b"
             ],
             [
              0.6666666666666666,
              "#ed7953"
             ],
             [
              0.7777777777777778,
              "#fb9f3a"
             ],
             [
              0.8888888888888888,
              "#fdca26"
             ],
             [
              1,
              "#f0f921"
             ]
            ],
            "type": "contour"
           }
          ],
          "contourcarpet": [
           {
            "colorbar": {
             "outlinewidth": 0,
             "ticks": ""
            },
            "type": "contourcarpet"
           }
          ],
          "heatmap": [
           {
            "colorbar": {
             "outlinewidth": 0,
             "ticks": ""
            },
            "colorscale": [
             [
              0,
              "#0d0887"
             ],
             [
              0.1111111111111111,
              "#46039f"
             ],
             [
              0.2222222222222222,
              "#7201a8"
             ],
             [
              0.3333333333333333,
              "#9c179e"
             ],
             [
              0.4444444444444444,
              "#bd3786"
             ],
             [
              0.5555555555555556,
              "#d8576b"
             ],
             [
              0.6666666666666666,
              "#ed7953"
             ],
             [
              0.7777777777777778,
              "#fb9f3a"
             ],
             [
              0.8888888888888888,
              "#fdca26"
             ],
             [
              1,
              "#f0f921"
             ]
            ],
            "type": "heatmap"
           }
          ],
          "heatmapgl": [
           {
            "colorbar": {
             "outlinewidth": 0,
             "ticks": ""
            },
            "colorscale": [
             [
              0,
              "#0d0887"
             ],
             [
              0.1111111111111111,
              "#46039f"
             ],
             [
              0.2222222222222222,
              "#7201a8"
             ],
             [
              0.3333333333333333,
              "#9c179e"
             ],
             [
              0.4444444444444444,
              "#bd3786"
             ],
             [
              0.5555555555555556,
              "#d8576b"
             ],
             [
              0.6666666666666666,
              "#ed7953"
             ],
             [
              0.7777777777777778,
              "#fb9f3a"
             ],
             [
              0.8888888888888888,
              "#fdca26"
             ],
             [
              1,
              "#f0f921"
             ]
            ],
            "type": "heatmapgl"
           }
          ],
          "histogram": [
           {
            "marker": {
             "pattern": {
              "fillmode": "overlay",
              "size": 10,
              "solidity": 0.2
             }
            },
            "type": "histogram"
           }
          ],
          "histogram2d": [
           {
            "colorbar": {
             "outlinewidth": 0,
             "ticks": ""
            },
            "colorscale": [
             [
              0,
              "#0d0887"
             ],
             [
              0.1111111111111111,
              "#46039f"
             ],
             [
              0.2222222222222222,
              "#7201a8"
             ],
             [
              0.3333333333333333,
              "#9c179e"
             ],
             [
              0.4444444444444444,
              "#bd3786"
             ],
             [
              0.5555555555555556,
              "#d8576b"
             ],
             [
              0.6666666666666666,
              "#ed7953"
             ],
             [
              0.7777777777777778,
              "#fb9f3a"
             ],
             [
              0.8888888888888888,
              "#fdca26"
             ],
             [
              1,
              "#f0f921"
             ]
            ],
            "type": "histogram2d"
           }
          ],
          "histogram2dcontour": [
           {
            "colorbar": {
             "outlinewidth": 0,
             "ticks": ""
            },
            "colorscale": [
             [
              0,
              "#0d0887"
             ],
             [
              0.1111111111111111,
              "#46039f"
             ],
             [
              0.2222222222222222,
              "#7201a8"
             ],
             [
              0.3333333333333333,
              "#9c179e"
             ],
             [
              0.4444444444444444,
              "#bd3786"
             ],
             [
              0.5555555555555556,
              "#d8576b"
             ],
             [
              0.6666666666666666,
              "#ed7953"
             ],
             [
              0.7777777777777778,
              "#fb9f3a"
             ],
             [
              0.8888888888888888,
              "#fdca26"
             ],
             [
              1,
              "#f0f921"
             ]
            ],
            "type": "histogram2dcontour"
           }
          ],
          "mesh3d": [
           {
            "colorbar": {
             "outlinewidth": 0,
             "ticks": ""
            },
            "type": "mesh3d"
           }
          ],
          "parcoords": [
           {
            "line": {
             "colorbar": {
              "outlinewidth": 0,
              "ticks": ""
             }
            },
            "type": "parcoords"
           }
          ],
          "pie": [
           {
            "automargin": true,
            "type": "pie"
           }
          ],
          "scatter": [
           {
            "fillpattern": {
             "fillmode": "overlay",
             "size": 10,
             "solidity": 0.2
            },
            "type": "scatter"
           }
          ],
          "scatter3d": [
           {
            "line": {
             "colorbar": {
              "outlinewidth": 0,
              "ticks": ""
             }
            },
            "marker": {
             "colorbar": {
              "outlinewidth": 0,
              "ticks": ""
             }
            },
            "type": "scatter3d"
           }
          ],
          "scattercarpet": [
           {
            "marker": {
             "colorbar": {
              "outlinewidth": 0,
              "ticks": ""
             }
            },
            "type": "scattercarpet"
           }
          ],
          "scattergeo": [
           {
            "marker": {
             "colorbar": {
              "outlinewidth": 0,
              "ticks": ""
             }
            },
            "type": "scattergeo"
           }
          ],
          "scattergl": [
           {
            "marker": {
             "colorbar": {
              "outlinewidth": 0,
              "ticks": ""
             }
            },
            "type": "scattergl"
           }
          ],
          "scattermapbox": [
           {
            "marker": {
             "colorbar": {
              "outlinewidth": 0,
              "ticks": ""
             }
            },
            "type": "scattermapbox"
           }
          ],
          "scatterpolar": [
           {
            "marker": {
             "colorbar": {
              "outlinewidth": 0,
              "ticks": ""
             }
            },
            "type": "scatterpolar"
           }
          ],
          "scatterpolargl": [
           {
            "marker": {
             "colorbar": {
              "outlinewidth": 0,
              "ticks": ""
             }
            },
            "type": "scatterpolargl"
           }
          ],
          "scatterternary": [
           {
            "marker": {
             "colorbar": {
              "outlinewidth": 0,
              "ticks": ""
             }
            },
            "type": "scatterternary"
           }
          ],
          "surface": [
           {
            "colorbar": {
             "outlinewidth": 0,
             "ticks": ""
            },
            "colorscale": [
             [
              0,
              "#0d0887"
             ],
             [
              0.1111111111111111,
              "#46039f"
             ],
             [
              0.2222222222222222,
              "#7201a8"
             ],
             [
              0.3333333333333333,
              "#9c179e"
             ],
             [
              0.4444444444444444,
              "#bd3786"
             ],
             [
              0.5555555555555556,
              "#d8576b"
             ],
             [
              0.6666666666666666,
              "#ed7953"
             ],
             [
              0.7777777777777778,
              "#fb9f3a"
             ],
             [
              0.8888888888888888,
              "#fdca26"
             ],
             [
              1,
              "#f0f921"
             ]
            ],
            "type": "surface"
           }
          ],
          "table": [
           {
            "cells": {
             "fill": {
              "color": "#EBF0F8"
             },
             "line": {
              "color": "white"
             }
            },
            "header": {
             "fill": {
              "color": "#C8D4E3"
             },
             "line": {
              "color": "white"
             }
            },
            "type": "table"
           }
          ]
         },
         "layout": {
          "annotationdefaults": {
           "arrowcolor": "#2a3f5f",
           "arrowhead": 0,
           "arrowwidth": 1
          },
          "autotypenumbers": "strict",
          "coloraxis": {
           "colorbar": {
            "outlinewidth": 0,
            "ticks": ""
           }
          },
          "colorscale": {
           "diverging": [
            [
             0,
             "#8e0152"
            ],
            [
             0.1,
             "#c51b7d"
            ],
            [
             0.2,
             "#de77ae"
            ],
            [
             0.3,
             "#f1b6da"
            ],
            [
             0.4,
             "#fde0ef"
            ],
            [
             0.5,
             "#f7f7f7"
            ],
            [
             0.6,
             "#e6f5d0"
            ],
            [
             0.7,
             "#b8e186"
            ],
            [
             0.8,
             "#7fbc41"
            ],
            [
             0.9,
             "#4d9221"
            ],
            [
             1,
             "#276419"
            ]
           ],
           "sequential": [
            [
             0,
             "#0d0887"
            ],
            [
             0.1111111111111111,
             "#46039f"
            ],
            [
             0.2222222222222222,
             "#7201a8"
            ],
            [
             0.3333333333333333,
             "#9c179e"
            ],
            [
             0.4444444444444444,
             "#bd3786"
            ],
            [
             0.5555555555555556,
             "#d8576b"
            ],
            [
             0.6666666666666666,
             "#ed7953"
            ],
            [
             0.7777777777777778,
             "#fb9f3a"
            ],
            [
             0.8888888888888888,
             "#fdca26"
            ],
            [
             1,
             "#f0f921"
            ]
           ],
           "sequentialminus": [
            [
             0,
             "#0d0887"
            ],
            [
             0.1111111111111111,
             "#46039f"
            ],
            [
             0.2222222222222222,
             "#7201a8"
            ],
            [
             0.3333333333333333,
             "#9c179e"
            ],
            [
             0.4444444444444444,
             "#bd3786"
            ],
            [
             0.5555555555555556,
             "#d8576b"
            ],
            [
             0.6666666666666666,
             "#ed7953"
            ],
            [
             0.7777777777777778,
             "#fb9f3a"
            ],
            [
             0.8888888888888888,
             "#fdca26"
            ],
            [
             1,
             "#f0f921"
            ]
           ]
          },
          "colorway": [
           "#636efa",
           "#EF553B",
           "#00cc96",
           "#ab63fa",
           "#FFA15A",
           "#19d3f3",
           "#FF6692",
           "#B6E880",
           "#FF97FF",
           "#FECB52"
          ],
          "font": {
           "color": "#2a3f5f"
          },
          "geo": {
           "bgcolor": "white",
           "lakecolor": "white",
           "landcolor": "#E5ECF6",
           "showlakes": true,
           "showland": true,
           "subunitcolor": "white"
          },
          "hoverlabel": {
           "align": "left"
          },
          "hovermode": "closest",
          "mapbox": {
           "style": "light"
          },
          "paper_bgcolor": "white",
          "plot_bgcolor": "#E5ECF6",
          "polar": {
           "angularaxis": {
            "gridcolor": "white",
            "linecolor": "white",
            "ticks": ""
           },
           "bgcolor": "#E5ECF6",
           "radialaxis": {
            "gridcolor": "white",
            "linecolor": "white",
            "ticks": ""
           }
          },
          "scene": {
           "xaxis": {
            "backgroundcolor": "#E5ECF6",
            "gridcolor": "white",
            "gridwidth": 2,
            "linecolor": "white",
            "showbackground": true,
            "ticks": "",
            "zerolinecolor": "white"
           },
           "yaxis": {
            "backgroundcolor": "#E5ECF6",
            "gridcolor": "white",
            "gridwidth": 2,
            "linecolor": "white",
            "showbackground": true,
            "ticks": "",
            "zerolinecolor": "white"
           },
           "zaxis": {
            "backgroundcolor": "#E5ECF6",
            "gridcolor": "white",
            "gridwidth": 2,
            "linecolor": "white",
            "showbackground": true,
            "ticks": "",
            "zerolinecolor": "white"
           }
          },
          "shapedefaults": {
           "line": {
            "color": "#2a3f5f"
           }
          },
          "ternary": {
           "aaxis": {
            "gridcolor": "white",
            "linecolor": "white",
            "ticks": ""
           },
           "baxis": {
            "gridcolor": "white",
            "linecolor": "white",
            "ticks": ""
           },
           "bgcolor": "#E5ECF6",
           "caxis": {
            "gridcolor": "white",
            "linecolor": "white",
            "ticks": ""
           }
          },
          "title": {
           "x": 0.05
          },
          "xaxis": {
           "automargin": true,
           "gridcolor": "white",
           "linecolor": "white",
           "ticks": "",
           "title": {
            "standoff": 15
           },
           "zerolinecolor": "white",
           "zerolinewidth": 2
          },
          "yaxis": {
           "automargin": true,
           "gridcolor": "white",
           "linecolor": "white",
           "ticks": "",
           "title": {
            "standoff": 15
           },
           "zerolinecolor": "white",
           "zerolinewidth": 2
          }
         }
        },
        "title": {
         "text": "Validation R2 Over Epochs"
        },
        "xaxis": {
         "title": {
          "text": "Epoch"
         }
        },
        "yaxis": {
         "title": {
          "text": "R2"
         }
        }
       }
      },
      "text/html": [
       "<div>                            <div id=\"a3bd813e-66f6-48fc-bd4e-cec0f4e5c05b\" class=\"plotly-graph-div\" style=\"height:525px; width:100%;\"></div>            <script type=\"text/javascript\">                require([\"plotly\"], function(Plotly) {                    window.PLOTLYENV=window.PLOTLYENV || {};                                    if (document.getElementById(\"a3bd813e-66f6-48fc-bd4e-cec0f4e5c05b\")) {                    Plotly.newPlot(                        \"a3bd813e-66f6-48fc-bd4e-cec0f4e5c05b\",                        [{\"mode\":\"lines\",\"name\":\"Validation R2\",\"x\":[1,2,3,4,5,6,7,8,9,10,11,12,13,14,15,16,17,18,19,20,21,22,23,24,25,26,27,28,29,30,31,32,33,34,35,36,37,38,39,40,41,42,43,44,45,46,47,48,49,50,51,52,53,54,55,56,57,58,59,60,61,62,63,64,65,66,67,68,69,70],\"y\":[-16.937429138986783,-16.513060174075395,-15.386082805788298,-12.520661105277867,-6.4252985092005845,-0.02421577817077125,0.762663067053052,0.7238463372207034,0.8822964183156785,0.9121063014164423,0.910554716495253,0.9147461819169259,0.9220093874354619,0.9274328906856273,0.932410167149861,0.9377715641120214,0.9339571019789723,0.9365698708263158,0.9472322650920351,0.9507386752711656,0.967663136152644,0.9806949435669152,0.9821107915802658,0.9585051563102243,0.9278758349127322,0.9526157600900055,0.9884837160244517,0.9830593958389934,0.9750759045032706,0.9369387449985118,0.9421317316178329,0.9873522363148085,0.982725407850165,0.9676177602082596,0.9403345799649176,0.9564142283935857,0.9828164502402961,0.9437129590480579,0.9765977549287398,0.9237279217116953,0.9400221768649712,0.9465161394824865,0.9797213385232724,0.9755519213263745,0.9496240551708721,0.9376393028081582,0.9643944673553625,0.9857010760187997,0.9561600492626959,0.9941845261256256,0.9812331606927889,0.9542594045216706,0.9844678566714898,0.980264821273821,0.9711313562034526,0.9643043074392659,0.9726181701588713,0.9723092601063003,0.943322151786658,0.950305811903082,0.9781695137438845,0.9634637904151587,0.9882402488052967,0.9813988805423157,0.9821925944381162,0.9831325605612993,0.9784959410135212,0.9666122154909841,0.9639437063663112,0.975597859641206],\"type\":\"scatter\"}],                        {\"template\":{\"data\":{\"histogram2dcontour\":[{\"type\":\"histogram2dcontour\",\"colorbar\":{\"outlinewidth\":0,\"ticks\":\"\"},\"colorscale\":[[0.0,\"#0d0887\"],[0.1111111111111111,\"#46039f\"],[0.2222222222222222,\"#7201a8\"],[0.3333333333333333,\"#9c179e\"],[0.4444444444444444,\"#bd3786\"],[0.5555555555555556,\"#d8576b\"],[0.6666666666666666,\"#ed7953\"],[0.7777777777777778,\"#fb9f3a\"],[0.8888888888888888,\"#fdca26\"],[1.0,\"#f0f921\"]]}],\"choropleth\":[{\"type\":\"choropleth\",\"colorbar\":{\"outlinewidth\":0,\"ticks\":\"\"}}],\"histogram2d\":[{\"type\":\"histogram2d\",\"colorbar\":{\"outlinewidth\":0,\"ticks\":\"\"},\"colorscale\":[[0.0,\"#0d0887\"],[0.1111111111111111,\"#46039f\"],[0.2222222222222222,\"#7201a8\"],[0.3333333333333333,\"#9c179e\"],[0.4444444444444444,\"#bd3786\"],[0.5555555555555556,\"#d8576b\"],[0.6666666666666666,\"#ed7953\"],[0.7777777777777778,\"#fb9f3a\"],[0.8888888888888888,\"#fdca26\"],[1.0,\"#f0f921\"]]}],\"heatmap\":[{\"type\":\"heatmap\",\"colorbar\":{\"outlinewidth\":0,\"ticks\":\"\"},\"colorscale\":[[0.0,\"#0d0887\"],[0.1111111111111111,\"#46039f\"],[0.2222222222222222,\"#7201a8\"],[0.3333333333333333,\"#9c179e\"],[0.4444444444444444,\"#bd3786\"],[0.5555555555555556,\"#d8576b\"],[0.6666666666666666,\"#ed7953\"],[0.7777777777777778,\"#fb9f3a\"],[0.8888888888888888,\"#fdca26\"],[1.0,\"#f0f921\"]]}],\"heatmapgl\":[{\"type\":\"heatmapgl\",\"colorbar\":{\"outlinewidth\":0,\"ticks\":\"\"},\"colorscale\":[[0.0,\"#0d0887\"],[0.1111111111111111,\"#46039f\"],[0.2222222222222222,\"#7201a8\"],[0.3333333333333333,\"#9c179e\"],[0.4444444444444444,\"#bd3786\"],[0.5555555555555556,\"#d8576b\"],[0.6666666666666666,\"#ed7953\"],[0.7777777777777778,\"#fb9f3a\"],[0.8888888888888888,\"#fdca26\"],[1.0,\"#f0f921\"]]}],\"contourcarpet\":[{\"type\":\"contourcarpet\",\"colorbar\":{\"outlinewidth\":0,\"ticks\":\"\"}}],\"contour\":[{\"type\":\"contour\",\"colorbar\":{\"outlinewidth\":0,\"ticks\":\"\"},\"colorscale\":[[0.0,\"#0d0887\"],[0.1111111111111111,\"#46039f\"],[0.2222222222222222,\"#7201a8\"],[0.3333333333333333,\"#9c179e\"],[0.4444444444444444,\"#bd3786\"],[0.5555555555555556,\"#d8576b\"],[0.6666666666666666,\"#ed7953\"],[0.7777777777777778,\"#fb9f3a\"],[0.8888888888888888,\"#fdca26\"],[1.0,\"#f0f921\"]]}],\"surface\":[{\"type\":\"surface\",\"colorbar\":{\"outlinewidth\":0,\"ticks\":\"\"},\"colorscale\":[[0.0,\"#0d0887\"],[0.1111111111111111,\"#46039f\"],[0.2222222222222222,\"#7201a8\"],[0.3333333333333333,\"#9c179e\"],[0.4444444444444444,\"#bd3786\"],[0.5555555555555556,\"#d8576b\"],[0.6666666666666666,\"#ed7953\"],[0.7777777777777778,\"#fb9f3a\"],[0.8888888888888888,\"#fdca26\"],[1.0,\"#f0f921\"]]}],\"mesh3d\":[{\"type\":\"mesh3d\",\"colorbar\":{\"outlinewidth\":0,\"ticks\":\"\"}}],\"scatter\":[{\"fillpattern\":{\"fillmode\":\"overlay\",\"size\":10,\"solidity\":0.2},\"type\":\"scatter\"}],\"parcoords\":[{\"type\":\"parcoords\",\"line\":{\"colorbar\":{\"outlinewidth\":0,\"ticks\":\"\"}}}],\"scatterpolargl\":[{\"type\":\"scatterpolargl\",\"marker\":{\"colorbar\":{\"outlinewidth\":0,\"ticks\":\"\"}}}],\"bar\":[{\"error_x\":{\"color\":\"#2a3f5f\"},\"error_y\":{\"color\":\"#2a3f5f\"},\"marker\":{\"line\":{\"color\":\"#E5ECF6\",\"width\":0.5},\"pattern\":{\"fillmode\":\"overlay\",\"size\":10,\"solidity\":0.2}},\"type\":\"bar\"}],\"scattergeo\":[{\"type\":\"scattergeo\",\"marker\":{\"colorbar\":{\"outlinewidth\":0,\"ticks\":\"\"}}}],\"scatterpolar\":[{\"type\":\"scatterpolar\",\"marker\":{\"colorbar\":{\"outlinewidth\":0,\"ticks\":\"\"}}}],\"histogram\":[{\"marker\":{\"pattern\":{\"fillmode\":\"overlay\",\"size\":10,\"solidity\":0.2}},\"type\":\"histogram\"}],\"scattergl\":[{\"type\":\"scattergl\",\"marker\":{\"colorbar\":{\"outlinewidth\":0,\"ticks\":\"\"}}}],\"scatter3d\":[{\"type\":\"scatter3d\",\"line\":{\"colorbar\":{\"outlinewidth\":0,\"ticks\":\"\"}},\"marker\":{\"colorbar\":{\"outlinewidth\":0,\"ticks\":\"\"}}}],\"scattermapbox\":[{\"type\":\"scattermapbox\",\"marker\":{\"colorbar\":{\"outlinewidth\":0,\"ticks\":\"\"}}}],\"scatterternary\":[{\"type\":\"scatterternary\",\"marker\":{\"colorbar\":{\"outlinewidth\":0,\"ticks\":\"\"}}}],\"scattercarpet\":[{\"type\":\"scattercarpet\",\"marker\":{\"colorbar\":{\"outlinewidth\":0,\"ticks\":\"\"}}}],\"carpet\":[{\"aaxis\":{\"endlinecolor\":\"#2a3f5f\",\"gridcolor\":\"white\",\"linecolor\":\"white\",\"minorgridcolor\":\"white\",\"startlinecolor\":\"#2a3f5f\"},\"baxis\":{\"endlinecolor\":\"#2a3f5f\",\"gridcolor\":\"white\",\"linecolor\":\"white\",\"minorgridcolor\":\"white\",\"startlinecolor\":\"#2a3f5f\"},\"type\":\"carpet\"}],\"table\":[{\"cells\":{\"fill\":{\"color\":\"#EBF0F8\"},\"line\":{\"color\":\"white\"}},\"header\":{\"fill\":{\"color\":\"#C8D4E3\"},\"line\":{\"color\":\"white\"}},\"type\":\"table\"}],\"barpolar\":[{\"marker\":{\"line\":{\"color\":\"#E5ECF6\",\"width\":0.5},\"pattern\":{\"fillmode\":\"overlay\",\"size\":10,\"solidity\":0.2}},\"type\":\"barpolar\"}],\"pie\":[{\"automargin\":true,\"type\":\"pie\"}]},\"layout\":{\"autotypenumbers\":\"strict\",\"colorway\":[\"#636efa\",\"#EF553B\",\"#00cc96\",\"#ab63fa\",\"#FFA15A\",\"#19d3f3\",\"#FF6692\",\"#B6E880\",\"#FF97FF\",\"#FECB52\"],\"font\":{\"color\":\"#2a3f5f\"},\"hovermode\":\"closest\",\"hoverlabel\":{\"align\":\"left\"},\"paper_bgcolor\":\"white\",\"plot_bgcolor\":\"#E5ECF6\",\"polar\":{\"bgcolor\":\"#E5ECF6\",\"angularaxis\":{\"gridcolor\":\"white\",\"linecolor\":\"white\",\"ticks\":\"\"},\"radialaxis\":{\"gridcolor\":\"white\",\"linecolor\":\"white\",\"ticks\":\"\"}},\"ternary\":{\"bgcolor\":\"#E5ECF6\",\"aaxis\":{\"gridcolor\":\"white\",\"linecolor\":\"white\",\"ticks\":\"\"},\"baxis\":{\"gridcolor\":\"white\",\"linecolor\":\"white\",\"ticks\":\"\"},\"caxis\":{\"gridcolor\":\"white\",\"linecolor\":\"white\",\"ticks\":\"\"}},\"coloraxis\":{\"colorbar\":{\"outlinewidth\":0,\"ticks\":\"\"}},\"colorscale\":{\"sequential\":[[0.0,\"#0d0887\"],[0.1111111111111111,\"#46039f\"],[0.2222222222222222,\"#7201a8\"],[0.3333333333333333,\"#9c179e\"],[0.4444444444444444,\"#bd3786\"],[0.5555555555555556,\"#d8576b\"],[0.6666666666666666,\"#ed7953\"],[0.7777777777777778,\"#fb9f3a\"],[0.8888888888888888,\"#fdca26\"],[1.0,\"#f0f921\"]],\"sequentialminus\":[[0.0,\"#0d0887\"],[0.1111111111111111,\"#46039f\"],[0.2222222222222222,\"#7201a8\"],[0.3333333333333333,\"#9c179e\"],[0.4444444444444444,\"#bd3786\"],[0.5555555555555556,\"#d8576b\"],[0.6666666666666666,\"#ed7953\"],[0.7777777777777778,\"#fb9f3a\"],[0.8888888888888888,\"#fdca26\"],[1.0,\"#f0f921\"]],\"diverging\":[[0,\"#8e0152\"],[0.1,\"#c51b7d\"],[0.2,\"#de77ae\"],[0.3,\"#f1b6da\"],[0.4,\"#fde0ef\"],[0.5,\"#f7f7f7\"],[0.6,\"#e6f5d0\"],[0.7,\"#b8e186\"],[0.8,\"#7fbc41\"],[0.9,\"#4d9221\"],[1,\"#276419\"]]},\"xaxis\":{\"gridcolor\":\"white\",\"linecolor\":\"white\",\"ticks\":\"\",\"title\":{\"standoff\":15},\"zerolinecolor\":\"white\",\"automargin\":true,\"zerolinewidth\":2},\"yaxis\":{\"gridcolor\":\"white\",\"linecolor\":\"white\",\"ticks\":\"\",\"title\":{\"standoff\":15},\"zerolinecolor\":\"white\",\"automargin\":true,\"zerolinewidth\":2},\"scene\":{\"xaxis\":{\"backgroundcolor\":\"#E5ECF6\",\"gridcolor\":\"white\",\"linecolor\":\"white\",\"showbackground\":true,\"ticks\":\"\",\"zerolinecolor\":\"white\",\"gridwidth\":2},\"yaxis\":{\"backgroundcolor\":\"#E5ECF6\",\"gridcolor\":\"white\",\"linecolor\":\"white\",\"showbackground\":true,\"ticks\":\"\",\"zerolinecolor\":\"white\",\"gridwidth\":2},\"zaxis\":{\"backgroundcolor\":\"#E5ECF6\",\"gridcolor\":\"white\",\"linecolor\":\"white\",\"showbackground\":true,\"ticks\":\"\",\"zerolinecolor\":\"white\",\"gridwidth\":2}},\"shapedefaults\":{\"line\":{\"color\":\"#2a3f5f\"}},\"annotationdefaults\":{\"arrowcolor\":\"#2a3f5f\",\"arrowhead\":0,\"arrowwidth\":1},\"geo\":{\"bgcolor\":\"white\",\"landcolor\":\"#E5ECF6\",\"subunitcolor\":\"white\",\"showland\":true,\"showlakes\":true,\"lakecolor\":\"white\"},\"title\":{\"x\":0.05},\"mapbox\":{\"style\":\"light\"}}},\"title\":{\"text\":\"Validation R2 Over Epochs\"},\"xaxis\":{\"title\":{\"text\":\"Epoch\"}},\"yaxis\":{\"title\":{\"text\":\"R2\"}}},                        {\"responsive\": true}                    ).then(function(){\n",
       "                            \n",
       "var gd = document.getElementById('a3bd813e-66f6-48fc-bd4e-cec0f4e5c05b');\n",
       "var x = new MutationObserver(function (mutations, observer) {{\n",
       "        var display = window.getComputedStyle(gd).display;\n",
       "        if (!display || display === 'none') {{\n",
       "            console.log([gd, 'removed!']);\n",
       "            Plotly.purge(gd);\n",
       "            observer.disconnect();\n",
       "        }}\n",
       "}});\n",
       "\n",
       "// Listen for the removal of the full notebook cells\n",
       "var notebookContainer = gd.closest('#notebook-container');\n",
       "if (notebookContainer) {{\n",
       "    x.observe(notebookContainer, {childList: true});\n",
       "}}\n",
       "\n",
       "// Listen for the clearing of the current output cell\n",
       "var outputEl = gd.closest('.output');\n",
       "if (outputEl) {{\n",
       "    x.observe(outputEl, {childList: true});\n",
       "}}\n",
       "\n",
       "                        })                };                });            </script>        </div>"
      ]
     },
     "metadata": {},
     "output_type": "display_data"
    },
    {
     "data": {
      "application/vnd.plotly.v1+json": {
       "config": {
        "plotlyServerURL": "https://plot.ly"
       },
       "data": [
        {
         "mode": "lines",
         "name": "Validation MAPE",
         "type": "scatter",
         "x": [
          1,
          2,
          3,
          4,
          5,
          6,
          7,
          8,
          9,
          10,
          11,
          12,
          13,
          14,
          15,
          16,
          17,
          18,
          19,
          20,
          21,
          22,
          23,
          24,
          25,
          26,
          27,
          28,
          29,
          30,
          31,
          32,
          33,
          34,
          35,
          36,
          37,
          38,
          39,
          40,
          41,
          42,
          43,
          44,
          45,
          46,
          47,
          48,
          49,
          50,
          51,
          52,
          53,
          54,
          55,
          56,
          57,
          58,
          59,
          60,
          61,
          62,
          63,
          64,
          65,
          66,
          67,
          68,
          69,
          70
         ],
         "y": [
          0.9944931864738464,
          0.9827988743782043,
          0.9511330723762512,
          0.8656683564186096,
          0.6468655467033386,
          0.24424554407596588,
          0.11551544070243835,
          0.13312241435050964,
          0.08171626925468445,
          0.06715590506792068,
          0.06666931509971619,
          0.06350184977054596,
          0.05918879434466362,
          0.05473439767956734,
          0.05124334618449211,
          0.04793863743543625,
          0.04829873517155647,
          0.047022197395563126,
          0.04267790913581848,
          0.040696870535612106,
          0.03297847881913185,
          0.02738778293132782,
          0.02586202695965767,
          0.03721872717142105,
          0.0557284839451313,
          0.03876618295907974,
          0.021752100437879562,
          0.02551027573645115,
          0.028549473732709885,
          0.05151630938053131,
          0.04350785166025162,
          0.022566918283700943,
          0.025269191712141037,
          0.03218212351202965,
          0.04992840439081192,
          0.03766433149576187,
          0.02574634738266468,
          0.05100604146718979,
          0.030085954815149307,
          0.05113804340362549,
          0.0479477196931839,
          0.04259457066655159,
          0.027337154373526573,
          0.02842637524008751,
          0.04203791916370392,
          0.04960213974118233,
          0.03421876206994057,
          0.025249695405364037,
          0.040578022599220276,
          0.015462610870599747,
          0.02876725047826767,
          0.04006536304950714,
          0.022998105734586716,
          0.027759304270148277,
          0.03148079290986061,
          0.037025876343250275,
          0.031236959621310234,
          0.0327189601957798,
          0.0474344864487648,
          0.04126313328742981,
          0.02955704554915428,
          0.036114227026700974,
          0.01994362100958824,
          0.028125636279582977,
          0.024811482056975365,
          0.02377522550523281,
          0.02893245592713356,
          0.03420397639274597,
          0.0361260324716568,
          0.030223345384001732
         ]
        }
       ],
       "layout": {
        "template": {
         "data": {
          "bar": [
           {
            "error_x": {
             "color": "#2a3f5f"
            },
            "error_y": {
             "color": "#2a3f5f"
            },
            "marker": {
             "line": {
              "color": "#E5ECF6",
              "width": 0.5
             },
             "pattern": {
              "fillmode": "overlay",
              "size": 10,
              "solidity": 0.2
             }
            },
            "type": "bar"
           }
          ],
          "barpolar": [
           {
            "marker": {
             "line": {
              "color": "#E5ECF6",
              "width": 0.5
             },
             "pattern": {
              "fillmode": "overlay",
              "size": 10,
              "solidity": 0.2
             }
            },
            "type": "barpolar"
           }
          ],
          "carpet": [
           {
            "aaxis": {
             "endlinecolor": "#2a3f5f",
             "gridcolor": "white",
             "linecolor": "white",
             "minorgridcolor": "white",
             "startlinecolor": "#2a3f5f"
            },
            "baxis": {
             "endlinecolor": "#2a3f5f",
             "gridcolor": "white",
             "linecolor": "white",
             "minorgridcolor": "white",
             "startlinecolor": "#2a3f5f"
            },
            "type": "carpet"
           }
          ],
          "choropleth": [
           {
            "colorbar": {
             "outlinewidth": 0,
             "ticks": ""
            },
            "type": "choropleth"
           }
          ],
          "contour": [
           {
            "colorbar": {
             "outlinewidth": 0,
             "ticks": ""
            },
            "colorscale": [
             [
              0,
              "#0d0887"
             ],
             [
              0.1111111111111111,
              "#46039f"
             ],
             [
              0.2222222222222222,
              "#7201a8"
             ],
             [
              0.3333333333333333,
              "#9c179e"
             ],
             [
              0.4444444444444444,
              "#bd3786"
             ],
             [
              0.5555555555555556,
              "#d8576b"
             ],
             [
              0.6666666666666666,
              "#ed7953"
             ],
             [
              0.7777777777777778,
              "#fb9f3a"
             ],
             [
              0.8888888888888888,
              "#fdca26"
             ],
             [
              1,
              "#f0f921"
             ]
            ],
            "type": "contour"
           }
          ],
          "contourcarpet": [
           {
            "colorbar": {
             "outlinewidth": 0,
             "ticks": ""
            },
            "type": "contourcarpet"
           }
          ],
          "heatmap": [
           {
            "colorbar": {
             "outlinewidth": 0,
             "ticks": ""
            },
            "colorscale": [
             [
              0,
              "#0d0887"
             ],
             [
              0.1111111111111111,
              "#46039f"
             ],
             [
              0.2222222222222222,
              "#7201a8"
             ],
             [
              0.3333333333333333,
              "#9c179e"
             ],
             [
              0.4444444444444444,
              "#bd3786"
             ],
             [
              0.5555555555555556,
              "#d8576b"
             ],
             [
              0.6666666666666666,
              "#ed7953"
             ],
             [
              0.7777777777777778,
              "#fb9f3a"
             ],
             [
              0.8888888888888888,
              "#fdca26"
             ],
             [
              1,
              "#f0f921"
             ]
            ],
            "type": "heatmap"
           }
          ],
          "heatmapgl": [
           {
            "colorbar": {
             "outlinewidth": 0,
             "ticks": ""
            },
            "colorscale": [
             [
              0,
              "#0d0887"
             ],
             [
              0.1111111111111111,
              "#46039f"
             ],
             [
              0.2222222222222222,
              "#7201a8"
             ],
             [
              0.3333333333333333,
              "#9c179e"
             ],
             [
              0.4444444444444444,
              "#bd3786"
             ],
             [
              0.5555555555555556,
              "#d8576b"
             ],
             [
              0.6666666666666666,
              "#ed7953"
             ],
             [
              0.7777777777777778,
              "#fb9f3a"
             ],
             [
              0.8888888888888888,
              "#fdca26"
             ],
             [
              1,
              "#f0f921"
             ]
            ],
            "type": "heatmapgl"
           }
          ],
          "histogram": [
           {
            "marker": {
             "pattern": {
              "fillmode": "overlay",
              "size": 10,
              "solidity": 0.2
             }
            },
            "type": "histogram"
           }
          ],
          "histogram2d": [
           {
            "colorbar": {
             "outlinewidth": 0,
             "ticks": ""
            },
            "colorscale": [
             [
              0,
              "#0d0887"
             ],
             [
              0.1111111111111111,
              "#46039f"
             ],
             [
              0.2222222222222222,
              "#7201a8"
             ],
             [
              0.3333333333333333,
              "#9c179e"
             ],
             [
              0.4444444444444444,
              "#bd3786"
             ],
             [
              0.5555555555555556,
              "#d8576b"
             ],
             [
              0.6666666666666666,
              "#ed7953"
             ],
             [
              0.7777777777777778,
              "#fb9f3a"
             ],
             [
              0.8888888888888888,
              "#fdca26"
             ],
             [
              1,
              "#f0f921"
             ]
            ],
            "type": "histogram2d"
           }
          ],
          "histogram2dcontour": [
           {
            "colorbar": {
             "outlinewidth": 0,
             "ticks": ""
            },
            "colorscale": [
             [
              0,
              "#0d0887"
             ],
             [
              0.1111111111111111,
              "#46039f"
             ],
             [
              0.2222222222222222,
              "#7201a8"
             ],
             [
              0.3333333333333333,
              "#9c179e"
             ],
             [
              0.4444444444444444,
              "#bd3786"
             ],
             [
              0.5555555555555556,
              "#d8576b"
             ],
             [
              0.6666666666666666,
              "#ed7953"
             ],
             [
              0.7777777777777778,
              "#fb9f3a"
             ],
             [
              0.8888888888888888,
              "#fdca26"
             ],
             [
              1,
              "#f0f921"
             ]
            ],
            "type": "histogram2dcontour"
           }
          ],
          "mesh3d": [
           {
            "colorbar": {
             "outlinewidth": 0,
             "ticks": ""
            },
            "type": "mesh3d"
           }
          ],
          "parcoords": [
           {
            "line": {
             "colorbar": {
              "outlinewidth": 0,
              "ticks": ""
             }
            },
            "type": "parcoords"
           }
          ],
          "pie": [
           {
            "automargin": true,
            "type": "pie"
           }
          ],
          "scatter": [
           {
            "fillpattern": {
             "fillmode": "overlay",
             "size": 10,
             "solidity": 0.2
            },
            "type": "scatter"
           }
          ],
          "scatter3d": [
           {
            "line": {
             "colorbar": {
              "outlinewidth": 0,
              "ticks": ""
             }
            },
            "marker": {
             "colorbar": {
              "outlinewidth": 0,
              "ticks": ""
             }
            },
            "type": "scatter3d"
           }
          ],
          "scattercarpet": [
           {
            "marker": {
             "colorbar": {
              "outlinewidth": 0,
              "ticks": ""
             }
            },
            "type": "scattercarpet"
           }
          ],
          "scattergeo": [
           {
            "marker": {
             "colorbar": {
              "outlinewidth": 0,
              "ticks": ""
             }
            },
            "type": "scattergeo"
           }
          ],
          "scattergl": [
           {
            "marker": {
             "colorbar": {
              "outlinewidth": 0,
              "ticks": ""
             }
            },
            "type": "scattergl"
           }
          ],
          "scattermapbox": [
           {
            "marker": {
             "colorbar": {
              "outlinewidth": 0,
              "ticks": ""
             }
            },
            "type": "scattermapbox"
           }
          ],
          "scatterpolar": [
           {
            "marker": {
             "colorbar": {
              "outlinewidth": 0,
              "ticks": ""
             }
            },
            "type": "scatterpolar"
           }
          ],
          "scatterpolargl": [
           {
            "marker": {
             "colorbar": {
              "outlinewidth": 0,
              "ticks": ""
             }
            },
            "type": "scatterpolargl"
           }
          ],
          "scatterternary": [
           {
            "marker": {
             "colorbar": {
              "outlinewidth": 0,
              "ticks": ""
             }
            },
            "type": "scatterternary"
           }
          ],
          "surface": [
           {
            "colorbar": {
             "outlinewidth": 0,
             "ticks": ""
            },
            "colorscale": [
             [
              0,
              "#0d0887"
             ],
             [
              0.1111111111111111,
              "#46039f"
             ],
             [
              0.2222222222222222,
              "#7201a8"
             ],
             [
              0.3333333333333333,
              "#9c179e"
             ],
             [
              0.4444444444444444,
              "#bd3786"
             ],
             [
              0.5555555555555556,
              "#d8576b"
             ],
             [
              0.6666666666666666,
              "#ed7953"
             ],
             [
              0.7777777777777778,
              "#fb9f3a"
             ],
             [
              0.8888888888888888,
              "#fdca26"
             ],
             [
              1,
              "#f0f921"
             ]
            ],
            "type": "surface"
           }
          ],
          "table": [
           {
            "cells": {
             "fill": {
              "color": "#EBF0F8"
             },
             "line": {
              "color": "white"
             }
            },
            "header": {
             "fill": {
              "color": "#C8D4E3"
             },
             "line": {
              "color": "white"
             }
            },
            "type": "table"
           }
          ]
         },
         "layout": {
          "annotationdefaults": {
           "arrowcolor": "#2a3f5f",
           "arrowhead": 0,
           "arrowwidth": 1
          },
          "autotypenumbers": "strict",
          "coloraxis": {
           "colorbar": {
            "outlinewidth": 0,
            "ticks": ""
           }
          },
          "colorscale": {
           "diverging": [
            [
             0,
             "#8e0152"
            ],
            [
             0.1,
             "#c51b7d"
            ],
            [
             0.2,
             "#de77ae"
            ],
            [
             0.3,
             "#f1b6da"
            ],
            [
             0.4,
             "#fde0ef"
            ],
            [
             0.5,
             "#f7f7f7"
            ],
            [
             0.6,
             "#e6f5d0"
            ],
            [
             0.7,
             "#b8e186"
            ],
            [
             0.8,
             "#7fbc41"
            ],
            [
             0.9,
             "#4d9221"
            ],
            [
             1,
             "#276419"
            ]
           ],
           "sequential": [
            [
             0,
             "#0d0887"
            ],
            [
             0.1111111111111111,
             "#46039f"
            ],
            [
             0.2222222222222222,
             "#7201a8"
            ],
            [
             0.3333333333333333,
             "#9c179e"
            ],
            [
             0.4444444444444444,
             "#bd3786"
            ],
            [
             0.5555555555555556,
             "#d8576b"
            ],
            [
             0.6666666666666666,
             "#ed7953"
            ],
            [
             0.7777777777777778,
             "#fb9f3a"
            ],
            [
             0.8888888888888888,
             "#fdca26"
            ],
            [
             1,
             "#f0f921"
            ]
           ],
           "sequentialminus": [
            [
             0,
             "#0d0887"
            ],
            [
             0.1111111111111111,
             "#46039f"
            ],
            [
             0.2222222222222222,
             "#7201a8"
            ],
            [
             0.3333333333333333,
             "#9c179e"
            ],
            [
             0.4444444444444444,
             "#bd3786"
            ],
            [
             0.5555555555555556,
             "#d8576b"
            ],
            [
             0.6666666666666666,
             "#ed7953"
            ],
            [
             0.7777777777777778,
             "#fb9f3a"
            ],
            [
             0.8888888888888888,
             "#fdca26"
            ],
            [
             1,
             "#f0f921"
            ]
           ]
          },
          "colorway": [
           "#636efa",
           "#EF553B",
           "#00cc96",
           "#ab63fa",
           "#FFA15A",
           "#19d3f3",
           "#FF6692",
           "#B6E880",
           "#FF97FF",
           "#FECB52"
          ],
          "font": {
           "color": "#2a3f5f"
          },
          "geo": {
           "bgcolor": "white",
           "lakecolor": "white",
           "landcolor": "#E5ECF6",
           "showlakes": true,
           "showland": true,
           "subunitcolor": "white"
          },
          "hoverlabel": {
           "align": "left"
          },
          "hovermode": "closest",
          "mapbox": {
           "style": "light"
          },
          "paper_bgcolor": "white",
          "plot_bgcolor": "#E5ECF6",
          "polar": {
           "angularaxis": {
            "gridcolor": "white",
            "linecolor": "white",
            "ticks": ""
           },
           "bgcolor": "#E5ECF6",
           "radialaxis": {
            "gridcolor": "white",
            "linecolor": "white",
            "ticks": ""
           }
          },
          "scene": {
           "xaxis": {
            "backgroundcolor": "#E5ECF6",
            "gridcolor": "white",
            "gridwidth": 2,
            "linecolor": "white",
            "showbackground": true,
            "ticks": "",
            "zerolinecolor": "white"
           },
           "yaxis": {
            "backgroundcolor": "#E5ECF6",
            "gridcolor": "white",
            "gridwidth": 2,
            "linecolor": "white",
            "showbackground": true,
            "ticks": "",
            "zerolinecolor": "white"
           },
           "zaxis": {
            "backgroundcolor": "#E5ECF6",
            "gridcolor": "white",
            "gridwidth": 2,
            "linecolor": "white",
            "showbackground": true,
            "ticks": "",
            "zerolinecolor": "white"
           }
          },
          "shapedefaults": {
           "line": {
            "color": "#2a3f5f"
           }
          },
          "ternary": {
           "aaxis": {
            "gridcolor": "white",
            "linecolor": "white",
            "ticks": ""
           },
           "baxis": {
            "gridcolor": "white",
            "linecolor": "white",
            "ticks": ""
           },
           "bgcolor": "#E5ECF6",
           "caxis": {
            "gridcolor": "white",
            "linecolor": "white",
            "ticks": ""
           }
          },
          "title": {
           "x": 0.05
          },
          "xaxis": {
           "automargin": true,
           "gridcolor": "white",
           "linecolor": "white",
           "ticks": "",
           "title": {
            "standoff": 15
           },
           "zerolinecolor": "white",
           "zerolinewidth": 2
          },
          "yaxis": {
           "automargin": true,
           "gridcolor": "white",
           "linecolor": "white",
           "ticks": "",
           "title": {
            "standoff": 15
           },
           "zerolinecolor": "white",
           "zerolinewidth": 2
          }
         }
        },
        "title": {
         "text": "Validation MAPE Over Epochs"
        },
        "xaxis": {
         "title": {
          "text": "Epoch"
         }
        },
        "yaxis": {
         "title": {
          "text": "MAPE"
         }
        }
       }
      },
      "text/html": [
       "<div>                            <div id=\"ce66dcf9-268b-44d1-a8c7-637d418c478a\" class=\"plotly-graph-div\" style=\"height:525px; width:100%;\"></div>            <script type=\"text/javascript\">                require([\"plotly\"], function(Plotly) {                    window.PLOTLYENV=window.PLOTLYENV || {};                                    if (document.getElementById(\"ce66dcf9-268b-44d1-a8c7-637d418c478a\")) {                    Plotly.newPlot(                        \"ce66dcf9-268b-44d1-a8c7-637d418c478a\",                        [{\"mode\":\"lines\",\"name\":\"Validation MAPE\",\"x\":[1,2,3,4,5,6,7,8,9,10,11,12,13,14,15,16,17,18,19,20,21,22,23,24,25,26,27,28,29,30,31,32,33,34,35,36,37,38,39,40,41,42,43,44,45,46,47,48,49,50,51,52,53,54,55,56,57,58,59,60,61,62,63,64,65,66,67,68,69,70],\"y\":[0.9944931864738464,0.9827988743782043,0.9511330723762512,0.8656683564186096,0.6468655467033386,0.24424554407596588,0.11551544070243835,0.13312241435050964,0.08171626925468445,0.06715590506792068,0.06666931509971619,0.06350184977054596,0.05918879434466362,0.05473439767956734,0.05124334618449211,0.04793863743543625,0.04829873517155647,0.047022197395563126,0.04267790913581848,0.040696870535612106,0.03297847881913185,0.02738778293132782,0.02586202695965767,0.03721872717142105,0.0557284839451313,0.03876618295907974,0.021752100437879562,0.02551027573645115,0.028549473732709885,0.05151630938053131,0.04350785166025162,0.022566918283700943,0.025269191712141037,0.03218212351202965,0.04992840439081192,0.03766433149576187,0.02574634738266468,0.05100604146718979,0.030085954815149307,0.05113804340362549,0.0479477196931839,0.04259457066655159,0.027337154373526573,0.02842637524008751,0.04203791916370392,0.04960213974118233,0.03421876206994057,0.025249695405364037,0.040578022599220276,0.015462610870599747,0.02876725047826767,0.04006536304950714,0.022998105734586716,0.027759304270148277,0.03148079290986061,0.037025876343250275,0.031236959621310234,0.0327189601957798,0.0474344864487648,0.04126313328742981,0.02955704554915428,0.036114227026700974,0.01994362100958824,0.028125636279582977,0.024811482056975365,0.02377522550523281,0.02893245592713356,0.03420397639274597,0.0361260324716568,0.030223345384001732],\"type\":\"scatter\"}],                        {\"template\":{\"data\":{\"histogram2dcontour\":[{\"type\":\"histogram2dcontour\",\"colorbar\":{\"outlinewidth\":0,\"ticks\":\"\"},\"colorscale\":[[0.0,\"#0d0887\"],[0.1111111111111111,\"#46039f\"],[0.2222222222222222,\"#7201a8\"],[0.3333333333333333,\"#9c179e\"],[0.4444444444444444,\"#bd3786\"],[0.5555555555555556,\"#d8576b\"],[0.6666666666666666,\"#ed7953\"],[0.7777777777777778,\"#fb9f3a\"],[0.8888888888888888,\"#fdca26\"],[1.0,\"#f0f921\"]]}],\"choropleth\":[{\"type\":\"choropleth\",\"colorbar\":{\"outlinewidth\":0,\"ticks\":\"\"}}],\"histogram2d\":[{\"type\":\"histogram2d\",\"colorbar\":{\"outlinewidth\":0,\"ticks\":\"\"},\"colorscale\":[[0.0,\"#0d0887\"],[0.1111111111111111,\"#46039f\"],[0.2222222222222222,\"#7201a8\"],[0.3333333333333333,\"#9c179e\"],[0.4444444444444444,\"#bd3786\"],[0.5555555555555556,\"#d8576b\"],[0.6666666666666666,\"#ed7953\"],[0.7777777777777778,\"#fb9f3a\"],[0.8888888888888888,\"#fdca26\"],[1.0,\"#f0f921\"]]}],\"heatmap\":[{\"type\":\"heatmap\",\"colorbar\":{\"outlinewidth\":0,\"ticks\":\"\"},\"colorscale\":[[0.0,\"#0d0887\"],[0.1111111111111111,\"#46039f\"],[0.2222222222222222,\"#7201a8\"],[0.3333333333333333,\"#9c179e\"],[0.4444444444444444,\"#bd3786\"],[0.5555555555555556,\"#d8576b\"],[0.6666666666666666,\"#ed7953\"],[0.7777777777777778,\"#fb9f3a\"],[0.8888888888888888,\"#fdca26\"],[1.0,\"#f0f921\"]]}],\"heatmapgl\":[{\"type\":\"heatmapgl\",\"colorbar\":{\"outlinewidth\":0,\"ticks\":\"\"},\"colorscale\":[[0.0,\"#0d0887\"],[0.1111111111111111,\"#46039f\"],[0.2222222222222222,\"#7201a8\"],[0.3333333333333333,\"#9c179e\"],[0.4444444444444444,\"#bd3786\"],[0.5555555555555556,\"#d8576b\"],[0.6666666666666666,\"#ed7953\"],[0.7777777777777778,\"#fb9f3a\"],[0.8888888888888888,\"#fdca26\"],[1.0,\"#f0f921\"]]}],\"contourcarpet\":[{\"type\":\"contourcarpet\",\"colorbar\":{\"outlinewidth\":0,\"ticks\":\"\"}}],\"contour\":[{\"type\":\"contour\",\"colorbar\":{\"outlinewidth\":0,\"ticks\":\"\"},\"colorscale\":[[0.0,\"#0d0887\"],[0.1111111111111111,\"#46039f\"],[0.2222222222222222,\"#7201a8\"],[0.3333333333333333,\"#9c179e\"],[0.4444444444444444,\"#bd3786\"],[0.5555555555555556,\"#d8576b\"],[0.6666666666666666,\"#ed7953\"],[0.7777777777777778,\"#fb9f3a\"],[0.8888888888888888,\"#fdca26\"],[1.0,\"#f0f921\"]]}],\"surface\":[{\"type\":\"surface\",\"colorbar\":{\"outlinewidth\":0,\"ticks\":\"\"},\"colorscale\":[[0.0,\"#0d0887\"],[0.1111111111111111,\"#46039f\"],[0.2222222222222222,\"#7201a8\"],[0.3333333333333333,\"#9c179e\"],[0.4444444444444444,\"#bd3786\"],[0.5555555555555556,\"#d8576b\"],[0.6666666666666666,\"#ed7953\"],[0.7777777777777778,\"#fb9f3a\"],[0.8888888888888888,\"#fdca26\"],[1.0,\"#f0f921\"]]}],\"mesh3d\":[{\"type\":\"mesh3d\",\"colorbar\":{\"outlinewidth\":0,\"ticks\":\"\"}}],\"scatter\":[{\"fillpattern\":{\"fillmode\":\"overlay\",\"size\":10,\"solidity\":0.2},\"type\":\"scatter\"}],\"parcoords\":[{\"type\":\"parcoords\",\"line\":{\"colorbar\":{\"outlinewidth\":0,\"ticks\":\"\"}}}],\"scatterpolargl\":[{\"type\":\"scatterpolargl\",\"marker\":{\"colorbar\":{\"outlinewidth\":0,\"ticks\":\"\"}}}],\"bar\":[{\"error_x\":{\"color\":\"#2a3f5f\"},\"error_y\":{\"color\":\"#2a3f5f\"},\"marker\":{\"line\":{\"color\":\"#E5ECF6\",\"width\":0.5},\"pattern\":{\"fillmode\":\"overlay\",\"size\":10,\"solidity\":0.2}},\"type\":\"bar\"}],\"scattergeo\":[{\"type\":\"scattergeo\",\"marker\":{\"colorbar\":{\"outlinewidth\":0,\"ticks\":\"\"}}}],\"scatterpolar\":[{\"type\":\"scatterpolar\",\"marker\":{\"colorbar\":{\"outlinewidth\":0,\"ticks\":\"\"}}}],\"histogram\":[{\"marker\":{\"pattern\":{\"fillmode\":\"overlay\",\"size\":10,\"solidity\":0.2}},\"type\":\"histogram\"}],\"scattergl\":[{\"type\":\"scattergl\",\"marker\":{\"colorbar\":{\"outlinewidth\":0,\"ticks\":\"\"}}}],\"scatter3d\":[{\"type\":\"scatter3d\",\"line\":{\"colorbar\":{\"outlinewidth\":0,\"ticks\":\"\"}},\"marker\":{\"colorbar\":{\"outlinewidth\":0,\"ticks\":\"\"}}}],\"scattermapbox\":[{\"type\":\"scattermapbox\",\"marker\":{\"colorbar\":{\"outlinewidth\":0,\"ticks\":\"\"}}}],\"scatterternary\":[{\"type\":\"scatterternary\",\"marker\":{\"colorbar\":{\"outlinewidth\":0,\"ticks\":\"\"}}}],\"scattercarpet\":[{\"type\":\"scattercarpet\",\"marker\":{\"colorbar\":{\"outlinewidth\":0,\"ticks\":\"\"}}}],\"carpet\":[{\"aaxis\":{\"endlinecolor\":\"#2a3f5f\",\"gridcolor\":\"white\",\"linecolor\":\"white\",\"minorgridcolor\":\"white\",\"startlinecolor\":\"#2a3f5f\"},\"baxis\":{\"endlinecolor\":\"#2a3f5f\",\"gridcolor\":\"white\",\"linecolor\":\"white\",\"minorgridcolor\":\"white\",\"startlinecolor\":\"#2a3f5f\"},\"type\":\"carpet\"}],\"table\":[{\"cells\":{\"fill\":{\"color\":\"#EBF0F8\"},\"line\":{\"color\":\"white\"}},\"header\":{\"fill\":{\"color\":\"#C8D4E3\"},\"line\":{\"color\":\"white\"}},\"type\":\"table\"}],\"barpolar\":[{\"marker\":{\"line\":{\"color\":\"#E5ECF6\",\"width\":0.5},\"pattern\":{\"fillmode\":\"overlay\",\"size\":10,\"solidity\":0.2}},\"type\":\"barpolar\"}],\"pie\":[{\"automargin\":true,\"type\":\"pie\"}]},\"layout\":{\"autotypenumbers\":\"strict\",\"colorway\":[\"#636efa\",\"#EF553B\",\"#00cc96\",\"#ab63fa\",\"#FFA15A\",\"#19d3f3\",\"#FF6692\",\"#B6E880\",\"#FF97FF\",\"#FECB52\"],\"font\":{\"color\":\"#2a3f5f\"},\"hovermode\":\"closest\",\"hoverlabel\":{\"align\":\"left\"},\"paper_bgcolor\":\"white\",\"plot_bgcolor\":\"#E5ECF6\",\"polar\":{\"bgcolor\":\"#E5ECF6\",\"angularaxis\":{\"gridcolor\":\"white\",\"linecolor\":\"white\",\"ticks\":\"\"},\"radialaxis\":{\"gridcolor\":\"white\",\"linecolor\":\"white\",\"ticks\":\"\"}},\"ternary\":{\"bgcolor\":\"#E5ECF6\",\"aaxis\":{\"gridcolor\":\"white\",\"linecolor\":\"white\",\"ticks\":\"\"},\"baxis\":{\"gridcolor\":\"white\",\"linecolor\":\"white\",\"ticks\":\"\"},\"caxis\":{\"gridcolor\":\"white\",\"linecolor\":\"white\",\"ticks\":\"\"}},\"coloraxis\":{\"colorbar\":{\"outlinewidth\":0,\"ticks\":\"\"}},\"colorscale\":{\"sequential\":[[0.0,\"#0d0887\"],[0.1111111111111111,\"#46039f\"],[0.2222222222222222,\"#7201a8\"],[0.3333333333333333,\"#9c179e\"],[0.4444444444444444,\"#bd3786\"],[0.5555555555555556,\"#d8576b\"],[0.6666666666666666,\"#ed7953\"],[0.7777777777777778,\"#fb9f3a\"],[0.8888888888888888,\"#fdca26\"],[1.0,\"#f0f921\"]],\"sequentialminus\":[[0.0,\"#0d0887\"],[0.1111111111111111,\"#46039f\"],[0.2222222222222222,\"#7201a8\"],[0.3333333333333333,\"#9c179e\"],[0.4444444444444444,\"#bd3786\"],[0.5555555555555556,\"#d8576b\"],[0.6666666666666666,\"#ed7953\"],[0.7777777777777778,\"#fb9f3a\"],[0.8888888888888888,\"#fdca26\"],[1.0,\"#f0f921\"]],\"diverging\":[[0,\"#8e0152\"],[0.1,\"#c51b7d\"],[0.2,\"#de77ae\"],[0.3,\"#f1b6da\"],[0.4,\"#fde0ef\"],[0.5,\"#f7f7f7\"],[0.6,\"#e6f5d0\"],[0.7,\"#b8e186\"],[0.8,\"#7fbc41\"],[0.9,\"#4d9221\"],[1,\"#276419\"]]},\"xaxis\":{\"gridcolor\":\"white\",\"linecolor\":\"white\",\"ticks\":\"\",\"title\":{\"standoff\":15},\"zerolinecolor\":\"white\",\"automargin\":true,\"zerolinewidth\":2},\"yaxis\":{\"gridcolor\":\"white\",\"linecolor\":\"white\",\"ticks\":\"\",\"title\":{\"standoff\":15},\"zerolinecolor\":\"white\",\"automargin\":true,\"zerolinewidth\":2},\"scene\":{\"xaxis\":{\"backgroundcolor\":\"#E5ECF6\",\"gridcolor\":\"white\",\"linecolor\":\"white\",\"showbackground\":true,\"ticks\":\"\",\"zerolinecolor\":\"white\",\"gridwidth\":2},\"yaxis\":{\"backgroundcolor\":\"#E5ECF6\",\"gridcolor\":\"white\",\"linecolor\":\"white\",\"showbackground\":true,\"ticks\":\"\",\"zerolinecolor\":\"white\",\"gridwidth\":2},\"zaxis\":{\"backgroundcolor\":\"#E5ECF6\",\"gridcolor\":\"white\",\"linecolor\":\"white\",\"showbackground\":true,\"ticks\":\"\",\"zerolinecolor\":\"white\",\"gridwidth\":2}},\"shapedefaults\":{\"line\":{\"color\":\"#2a3f5f\"}},\"annotationdefaults\":{\"arrowcolor\":\"#2a3f5f\",\"arrowhead\":0,\"arrowwidth\":1},\"geo\":{\"bgcolor\":\"white\",\"landcolor\":\"#E5ECF6\",\"subunitcolor\":\"white\",\"showland\":true,\"showlakes\":true,\"lakecolor\":\"white\"},\"title\":{\"x\":0.05},\"mapbox\":{\"style\":\"light\"}}},\"title\":{\"text\":\"Validation MAPE Over Epochs\"},\"xaxis\":{\"title\":{\"text\":\"Epoch\"}},\"yaxis\":{\"title\":{\"text\":\"MAPE\"}}},                        {\"responsive\": true}                    ).then(function(){\n",
       "                            \n",
       "var gd = document.getElementById('ce66dcf9-268b-44d1-a8c7-637d418c478a');\n",
       "var x = new MutationObserver(function (mutations, observer) {{\n",
       "        var display = window.getComputedStyle(gd).display;\n",
       "        if (!display || display === 'none') {{\n",
       "            console.log([gd, 'removed!']);\n",
       "            Plotly.purge(gd);\n",
       "            observer.disconnect();\n",
       "        }}\n",
       "}});\n",
       "\n",
       "// Listen for the removal of the full notebook cells\n",
       "var notebookContainer = gd.closest('#notebook-container');\n",
       "if (notebookContainer) {{\n",
       "    x.observe(notebookContainer, {childList: true});\n",
       "}}\n",
       "\n",
       "// Listen for the clearing of the current output cell\n",
       "var outputEl = gd.closest('.output');\n",
       "if (outputEl) {{\n",
       "    x.observe(outputEl, {childList: true});\n",
       "}}\n",
       "\n",
       "                        })                };                });            </script>        </div>"
      ]
     },
     "metadata": {},
     "output_type": "display_data"
    },
    {
     "data": {
      "application/vnd.plotly.v1+json": {
       "config": {
        "plotlyServerURL": "https://plot.ly"
       },
       "data": [
        {
         "mode": "lines",
         "name": "Test Actual Close Price",
         "type": "scatter",
         "x": [
          3803,
          3804,
          3805,
          3806,
          3807,
          3808,
          3809,
          3810,
          3811,
          3812,
          3813,
          3814,
          3815,
          3816,
          3817,
          3818,
          3819,
          3820,
          3821,
          3822,
          3823,
          3824,
          3825,
          3826,
          3827,
          3828,
          3829,
          3830,
          3831,
          3832,
          3833,
          3834,
          3835,
          3836,
          3837,
          3838,
          3839,
          3840,
          3841,
          3842,
          3843,
          3844,
          3845,
          3846,
          3847,
          3848,
          3849,
          3850,
          3851,
          3852,
          3853,
          3854,
          3855,
          3856,
          3857,
          3858,
          3859,
          3860,
          3861,
          3862,
          3863,
          3864,
          3865,
          3866,
          3867,
          3868,
          3869,
          3870,
          3871,
          3872,
          3873,
          3874,
          3875,
          3876,
          3877,
          3878,
          3879,
          3880,
          3881,
          3882,
          3883,
          3884,
          3885,
          3886,
          3887,
          3888,
          3889,
          3890,
          3891,
          3892,
          3893,
          3894,
          3895,
          3896,
          3897,
          3898,
          3899,
          3900,
          3901,
          3902,
          3903,
          3904,
          3905,
          3906,
          3907,
          3908,
          3909,
          3910,
          3911,
          3912,
          3913,
          3914,
          3915,
          3916,
          3917,
          3918,
          3919,
          3920,
          3921,
          3922,
          3923,
          3924,
          3925,
          3926,
          3927,
          3928,
          3929,
          3930,
          3931,
          3932,
          3933,
          3934,
          3935,
          3936,
          3937,
          3938,
          3939,
          3940,
          3941,
          3942,
          3943,
          3944,
          3945,
          3946,
          3947,
          3948,
          3949,
          3950,
          3951,
          3952,
          3953,
          3954,
          3955,
          3956,
          3957,
          3958,
          3959,
          3960,
          3961,
          3962,
          3963,
          3964,
          3965,
          3966,
          3967,
          3968,
          3969,
          3970,
          3971,
          3972,
          3973,
          3974,
          3975,
          3976,
          3977,
          3978,
          3979,
          3980,
          3981,
          3982,
          3983,
          3984,
          3985,
          3986,
          3987,
          3988,
          3989,
          3990,
          3991,
          3992,
          3993,
          3994,
          3995,
          3996,
          3997,
          3998,
          3999,
          4000,
          4001,
          4002,
          4003,
          4004,
          4005,
          4006,
          4007,
          4008,
          4009,
          4010,
          4011,
          4012,
          4013,
          4014,
          4015,
          4016,
          4017,
          4018,
          4019,
          4020,
          4021,
          4022,
          4023,
          4024,
          4025,
          4026,
          4027,
          4028,
          4029,
          4030,
          4031,
          4032,
          4033,
          4034,
          4035,
          4036,
          4037,
          4038,
          4039,
          4040,
          4041,
          4042,
          4043,
          4044,
          4045,
          4046,
          4047,
          4048,
          4049,
          4050,
          4051,
          4052,
          4053,
          4054,
          4055,
          4056,
          4057,
          4058,
          4059,
          4060,
          4061,
          4062,
          4063,
          4064,
          4065,
          4066,
          4067,
          4068,
          4069,
          4070,
          4071,
          4072,
          4073,
          4074,
          4075,
          4076,
          4077,
          4078,
          4079,
          4080,
          4081,
          4082,
          4083,
          4084,
          4085,
          4086,
          4087,
          4088,
          4089,
          4090,
          4091,
          4092,
          4093,
          4094,
          4095,
          4096,
          4097,
          4098,
          4099,
          4100,
          4101,
          4102,
          4103,
          4104,
          4105,
          4106,
          4107,
          4108,
          4109,
          4110,
          4111,
          4112,
          4113,
          4114,
          4115,
          4116,
          4117,
          4118,
          4119,
          4120,
          4121,
          4122,
          4123,
          4124,
          4125,
          4126,
          4127,
          4128,
          4129,
          4130,
          4131,
          4132,
          4133,
          4134,
          4135,
          4136,
          4137,
          4138,
          4139,
          4140,
          4141,
          4142,
          4143,
          4144,
          4145,
          4146,
          4147,
          4148,
          4149,
          4150,
          4151,
          4152,
          4153,
          4154,
          4155,
          4156,
          4157,
          4158,
          4159,
          4160,
          4161,
          4162,
          4163,
          4164,
          4165,
          4166,
          4167,
          4168,
          4169,
          4170,
          4171,
          4172,
          4173,
          4174,
          4175,
          4176,
          4177,
          4178,
          4179,
          4180,
          4181,
          4182,
          4183,
          4184,
          4185,
          4186,
          4187,
          4188,
          4189,
          4190,
          4191,
          4192,
          4193,
          4194,
          4195,
          4196,
          4197,
          4198,
          4199,
          4200,
          4201,
          4202,
          4203,
          4204,
          4205,
          4206,
          4207,
          4208,
          4209,
          4210,
          4211,
          4212,
          4213,
          4214,
          4215,
          4216,
          4217,
          4218,
          4219,
          4220,
          4221,
          4222,
          4223,
          4224,
          4225
         ],
         "y": [
          41.75,
          41.27000045776367,
          40.0099983215332,
          39.650001525878906,
          37.70000076293945,
          37.720001220703125,
          37.66999816894531,
          37.65999984741211,
          36.72999954223633,
          36.150001525878906,
          37.459999084472656,
          37.400001525878906,
          36.93000030517578,
          38.310001373291016,
          38.790000915527344,
          38.68999862670898,
          38.369998931884766,
          38.459999084472656,
          40.33000183105469,
          41.59999847412109,
          42.4900016784668,
          42.29999923706055,
          42.560001373291016,
          42.15999984741211,
          41.209999084472656,
          41.970001220703125,
          41.77000045776367,
          41.79999923706055,
          42.75,
          41.40999984741211,
          44.77999877929688,
          44.95000076293945,
          44.83000183105469,
          44.619998931884766,
          47.27999877929688,
          47.43999862670898,
          46.70000076293945,
          47.150001525878906,
          47.59999847412109,
          46.16999816894531,
          46.70000076293945,
          46.88999938964844,
          46.43000030517578,
          46.900001525878906,
          45.77000045776367,
          44.93000030517578,
          45.2599983215332,
          45.880001068115234,
          45.63999938964844,
          44.65999984741211,
          45.58000183105469,
          46.27999877929688,
          45.81999969482422,
          47,
          47.150001525878906,
          48.52999877929688,
          48.93000030517578,
          49.7400016784668,
          50.90999984741211,
          49.209999084472656,
          50.70000076293945,
          50.90999984741211,
          52.34999847412109,
          52.09000015258789,
          51.5,
          51.54999923706055,
          51.810001373291016,
          52.09999847412109,
          51.47999954223633,
          50.97999954223633,
          51.34999847412109,
          50.83000183105469,
          49.59999847412109,
          48.15999984741211,
          48.70000076293945,
          48.5,
          49.31999969482422,
          49.29999923706055,
          49.25,
          49.900001525878906,
          48.880001068115234,
          49.20000076293945,
          48.79999923706055,
          49.95000076293945,
          50.0099983215332,
          49.18000030517578,
          48.97999954223633,
          48.20000076293945,
          47.79999923706055,
          48.20000076293945,
          49.9900016784668,
          50.20000076293945,
          50.27999877929688,
          48.58000183105469,
          47.90999984741211,
          47.22999954223633,
          46.63999938964844,
          46,
          46.5,
          45.459999084472656,
          45.95000076293945,
          45.22999954223633,
          46.20000076293945,
          45.58000183105469,
          46.0099983215332,
          46.5,
          46.880001068115234,
          46.20000076293945,
          45.9900016784668,
          45.880001068115234,
          45.41999816894531,
          45.47999954223633,
          45.59999847412109,
          45.68000030517578,
          45.56999969482422,
          45.08000183105469,
          45.630001068115234,
          46.060001373291016,
          45.65999984741211,
          45.59999847412109,
          45.119998931884766,
          45.4900016784668,
          47.47999954223633,
          48.619998931884766,
          48.400001525878906,
          48.790000915527344,
          46.7400016784668,
          46.400001525878906,
          46.09000015258789,
          45.790000915527344,
          50.369998931884766,
          51.79999923706055,
          53.70000076293945,
          53.83000183105469,
          54.91999816894531,
          53.47999954223633,
          52.310001373291016,
          52.34999847412109,
          51.27000045776367,
          53.709999084472656,
          53.20000076293945,
          51.90999984741211,
          51.81999969482422,
          51.040000915527344,
          51.41999816894531,
          49.900001525878906,
          48.470001220703125,
          48.400001525878906,
          48.43999862670898,
          48.040000915527344,
          47.9900016784668,
          47,
          47.45000076293945,
          49.09999847412109,
          48.5099983215332,
          48.7599983215332,
          49.0099983215332,
          49.66999816894531,
          49.47999954223633,
          49.56999969482422,
          49.630001068115234,
          48.04999923706055,
          48.41999816894531,
          48.59999847412109,
          47.5,
          46.88999938964844,
          46.63999938964844,
          45.93000030517578,
          46.29999923706055,
          46.540000915527344,
          46.29999923706055,
          46.400001525878906,
          48.18000030517578,
          47.95000076293945,
          47.34999847412109,
          47.29999923706055,
          47.209999084472656,
          46.61000061035156,
          47.20000076293945,
          47.290000915527344,
          48.619998931884766,
          48.63999938964844,
          48.04999923706055,
          47.59999847412109,
          47.77000045776367,
          47.41999816894531,
          46.970001220703125,
          46.619998931884766,
          49.54999923706055,
          49.459999084472656,
          49.880001068115234,
          51.93000030517578,
          52.59999847412109,
          51.7400016784668,
          51.40999984741211,
          52.40999984741211,
          51.900001525878906,
          51.70000076293945,
          51.2599983215332,
          51.2599983215332,
          51.36000061035156,
          49.369998931884766,
          48.52999877929688,
          48.68000030517578,
          48.34999847412109,
          47.90999984741211,
          47.52000045776367,
          46.66999816894531,
          47,
          46.459999084472656,
          46.5,
          47.0099983215332,
          48.11000061035156,
          48.560001373291016,
          48.25,
          48.790000915527344,
          50.09999847412109,
          51.45000076293945,
          50.20000076293945,
          51.02999877929688,
          50.220001220703125,
          50.119998931884766,
          50.36000061035156,
          49.95000076293945,
          49.5,
          49.18999862670898,
          49.20000076293945,
          49.29999923706055,
          49.27999877929688,
          48.88999938964844,
          48.4900016784668,
          50.33000183105469,
          49.060001373291016,
          48.560001373291016,
          48.65999984741211,
          48.29999923706055,
          48.06999969482422,
          47.59999847412109,
          47.68999862670898,
          48.43000030517578,
          47.970001220703125,
          47.540000915527344,
          47.68000030517578,
          47.38999938964844,
          46.04999923706055,
          45.84000015258789,
          45.93999862670898,
          46.09999847412109,
          45.5099983215332,
          45.70000076293945,
          45.18000030517578,
          45.310001373291016,
          45.459999084472656,
          45.11000061035156,
          45.060001373291016,
          45.2400016784668,
          46.060001373291016,
          45.29999923706055,
          44.630001068115234,
          43.27999877929688,
          42.34999847412109,
          42.38999938964844,
          42.61000061035156,
          43.36000061035156,
          42.869998931884766,
          42.65999984741211,
          42.90999984741211,
          43.06999969482422,
          42.72999954223633,
          43.04999923706055,
          42.68999862670898,
          41.84999847412109,
          41.66999816894531,
          40.75,
          40.79999923706055,
          41.02000045776367,
          40.380001068115234,
          39.52999877929688,
          39.52999877929688,
          39.34000015258789,
          39.18999862670898,
          39.59999847412109,
          39.790000915527344,
          38.88999938964844,
          38.70000076293945,
          38.790000915527344,
          38.61000061035156,
          38.709999084472656,
          38.45000076293945,
          38.79999923706055,
          39.09999847412109,
          39.18000030517578,
          39.09999847412109,
          39,
          40.2599983215332,
          40.29999923706055,
          39.470001220703125,
          39.400001525878906,
          38.900001525878906,
          38.970001220703125,
          38.45000076293945,
          38.380001068115234,
          37.81999969482422,
          38.43000030517578,
          38.02999877929688,
          38.16999816894531,
          38.70000076293945,
          38.0099983215332,
          38.9900016784668,
          39.20000076293945,
          39.47999954223633,
          39.36000061035156,
          40.16999816894531,
          41.150001525878906,
          41.25,
          40.97999954223633,
          40.18999862670898,
          40.5099983215332,
          40.29999923706055,
          40.09999847412109,
          40.68000030517578,
          41.560001373291016,
          42.380001068115234,
          42.77999877929688,
          42.72999954223633,
          42.34999847412109,
          43.59000015258789,
          43.70000076293945,
          44.06999969482422,
          42.95000076293945,
          43.119998931884766,
          42.650001525878906,
          42.900001525878906,
          42.9900016784668,
          42.34000015258789,
          42.810001373291016,
          42.5,
          43.060001373291016,
          42.880001068115234,
          43.15999984741211,
          43.810001373291016,
          42.630001068115234,
          42.45000076293945,
          42.47999954223633,
          42.560001373291016,
          41.83000183105469,
          41.91999816894531,
          42.02999877929688,
          40.560001373291016,
          40.43999862670898,
          40.900001525878906,
          40.650001525878906,
          40.68999862670898,
          40.810001373291016,
          41.25,
          41,
          40.5,
          40.220001220703125,
          40.11000061035156,
          39.20000076293945,
          38.95000076293945,
          37.77999877929688,
          38.36000061035156,
          38.27999877929688,
          38.95000076293945,
          39.70000076293945,
          39.41999816894531,
          39.83000183105469,
          39.88999938964844,
          40.59999847412109,
          41.060001373291016,
          41.52999877929688,
          42.08000183105469,
          41.36000061035156,
          42.4900016784668,
          42.59000015258789,
          41.95000076293945,
          42.34000015258789,
          42.93000030517578,
          42.650001525878906,
          42.310001373291016,
          41.84000015258789,
          43.04999923706055,
          45.20000076293945,
          45.459999084472656,
          45.400001525878906,
          45.400001525878906,
          44.77999877929688,
          43.88999938964844,
          44.09999847412109,
          43.7599983215332,
          43.470001220703125,
          43.150001525878906,
          43.06999969482422,
          43.130001068115234,
          43.27000045776367,
          43.08000183105469,
          42.45000076293945,
          42.119998931884766,
          41.83000183105469,
          41.400001525878906,
          41.29999923706055,
          41.869998931884766,
          41.58000183105469,
          41.72999954223633,
          42,
          41.5099983215332,
          41.66999816894531,
          41.79999923706055,
          41.54999923706055,
          41.650001525878906,
          41.41999816894531,
          41.36000061035156,
          41.619998931884766,
          42.16999816894531,
          42.27000045776367,
          41.97999954223633,
          41.97999954223633,
          40.84000015258789,
          41.52000045776367,
          41.86000061035156,
          41.93999862670898,
          42.68000030517578
         ]
        },
        {
         "mode": "lines",
         "name": "Test Predicted Close Price",
         "type": "scatter",
         "x": [
          3803,
          3804,
          3805,
          3806,
          3807,
          3808,
          3809,
          3810,
          3811,
          3812,
          3813,
          3814,
          3815,
          3816,
          3817,
          3818,
          3819,
          3820,
          3821,
          3822,
          3823,
          3824,
          3825,
          3826,
          3827,
          3828,
          3829,
          3830,
          3831,
          3832,
          3833,
          3834,
          3835,
          3836,
          3837,
          3838,
          3839,
          3840,
          3841,
          3842,
          3843,
          3844,
          3845,
          3846,
          3847,
          3848,
          3849,
          3850,
          3851,
          3852,
          3853,
          3854,
          3855,
          3856,
          3857,
          3858,
          3859,
          3860,
          3861,
          3862,
          3863,
          3864,
          3865,
          3866,
          3867,
          3868,
          3869,
          3870,
          3871,
          3872,
          3873,
          3874,
          3875,
          3876,
          3877,
          3878,
          3879,
          3880,
          3881,
          3882,
          3883,
          3884,
          3885,
          3886,
          3887,
          3888,
          3889,
          3890,
          3891,
          3892,
          3893,
          3894,
          3895,
          3896,
          3897,
          3898,
          3899,
          3900,
          3901,
          3902,
          3903,
          3904,
          3905,
          3906,
          3907,
          3908,
          3909,
          3910,
          3911,
          3912,
          3913,
          3914,
          3915,
          3916,
          3917,
          3918,
          3919,
          3920,
          3921,
          3922,
          3923,
          3924,
          3925,
          3926,
          3927,
          3928,
          3929,
          3930,
          3931,
          3932,
          3933,
          3934,
          3935,
          3936,
          3937,
          3938,
          3939,
          3940,
          3941,
          3942,
          3943,
          3944,
          3945,
          3946,
          3947,
          3948,
          3949,
          3950,
          3951,
          3952,
          3953,
          3954,
          3955,
          3956,
          3957,
          3958,
          3959,
          3960,
          3961,
          3962,
          3963,
          3964,
          3965,
          3966,
          3967,
          3968,
          3969,
          3970,
          3971,
          3972,
          3973,
          3974,
          3975,
          3976,
          3977,
          3978,
          3979,
          3980,
          3981,
          3982,
          3983,
          3984,
          3985,
          3986,
          3987,
          3988,
          3989,
          3990,
          3991,
          3992,
          3993,
          3994,
          3995,
          3996,
          3997,
          3998,
          3999,
          4000,
          4001,
          4002,
          4003,
          4004,
          4005,
          4006,
          4007,
          4008,
          4009,
          4010,
          4011,
          4012,
          4013,
          4014,
          4015,
          4016,
          4017,
          4018,
          4019,
          4020,
          4021,
          4022,
          4023,
          4024,
          4025,
          4026,
          4027,
          4028,
          4029,
          4030,
          4031,
          4032,
          4033,
          4034,
          4035,
          4036,
          4037,
          4038,
          4039,
          4040,
          4041,
          4042,
          4043,
          4044,
          4045,
          4046,
          4047,
          4048,
          4049,
          4050,
          4051,
          4052,
          4053,
          4054,
          4055,
          4056,
          4057,
          4058,
          4059,
          4060,
          4061,
          4062,
          4063,
          4064,
          4065,
          4066,
          4067,
          4068,
          4069,
          4070,
          4071,
          4072,
          4073,
          4074,
          4075,
          4076,
          4077,
          4078,
          4079,
          4080,
          4081,
          4082,
          4083,
          4084,
          4085,
          4086,
          4087,
          4088,
          4089,
          4090,
          4091,
          4092,
          4093,
          4094,
          4095,
          4096,
          4097,
          4098,
          4099,
          4100,
          4101,
          4102,
          4103,
          4104,
          4105,
          4106,
          4107,
          4108,
          4109,
          4110,
          4111,
          4112,
          4113,
          4114,
          4115,
          4116,
          4117,
          4118,
          4119,
          4120,
          4121,
          4122,
          4123,
          4124,
          4125,
          4126,
          4127,
          4128,
          4129,
          4130,
          4131,
          4132,
          4133,
          4134,
          4135,
          4136,
          4137,
          4138,
          4139,
          4140,
          4141,
          4142,
          4143,
          4144,
          4145,
          4146,
          4147,
          4148,
          4149,
          4150,
          4151,
          4152,
          4153,
          4154,
          4155,
          4156,
          4157,
          4158,
          4159,
          4160,
          4161,
          4162,
          4163,
          4164,
          4165,
          4166,
          4167,
          4168,
          4169,
          4170,
          4171,
          4172,
          4173,
          4174,
          4175,
          4176,
          4177,
          4178,
          4179,
          4180,
          4181,
          4182,
          4183,
          4184,
          4185,
          4186,
          4187,
          4188,
          4189,
          4190,
          4191,
          4192,
          4193,
          4194,
          4195,
          4196,
          4197,
          4198,
          4199,
          4200,
          4201,
          4202,
          4203,
          4204,
          4205,
          4206,
          4207,
          4208,
          4209,
          4210,
          4211,
          4212,
          4213,
          4214,
          4215,
          4216,
          4217,
          4218,
          4219,
          4220,
          4221,
          4222,
          4223,
          4224,
          4225
         ],
         "y": [
          41.1062126159668,
          43.75695037841797,
          41.325096130371094,
          40.001590728759766,
          38.423954010009766,
          35.890377044677734,
          35.618595123291016,
          37.31705093383789,
          37.578643798828125,
          33.8228759765625,
          36.36802673339844,
          37.42436981201172,
          35.40764617919922,
          34.63968276977539,
          38.08567810058594,
          38.462181091308594,
          38.87131118774414,
          38.585330963134766,
          35.60970687866211,
          41.892112731933594,
          38.183414459228516,
          42.710880279541016,
          41.759071350097656,
          41.74423599243164,
          41.954124450683594,
          40.64756393432617,
          42.191349029541016,
          38.08415603637695,
          41.4636344909668,
          39.759246826171875,
          41.211448669433594,
          47.05708694458008,
          44.53389358520508,
          45.844905853271484,
          43.91404342651367,
          50.787235260009766,
          47.50749588012695,
          46.54983139038086,
          42.8699836730957,
          48.02875900268555,
          49.49766159057617,
          50.8929443359375,
          46.9668083190918,
          47.1667366027832,
          48.921321868896484,
          45.15730285644531,
          44.6458740234375,
          46.06140899658203,
          46.46031951904297,
          45.11389923095703,
          44.80091094970703,
          43.0452995300293,
          46.29425811767578,
          45.17939758300781,
          46.63395309448242,
          46.8118896484375,
          47.936485290527344,
          48.36351776123047,
          47.36042022705078,
          51.36288833618164,
          51.971500396728516,
          48.69843292236328,
          49.865936279296875,
          51.871116638183594,
          52.139827728271484,
          52.98881530761719,
          54.61780548095703,
          53.25443649291992,
          55.10474395751953,
          50.92245101928711,
          49.59833526611328,
          51.6838493347168,
          50.16044998168945,
          50.17963409423828,
          47.87580108642578,
          48.347293853759766,
          48.53984832763672,
          49.65245056152344,
          50.851287841796875,
          46.66876220703125,
          50.27764129638672,
          49.404258728027344,
          49.81820297241211,
          50.34712600708008,
          49.736778259277344,
          50.245155334472656,
          49.14384078979492,
          49.015663146972656,
          47.87466049194336,
          47.73955154418945,
          47.84619140625,
          47.10918045043945,
          50.84991455078125,
          50.193878173828125,
          48.15896224975586,
          47.56980895996094,
          46.42082977294922,
          46.399505615234375,
          45.97034454345703,
          48.178916931152344,
          42.829986572265625,
          47.071128845214844,
          44.849098205566406,
          46.354148864746094,
          44.73096466064453,
          43.867984771728516,
          47.428062438964844,
          46.689903259277344,
          45.93589782714844,
          45.78623580932617,
          45.853824615478516,
          45.606239318847656,
          45.68064880371094,
          44.48829650878906,
          45.375606536865234,
          45.47486114501953,
          44.77748107910156,
          45.70882034301758,
          45.85968780517578,
          45.816307067871094,
          45.504329681396484,
          43.77846908569336,
          45.13286590576172,
          49.18608093261719,
          48.3878173828125,
          49.54827880859375,
          49.138893127441406,
          46.88697814941406,
          46.245155334472656,
          46.337196350097656,
          45.619468688964844,
          51.08686828613281,
          49.43657302856445,
          53.85072326660156,
          54.21832275390625,
          53.99044418334961,
          54.14544677734375,
          51.90864181518555,
          51.4168586730957,
          51.378204345703125,
          53.928218841552734,
          53.61260986328125,
          53.86088943481445,
          51.668914794921875,
          53.29068374633789,
          52.474456787109375,
          50.353599548339844,
          48.346744537353516,
          48.74769592285156,
          48.03184509277344,
          47.60441207885742,
          46.93491744995117,
          47.172420501708984,
          49.209999084472656,
          49.34132385253906,
          48.34797286987305,
          49.65717697143555,
          49.864261627197266,
          49.328006744384766,
          48.08123779296875,
          50.210079193115234,
          48.45505142211914,
          48.621368408203125,
          48.668548583984375,
          48.53293991088867,
          47.86479187011719,
          46.41096878051758,
          46.674869537353516,
          45.346954345703125,
          45.861392974853516,
          46.39804458618164,
          44.572601318359375,
          46.38514709472656,
          48.2841911315918,
          48.02045822143555,
          47.20636749267578,
          47.31803894042969,
          46.12118911743164,
          46.95842742919922,
          47.26245880126953,
          47.58696746826172,
          48.481815338134766,
          47.261558532714844,
          48.87841033935547,
          45.86628723144531,
          47.81681442260742,
          47.42141342163086,
          47.51614761352539,
          46.81005859375,
          50.12107467651367,
          49.08046340942383,
          50.297420501708984,
          51.765235900878906,
          53.128143310546875,
          51.83946990966797,
          51.80095672607422,
          51.76400375366211,
          52.76637268066406,
          51.73805618286133,
          51.823631286621094,
          51.67990493774414,
          51.9830207824707,
          49.94053649902344,
          48.57522201538086,
          49.091896057128906,
          49.06248092651367,
          47.80213928222656,
          47.81955337524414,
          46.262779235839844,
          46.145652770996094,
          46.714447021484375,
          45.360713958740234,
          46.86618423461914,
          47.4175910949707,
          48.92988967895508,
          48.346092224121094,
          49.01820373535156,
          51.06422424316406,
          50.56486892700195,
          50.49385452270508,
          50.35686111450195,
          50.41095733642578,
          50.40877151489258,
          50.55965805053711,
          49.9876708984375,
          49.952545166015625,
          49.35603332519531,
          49.16486358642578,
          49.184478759765625,
          49.10266876220703,
          49.200523376464844,
          48.75456619262695,
          50.54841613769531,
          49.33478546142578,
          48.93586349487305,
          47.8864860534668,
          48.44334411621094,
          47.93461990356445,
          47.57355499267578,
          47.7736701965332,
          48.721031188964844,
          47.98413848876953,
          47.64167022705078,
          47.66340637207031,
          47.398590087890625,
          45.652095794677734,
          46.10593032836914,
          45.71833419799805,
          45.683013916015625,
          45.837154388427734,
          45.48045349121094,
          44.817752838134766,
          45.4962043762207,
          45.301239013671875,
          44.95758056640625,
          45.37261199951172,
          44.943626403808594,
          45.66176986694336,
          45.080108642578125,
          44.909202575683594,
          43.110652923583984,
          42.354408264160156,
          42.566383361816406,
          42.94538879394531,
          43.462249755859375,
          42.627899169921875,
          42.98765563964844,
          42.81654357910156,
          43.02387619018555,
          42.71599578857422,
          42.957672119140625,
          42.481388092041016,
          42.18859100341797,
          42.059879302978516,
          41.154483795166016,
          40.957664489746094,
          41.1144905090332,
          40.766300201416016,
          39.73330307006836,
          39.6145133972168,
          39.60399627685547,
          39.48775863647461,
          39.416500091552734,
          39.87340545654297,
          38.87907028198242,
          38.99442672729492,
          38.56106185913086,
          38.18669509887695,
          38.622413635253906,
          38.28043746948242,
          38.682151794433594,
          38.99821090698242,
          38.83585739135742,
          38.56943130493164,
          38.40031814575195,
          40.134437561035156,
          40.18626403808594,
          39.04200744628906,
          38.83905792236328,
          38.50225067138672,
          38.60570526123047,
          38.33403778076172,
          38.265464782714844,
          37.58602523803711,
          38.367671966552734,
          37.89771270751953,
          38.20405960083008,
          38.482460021972656,
          38.09380340576172,
          38.768558502197266,
          39.03132629394531,
          39.151275634765625,
          39.1742057800293,
          39.793373107910156,
          41.18372344970703,
          41.25410079956055,
          40.87212371826172,
          40.316463470458984,
          40.593292236328125,
          40.35078811645508,
          40.09474182128906,
          40.85959243774414,
          41.550926208496094,
          42.323463439941406,
          42.67008972167969,
          42.78889083862305,
          42.3322868347168,
          43.65681076049805,
          43.821434020996094,
          44.03813171386719,
          43.05193328857422,
          43.262142181396484,
          42.885257720947266,
          43.0268440246582,
          43.14529800415039,
          42.452613830566406,
          42.930423736572266,
          42.440284729003906,
          43.071231842041016,
          43.126060485839844,
          43.071083068847656,
          43.84770202636719,
          42.61595153808594,
          42.55410385131836,
          42.57477569580078,
          42.58389663696289,
          41.7499885559082,
          41.90650939941406,
          42.088226318359375,
          40.2405891418457,
          40.59190368652344,
          40.832576751708984,
          40.667503356933594,
          40.52830123901367,
          40.87939453125,
          41.24591064453125,
          40.92543411254883,
          40.35972213745117,
          40.13301086425781,
          40.12257766723633,
          39.06983947753906,
          38.601585388183594,
          37.78307342529297,
          38.54655838012695,
          38.51036071777344,
          38.91053771972656,
          39.81837844848633,
          39.407955169677734,
          40.096351623535156,
          40.003761291503906,
          40.792266845703125,
          41.10976791381836,
          41.5290412902832,
          42.17256164550781,
          41.45279312133789,
          42.61617660522461,
          42.503597259521484,
          41.9844970703125,
          42.39308166503906,
          42.93684768676758,
          42.57705307006836,
          42.288108825683594,
          41.966434478759766,
          43.16908645629883,
          45.2520751953125,
          45.39606475830078,
          45.3955078125,
          45.396026611328125,
          44.83137130737305,
          43.88706588745117,
          44.032005310058594,
          43.754981994628906,
          43.4995231628418,
          43.151390075683594,
          43.07115936279297,
          43.0386848449707,
          43.227500915527344,
          43.0603141784668,
          42.51102828979492,
          42.11705780029297,
          41.6826171875,
          41.32189178466797,
          41.17374801635742,
          41.628028869628906,
          41.39467239379883,
          41.46769332885742,
          41.90182876586914,
          41.467002868652344,
          41.42606735229492,
          41.60747528076172,
          41.66628646850586,
          41.689083099365234,
          41.47800827026367,
          41.24007797241211,
          41.551292419433594,
          42.512386322021484,
          42.85531997680664,
          42.30861282348633,
          42.20473098754883,
          40.538490295410156,
          41.32160568237305,
          41.8604736328125,
          42.212074279785156
         ]
        }
       ],
       "layout": {
        "template": {
         "data": {
          "bar": [
           {
            "error_x": {
             "color": "#2a3f5f"
            },
            "error_y": {
             "color": "#2a3f5f"
            },
            "marker": {
             "line": {
              "color": "#E5ECF6",
              "width": 0.5
             },
             "pattern": {
              "fillmode": "overlay",
              "size": 10,
              "solidity": 0.2
             }
            },
            "type": "bar"
           }
          ],
          "barpolar": [
           {
            "marker": {
             "line": {
              "color": "#E5ECF6",
              "width": 0.5
             },
             "pattern": {
              "fillmode": "overlay",
              "size": 10,
              "solidity": 0.2
             }
            },
            "type": "barpolar"
           }
          ],
          "carpet": [
           {
            "aaxis": {
             "endlinecolor": "#2a3f5f",
             "gridcolor": "white",
             "linecolor": "white",
             "minorgridcolor": "white",
             "startlinecolor": "#2a3f5f"
            },
            "baxis": {
             "endlinecolor": "#2a3f5f",
             "gridcolor": "white",
             "linecolor": "white",
             "minorgridcolor": "white",
             "startlinecolor": "#2a3f5f"
            },
            "type": "carpet"
           }
          ],
          "choropleth": [
           {
            "colorbar": {
             "outlinewidth": 0,
             "ticks": ""
            },
            "type": "choropleth"
           }
          ],
          "contour": [
           {
            "colorbar": {
             "outlinewidth": 0,
             "ticks": ""
            },
            "colorscale": [
             [
              0,
              "#0d0887"
             ],
             [
              0.1111111111111111,
              "#46039f"
             ],
             [
              0.2222222222222222,
              "#7201a8"
             ],
             [
              0.3333333333333333,
              "#9c179e"
             ],
             [
              0.4444444444444444,
              "#bd3786"
             ],
             [
              0.5555555555555556,
              "#d8576b"
             ],
             [
              0.6666666666666666,
              "#ed7953"
             ],
             [
              0.7777777777777778,
              "#fb9f3a"
             ],
             [
              0.8888888888888888,
              "#fdca26"
             ],
             [
              1,
              "#f0f921"
             ]
            ],
            "type": "contour"
           }
          ],
          "contourcarpet": [
           {
            "colorbar": {
             "outlinewidth": 0,
             "ticks": ""
            },
            "type": "contourcarpet"
           }
          ],
          "heatmap": [
           {
            "colorbar": {
             "outlinewidth": 0,
             "ticks": ""
            },
            "colorscale": [
             [
              0,
              "#0d0887"
             ],
             [
              0.1111111111111111,
              "#46039f"
             ],
             [
              0.2222222222222222,
              "#7201a8"
             ],
             [
              0.3333333333333333,
              "#9c179e"
             ],
             [
              0.4444444444444444,
              "#bd3786"
             ],
             [
              0.5555555555555556,
              "#d8576b"
             ],
             [
              0.6666666666666666,
              "#ed7953"
             ],
             [
              0.7777777777777778,
              "#fb9f3a"
             ],
             [
              0.8888888888888888,
              "#fdca26"
             ],
             [
              1,
              "#f0f921"
             ]
            ],
            "type": "heatmap"
           }
          ],
          "heatmapgl": [
           {
            "colorbar": {
             "outlinewidth": 0,
             "ticks": ""
            },
            "colorscale": [
             [
              0,
              "#0d0887"
             ],
             [
              0.1111111111111111,
              "#46039f"
             ],
             [
              0.2222222222222222,
              "#7201a8"
             ],
             [
              0.3333333333333333,
              "#9c179e"
             ],
             [
              0.4444444444444444,
              "#bd3786"
             ],
             [
              0.5555555555555556,
              "#d8576b"
             ],
             [
              0.6666666666666666,
              "#ed7953"
             ],
             [
              0.7777777777777778,
              "#fb9f3a"
             ],
             [
              0.8888888888888888,
              "#fdca26"
             ],
             [
              1,
              "#f0f921"
             ]
            ],
            "type": "heatmapgl"
           }
          ],
          "histogram": [
           {
            "marker": {
             "pattern": {
              "fillmode": "overlay",
              "size": 10,
              "solidity": 0.2
             }
            },
            "type": "histogram"
           }
          ],
          "histogram2d": [
           {
            "colorbar": {
             "outlinewidth": 0,
             "ticks": ""
            },
            "colorscale": [
             [
              0,
              "#0d0887"
             ],
             [
              0.1111111111111111,
              "#46039f"
             ],
             [
              0.2222222222222222,
              "#7201a8"
             ],
             [
              0.3333333333333333,
              "#9c179e"
             ],
             [
              0.4444444444444444,
              "#bd3786"
             ],
             [
              0.5555555555555556,
              "#d8576b"
             ],
             [
              0.6666666666666666,
              "#ed7953"
             ],
             [
              0.7777777777777778,
              "#fb9f3a"
             ],
             [
              0.8888888888888888,
              "#fdca26"
             ],
             [
              1,
              "#f0f921"
             ]
            ],
            "type": "histogram2d"
           }
          ],
          "histogram2dcontour": [
           {
            "colorbar": {
             "outlinewidth": 0,
             "ticks": ""
            },
            "colorscale": [
             [
              0,
              "#0d0887"
             ],
             [
              0.1111111111111111,
              "#46039f"
             ],
             [
              0.2222222222222222,
              "#7201a8"
             ],
             [
              0.3333333333333333,
              "#9c179e"
             ],
             [
              0.4444444444444444,
              "#bd3786"
             ],
             [
              0.5555555555555556,
              "#d8576b"
             ],
             [
              0.6666666666666666,
              "#ed7953"
             ],
             [
              0.7777777777777778,
              "#fb9f3a"
             ],
             [
              0.8888888888888888,
              "#fdca26"
             ],
             [
              1,
              "#f0f921"
             ]
            ],
            "type": "histogram2dcontour"
           }
          ],
          "mesh3d": [
           {
            "colorbar": {
             "outlinewidth": 0,
             "ticks": ""
            },
            "type": "mesh3d"
           }
          ],
          "parcoords": [
           {
            "line": {
             "colorbar": {
              "outlinewidth": 0,
              "ticks": ""
             }
            },
            "type": "parcoords"
           }
          ],
          "pie": [
           {
            "automargin": true,
            "type": "pie"
           }
          ],
          "scatter": [
           {
            "fillpattern": {
             "fillmode": "overlay",
             "size": 10,
             "solidity": 0.2
            },
            "type": "scatter"
           }
          ],
          "scatter3d": [
           {
            "line": {
             "colorbar": {
              "outlinewidth": 0,
              "ticks": ""
             }
            },
            "marker": {
             "colorbar": {
              "outlinewidth": 0,
              "ticks": ""
             }
            },
            "type": "scatter3d"
           }
          ],
          "scattercarpet": [
           {
            "marker": {
             "colorbar": {
              "outlinewidth": 0,
              "ticks": ""
             }
            },
            "type": "scattercarpet"
           }
          ],
          "scattergeo": [
           {
            "marker": {
             "colorbar": {
              "outlinewidth": 0,
              "ticks": ""
             }
            },
            "type": "scattergeo"
           }
          ],
          "scattergl": [
           {
            "marker": {
             "colorbar": {
              "outlinewidth": 0,
              "ticks": ""
             }
            },
            "type": "scattergl"
           }
          ],
          "scattermapbox": [
           {
            "marker": {
             "colorbar": {
              "outlinewidth": 0,
              "ticks": ""
             }
            },
            "type": "scattermapbox"
           }
          ],
          "scatterpolar": [
           {
            "marker": {
             "colorbar": {
              "outlinewidth": 0,
              "ticks": ""
             }
            },
            "type": "scatterpolar"
           }
          ],
          "scatterpolargl": [
           {
            "marker": {
             "colorbar": {
              "outlinewidth": 0,
              "ticks": ""
             }
            },
            "type": "scatterpolargl"
           }
          ],
          "scatterternary": [
           {
            "marker": {
             "colorbar": {
              "outlinewidth": 0,
              "ticks": ""
             }
            },
            "type": "scatterternary"
           }
          ],
          "surface": [
           {
            "colorbar": {
             "outlinewidth": 0,
             "ticks": ""
            },
            "colorscale": [
             [
              0,
              "#0d0887"
             ],
             [
              0.1111111111111111,
              "#46039f"
             ],
             [
              0.2222222222222222,
              "#7201a8"
             ],
             [
              0.3333333333333333,
              "#9c179e"
             ],
             [
              0.4444444444444444,
              "#bd3786"
             ],
             [
              0.5555555555555556,
              "#d8576b"
             ],
             [
              0.6666666666666666,
              "#ed7953"
             ],
             [
              0.7777777777777778,
              "#fb9f3a"
             ],
             [
              0.8888888888888888,
              "#fdca26"
             ],
             [
              1,
              "#f0f921"
             ]
            ],
            "type": "surface"
           }
          ],
          "table": [
           {
            "cells": {
             "fill": {
              "color": "#EBF0F8"
             },
             "line": {
              "color": "white"
             }
            },
            "header": {
             "fill": {
              "color": "#C8D4E3"
             },
             "line": {
              "color": "white"
             }
            },
            "type": "table"
           }
          ]
         },
         "layout": {
          "annotationdefaults": {
           "arrowcolor": "#2a3f5f",
           "arrowhead": 0,
           "arrowwidth": 1
          },
          "autotypenumbers": "strict",
          "coloraxis": {
           "colorbar": {
            "outlinewidth": 0,
            "ticks": ""
           }
          },
          "colorscale": {
           "diverging": [
            [
             0,
             "#8e0152"
            ],
            [
             0.1,
             "#c51b7d"
            ],
            [
             0.2,
             "#de77ae"
            ],
            [
             0.3,
             "#f1b6da"
            ],
            [
             0.4,
             "#fde0ef"
            ],
            [
             0.5,
             "#f7f7f7"
            ],
            [
             0.6,
             "#e6f5d0"
            ],
            [
             0.7,
             "#b8e186"
            ],
            [
             0.8,
             "#7fbc41"
            ],
            [
             0.9,
             "#4d9221"
            ],
            [
             1,
             "#276419"
            ]
           ],
           "sequential": [
            [
             0,
             "#0d0887"
            ],
            [
             0.1111111111111111,
             "#46039f"
            ],
            [
             0.2222222222222222,
             "#7201a8"
            ],
            [
             0.3333333333333333,
             "#9c179e"
            ],
            [
             0.4444444444444444,
             "#bd3786"
            ],
            [
             0.5555555555555556,
             "#d8576b"
            ],
            [
             0.6666666666666666,
             "#ed7953"
            ],
            [
             0.7777777777777778,
             "#fb9f3a"
            ],
            [
             0.8888888888888888,
             "#fdca26"
            ],
            [
             1,
             "#f0f921"
            ]
           ],
           "sequentialminus": [
            [
             0,
             "#0d0887"
            ],
            [
             0.1111111111111111,
             "#46039f"
            ],
            [
             0.2222222222222222,
             "#7201a8"
            ],
            [
             0.3333333333333333,
             "#9c179e"
            ],
            [
             0.4444444444444444,
             "#bd3786"
            ],
            [
             0.5555555555555556,
             "#d8576b"
            ],
            [
             0.6666666666666666,
             "#ed7953"
            ],
            [
             0.7777777777777778,
             "#fb9f3a"
            ],
            [
             0.8888888888888888,
             "#fdca26"
            ],
            [
             1,
             "#f0f921"
            ]
           ]
          },
          "colorway": [
           "#636efa",
           "#EF553B",
           "#00cc96",
           "#ab63fa",
           "#FFA15A",
           "#19d3f3",
           "#FF6692",
           "#B6E880",
           "#FF97FF",
           "#FECB52"
          ],
          "font": {
           "color": "#2a3f5f"
          },
          "geo": {
           "bgcolor": "white",
           "lakecolor": "white",
           "landcolor": "#E5ECF6",
           "showlakes": true,
           "showland": true,
           "subunitcolor": "white"
          },
          "hoverlabel": {
           "align": "left"
          },
          "hovermode": "closest",
          "mapbox": {
           "style": "light"
          },
          "paper_bgcolor": "white",
          "plot_bgcolor": "#E5ECF6",
          "polar": {
           "angularaxis": {
            "gridcolor": "white",
            "linecolor": "white",
            "ticks": ""
           },
           "bgcolor": "#E5ECF6",
           "radialaxis": {
            "gridcolor": "white",
            "linecolor": "white",
            "ticks": ""
           }
          },
          "scene": {
           "xaxis": {
            "backgroundcolor": "#E5ECF6",
            "gridcolor": "white",
            "gridwidth": 2,
            "linecolor": "white",
            "showbackground": true,
            "ticks": "",
            "zerolinecolor": "white"
           },
           "yaxis": {
            "backgroundcolor": "#E5ECF6",
            "gridcolor": "white",
            "gridwidth": 2,
            "linecolor": "white",
            "showbackground": true,
            "ticks": "",
            "zerolinecolor": "white"
           },
           "zaxis": {
            "backgroundcolor": "#E5ECF6",
            "gridcolor": "white",
            "gridwidth": 2,
            "linecolor": "white",
            "showbackground": true,
            "ticks": "",
            "zerolinecolor": "white"
           }
          },
          "shapedefaults": {
           "line": {
            "color": "#2a3f5f"
           }
          },
          "ternary": {
           "aaxis": {
            "gridcolor": "white",
            "linecolor": "white",
            "ticks": ""
           },
           "baxis": {
            "gridcolor": "white",
            "linecolor": "white",
            "ticks": ""
           },
           "bgcolor": "#E5ECF6",
           "caxis": {
            "gridcolor": "white",
            "linecolor": "white",
            "ticks": ""
           }
          },
          "title": {
           "x": 0.05
          },
          "xaxis": {
           "automargin": true,
           "gridcolor": "white",
           "linecolor": "white",
           "ticks": "",
           "title": {
            "standoff": 15
           },
           "zerolinecolor": "white",
           "zerolinewidth": 2
          },
          "yaxis": {
           "automargin": true,
           "gridcolor": "white",
           "linecolor": "white",
           "ticks": "",
           "title": {
            "standoff": 15
           },
           "zerolinecolor": "white",
           "zerolinewidth": 2
          }
         }
        },
        "title": {
         "text": "Rolling Prediction vs Actual Close Price"
        },
        "xaxis": {
         "title": {
          "text": "Time"
         }
        },
        "yaxis": {
         "title": {
          "text": "Close Price"
         }
        }
       }
      },
      "text/html": [
       "<div>                            <div id=\"f52aafbf-f01e-4bc4-9c15-4a4bac1023fa\" class=\"plotly-graph-div\" style=\"height:525px; width:100%;\"></div>            <script type=\"text/javascript\">                require([\"plotly\"], function(Plotly) {                    window.PLOTLYENV=window.PLOTLYENV || {};                                    if (document.getElementById(\"f52aafbf-f01e-4bc4-9c15-4a4bac1023fa\")) {                    Plotly.newPlot(                        \"f52aafbf-f01e-4bc4-9c15-4a4bac1023fa\",                        [{\"mode\":\"lines\",\"name\":\"Test Actual Close Price\",\"x\":[3803,3804,3805,3806,3807,3808,3809,3810,3811,3812,3813,3814,3815,3816,3817,3818,3819,3820,3821,3822,3823,3824,3825,3826,3827,3828,3829,3830,3831,3832,3833,3834,3835,3836,3837,3838,3839,3840,3841,3842,3843,3844,3845,3846,3847,3848,3849,3850,3851,3852,3853,3854,3855,3856,3857,3858,3859,3860,3861,3862,3863,3864,3865,3866,3867,3868,3869,3870,3871,3872,3873,3874,3875,3876,3877,3878,3879,3880,3881,3882,3883,3884,3885,3886,3887,3888,3889,3890,3891,3892,3893,3894,3895,3896,3897,3898,3899,3900,3901,3902,3903,3904,3905,3906,3907,3908,3909,3910,3911,3912,3913,3914,3915,3916,3917,3918,3919,3920,3921,3922,3923,3924,3925,3926,3927,3928,3929,3930,3931,3932,3933,3934,3935,3936,3937,3938,3939,3940,3941,3942,3943,3944,3945,3946,3947,3948,3949,3950,3951,3952,3953,3954,3955,3956,3957,3958,3959,3960,3961,3962,3963,3964,3965,3966,3967,3968,3969,3970,3971,3972,3973,3974,3975,3976,3977,3978,3979,3980,3981,3982,3983,3984,3985,3986,3987,3988,3989,3990,3991,3992,3993,3994,3995,3996,3997,3998,3999,4000,4001,4002,4003,4004,4005,4006,4007,4008,4009,4010,4011,4012,4013,4014,4015,4016,4017,4018,4019,4020,4021,4022,4023,4024,4025,4026,4027,4028,4029,4030,4031,4032,4033,4034,4035,4036,4037,4038,4039,4040,4041,4042,4043,4044,4045,4046,4047,4048,4049,4050,4051,4052,4053,4054,4055,4056,4057,4058,4059,4060,4061,4062,4063,4064,4065,4066,4067,4068,4069,4070,4071,4072,4073,4074,4075,4076,4077,4078,4079,4080,4081,4082,4083,4084,4085,4086,4087,4088,4089,4090,4091,4092,4093,4094,4095,4096,4097,4098,4099,4100,4101,4102,4103,4104,4105,4106,4107,4108,4109,4110,4111,4112,4113,4114,4115,4116,4117,4118,4119,4120,4121,4122,4123,4124,4125,4126,4127,4128,4129,4130,4131,4132,4133,4134,4135,4136,4137,4138,4139,4140,4141,4142,4143,4144,4145,4146,4147,4148,4149,4150,4151,4152,4153,4154,4155,4156,4157,4158,4159,4160,4161,4162,4163,4164,4165,4166,4167,4168,4169,4170,4171,4172,4173,4174,4175,4176,4177,4178,4179,4180,4181,4182,4183,4184,4185,4186,4187,4188,4189,4190,4191,4192,4193,4194,4195,4196,4197,4198,4199,4200,4201,4202,4203,4204,4205,4206,4207,4208,4209,4210,4211,4212,4213,4214,4215,4216,4217,4218,4219,4220,4221,4222,4223,4224,4225],\"y\":[41.75,41.27000045776367,40.0099983215332,39.650001525878906,37.70000076293945,37.720001220703125,37.66999816894531,37.65999984741211,36.72999954223633,36.150001525878906,37.459999084472656,37.400001525878906,36.93000030517578,38.310001373291016,38.790000915527344,38.68999862670898,38.369998931884766,38.459999084472656,40.33000183105469,41.59999847412109,42.4900016784668,42.29999923706055,42.560001373291016,42.15999984741211,41.209999084472656,41.970001220703125,41.77000045776367,41.79999923706055,42.75,41.40999984741211,44.77999877929688,44.95000076293945,44.83000183105469,44.619998931884766,47.27999877929688,47.43999862670898,46.70000076293945,47.150001525878906,47.59999847412109,46.16999816894531,46.70000076293945,46.88999938964844,46.43000030517578,46.900001525878906,45.77000045776367,44.93000030517578,45.2599983215332,45.880001068115234,45.63999938964844,44.65999984741211,45.58000183105469,46.27999877929688,45.81999969482422,47.0,47.150001525878906,48.52999877929688,48.93000030517578,49.7400016784668,50.90999984741211,49.209999084472656,50.70000076293945,50.90999984741211,52.34999847412109,52.09000015258789,51.5,51.54999923706055,51.810001373291016,52.09999847412109,51.47999954223633,50.97999954223633,51.34999847412109,50.83000183105469,49.59999847412109,48.15999984741211,48.70000076293945,48.5,49.31999969482422,49.29999923706055,49.25,49.900001525878906,48.880001068115234,49.20000076293945,48.79999923706055,49.95000076293945,50.0099983215332,49.18000030517578,48.97999954223633,48.20000076293945,47.79999923706055,48.20000076293945,49.9900016784668,50.20000076293945,50.27999877929688,48.58000183105469,47.90999984741211,47.22999954223633,46.63999938964844,46.0,46.5,45.459999084472656,45.95000076293945,45.22999954223633,46.20000076293945,45.58000183105469,46.0099983215332,46.5,46.880001068115234,46.20000076293945,45.9900016784668,45.880001068115234,45.41999816894531,45.47999954223633,45.59999847412109,45.68000030517578,45.56999969482422,45.08000183105469,45.630001068115234,46.060001373291016,45.65999984741211,45.59999847412109,45.119998931884766,45.4900016784668,47.47999954223633,48.619998931884766,48.400001525878906,48.790000915527344,46.7400016784668,46.400001525878906,46.09000015258789,45.790000915527344,50.369998931884766,51.79999923706055,53.70000076293945,53.83000183105469,54.91999816894531,53.47999954223633,52.310001373291016,52.34999847412109,51.27000045776367,53.709999084472656,53.20000076293945,51.90999984741211,51.81999969482422,51.040000915527344,51.41999816894531,49.900001525878906,48.470001220703125,48.400001525878906,48.43999862670898,48.040000915527344,47.9900016784668,47.0,47.45000076293945,49.09999847412109,48.5099983215332,48.7599983215332,49.0099983215332,49.66999816894531,49.47999954223633,49.56999969482422,49.630001068115234,48.04999923706055,48.41999816894531,48.59999847412109,47.5,46.88999938964844,46.63999938964844,45.93000030517578,46.29999923706055,46.540000915527344,46.29999923706055,46.400001525878906,48.18000030517578,47.95000076293945,47.34999847412109,47.29999923706055,47.209999084472656,46.61000061035156,47.20000076293945,47.290000915527344,48.619998931884766,48.63999938964844,48.04999923706055,47.59999847412109,47.77000045776367,47.41999816894531,46.970001220703125,46.619998931884766,49.54999923706055,49.459999084472656,49.880001068115234,51.93000030517578,52.59999847412109,51.7400016784668,51.40999984741211,52.40999984741211,51.900001525878906,51.70000076293945,51.2599983215332,51.2599983215332,51.36000061035156,49.369998931884766,48.52999877929688,48.68000030517578,48.34999847412109,47.90999984741211,47.52000045776367,46.66999816894531,47.0,46.459999084472656,46.5,47.0099983215332,48.11000061035156,48.560001373291016,48.25,48.790000915527344,50.09999847412109,51.45000076293945,50.20000076293945,51.02999877929688,50.220001220703125,50.119998931884766,50.36000061035156,49.95000076293945,49.5,49.18999862670898,49.20000076293945,49.29999923706055,49.27999877929688,48.88999938964844,48.4900016784668,50.33000183105469,49.060001373291016,48.560001373291016,48.65999984741211,48.29999923706055,48.06999969482422,47.59999847412109,47.68999862670898,48.43000030517578,47.970001220703125,47.540000915527344,47.68000030517578,47.38999938964844,46.04999923706055,45.84000015258789,45.93999862670898,46.09999847412109,45.5099983215332,45.70000076293945,45.18000030517578,45.310001373291016,45.459999084472656,45.11000061035156,45.060001373291016,45.2400016784668,46.060001373291016,45.29999923706055,44.630001068115234,43.27999877929688,42.34999847412109,42.38999938964844,42.61000061035156,43.36000061035156,42.869998931884766,42.65999984741211,42.90999984741211,43.06999969482422,42.72999954223633,43.04999923706055,42.68999862670898,41.84999847412109,41.66999816894531,40.75,40.79999923706055,41.02000045776367,40.380001068115234,39.52999877929688,39.52999877929688,39.34000015258789,39.18999862670898,39.59999847412109,39.790000915527344,38.88999938964844,38.70000076293945,38.790000915527344,38.61000061035156,38.709999084472656,38.45000076293945,38.79999923706055,39.09999847412109,39.18000030517578,39.09999847412109,39.0,40.2599983215332,40.29999923706055,39.470001220703125,39.400001525878906,38.900001525878906,38.970001220703125,38.45000076293945,38.380001068115234,37.81999969482422,38.43000030517578,38.02999877929688,38.16999816894531,38.70000076293945,38.0099983215332,38.9900016784668,39.20000076293945,39.47999954223633,39.36000061035156,40.16999816894531,41.150001525878906,41.25,40.97999954223633,40.18999862670898,40.5099983215332,40.29999923706055,40.09999847412109,40.68000030517578,41.560001373291016,42.380001068115234,42.77999877929688,42.72999954223633,42.34999847412109,43.59000015258789,43.70000076293945,44.06999969482422,42.95000076293945,43.119998931884766,42.650001525878906,42.900001525878906,42.9900016784668,42.34000015258789,42.810001373291016,42.5,43.060001373291016,42.880001068115234,43.15999984741211,43.810001373291016,42.630001068115234,42.45000076293945,42.47999954223633,42.560001373291016,41.83000183105469,41.91999816894531,42.02999877929688,40.560001373291016,40.43999862670898,40.900001525878906,40.650001525878906,40.68999862670898,40.810001373291016,41.25,41.0,40.5,40.220001220703125,40.11000061035156,39.20000076293945,38.95000076293945,37.77999877929688,38.36000061035156,38.27999877929688,38.95000076293945,39.70000076293945,39.41999816894531,39.83000183105469,39.88999938964844,40.59999847412109,41.060001373291016,41.52999877929688,42.08000183105469,41.36000061035156,42.4900016784668,42.59000015258789,41.95000076293945,42.34000015258789,42.93000030517578,42.650001525878906,42.310001373291016,41.84000015258789,43.04999923706055,45.20000076293945,45.459999084472656,45.400001525878906,45.400001525878906,44.77999877929688,43.88999938964844,44.09999847412109,43.7599983215332,43.470001220703125,43.150001525878906,43.06999969482422,43.130001068115234,43.27000045776367,43.08000183105469,42.45000076293945,42.119998931884766,41.83000183105469,41.400001525878906,41.29999923706055,41.869998931884766,41.58000183105469,41.72999954223633,42.0,41.5099983215332,41.66999816894531,41.79999923706055,41.54999923706055,41.650001525878906,41.41999816894531,41.36000061035156,41.619998931884766,42.16999816894531,42.27000045776367,41.97999954223633,41.97999954223633,40.84000015258789,41.52000045776367,41.86000061035156,41.93999862670898,42.68000030517578],\"type\":\"scatter\"},{\"mode\":\"lines\",\"name\":\"Test Predicted Close Price\",\"x\":[3803,3804,3805,3806,3807,3808,3809,3810,3811,3812,3813,3814,3815,3816,3817,3818,3819,3820,3821,3822,3823,3824,3825,3826,3827,3828,3829,3830,3831,3832,3833,3834,3835,3836,3837,3838,3839,3840,3841,3842,3843,3844,3845,3846,3847,3848,3849,3850,3851,3852,3853,3854,3855,3856,3857,3858,3859,3860,3861,3862,3863,3864,3865,3866,3867,3868,3869,3870,3871,3872,3873,3874,3875,3876,3877,3878,3879,3880,3881,3882,3883,3884,3885,3886,3887,3888,3889,3890,3891,3892,3893,3894,3895,3896,3897,3898,3899,3900,3901,3902,3903,3904,3905,3906,3907,3908,3909,3910,3911,3912,3913,3914,3915,3916,3917,3918,3919,3920,3921,3922,3923,3924,3925,3926,3927,3928,3929,3930,3931,3932,3933,3934,3935,3936,3937,3938,3939,3940,3941,3942,3943,3944,3945,3946,3947,3948,3949,3950,3951,3952,3953,3954,3955,3956,3957,3958,3959,3960,3961,3962,3963,3964,3965,3966,3967,3968,3969,3970,3971,3972,3973,3974,3975,3976,3977,3978,3979,3980,3981,3982,3983,3984,3985,3986,3987,3988,3989,3990,3991,3992,3993,3994,3995,3996,3997,3998,3999,4000,4001,4002,4003,4004,4005,4006,4007,4008,4009,4010,4011,4012,4013,4014,4015,4016,4017,4018,4019,4020,4021,4022,4023,4024,4025,4026,4027,4028,4029,4030,4031,4032,4033,4034,4035,4036,4037,4038,4039,4040,4041,4042,4043,4044,4045,4046,4047,4048,4049,4050,4051,4052,4053,4054,4055,4056,4057,4058,4059,4060,4061,4062,4063,4064,4065,4066,4067,4068,4069,4070,4071,4072,4073,4074,4075,4076,4077,4078,4079,4080,4081,4082,4083,4084,4085,4086,4087,4088,4089,4090,4091,4092,4093,4094,4095,4096,4097,4098,4099,4100,4101,4102,4103,4104,4105,4106,4107,4108,4109,4110,4111,4112,4113,4114,4115,4116,4117,4118,4119,4120,4121,4122,4123,4124,4125,4126,4127,4128,4129,4130,4131,4132,4133,4134,4135,4136,4137,4138,4139,4140,4141,4142,4143,4144,4145,4146,4147,4148,4149,4150,4151,4152,4153,4154,4155,4156,4157,4158,4159,4160,4161,4162,4163,4164,4165,4166,4167,4168,4169,4170,4171,4172,4173,4174,4175,4176,4177,4178,4179,4180,4181,4182,4183,4184,4185,4186,4187,4188,4189,4190,4191,4192,4193,4194,4195,4196,4197,4198,4199,4200,4201,4202,4203,4204,4205,4206,4207,4208,4209,4210,4211,4212,4213,4214,4215,4216,4217,4218,4219,4220,4221,4222,4223,4224,4225],\"y\":[41.1062126159668,43.75695037841797,41.325096130371094,40.001590728759766,38.423954010009766,35.890377044677734,35.618595123291016,37.31705093383789,37.578643798828125,33.8228759765625,36.36802673339844,37.42436981201172,35.40764617919922,34.63968276977539,38.08567810058594,38.462181091308594,38.87131118774414,38.585330963134766,35.60970687866211,41.892112731933594,38.183414459228516,42.710880279541016,41.759071350097656,41.74423599243164,41.954124450683594,40.64756393432617,42.191349029541016,38.08415603637695,41.4636344909668,39.759246826171875,41.211448669433594,47.05708694458008,44.53389358520508,45.844905853271484,43.91404342651367,50.787235260009766,47.50749588012695,46.54983139038086,42.8699836730957,48.02875900268555,49.49766159057617,50.8929443359375,46.9668083190918,47.1667366027832,48.921321868896484,45.15730285644531,44.6458740234375,46.06140899658203,46.46031951904297,45.11389923095703,44.80091094970703,43.0452995300293,46.29425811767578,45.17939758300781,46.63395309448242,46.8118896484375,47.936485290527344,48.36351776123047,47.36042022705078,51.36288833618164,51.971500396728516,48.69843292236328,49.865936279296875,51.871116638183594,52.139827728271484,52.98881530761719,54.61780548095703,53.25443649291992,55.10474395751953,50.92245101928711,49.59833526611328,51.6838493347168,50.16044998168945,50.17963409423828,47.87580108642578,48.347293853759766,48.53984832763672,49.65245056152344,50.851287841796875,46.66876220703125,50.27764129638672,49.404258728027344,49.81820297241211,50.34712600708008,49.736778259277344,50.245155334472656,49.14384078979492,49.015663146972656,47.87466049194336,47.73955154418945,47.84619140625,47.10918045043945,50.84991455078125,50.193878173828125,48.15896224975586,47.56980895996094,46.42082977294922,46.399505615234375,45.97034454345703,48.178916931152344,42.829986572265625,47.071128845214844,44.849098205566406,46.354148864746094,44.73096466064453,43.867984771728516,47.428062438964844,46.689903259277344,45.93589782714844,45.78623580932617,45.853824615478516,45.606239318847656,45.68064880371094,44.48829650878906,45.375606536865234,45.47486114501953,44.77748107910156,45.70882034301758,45.85968780517578,45.816307067871094,45.504329681396484,43.77846908569336,45.13286590576172,49.18608093261719,48.3878173828125,49.54827880859375,49.138893127441406,46.88697814941406,46.245155334472656,46.337196350097656,45.619468688964844,51.08686828613281,49.43657302856445,53.85072326660156,54.21832275390625,53.99044418334961,54.14544677734375,51.90864181518555,51.4168586730957,51.378204345703125,53.928218841552734,53.61260986328125,53.86088943481445,51.668914794921875,53.29068374633789,52.474456787109375,50.353599548339844,48.346744537353516,48.74769592285156,48.03184509277344,47.60441207885742,46.93491744995117,47.172420501708984,49.209999084472656,49.34132385253906,48.34797286987305,49.65717697143555,49.864261627197266,49.328006744384766,48.08123779296875,50.210079193115234,48.45505142211914,48.621368408203125,48.668548583984375,48.53293991088867,47.86479187011719,46.41096878051758,46.674869537353516,45.346954345703125,45.861392974853516,46.39804458618164,44.572601318359375,46.38514709472656,48.2841911315918,48.02045822143555,47.20636749267578,47.31803894042969,46.12118911743164,46.95842742919922,47.26245880126953,47.58696746826172,48.481815338134766,47.261558532714844,48.87841033935547,45.86628723144531,47.81681442260742,47.42141342163086,47.51614761352539,46.81005859375,50.12107467651367,49.08046340942383,50.297420501708984,51.765235900878906,53.128143310546875,51.83946990966797,51.80095672607422,51.76400375366211,52.76637268066406,51.73805618286133,51.823631286621094,51.67990493774414,51.9830207824707,49.94053649902344,48.57522201538086,49.091896057128906,49.06248092651367,47.80213928222656,47.81955337524414,46.262779235839844,46.145652770996094,46.714447021484375,45.360713958740234,46.86618423461914,47.4175910949707,48.92988967895508,48.346092224121094,49.01820373535156,51.06422424316406,50.56486892700195,50.49385452270508,50.35686111450195,50.41095733642578,50.40877151489258,50.55965805053711,49.9876708984375,49.952545166015625,49.35603332519531,49.16486358642578,49.184478759765625,49.10266876220703,49.200523376464844,48.75456619262695,50.54841613769531,49.33478546142578,48.93586349487305,47.8864860534668,48.44334411621094,47.93461990356445,47.57355499267578,47.7736701965332,48.721031188964844,47.98413848876953,47.64167022705078,47.66340637207031,47.398590087890625,45.652095794677734,46.10593032836914,45.71833419799805,45.683013916015625,45.837154388427734,45.48045349121094,44.817752838134766,45.4962043762207,45.301239013671875,44.95758056640625,45.37261199951172,44.943626403808594,45.66176986694336,45.080108642578125,44.909202575683594,43.110652923583984,42.354408264160156,42.566383361816406,42.94538879394531,43.462249755859375,42.627899169921875,42.98765563964844,42.81654357910156,43.02387619018555,42.71599578857422,42.957672119140625,42.481388092041016,42.18859100341797,42.059879302978516,41.154483795166016,40.957664489746094,41.1144905090332,40.766300201416016,39.73330307006836,39.6145133972168,39.60399627685547,39.48775863647461,39.416500091552734,39.87340545654297,38.87907028198242,38.99442672729492,38.56106185913086,38.18669509887695,38.622413635253906,38.28043746948242,38.682151794433594,38.99821090698242,38.83585739135742,38.56943130493164,38.40031814575195,40.134437561035156,40.18626403808594,39.04200744628906,38.83905792236328,38.50225067138672,38.60570526123047,38.33403778076172,38.265464782714844,37.58602523803711,38.367671966552734,37.89771270751953,38.20405960083008,38.482460021972656,38.09380340576172,38.768558502197266,39.03132629394531,39.151275634765625,39.1742057800293,39.793373107910156,41.18372344970703,41.25410079956055,40.87212371826172,40.316463470458984,40.593292236328125,40.35078811645508,40.09474182128906,40.85959243774414,41.550926208496094,42.323463439941406,42.67008972167969,42.78889083862305,42.3322868347168,43.65681076049805,43.821434020996094,44.03813171386719,43.05193328857422,43.262142181396484,42.885257720947266,43.0268440246582,43.14529800415039,42.452613830566406,42.930423736572266,42.440284729003906,43.071231842041016,43.126060485839844,43.071083068847656,43.84770202636719,42.61595153808594,42.55410385131836,42.57477569580078,42.58389663696289,41.7499885559082,41.90650939941406,42.088226318359375,40.2405891418457,40.59190368652344,40.832576751708984,40.667503356933594,40.52830123901367,40.87939453125,41.24591064453125,40.92543411254883,40.35972213745117,40.13301086425781,40.12257766723633,39.06983947753906,38.601585388183594,37.78307342529297,38.54655838012695,38.51036071777344,38.91053771972656,39.81837844848633,39.407955169677734,40.096351623535156,40.003761291503906,40.792266845703125,41.10976791381836,41.5290412902832,42.17256164550781,41.45279312133789,42.61617660522461,42.503597259521484,41.9844970703125,42.39308166503906,42.93684768676758,42.57705307006836,42.288108825683594,41.966434478759766,43.16908645629883,45.2520751953125,45.39606475830078,45.3955078125,45.396026611328125,44.83137130737305,43.88706588745117,44.032005310058594,43.754981994628906,43.4995231628418,43.151390075683594,43.07115936279297,43.0386848449707,43.227500915527344,43.0603141784668,42.51102828979492,42.11705780029297,41.6826171875,41.32189178466797,41.17374801635742,41.628028869628906,41.39467239379883,41.46769332885742,41.90182876586914,41.467002868652344,41.42606735229492,41.60747528076172,41.66628646850586,41.689083099365234,41.47800827026367,41.24007797241211,41.551292419433594,42.512386322021484,42.85531997680664,42.30861282348633,42.20473098754883,40.538490295410156,41.32160568237305,41.8604736328125,42.212074279785156],\"type\":\"scatter\"}],                        {\"title\":{\"text\":\"Rolling Prediction vs Actual Close Price\"},\"xaxis\":{\"title\":{\"text\":\"Time\"}},\"yaxis\":{\"title\":{\"text\":\"Close Price\"}},\"template\":{\"data\":{\"histogram2dcontour\":[{\"type\":\"histogram2dcontour\",\"colorbar\":{\"outlinewidth\":0,\"ticks\":\"\"},\"colorscale\":[[0.0,\"#0d0887\"],[0.1111111111111111,\"#46039f\"],[0.2222222222222222,\"#7201a8\"],[0.3333333333333333,\"#9c179e\"],[0.4444444444444444,\"#bd3786\"],[0.5555555555555556,\"#d8576b\"],[0.6666666666666666,\"#ed7953\"],[0.7777777777777778,\"#fb9f3a\"],[0.8888888888888888,\"#fdca26\"],[1.0,\"#f0f921\"]]}],\"choropleth\":[{\"type\":\"choropleth\",\"colorbar\":{\"outlinewidth\":0,\"ticks\":\"\"}}],\"histogram2d\":[{\"type\":\"histogram2d\",\"colorbar\":{\"outlinewidth\":0,\"ticks\":\"\"},\"colorscale\":[[0.0,\"#0d0887\"],[0.1111111111111111,\"#46039f\"],[0.2222222222222222,\"#7201a8\"],[0.3333333333333333,\"#9c179e\"],[0.4444444444444444,\"#bd3786\"],[0.5555555555555556,\"#d8576b\"],[0.6666666666666666,\"#ed7953\"],[0.7777777777777778,\"#fb9f3a\"],[0.8888888888888888,\"#fdca26\"],[1.0,\"#f0f921\"]]}],\"heatmap\":[{\"type\":\"heatmap\",\"colorbar\":{\"outlinewidth\":0,\"ticks\":\"\"},\"colorscale\":[[0.0,\"#0d0887\"],[0.1111111111111111,\"#46039f\"],[0.2222222222222222,\"#7201a8\"],[0.3333333333333333,\"#9c179e\"],[0.4444444444444444,\"#bd3786\"],[0.5555555555555556,\"#d8576b\"],[0.6666666666666666,\"#ed7953\"],[0.7777777777777778,\"#fb9f3a\"],[0.8888888888888888,\"#fdca26\"],[1.0,\"#f0f921\"]]}],\"heatmapgl\":[{\"type\":\"heatmapgl\",\"colorbar\":{\"outlinewidth\":0,\"ticks\":\"\"},\"colorscale\":[[0.0,\"#0d0887\"],[0.1111111111111111,\"#46039f\"],[0.2222222222222222,\"#7201a8\"],[0.3333333333333333,\"#9c179e\"],[0.4444444444444444,\"#bd3786\"],[0.5555555555555556,\"#d8576b\"],[0.6666666666666666,\"#ed7953\"],[0.7777777777777778,\"#fb9f3a\"],[0.8888888888888888,\"#fdca26\"],[1.0,\"#f0f921\"]]}],\"contourcarpet\":[{\"type\":\"contourcarpet\",\"colorbar\":{\"outlinewidth\":0,\"ticks\":\"\"}}],\"contour\":[{\"type\":\"contour\",\"colorbar\":{\"outlinewidth\":0,\"ticks\":\"\"},\"colorscale\":[[0.0,\"#0d0887\"],[0.1111111111111111,\"#46039f\"],[0.2222222222222222,\"#7201a8\"],[0.3333333333333333,\"#9c179e\"],[0.4444444444444444,\"#bd3786\"],[0.5555555555555556,\"#d8576b\"],[0.6666666666666666,\"#ed7953\"],[0.7777777777777778,\"#fb9f3a\"],[0.8888888888888888,\"#fdca26\"],[1.0,\"#f0f921\"]]}],\"surface\":[{\"type\":\"surface\",\"colorbar\":{\"outlinewidth\":0,\"ticks\":\"\"},\"colorscale\":[[0.0,\"#0d0887\"],[0.1111111111111111,\"#46039f\"],[0.2222222222222222,\"#7201a8\"],[0.3333333333333333,\"#9c179e\"],[0.4444444444444444,\"#bd3786\"],[0.5555555555555556,\"#d8576b\"],[0.6666666666666666,\"#ed7953\"],[0.7777777777777778,\"#fb9f3a\"],[0.8888888888888888,\"#fdca26\"],[1.0,\"#f0f921\"]]}],\"mesh3d\":[{\"type\":\"mesh3d\",\"colorbar\":{\"outlinewidth\":0,\"ticks\":\"\"}}],\"scatter\":[{\"fillpattern\":{\"fillmode\":\"overlay\",\"size\":10,\"solidity\":0.2},\"type\":\"scatter\"}],\"parcoords\":[{\"type\":\"parcoords\",\"line\":{\"colorbar\":{\"outlinewidth\":0,\"ticks\":\"\"}}}],\"scatterpolargl\":[{\"type\":\"scatterpolargl\",\"marker\":{\"colorbar\":{\"outlinewidth\":0,\"ticks\":\"\"}}}],\"bar\":[{\"error_x\":{\"color\":\"#2a3f5f\"},\"error_y\":{\"color\":\"#2a3f5f\"},\"marker\":{\"line\":{\"color\":\"#E5ECF6\",\"width\":0.5},\"pattern\":{\"fillmode\":\"overlay\",\"size\":10,\"solidity\":0.2}},\"type\":\"bar\"}],\"scattergeo\":[{\"type\":\"scattergeo\",\"marker\":{\"colorbar\":{\"outlinewidth\":0,\"ticks\":\"\"}}}],\"scatterpolar\":[{\"type\":\"scatterpolar\",\"marker\":{\"colorbar\":{\"outlinewidth\":0,\"ticks\":\"\"}}}],\"histogram\":[{\"marker\":{\"pattern\":{\"fillmode\":\"overlay\",\"size\":10,\"solidity\":0.2}},\"type\":\"histogram\"}],\"scattergl\":[{\"type\":\"scattergl\",\"marker\":{\"colorbar\":{\"outlinewidth\":0,\"ticks\":\"\"}}}],\"scatter3d\":[{\"type\":\"scatter3d\",\"line\":{\"colorbar\":{\"outlinewidth\":0,\"ticks\":\"\"}},\"marker\":{\"colorbar\":{\"outlinewidth\":0,\"ticks\":\"\"}}}],\"scattermapbox\":[{\"type\":\"scattermapbox\",\"marker\":{\"colorbar\":{\"outlinewidth\":0,\"ticks\":\"\"}}}],\"scatterternary\":[{\"type\":\"scatterternary\",\"marker\":{\"colorbar\":{\"outlinewidth\":0,\"ticks\":\"\"}}}],\"scattercarpet\":[{\"type\":\"scattercarpet\",\"marker\":{\"colorbar\":{\"outlinewidth\":0,\"ticks\":\"\"}}}],\"carpet\":[{\"aaxis\":{\"endlinecolor\":\"#2a3f5f\",\"gridcolor\":\"white\",\"linecolor\":\"white\",\"minorgridcolor\":\"white\",\"startlinecolor\":\"#2a3f5f\"},\"baxis\":{\"endlinecolor\":\"#2a3f5f\",\"gridcolor\":\"white\",\"linecolor\":\"white\",\"minorgridcolor\":\"white\",\"startlinecolor\":\"#2a3f5f\"},\"type\":\"carpet\"}],\"table\":[{\"cells\":{\"fill\":{\"color\":\"#EBF0F8\"},\"line\":{\"color\":\"white\"}},\"header\":{\"fill\":{\"color\":\"#C8D4E3\"},\"line\":{\"color\":\"white\"}},\"type\":\"table\"}],\"barpolar\":[{\"marker\":{\"line\":{\"color\":\"#E5ECF6\",\"width\":0.5},\"pattern\":{\"fillmode\":\"overlay\",\"size\":10,\"solidity\":0.2}},\"type\":\"barpolar\"}],\"pie\":[{\"automargin\":true,\"type\":\"pie\"}]},\"layout\":{\"autotypenumbers\":\"strict\",\"colorway\":[\"#636efa\",\"#EF553B\",\"#00cc96\",\"#ab63fa\",\"#FFA15A\",\"#19d3f3\",\"#FF6692\",\"#B6E880\",\"#FF97FF\",\"#FECB52\"],\"font\":{\"color\":\"#2a3f5f\"},\"hovermode\":\"closest\",\"hoverlabel\":{\"align\":\"left\"},\"paper_bgcolor\":\"white\",\"plot_bgcolor\":\"#E5ECF6\",\"polar\":{\"bgcolor\":\"#E5ECF6\",\"angularaxis\":{\"gridcolor\":\"white\",\"linecolor\":\"white\",\"ticks\":\"\"},\"radialaxis\":{\"gridcolor\":\"white\",\"linecolor\":\"white\",\"ticks\":\"\"}},\"ternary\":{\"bgcolor\":\"#E5ECF6\",\"aaxis\":{\"gridcolor\":\"white\",\"linecolor\":\"white\",\"ticks\":\"\"},\"baxis\":{\"gridcolor\":\"white\",\"linecolor\":\"white\",\"ticks\":\"\"},\"caxis\":{\"gridcolor\":\"white\",\"linecolor\":\"white\",\"ticks\":\"\"}},\"coloraxis\":{\"colorbar\":{\"outlinewidth\":0,\"ticks\":\"\"}},\"colorscale\":{\"sequential\":[[0.0,\"#0d0887\"],[0.1111111111111111,\"#46039f\"],[0.2222222222222222,\"#7201a8\"],[0.3333333333333333,\"#9c179e\"],[0.4444444444444444,\"#bd3786\"],[0.5555555555555556,\"#d8576b\"],[0.6666666666666666,\"#ed7953\"],[0.7777777777777778,\"#fb9f3a\"],[0.8888888888888888,\"#fdca26\"],[1.0,\"#f0f921\"]],\"sequentialminus\":[[0.0,\"#0d0887\"],[0.1111111111111111,\"#46039f\"],[0.2222222222222222,\"#7201a8\"],[0.3333333333333333,\"#9c179e\"],[0.4444444444444444,\"#bd3786\"],[0.5555555555555556,\"#d8576b\"],[0.6666666666666666,\"#ed7953\"],[0.7777777777777778,\"#fb9f3a\"],[0.8888888888888888,\"#fdca26\"],[1.0,\"#f0f921\"]],\"diverging\":[[0,\"#8e0152\"],[0.1,\"#c51b7d\"],[0.2,\"#de77ae\"],[0.3,\"#f1b6da\"],[0.4,\"#fde0ef\"],[0.5,\"#f7f7f7\"],[0.6,\"#e6f5d0\"],[0.7,\"#b8e186\"],[0.8,\"#7fbc41\"],[0.9,\"#4d9221\"],[1,\"#276419\"]]},\"xaxis\":{\"gridcolor\":\"white\",\"linecolor\":\"white\",\"ticks\":\"\",\"title\":{\"standoff\":15},\"zerolinecolor\":\"white\",\"automargin\":true,\"zerolinewidth\":2},\"yaxis\":{\"gridcolor\":\"white\",\"linecolor\":\"white\",\"ticks\":\"\",\"title\":{\"standoff\":15},\"zerolinecolor\":\"white\",\"automargin\":true,\"zerolinewidth\":2},\"scene\":{\"xaxis\":{\"backgroundcolor\":\"#E5ECF6\",\"gridcolor\":\"white\",\"linecolor\":\"white\",\"showbackground\":true,\"ticks\":\"\",\"zerolinecolor\":\"white\",\"gridwidth\":2},\"yaxis\":{\"backgroundcolor\":\"#E5ECF6\",\"gridcolor\":\"white\",\"linecolor\":\"white\",\"showbackground\":true,\"ticks\":\"\",\"zerolinecolor\":\"white\",\"gridwidth\":2},\"zaxis\":{\"backgroundcolor\":\"#E5ECF6\",\"gridcolor\":\"white\",\"linecolor\":\"white\",\"showbackground\":true,\"ticks\":\"\",\"zerolinecolor\":\"white\",\"gridwidth\":2}},\"shapedefaults\":{\"line\":{\"color\":\"#2a3f5f\"}},\"annotationdefaults\":{\"arrowcolor\":\"#2a3f5f\",\"arrowhead\":0,\"arrowwidth\":1},\"geo\":{\"bgcolor\":\"white\",\"landcolor\":\"#E5ECF6\",\"subunitcolor\":\"white\",\"showland\":true,\"showlakes\":true,\"lakecolor\":\"white\"},\"title\":{\"x\":0.05},\"mapbox\":{\"style\":\"light\"}}}},                        {\"responsive\": true}                    ).then(function(){\n",
       "                            \n",
       "var gd = document.getElementById('f52aafbf-f01e-4bc4-9c15-4a4bac1023fa');\n",
       "var x = new MutationObserver(function (mutations, observer) {{\n",
       "        var display = window.getComputedStyle(gd).display;\n",
       "        if (!display || display === 'none') {{\n",
       "            console.log([gd, 'removed!']);\n",
       "            Plotly.purge(gd);\n",
       "            observer.disconnect();\n",
       "        }}\n",
       "}});\n",
       "\n",
       "// Listen for the removal of the full notebook cells\n",
       "var notebookContainer = gd.closest('#notebook-container');\n",
       "if (notebookContainer) {{\n",
       "    x.observe(notebookContainer, {childList: true});\n",
       "}}\n",
       "\n",
       "// Listen for the clearing of the current output cell\n",
       "var outputEl = gd.closest('.output');\n",
       "if (outputEl) {{\n",
       "    x.observe(outputEl, {childList: true});\n",
       "}}\n",
       "\n",
       "                        })                };                });            </script>        </div>"
      ]
     },
     "metadata": {},
     "output_type": "display_data"
    }
   ],
   "source": [
    "\n",
    "# 保存预测数据到CSV\n",
    "predictions_df = pd.DataFrame({\n",
    "    'Actual': test_actuals,\n",
    "    'Predicted': test_predictions\n",
    "})\n",
    "predictions_csv_path = os.path.join(logs_dir, 'predictions.csv')\n",
    "predictions_df.to_csv(predictions_csv_path, index=False)\n",
    "print(f'Saved predictions to {predictions_csv_path}')\n",
    "\n",
    "# 使用 Plotly 可视化训练和验证过程中的损失、R2 和 MAPE\n",
    "epochs = list(range(1, num_epochs + 1))\n",
    "\n",
    "fig_loss = go.Figure()\n",
    "fig_loss.add_trace(go.Scatter(x=epochs, y=train_losses, mode='lines', name='Train Loss'))\n",
    "fig_loss.add_trace(go.Scatter(x=epochs, y=val_losses, mode='lines', name='Validation Loss'))\n",
    "fig_loss.update_layout(title='Train and Validation Loss', xaxis=dict(title='Epoch'), yaxis=dict(title='Loss'))\n",
    "fig_loss.show()\n",
    "\n",
    "fig_r2 = go.Figure()\n",
    "fig_r2.add_trace(go.Scatter(x=epochs, y=val_r2s, mode='lines', name='Validation R2'))\n",
    "fig_r2.update_layout(title='Validation R2 Over Epochs', xaxis=dict(title='Epoch'), yaxis=dict(title='R2'))\n",
    "fig_r2.show()\n",
    "\n",
    "fig_mape = go.Figure()\n",
    "fig_mape.add_trace(go.Scatter(x=epochs, y=val_mapes, mode='lines', name='Validation MAPE'))\n",
    "fig_mape.update_layout(title='Validation MAPE Over Epochs', xaxis=dict(title='Epoch'), yaxis=dict(title='MAPE'))\n",
    "fig_mape.show()\n",
    "\n",
    "# 使用 Plotly 可视化滚动预测结果与实际结果\n",
    "test_trace_actual = go.Scatter(x=test_data.index, y=test_actuals, mode='lines', name='Test Actual Close Price')\n",
    "test_trace_predicted = go.Scatter(x=test_data.index, y=test_predictions, mode='lines', name='Test Predicted Close Price')\n",
    "\n",
    "layout = go.Layout(title='Rolling Prediction vs Actual Close Price', xaxis=dict(title='Time'), yaxis=dict(title='Close Price'))\n",
    "\n",
    "fig = go.Figure(data=[test_trace_actual, test_trace_predicted], layout=layout)\n",
    "fig.show()\n"
   ]
  }
 ],
 "metadata": {
  "language_info": {
   "name": "python"
  }
 },
 "nbformat": 4,
 "nbformat_minor": 2
}
